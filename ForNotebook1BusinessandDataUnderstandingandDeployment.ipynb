{
 "cells": [
  {
   "cell_type": "markdown",
   "metadata": {},
   "source": [
    "# Business understanding\n",
    "\n",
    "\n",
    "<b>1. What is the organisational problem being\n",
    "addressed?</b>\n",
    "\n",
    "In traditional news outlets, measuring the popularity of any individual article published in a newspaper with multiple supplements was always an inexact science. \n",
    "This posed a problem for editors in deciding what work to commission, how to time the publication of articles and how to attract attract advertisers with precise details of readership figures.\n",
    "\n",
    "<b>2. In what ways could a\n",
    "prediction model address the organisational\n",
    "problem?</b>\n",
    "\n",
    "A model that could accurately predict the popularity of any single article based on factors such as subject area, word count, headline length, time of publication, number of hyperlinks, etc - or even the sentiments in the headline or article text - would be invaluable to an editor or manager, as they could then adapt the content, or the manner in which it is published, in order to reach the maximum possible audience.\n",
    "\n",
    "<b>3. What is the capacity of the organisation\n",
    "to utilise the output of a prediction\n",
    "model?</b>\n",
    "\n",
    "It would be a trivial matter for a news organisation to adapt its content or publication times, etc, to suit the predictions of such a model. \n",
    "\n",
    "<b>4. What data is available?</b>\n",
    "\n",
    "Online news publishers now have access to detailed metrics about the popularity of individual posts,  from page views to the amount of seconds a user spends reading a story. In particular, 'shares', the number of times each story is shared on social media, gives a very direct and exact measure of popularity. This could therefore be used to predict the future popularity of any particular story.\n"
   ]
  },
  {
   "cell_type": "markdown",
   "metadata": {},
   "source": [
    "# Data understanding\n",
    "\n",
    "<b>1. The dataset</b>\n",
    "\n",
    "Our dataset comprises a set of features relating to just under 40,000 posts published over a period of two years on Mashable, a digital media website. It can be downloaded from the UC Irvine Machine Learning Repository at  https://archive.ics.uci.edu/ml/datasets/Online+News+Popularity#\n",
    "\n",
    "The dataset has 61 features in all (60 of which are continuous), and 39,644 rows.\n",
    "\n",
    "<b>2. What is the prediction subject?</b>\n",
    "\n",
    "The number of times any given article will be shared on social media.\n",
    "\n",
    "<b>3. The features</b>\n",
    "\n",
    "The features can be grouped into the following categories: <br>\n",
    "* One set that records a number of basic statistical features of each article, such as word count, the number of unique words, the number of words in the headline, etc. \n",
    "* Another set that logs whether each article contains videos or images, and how many.\n",
    "* Another set relates to the number of links to internal articles (within Mashable) or external (to content outside of the site). \n",
    "* Another group of dummy columns represent a single category, such as what day of the week an article was published and what subject area it covered (eg tech or business).\n",
    "* The Metadata group, which records the performance of the most and least successful key words.\n",
    "* Another group consists of natural language processing features, such as polarity, subjectivity, and a set of five LDA-generated topic clusters (generated using LDA on the dataset), and the number of non-stop words etc.  \n",
    "\n",
    "\n",
    "\n",
    "<b>4. What is the target\n",
    "feature?</b> \n",
    "\n",
    "Our target feature, shares, is a continuous feature – with a minimum value of 1 and a maximum of 843,300.\n",
    "\n",
    "\n"
   ]
  },
  {
   "cell_type": "markdown",
   "metadata": {},
   "source": [
    "# Deployment"
   ]
  },
  {
   "cell_type": "markdown",
   "metadata": {},
   "source": [
    "<b>How will the model be integrated\n",
    "into the organisation?</b> \n",
    "\n",
    "Mashable faces a choice in how to integrate the model. Given our findings on the importance of links to other popular articles and keywords shared with other popular articles, they could either 'chase popularity' by sticking to these popular networks - or they could risk occasionally producing more innovative topics that might strike a chord with readers but might struggle algorithmically to generate shares, at least in the short term.\n",
    "\n",
    "With regard to the popular LDA topics 2 and 3, articles scoring close to these topics could be studied to get a sense of what is popular in terms of style and article content - this knowledge could then be used to influence what work editors commission in future. \n",
    "\n",
    "Furthermore, although timing of publication and word count did not feature among the most influential features, in certain cases an editor might wish to look at them to judge which day and time to post a piece to reach the maximum audience possible (all other things being equal), so some further research into this might allow enable the deployment of such knowledge. \n",
    "\n",
    "\n",
    "<b>How will we continue to evaluate \n",
    "the model after deployment?</b>\n",
    "\n",
    "We would recommend updating the model with new data from Mashable as time goes on as trends and public tastes may change.\n"
   ]
  },
  {
   "cell_type": "code",
   "execution_count": null,
   "metadata": {
    "collapsed": true
   },
   "outputs": [],
   "source": []
  }
 ],
 "metadata": {
  "kernelspec": {
   "display_name": "Python 3",
   "language": "python",
   "name": "python3"
  },
  "language_info": {
   "codemirror_mode": {
    "name": "ipython",
    "version": 3
   },
   "file_extension": ".py",
   "mimetype": "text/x-python",
   "name": "python",
   "nbconvert_exporter": "python",
   "pygments_lexer": "ipython3",
   "version": "3.6.3"
  }
 },
 "nbformat": 4,
 "nbformat_minor": 2
}
