{
 "cells": [
  {
   "cell_type": "markdown",
   "metadata": {},
   "source": [
    "# Linear Regression\n",
    "\n",
    "Training a linear regression model means estimating a set of weights (one weight per feature, plus an extra weight called the bias or the intercept) on a dataset called the training set.\n",
    "\n",
    "The model estimated is a linear model taking the form:\n",
    "\n",
    "target_feature=w0+w1∗feature1+w2∗feature2+...+wn∗featurentarget_feature=w0+w1∗feature1+w2∗feature2+...+wn∗featuren \n",
    "The learned model can be used to predict the target feature for new examples where we know the descriptive features, but not the target feature. This is called the test example or the test data."
   ]
  },
  {
   "cell_type": "code",
   "execution_count": 1,
   "metadata": {},
   "outputs": [
    {
     "name": "stderr",
     "output_type": "stream",
     "text": [
      "/Users/Tejaswis/anaconda3/envs/comp47350py36/lib/python3.6/site-packages/sklearn/cross_validation.py:41: DeprecationWarning: This module was deprecated in version 0.18 in favor of the model_selection module into which all the refactored classes and functions are moved. Also note that the interface of the new CV iterators are different from that of this module. This module will be removed in 0.20.\n",
      "  \"This module will be removed in 0.20.\", DeprecationWarning)\n"
     ]
    }
   ],
   "source": [
    "#importing required libraries and packages\n",
    "import pandas as pd\n",
    "from sklearn.utils import shuffle\n",
    "import seaborn as sns\n",
    "import matplotlib.pyplot as plt\n",
    "import statsmodels.formula.api as sm\n",
    "import numpy as np\n",
    "from sklearn.metrics import mean_squared_error\n",
    "from sklearn.metrics import accuracy_score\n",
    "from sklearn.metrics import confusion_matrix\n",
    "from sklearn.metrics import classification_report\n",
    "from math import sqrt\n",
    "from patsy import dmatrices\n",
    "from sklearn.linear_model import LogisticRegression\n",
    "from sklearn.cross_validation import train_test_split\n",
    "from sklearn import metrics\n",
    "from sklearn.cross_validation import cross_val_score\n",
    "import scipy"
   ]
  },
  {
   "cell_type": "markdown",
   "metadata": {
    "collapsed": true
   },
   "source": [
    "# Reading & shuffling data for linear regression model"
   ]
  },
  {
   "cell_type": "code",
   "execution_count": 191,
   "metadata": {
    "collapsed": true
   },
   "outputs": [],
   "source": [
    "# df is created from original dataset\n",
    "# replaced by cleaned version once quality plan is complete\n",
    "#df = pd.read_csv('OnlineNewsPopularityCleaned.csv', skipinitialspace=True)\n",
    "df = pd.read_csv('OnlineNewsPopularityCleaned.csv', skipinitialspace=True)\n",
    "pd.options.display.max_columns = None\n",
    "pd.options.display.max_rows = None"
   ]
  },
  {
   "cell_type": "code",
   "execution_count": 3,
   "metadata": {},
   "outputs": [
    {
     "data": {
      "text/html": [
       "<div>\n",
       "<style scoped>\n",
       "    .dataframe tbody tr th:only-of-type {\n",
       "        vertical-align: middle;\n",
       "    }\n",
       "\n",
       "    .dataframe tbody tr th {\n",
       "        vertical-align: top;\n",
       "    }\n",
       "\n",
       "    .dataframe thead th {\n",
       "        text-align: right;\n",
       "    }\n",
       "</style>\n",
       "<table border=\"1\" class=\"dataframe\">\n",
       "  <thead>\n",
       "    <tr style=\"text-align: right;\">\n",
       "      <th></th>\n",
       "      <th>url</th>\n",
       "      <th>timedelta</th>\n",
       "      <th>n_tokens_title</th>\n",
       "      <th>n_tokens_content</th>\n",
       "      <th>n_unique_tokens</th>\n",
       "      <th>n_non_stop_words</th>\n",
       "      <th>n_non_stop_unique_tokens</th>\n",
       "      <th>num_hrefs</th>\n",
       "      <th>num_self_hrefs</th>\n",
       "      <th>num_imgs</th>\n",
       "      <th>num_videos</th>\n",
       "      <th>average_token_length</th>\n",
       "      <th>num_keywords</th>\n",
       "      <th>data_channel_is_lifestyle</th>\n",
       "      <th>data_channel_is_entertainment</th>\n",
       "      <th>data_channel_is_bus</th>\n",
       "      <th>data_channel_is_socmed</th>\n",
       "      <th>data_channel_is_tech</th>\n",
       "      <th>data_channel_is_world</th>\n",
       "      <th>kw_min_min</th>\n",
       "      <th>kw_max_min</th>\n",
       "      <th>kw_avg_min</th>\n",
       "      <th>kw_min_max</th>\n",
       "      <th>kw_max_max</th>\n",
       "      <th>kw_avg_max</th>\n",
       "      <th>kw_min_avg</th>\n",
       "      <th>kw_max_avg</th>\n",
       "      <th>kw_avg_avg</th>\n",
       "      <th>self_reference_min_shares</th>\n",
       "      <th>self_reference_max_shares</th>\n",
       "      <th>self_reference_avg_sharess</th>\n",
       "      <th>weekday_is_monday</th>\n",
       "      <th>weekday_is_tuesday</th>\n",
       "      <th>weekday_is_wednesday</th>\n",
       "      <th>weekday_is_thursday</th>\n",
       "      <th>weekday_is_friday</th>\n",
       "      <th>weekday_is_saturday</th>\n",
       "      <th>weekday_is_sunday</th>\n",
       "      <th>is_weekend</th>\n",
       "      <th>LDA_00</th>\n",
       "      <th>LDA_01</th>\n",
       "      <th>LDA_02</th>\n",
       "      <th>LDA_03</th>\n",
       "      <th>LDA_04</th>\n",
       "      <th>global_subjectivity</th>\n",
       "      <th>global_sentiment_polarity</th>\n",
       "      <th>global_rate_positive_words</th>\n",
       "      <th>global_rate_negative_words</th>\n",
       "      <th>rate_positive_words</th>\n",
       "      <th>rate_negative_words</th>\n",
       "      <th>avg_positive_polarity</th>\n",
       "      <th>min_positive_polarity</th>\n",
       "      <th>max_positive_polarity</th>\n",
       "      <th>avg_negative_polarity</th>\n",
       "      <th>min_negative_polarity</th>\n",
       "      <th>max_negative_polarity</th>\n",
       "      <th>title_subjectivity</th>\n",
       "      <th>title_sentiment_polarity</th>\n",
       "      <th>abs_title_subjectivity</th>\n",
       "      <th>abs_title_sentiment_polarity</th>\n",
       "      <th>shares</th>\n",
       "    </tr>\n",
       "  </thead>\n",
       "  <tbody>\n",
       "    <tr>\n",
       "      <th>0</th>\n",
       "      <td>http://mashable.com/2013/01/07/amazon-instant-...</td>\n",
       "      <td>731.0</td>\n",
       "      <td>12.0</td>\n",
       "      <td>219.0</td>\n",
       "      <td>0.663594</td>\n",
       "      <td>1.0</td>\n",
       "      <td>0.815385</td>\n",
       "      <td>4.0</td>\n",
       "      <td>2.0</td>\n",
       "      <td>1.0</td>\n",
       "      <td>0.0</td>\n",
       "      <td>4.680365</td>\n",
       "      <td>5.0</td>\n",
       "      <td>0.0</td>\n",
       "      <td>1.0</td>\n",
       "      <td>0.0</td>\n",
       "      <td>0.0</td>\n",
       "      <td>0.0</td>\n",
       "      <td>0.0</td>\n",
       "      <td>0.0</td>\n",
       "      <td>0.0</td>\n",
       "      <td>0.0</td>\n",
       "      <td>0.0</td>\n",
       "      <td>0.0</td>\n",
       "      <td>0.0</td>\n",
       "      <td>0.0</td>\n",
       "      <td>0.0</td>\n",
       "      <td>0.0</td>\n",
       "      <td>496.0</td>\n",
       "      <td>496.0</td>\n",
       "      <td>496.0</td>\n",
       "      <td>1.0</td>\n",
       "      <td>0.0</td>\n",
       "      <td>0.0</td>\n",
       "      <td>0.0</td>\n",
       "      <td>0.0</td>\n",
       "      <td>0.0</td>\n",
       "      <td>0.0</td>\n",
       "      <td>0.0</td>\n",
       "      <td>0.500331</td>\n",
       "      <td>0.378279</td>\n",
       "      <td>0.040005</td>\n",
       "      <td>0.041263</td>\n",
       "      <td>0.040123</td>\n",
       "      <td>0.521617</td>\n",
       "      <td>0.092562</td>\n",
       "      <td>0.045662</td>\n",
       "      <td>0.013699</td>\n",
       "      <td>0.769231</td>\n",
       "      <td>0.230769</td>\n",
       "      <td>0.378636</td>\n",
       "      <td>0.100000</td>\n",
       "      <td>0.7</td>\n",
       "      <td>-0.350000</td>\n",
       "      <td>-0.600</td>\n",
       "      <td>-0.200000</td>\n",
       "      <td>0.5</td>\n",
       "      <td>-0.1875</td>\n",
       "      <td>0.0</td>\n",
       "      <td>0.1875</td>\n",
       "      <td>593</td>\n",
       "    </tr>\n",
       "    <tr>\n",
       "      <th>1</th>\n",
       "      <td>http://mashable.com/2013/01/07/ap-samsung-spon...</td>\n",
       "      <td>731.0</td>\n",
       "      <td>9.0</td>\n",
       "      <td>255.0</td>\n",
       "      <td>0.604743</td>\n",
       "      <td>1.0</td>\n",
       "      <td>0.791946</td>\n",
       "      <td>3.0</td>\n",
       "      <td>1.0</td>\n",
       "      <td>1.0</td>\n",
       "      <td>0.0</td>\n",
       "      <td>4.913725</td>\n",
       "      <td>4.0</td>\n",
       "      <td>0.0</td>\n",
       "      <td>0.0</td>\n",
       "      <td>1.0</td>\n",
       "      <td>0.0</td>\n",
       "      <td>0.0</td>\n",
       "      <td>0.0</td>\n",
       "      <td>0.0</td>\n",
       "      <td>0.0</td>\n",
       "      <td>0.0</td>\n",
       "      <td>0.0</td>\n",
       "      <td>0.0</td>\n",
       "      <td>0.0</td>\n",
       "      <td>0.0</td>\n",
       "      <td>0.0</td>\n",
       "      <td>0.0</td>\n",
       "      <td>0.0</td>\n",
       "      <td>0.0</td>\n",
       "      <td>0.0</td>\n",
       "      <td>1.0</td>\n",
       "      <td>0.0</td>\n",
       "      <td>0.0</td>\n",
       "      <td>0.0</td>\n",
       "      <td>0.0</td>\n",
       "      <td>0.0</td>\n",
       "      <td>0.0</td>\n",
       "      <td>0.0</td>\n",
       "      <td>0.799756</td>\n",
       "      <td>0.050047</td>\n",
       "      <td>0.050096</td>\n",
       "      <td>0.050101</td>\n",
       "      <td>0.050001</td>\n",
       "      <td>0.341246</td>\n",
       "      <td>0.148948</td>\n",
       "      <td>0.043137</td>\n",
       "      <td>0.015686</td>\n",
       "      <td>0.733333</td>\n",
       "      <td>0.266667</td>\n",
       "      <td>0.286915</td>\n",
       "      <td>0.033333</td>\n",
       "      <td>0.7</td>\n",
       "      <td>-0.118750</td>\n",
       "      <td>-0.125</td>\n",
       "      <td>-0.100000</td>\n",
       "      <td>0.0</td>\n",
       "      <td>0.0000</td>\n",
       "      <td>0.5</td>\n",
       "      <td>0.0000</td>\n",
       "      <td>711</td>\n",
       "    </tr>\n",
       "    <tr>\n",
       "      <th>2</th>\n",
       "      <td>http://mashable.com/2013/01/07/apple-40-billio...</td>\n",
       "      <td>731.0</td>\n",
       "      <td>9.0</td>\n",
       "      <td>211.0</td>\n",
       "      <td>0.575130</td>\n",
       "      <td>1.0</td>\n",
       "      <td>0.663866</td>\n",
       "      <td>3.0</td>\n",
       "      <td>1.0</td>\n",
       "      <td>1.0</td>\n",
       "      <td>0.0</td>\n",
       "      <td>4.393365</td>\n",
       "      <td>6.0</td>\n",
       "      <td>0.0</td>\n",
       "      <td>0.0</td>\n",
       "      <td>1.0</td>\n",
       "      <td>0.0</td>\n",
       "      <td>0.0</td>\n",
       "      <td>0.0</td>\n",
       "      <td>0.0</td>\n",
       "      <td>0.0</td>\n",
       "      <td>0.0</td>\n",
       "      <td>0.0</td>\n",
       "      <td>0.0</td>\n",
       "      <td>0.0</td>\n",
       "      <td>0.0</td>\n",
       "      <td>0.0</td>\n",
       "      <td>0.0</td>\n",
       "      <td>918.0</td>\n",
       "      <td>918.0</td>\n",
       "      <td>918.0</td>\n",
       "      <td>1.0</td>\n",
       "      <td>0.0</td>\n",
       "      <td>0.0</td>\n",
       "      <td>0.0</td>\n",
       "      <td>0.0</td>\n",
       "      <td>0.0</td>\n",
       "      <td>0.0</td>\n",
       "      <td>0.0</td>\n",
       "      <td>0.217792</td>\n",
       "      <td>0.033334</td>\n",
       "      <td>0.033351</td>\n",
       "      <td>0.033334</td>\n",
       "      <td>0.682188</td>\n",
       "      <td>0.702222</td>\n",
       "      <td>0.323333</td>\n",
       "      <td>0.056872</td>\n",
       "      <td>0.009479</td>\n",
       "      <td>0.857143</td>\n",
       "      <td>0.142857</td>\n",
       "      <td>0.495833</td>\n",
       "      <td>0.100000</td>\n",
       "      <td>1.0</td>\n",
       "      <td>-0.466667</td>\n",
       "      <td>-0.800</td>\n",
       "      <td>-0.133333</td>\n",
       "      <td>0.0</td>\n",
       "      <td>0.0000</td>\n",
       "      <td>0.5</td>\n",
       "      <td>0.0000</td>\n",
       "      <td>1500</td>\n",
       "    </tr>\n",
       "  </tbody>\n",
       "</table>\n",
       "</div>"
      ],
      "text/plain": [
       "                                                 url  timedelta  \\\n",
       "0  http://mashable.com/2013/01/07/amazon-instant-...      731.0   \n",
       "1  http://mashable.com/2013/01/07/ap-samsung-spon...      731.0   \n",
       "2  http://mashable.com/2013/01/07/apple-40-billio...      731.0   \n",
       "\n",
       "   n_tokens_title  n_tokens_content  n_unique_tokens  n_non_stop_words  \\\n",
       "0            12.0             219.0         0.663594               1.0   \n",
       "1             9.0             255.0         0.604743               1.0   \n",
       "2             9.0             211.0         0.575130               1.0   \n",
       "\n",
       "   n_non_stop_unique_tokens  num_hrefs  num_self_hrefs  num_imgs  num_videos  \\\n",
       "0                  0.815385        4.0             2.0       1.0         0.0   \n",
       "1                  0.791946        3.0             1.0       1.0         0.0   \n",
       "2                  0.663866        3.0             1.0       1.0         0.0   \n",
       "\n",
       "   average_token_length  num_keywords  data_channel_is_lifestyle  \\\n",
       "0              4.680365           5.0                        0.0   \n",
       "1              4.913725           4.0                        0.0   \n",
       "2              4.393365           6.0                        0.0   \n",
       "\n",
       "   data_channel_is_entertainment  data_channel_is_bus  data_channel_is_socmed  \\\n",
       "0                            1.0                  0.0                     0.0   \n",
       "1                            0.0                  1.0                     0.0   \n",
       "2                            0.0                  1.0                     0.0   \n",
       "\n",
       "   data_channel_is_tech  data_channel_is_world  kw_min_min  kw_max_min  \\\n",
       "0                   0.0                    0.0         0.0         0.0   \n",
       "1                   0.0                    0.0         0.0         0.0   \n",
       "2                   0.0                    0.0         0.0         0.0   \n",
       "\n",
       "   kw_avg_min  kw_min_max  kw_max_max  kw_avg_max  kw_min_avg  kw_max_avg  \\\n",
       "0         0.0         0.0         0.0         0.0         0.0         0.0   \n",
       "1         0.0         0.0         0.0         0.0         0.0         0.0   \n",
       "2         0.0         0.0         0.0         0.0         0.0         0.0   \n",
       "\n",
       "   kw_avg_avg  self_reference_min_shares  self_reference_max_shares  \\\n",
       "0         0.0                      496.0                      496.0   \n",
       "1         0.0                        0.0                        0.0   \n",
       "2         0.0                      918.0                      918.0   \n",
       "\n",
       "   self_reference_avg_sharess  weekday_is_monday  weekday_is_tuesday  \\\n",
       "0                       496.0                1.0                 0.0   \n",
       "1                         0.0                1.0                 0.0   \n",
       "2                       918.0                1.0                 0.0   \n",
       "\n",
       "   weekday_is_wednesday  weekday_is_thursday  weekday_is_friday  \\\n",
       "0                   0.0                  0.0                0.0   \n",
       "1                   0.0                  0.0                0.0   \n",
       "2                   0.0                  0.0                0.0   \n",
       "\n",
       "   weekday_is_saturday  weekday_is_sunday  is_weekend    LDA_00    LDA_01  \\\n",
       "0                  0.0                0.0         0.0  0.500331  0.378279   \n",
       "1                  0.0                0.0         0.0  0.799756  0.050047   \n",
       "2                  0.0                0.0         0.0  0.217792  0.033334   \n",
       "\n",
       "     LDA_02    LDA_03    LDA_04  global_subjectivity  \\\n",
       "0  0.040005  0.041263  0.040123             0.521617   \n",
       "1  0.050096  0.050101  0.050001             0.341246   \n",
       "2  0.033351  0.033334  0.682188             0.702222   \n",
       "\n",
       "   global_sentiment_polarity  global_rate_positive_words  \\\n",
       "0                   0.092562                    0.045662   \n",
       "1                   0.148948                    0.043137   \n",
       "2                   0.323333                    0.056872   \n",
       "\n",
       "   global_rate_negative_words  rate_positive_words  rate_negative_words  \\\n",
       "0                    0.013699             0.769231             0.230769   \n",
       "1                    0.015686             0.733333             0.266667   \n",
       "2                    0.009479             0.857143             0.142857   \n",
       "\n",
       "   avg_positive_polarity  min_positive_polarity  max_positive_polarity  \\\n",
       "0               0.378636               0.100000                    0.7   \n",
       "1               0.286915               0.033333                    0.7   \n",
       "2               0.495833               0.100000                    1.0   \n",
       "\n",
       "   avg_negative_polarity  min_negative_polarity  max_negative_polarity  \\\n",
       "0              -0.350000                 -0.600              -0.200000   \n",
       "1              -0.118750                 -0.125              -0.100000   \n",
       "2              -0.466667                 -0.800              -0.133333   \n",
       "\n",
       "   title_subjectivity  title_sentiment_polarity  abs_title_subjectivity  \\\n",
       "0                 0.5                   -0.1875                     0.0   \n",
       "1                 0.0                    0.0000                     0.5   \n",
       "2                 0.0                    0.0000                     0.5   \n",
       "\n",
       "   abs_title_sentiment_polarity  shares  \n",
       "0                        0.1875     593  \n",
       "1                        0.0000     711  \n",
       "2                        0.0000    1500  "
      ]
     },
     "execution_count": 3,
     "metadata": {},
     "output_type": "execute_result"
    }
   ],
   "source": [
    "#Print (rows, columns)\n",
    "df.head(3)"
   ]
  },
  {
   "cell_type": "markdown",
   "metadata": {},
   "source": [
    "We have a 39644 articles in our dataframe, with 33 features associated with each individual article."
   ]
  },
  {
   "cell_type": "markdown",
   "metadata": {},
   "source": [
    "### - Print the first and the last 5 rows."
   ]
  },
  {
   "cell_type": "code",
   "execution_count": 9,
   "metadata": {},
   "outputs": [
    {
     "data": {
      "text/html": [
       "<div>\n",
       "<style scoped>\n",
       "    .dataframe tbody tr th:only-of-type {\n",
       "        vertical-align: middle;\n",
       "    }\n",
       "\n",
       "    .dataframe tbody tr th {\n",
       "        vertical-align: top;\n",
       "    }\n",
       "\n",
       "    .dataframe thead th {\n",
       "        text-align: right;\n",
       "    }\n",
       "</style>\n",
       "<table border=\"1\" class=\"dataframe\">\n",
       "  <thead>\n",
       "    <tr style=\"text-align: right;\">\n",
       "      <th></th>\n",
       "      <th>url</th>\n",
       "      <th>timedelta</th>\n",
       "      <th>n_tokens_title</th>\n",
       "      <th>n_tokens_content</th>\n",
       "      <th>n_unique_tokens</th>\n",
       "      <th>n_non_stop_words</th>\n",
       "      <th>n_non_stop_unique_tokens</th>\n",
       "      <th>num_hrefs</th>\n",
       "      <th>num_self_hrefs</th>\n",
       "      <th>num_imgs</th>\n",
       "      <th>num_videos</th>\n",
       "      <th>average_token_length</th>\n",
       "      <th>num_keywords</th>\n",
       "      <th>data_channel_is_lifestyle</th>\n",
       "      <th>data_channel_is_entertainment</th>\n",
       "      <th>data_channel_is_bus</th>\n",
       "      <th>data_channel_is_socmed</th>\n",
       "      <th>data_channel_is_tech</th>\n",
       "      <th>data_channel_is_world</th>\n",
       "      <th>kw_min_min</th>\n",
       "      <th>kw_max_min</th>\n",
       "      <th>kw_avg_min</th>\n",
       "      <th>kw_min_max</th>\n",
       "      <th>kw_max_max</th>\n",
       "      <th>kw_avg_max</th>\n",
       "      <th>kw_min_avg</th>\n",
       "      <th>kw_max_avg</th>\n",
       "      <th>kw_avg_avg</th>\n",
       "      <th>self_reference_min_shares</th>\n",
       "      <th>self_reference_max_shares</th>\n",
       "      <th>self_reference_avg_sharess</th>\n",
       "      <th>weekday_is_monday</th>\n",
       "      <th>weekday_is_tuesday</th>\n",
       "      <th>weekday_is_wednesday</th>\n",
       "      <th>weekday_is_thursday</th>\n",
       "      <th>weekday_is_friday</th>\n",
       "      <th>weekday_is_saturday</th>\n",
       "      <th>weekday_is_sunday</th>\n",
       "      <th>is_weekend</th>\n",
       "      <th>LDA_00</th>\n",
       "      <th>LDA_01</th>\n",
       "      <th>LDA_02</th>\n",
       "      <th>LDA_03</th>\n",
       "      <th>LDA_04</th>\n",
       "      <th>global_subjectivity</th>\n",
       "      <th>global_sentiment_polarity</th>\n",
       "      <th>global_rate_positive_words</th>\n",
       "      <th>global_rate_negative_words</th>\n",
       "      <th>rate_positive_words</th>\n",
       "      <th>rate_negative_words</th>\n",
       "      <th>avg_positive_polarity</th>\n",
       "      <th>min_positive_polarity</th>\n",
       "      <th>max_positive_polarity</th>\n",
       "      <th>avg_negative_polarity</th>\n",
       "      <th>min_negative_polarity</th>\n",
       "      <th>max_negative_polarity</th>\n",
       "      <th>title_subjectivity</th>\n",
       "      <th>title_sentiment_polarity</th>\n",
       "      <th>abs_title_subjectivity</th>\n",
       "      <th>abs_title_sentiment_polarity</th>\n",
       "      <th>shares</th>\n",
       "    </tr>\n",
       "  </thead>\n",
       "  <tbody>\n",
       "    <tr>\n",
       "      <th>0</th>\n",
       "      <td>http://mashable.com/2013/01/07/amazon-instant-...</td>\n",
       "      <td>731.0</td>\n",
       "      <td>12.0</td>\n",
       "      <td>219.0</td>\n",
       "      <td>0.663594</td>\n",
       "      <td>1.0</td>\n",
       "      <td>0.815385</td>\n",
       "      <td>4.0</td>\n",
       "      <td>2.0</td>\n",
       "      <td>1.0</td>\n",
       "      <td>0.0</td>\n",
       "      <td>4.680365</td>\n",
       "      <td>5.0</td>\n",
       "      <td>0.0</td>\n",
       "      <td>1.0</td>\n",
       "      <td>0.0</td>\n",
       "      <td>0.0</td>\n",
       "      <td>0.0</td>\n",
       "      <td>0.0</td>\n",
       "      <td>0.0</td>\n",
       "      <td>0.0</td>\n",
       "      <td>0.0</td>\n",
       "      <td>0.0</td>\n",
       "      <td>0.0</td>\n",
       "      <td>0.0</td>\n",
       "      <td>0.0</td>\n",
       "      <td>0.0</td>\n",
       "      <td>0.0</td>\n",
       "      <td>496.0</td>\n",
       "      <td>496.0</td>\n",
       "      <td>496.000000</td>\n",
       "      <td>1.0</td>\n",
       "      <td>0.0</td>\n",
       "      <td>0.0</td>\n",
       "      <td>0.0</td>\n",
       "      <td>0.0</td>\n",
       "      <td>0.0</td>\n",
       "      <td>0.0</td>\n",
       "      <td>0.0</td>\n",
       "      <td>0.500331</td>\n",
       "      <td>0.378279</td>\n",
       "      <td>0.040005</td>\n",
       "      <td>0.041263</td>\n",
       "      <td>0.040123</td>\n",
       "      <td>0.521617</td>\n",
       "      <td>0.092562</td>\n",
       "      <td>0.045662</td>\n",
       "      <td>0.013699</td>\n",
       "      <td>0.769231</td>\n",
       "      <td>0.230769</td>\n",
       "      <td>0.378636</td>\n",
       "      <td>0.100000</td>\n",
       "      <td>0.7</td>\n",
       "      <td>-0.350000</td>\n",
       "      <td>-0.600</td>\n",
       "      <td>-0.200000</td>\n",
       "      <td>0.500000</td>\n",
       "      <td>-0.187500</td>\n",
       "      <td>0.000000</td>\n",
       "      <td>0.187500</td>\n",
       "      <td>593</td>\n",
       "    </tr>\n",
       "    <tr>\n",
       "      <th>1</th>\n",
       "      <td>http://mashable.com/2013/01/07/ap-samsung-spon...</td>\n",
       "      <td>731.0</td>\n",
       "      <td>9.0</td>\n",
       "      <td>255.0</td>\n",
       "      <td>0.604743</td>\n",
       "      <td>1.0</td>\n",
       "      <td>0.791946</td>\n",
       "      <td>3.0</td>\n",
       "      <td>1.0</td>\n",
       "      <td>1.0</td>\n",
       "      <td>0.0</td>\n",
       "      <td>4.913725</td>\n",
       "      <td>4.0</td>\n",
       "      <td>0.0</td>\n",
       "      <td>0.0</td>\n",
       "      <td>1.0</td>\n",
       "      <td>0.0</td>\n",
       "      <td>0.0</td>\n",
       "      <td>0.0</td>\n",
       "      <td>0.0</td>\n",
       "      <td>0.0</td>\n",
       "      <td>0.0</td>\n",
       "      <td>0.0</td>\n",
       "      <td>0.0</td>\n",
       "      <td>0.0</td>\n",
       "      <td>0.0</td>\n",
       "      <td>0.0</td>\n",
       "      <td>0.0</td>\n",
       "      <td>0.0</td>\n",
       "      <td>0.0</td>\n",
       "      <td>0.000000</td>\n",
       "      <td>1.0</td>\n",
       "      <td>0.0</td>\n",
       "      <td>0.0</td>\n",
       "      <td>0.0</td>\n",
       "      <td>0.0</td>\n",
       "      <td>0.0</td>\n",
       "      <td>0.0</td>\n",
       "      <td>0.0</td>\n",
       "      <td>0.799756</td>\n",
       "      <td>0.050047</td>\n",
       "      <td>0.050096</td>\n",
       "      <td>0.050101</td>\n",
       "      <td>0.050001</td>\n",
       "      <td>0.341246</td>\n",
       "      <td>0.148948</td>\n",
       "      <td>0.043137</td>\n",
       "      <td>0.015686</td>\n",
       "      <td>0.733333</td>\n",
       "      <td>0.266667</td>\n",
       "      <td>0.286915</td>\n",
       "      <td>0.033333</td>\n",
       "      <td>0.7</td>\n",
       "      <td>-0.118750</td>\n",
       "      <td>-0.125</td>\n",
       "      <td>-0.100000</td>\n",
       "      <td>0.000000</td>\n",
       "      <td>0.000000</td>\n",
       "      <td>0.500000</td>\n",
       "      <td>0.000000</td>\n",
       "      <td>711</td>\n",
       "    </tr>\n",
       "    <tr>\n",
       "      <th>2</th>\n",
       "      <td>http://mashable.com/2013/01/07/apple-40-billio...</td>\n",
       "      <td>731.0</td>\n",
       "      <td>9.0</td>\n",
       "      <td>211.0</td>\n",
       "      <td>0.575130</td>\n",
       "      <td>1.0</td>\n",
       "      <td>0.663866</td>\n",
       "      <td>3.0</td>\n",
       "      <td>1.0</td>\n",
       "      <td>1.0</td>\n",
       "      <td>0.0</td>\n",
       "      <td>4.393365</td>\n",
       "      <td>6.0</td>\n",
       "      <td>0.0</td>\n",
       "      <td>0.0</td>\n",
       "      <td>1.0</td>\n",
       "      <td>0.0</td>\n",
       "      <td>0.0</td>\n",
       "      <td>0.0</td>\n",
       "      <td>0.0</td>\n",
       "      <td>0.0</td>\n",
       "      <td>0.0</td>\n",
       "      <td>0.0</td>\n",
       "      <td>0.0</td>\n",
       "      <td>0.0</td>\n",
       "      <td>0.0</td>\n",
       "      <td>0.0</td>\n",
       "      <td>0.0</td>\n",
       "      <td>918.0</td>\n",
       "      <td>918.0</td>\n",
       "      <td>918.000000</td>\n",
       "      <td>1.0</td>\n",
       "      <td>0.0</td>\n",
       "      <td>0.0</td>\n",
       "      <td>0.0</td>\n",
       "      <td>0.0</td>\n",
       "      <td>0.0</td>\n",
       "      <td>0.0</td>\n",
       "      <td>0.0</td>\n",
       "      <td>0.217792</td>\n",
       "      <td>0.033334</td>\n",
       "      <td>0.033351</td>\n",
       "      <td>0.033334</td>\n",
       "      <td>0.682188</td>\n",
       "      <td>0.702222</td>\n",
       "      <td>0.323333</td>\n",
       "      <td>0.056872</td>\n",
       "      <td>0.009479</td>\n",
       "      <td>0.857143</td>\n",
       "      <td>0.142857</td>\n",
       "      <td>0.495833</td>\n",
       "      <td>0.100000</td>\n",
       "      <td>1.0</td>\n",
       "      <td>-0.466667</td>\n",
       "      <td>-0.800</td>\n",
       "      <td>-0.133333</td>\n",
       "      <td>0.000000</td>\n",
       "      <td>0.000000</td>\n",
       "      <td>0.500000</td>\n",
       "      <td>0.000000</td>\n",
       "      <td>1500</td>\n",
       "    </tr>\n",
       "    <tr>\n",
       "      <th>3</th>\n",
       "      <td>http://mashable.com/2013/01/07/astronaut-notre...</td>\n",
       "      <td>731.0</td>\n",
       "      <td>9.0</td>\n",
       "      <td>531.0</td>\n",
       "      <td>0.503788</td>\n",
       "      <td>1.0</td>\n",
       "      <td>0.665635</td>\n",
       "      <td>9.0</td>\n",
       "      <td>0.0</td>\n",
       "      <td>1.0</td>\n",
       "      <td>0.0</td>\n",
       "      <td>4.404896</td>\n",
       "      <td>7.0</td>\n",
       "      <td>0.0</td>\n",
       "      <td>1.0</td>\n",
       "      <td>0.0</td>\n",
       "      <td>0.0</td>\n",
       "      <td>0.0</td>\n",
       "      <td>0.0</td>\n",
       "      <td>0.0</td>\n",
       "      <td>0.0</td>\n",
       "      <td>0.0</td>\n",
       "      <td>0.0</td>\n",
       "      <td>0.0</td>\n",
       "      <td>0.0</td>\n",
       "      <td>0.0</td>\n",
       "      <td>0.0</td>\n",
       "      <td>0.0</td>\n",
       "      <td>0.0</td>\n",
       "      <td>0.0</td>\n",
       "      <td>0.000000</td>\n",
       "      <td>1.0</td>\n",
       "      <td>0.0</td>\n",
       "      <td>0.0</td>\n",
       "      <td>0.0</td>\n",
       "      <td>0.0</td>\n",
       "      <td>0.0</td>\n",
       "      <td>0.0</td>\n",
       "      <td>0.0</td>\n",
       "      <td>0.028573</td>\n",
       "      <td>0.419300</td>\n",
       "      <td>0.494651</td>\n",
       "      <td>0.028905</td>\n",
       "      <td>0.028572</td>\n",
       "      <td>0.429850</td>\n",
       "      <td>0.100705</td>\n",
       "      <td>0.041431</td>\n",
       "      <td>0.020716</td>\n",
       "      <td>0.666667</td>\n",
       "      <td>0.333333</td>\n",
       "      <td>0.385965</td>\n",
       "      <td>0.136364</td>\n",
       "      <td>0.8</td>\n",
       "      <td>-0.369697</td>\n",
       "      <td>-0.600</td>\n",
       "      <td>-0.166667</td>\n",
       "      <td>0.000000</td>\n",
       "      <td>0.000000</td>\n",
       "      <td>0.500000</td>\n",
       "      <td>0.000000</td>\n",
       "      <td>1200</td>\n",
       "    </tr>\n",
       "    <tr>\n",
       "      <th>4</th>\n",
       "      <td>http://mashable.com/2013/01/07/att-u-verse-apps/</td>\n",
       "      <td>731.0</td>\n",
       "      <td>13.0</td>\n",
       "      <td>1072.0</td>\n",
       "      <td>0.415646</td>\n",
       "      <td>1.0</td>\n",
       "      <td>0.540890</td>\n",
       "      <td>19.0</td>\n",
       "      <td>19.0</td>\n",
       "      <td>20.0</td>\n",
       "      <td>0.0</td>\n",
       "      <td>4.682836</td>\n",
       "      <td>7.0</td>\n",
       "      <td>0.0</td>\n",
       "      <td>0.0</td>\n",
       "      <td>0.0</td>\n",
       "      <td>0.0</td>\n",
       "      <td>1.0</td>\n",
       "      <td>0.0</td>\n",
       "      <td>0.0</td>\n",
       "      <td>0.0</td>\n",
       "      <td>0.0</td>\n",
       "      <td>0.0</td>\n",
       "      <td>0.0</td>\n",
       "      <td>0.0</td>\n",
       "      <td>0.0</td>\n",
       "      <td>0.0</td>\n",
       "      <td>0.0</td>\n",
       "      <td>545.0</td>\n",
       "      <td>16000.0</td>\n",
       "      <td>3151.157895</td>\n",
       "      <td>1.0</td>\n",
       "      <td>0.0</td>\n",
       "      <td>0.0</td>\n",
       "      <td>0.0</td>\n",
       "      <td>0.0</td>\n",
       "      <td>0.0</td>\n",
       "      <td>0.0</td>\n",
       "      <td>0.0</td>\n",
       "      <td>0.028633</td>\n",
       "      <td>0.028794</td>\n",
       "      <td>0.028575</td>\n",
       "      <td>0.028572</td>\n",
       "      <td>0.885427</td>\n",
       "      <td>0.513502</td>\n",
       "      <td>0.281003</td>\n",
       "      <td>0.074627</td>\n",
       "      <td>0.012127</td>\n",
       "      <td>0.860215</td>\n",
       "      <td>0.139785</td>\n",
       "      <td>0.411127</td>\n",
       "      <td>0.033333</td>\n",
       "      <td>1.0</td>\n",
       "      <td>-0.220192</td>\n",
       "      <td>-0.500</td>\n",
       "      <td>-0.050000</td>\n",
       "      <td>0.454545</td>\n",
       "      <td>0.136364</td>\n",
       "      <td>0.045455</td>\n",
       "      <td>0.136364</td>\n",
       "      <td>505</td>\n",
       "    </tr>\n",
       "  </tbody>\n",
       "</table>\n",
       "</div>"
      ],
      "text/plain": [
       "                                                 url  timedelta  \\\n",
       "0  http://mashable.com/2013/01/07/amazon-instant-...      731.0   \n",
       "1  http://mashable.com/2013/01/07/ap-samsung-spon...      731.0   \n",
       "2  http://mashable.com/2013/01/07/apple-40-billio...      731.0   \n",
       "3  http://mashable.com/2013/01/07/astronaut-notre...      731.0   \n",
       "4   http://mashable.com/2013/01/07/att-u-verse-apps/      731.0   \n",
       "\n",
       "   n_tokens_title  n_tokens_content  n_unique_tokens  n_non_stop_words  \\\n",
       "0            12.0             219.0         0.663594               1.0   \n",
       "1             9.0             255.0         0.604743               1.0   \n",
       "2             9.0             211.0         0.575130               1.0   \n",
       "3             9.0             531.0         0.503788               1.0   \n",
       "4            13.0            1072.0         0.415646               1.0   \n",
       "\n",
       "   n_non_stop_unique_tokens  num_hrefs  num_self_hrefs  num_imgs  num_videos  \\\n",
       "0                  0.815385        4.0             2.0       1.0         0.0   \n",
       "1                  0.791946        3.0             1.0       1.0         0.0   \n",
       "2                  0.663866        3.0             1.0       1.0         0.0   \n",
       "3                  0.665635        9.0             0.0       1.0         0.0   \n",
       "4                  0.540890       19.0            19.0      20.0         0.0   \n",
       "\n",
       "   average_token_length  num_keywords  data_channel_is_lifestyle  \\\n",
       "0              4.680365           5.0                        0.0   \n",
       "1              4.913725           4.0                        0.0   \n",
       "2              4.393365           6.0                        0.0   \n",
       "3              4.404896           7.0                        0.0   \n",
       "4              4.682836           7.0                        0.0   \n",
       "\n",
       "   data_channel_is_entertainment  data_channel_is_bus  data_channel_is_socmed  \\\n",
       "0                            1.0                  0.0                     0.0   \n",
       "1                            0.0                  1.0                     0.0   \n",
       "2                            0.0                  1.0                     0.0   \n",
       "3                            1.0                  0.0                     0.0   \n",
       "4                            0.0                  0.0                     0.0   \n",
       "\n",
       "   data_channel_is_tech  data_channel_is_world  kw_min_min  kw_max_min  \\\n",
       "0                   0.0                    0.0         0.0         0.0   \n",
       "1                   0.0                    0.0         0.0         0.0   \n",
       "2                   0.0                    0.0         0.0         0.0   \n",
       "3                   0.0                    0.0         0.0         0.0   \n",
       "4                   1.0                    0.0         0.0         0.0   \n",
       "\n",
       "   kw_avg_min  kw_min_max  kw_max_max  kw_avg_max  kw_min_avg  kw_max_avg  \\\n",
       "0         0.0         0.0         0.0         0.0         0.0         0.0   \n",
       "1         0.0         0.0         0.0         0.0         0.0         0.0   \n",
       "2         0.0         0.0         0.0         0.0         0.0         0.0   \n",
       "3         0.0         0.0         0.0         0.0         0.0         0.0   \n",
       "4         0.0         0.0         0.0         0.0         0.0         0.0   \n",
       "\n",
       "   kw_avg_avg  self_reference_min_shares  self_reference_max_shares  \\\n",
       "0         0.0                      496.0                      496.0   \n",
       "1         0.0                        0.0                        0.0   \n",
       "2         0.0                      918.0                      918.0   \n",
       "3         0.0                        0.0                        0.0   \n",
       "4         0.0                      545.0                    16000.0   \n",
       "\n",
       "   self_reference_avg_sharess  weekday_is_monday  weekday_is_tuesday  \\\n",
       "0                  496.000000                1.0                 0.0   \n",
       "1                    0.000000                1.0                 0.0   \n",
       "2                  918.000000                1.0                 0.0   \n",
       "3                    0.000000                1.0                 0.0   \n",
       "4                 3151.157895                1.0                 0.0   \n",
       "\n",
       "   weekday_is_wednesday  weekday_is_thursday  weekday_is_friday  \\\n",
       "0                   0.0                  0.0                0.0   \n",
       "1                   0.0                  0.0                0.0   \n",
       "2                   0.0                  0.0                0.0   \n",
       "3                   0.0                  0.0                0.0   \n",
       "4                   0.0                  0.0                0.0   \n",
       "\n",
       "   weekday_is_saturday  weekday_is_sunday  is_weekend    LDA_00    LDA_01  \\\n",
       "0                  0.0                0.0         0.0  0.500331  0.378279   \n",
       "1                  0.0                0.0         0.0  0.799756  0.050047   \n",
       "2                  0.0                0.0         0.0  0.217792  0.033334   \n",
       "3                  0.0                0.0         0.0  0.028573  0.419300   \n",
       "4                  0.0                0.0         0.0  0.028633  0.028794   \n",
       "\n",
       "     LDA_02    LDA_03    LDA_04  global_subjectivity  \\\n",
       "0  0.040005  0.041263  0.040123             0.521617   \n",
       "1  0.050096  0.050101  0.050001             0.341246   \n",
       "2  0.033351  0.033334  0.682188             0.702222   \n",
       "3  0.494651  0.028905  0.028572             0.429850   \n",
       "4  0.028575  0.028572  0.885427             0.513502   \n",
       "\n",
       "   global_sentiment_polarity  global_rate_positive_words  \\\n",
       "0                   0.092562                    0.045662   \n",
       "1                   0.148948                    0.043137   \n",
       "2                   0.323333                    0.056872   \n",
       "3                   0.100705                    0.041431   \n",
       "4                   0.281003                    0.074627   \n",
       "\n",
       "   global_rate_negative_words  rate_positive_words  rate_negative_words  \\\n",
       "0                    0.013699             0.769231             0.230769   \n",
       "1                    0.015686             0.733333             0.266667   \n",
       "2                    0.009479             0.857143             0.142857   \n",
       "3                    0.020716             0.666667             0.333333   \n",
       "4                    0.012127             0.860215             0.139785   \n",
       "\n",
       "   avg_positive_polarity  min_positive_polarity  max_positive_polarity  \\\n",
       "0               0.378636               0.100000                    0.7   \n",
       "1               0.286915               0.033333                    0.7   \n",
       "2               0.495833               0.100000                    1.0   \n",
       "3               0.385965               0.136364                    0.8   \n",
       "4               0.411127               0.033333                    1.0   \n",
       "\n",
       "   avg_negative_polarity  min_negative_polarity  max_negative_polarity  \\\n",
       "0              -0.350000                 -0.600              -0.200000   \n",
       "1              -0.118750                 -0.125              -0.100000   \n",
       "2              -0.466667                 -0.800              -0.133333   \n",
       "3              -0.369697                 -0.600              -0.166667   \n",
       "4              -0.220192                 -0.500              -0.050000   \n",
       "\n",
       "   title_subjectivity  title_sentiment_polarity  abs_title_subjectivity  \\\n",
       "0            0.500000                 -0.187500                0.000000   \n",
       "1            0.000000                  0.000000                0.500000   \n",
       "2            0.000000                  0.000000                0.500000   \n",
       "3            0.000000                  0.000000                0.500000   \n",
       "4            0.454545                  0.136364                0.045455   \n",
       "\n",
       "   abs_title_sentiment_polarity  shares  \n",
       "0                      0.187500     593  \n",
       "1                      0.000000     711  \n",
       "2                      0.000000    1500  \n",
       "3                      0.000000    1200  \n",
       "4                      0.136364     505  "
      ]
     },
     "execution_count": 9,
     "metadata": {},
     "output_type": "execute_result"
    }
   ],
   "source": [
    "df.head(5)"
   ]
  },
  {
   "cell_type": "code",
   "execution_count": 10,
   "metadata": {},
   "outputs": [
    {
     "data": {
      "text/html": [
       "<div>\n",
       "<style scoped>\n",
       "    .dataframe tbody tr th:only-of-type {\n",
       "        vertical-align: middle;\n",
       "    }\n",
       "\n",
       "    .dataframe tbody tr th {\n",
       "        vertical-align: top;\n",
       "    }\n",
       "\n",
       "    .dataframe thead th {\n",
       "        text-align: right;\n",
       "    }\n",
       "</style>\n",
       "<table border=\"1\" class=\"dataframe\">\n",
       "  <thead>\n",
       "    <tr style=\"text-align: right;\">\n",
       "      <th></th>\n",
       "      <th>url</th>\n",
       "      <th>timedelta</th>\n",
       "      <th>n_tokens_title</th>\n",
       "      <th>n_tokens_content</th>\n",
       "      <th>n_unique_tokens</th>\n",
       "      <th>n_non_stop_words</th>\n",
       "      <th>n_non_stop_unique_tokens</th>\n",
       "      <th>num_hrefs</th>\n",
       "      <th>num_self_hrefs</th>\n",
       "      <th>num_imgs</th>\n",
       "      <th>num_videos</th>\n",
       "      <th>average_token_length</th>\n",
       "      <th>num_keywords</th>\n",
       "      <th>data_channel_is_lifestyle</th>\n",
       "      <th>data_channel_is_entertainment</th>\n",
       "      <th>data_channel_is_bus</th>\n",
       "      <th>data_channel_is_socmed</th>\n",
       "      <th>data_channel_is_tech</th>\n",
       "      <th>data_channel_is_world</th>\n",
       "      <th>kw_min_min</th>\n",
       "      <th>kw_max_min</th>\n",
       "      <th>kw_avg_min</th>\n",
       "      <th>kw_min_max</th>\n",
       "      <th>kw_max_max</th>\n",
       "      <th>kw_avg_max</th>\n",
       "      <th>kw_min_avg</th>\n",
       "      <th>kw_max_avg</th>\n",
       "      <th>kw_avg_avg</th>\n",
       "      <th>self_reference_min_shares</th>\n",
       "      <th>self_reference_max_shares</th>\n",
       "      <th>self_reference_avg_sharess</th>\n",
       "      <th>weekday_is_monday</th>\n",
       "      <th>weekday_is_tuesday</th>\n",
       "      <th>weekday_is_wednesday</th>\n",
       "      <th>weekday_is_thursday</th>\n",
       "      <th>weekday_is_friday</th>\n",
       "      <th>weekday_is_saturday</th>\n",
       "      <th>weekday_is_sunday</th>\n",
       "      <th>is_weekend</th>\n",
       "      <th>LDA_00</th>\n",
       "      <th>LDA_01</th>\n",
       "      <th>LDA_02</th>\n",
       "      <th>LDA_03</th>\n",
       "      <th>LDA_04</th>\n",
       "      <th>global_subjectivity</th>\n",
       "      <th>global_sentiment_polarity</th>\n",
       "      <th>global_rate_positive_words</th>\n",
       "      <th>global_rate_negative_words</th>\n",
       "      <th>rate_positive_words</th>\n",
       "      <th>rate_negative_words</th>\n",
       "      <th>avg_positive_polarity</th>\n",
       "      <th>min_positive_polarity</th>\n",
       "      <th>max_positive_polarity</th>\n",
       "      <th>avg_negative_polarity</th>\n",
       "      <th>min_negative_polarity</th>\n",
       "      <th>max_negative_polarity</th>\n",
       "      <th>title_subjectivity</th>\n",
       "      <th>title_sentiment_polarity</th>\n",
       "      <th>abs_title_subjectivity</th>\n",
       "      <th>abs_title_sentiment_polarity</th>\n",
       "      <th>shares</th>\n",
       "    </tr>\n",
       "  </thead>\n",
       "  <tbody>\n",
       "    <tr>\n",
       "      <th>38458</th>\n",
       "      <td>http://mashable.com/2014/12/27/samsung-app-aut...</td>\n",
       "      <td>8.0</td>\n",
       "      <td>11.0</td>\n",
       "      <td>346.0</td>\n",
       "      <td>0.529052</td>\n",
       "      <td>1.0</td>\n",
       "      <td>0.684783</td>\n",
       "      <td>9.0</td>\n",
       "      <td>7.0</td>\n",
       "      <td>1.0</td>\n",
       "      <td>1.0</td>\n",
       "      <td>4.523121</td>\n",
       "      <td>8.0</td>\n",
       "      <td>0.0</td>\n",
       "      <td>0.0</td>\n",
       "      <td>0.0</td>\n",
       "      <td>0.0</td>\n",
       "      <td>1.0</td>\n",
       "      <td>0.0</td>\n",
       "      <td>-1.0</td>\n",
       "      <td>671.0</td>\n",
       "      <td>173.125</td>\n",
       "      <td>26900.0</td>\n",
       "      <td>843300.0</td>\n",
       "      <td>374962.500000</td>\n",
       "      <td>2514.742857</td>\n",
       "      <td>4004.342857</td>\n",
       "      <td>3031.115764</td>\n",
       "      <td>11400.0</td>\n",
       "      <td>48000.0</td>\n",
       "      <td>37033.333333</td>\n",
       "      <td>0.0</td>\n",
       "      <td>0.0</td>\n",
       "      <td>1.0</td>\n",
       "      <td>0.0</td>\n",
       "      <td>0.0</td>\n",
       "      <td>0.0</td>\n",
       "      <td>0.0</td>\n",
       "      <td>0.0</td>\n",
       "      <td>0.025038</td>\n",
       "      <td>0.025001</td>\n",
       "      <td>0.151701</td>\n",
       "      <td>0.025000</td>\n",
       "      <td>0.773260</td>\n",
       "      <td>0.482679</td>\n",
       "      <td>0.141964</td>\n",
       "      <td>0.037572</td>\n",
       "      <td>0.014451</td>\n",
       "      <td>0.722222</td>\n",
       "      <td>0.277778</td>\n",
       "      <td>0.333791</td>\n",
       "      <td>0.100000</td>\n",
       "      <td>0.75</td>\n",
       "      <td>-0.260000</td>\n",
       "      <td>-0.5</td>\n",
       "      <td>-0.125000</td>\n",
       "      <td>0.100000</td>\n",
       "      <td>0.000000</td>\n",
       "      <td>0.400000</td>\n",
       "      <td>0.000000</td>\n",
       "      <td>1800</td>\n",
       "    </tr>\n",
       "    <tr>\n",
       "      <th>38459</th>\n",
       "      <td>http://mashable.com/2014/12/27/seth-rogen-jame...</td>\n",
       "      <td>8.0</td>\n",
       "      <td>12.0</td>\n",
       "      <td>328.0</td>\n",
       "      <td>0.696296</td>\n",
       "      <td>1.0</td>\n",
       "      <td>0.885057</td>\n",
       "      <td>9.0</td>\n",
       "      <td>7.0</td>\n",
       "      <td>3.0</td>\n",
       "      <td>48.0</td>\n",
       "      <td>4.405488</td>\n",
       "      <td>7.0</td>\n",
       "      <td>0.0</td>\n",
       "      <td>0.0</td>\n",
       "      <td>0.0</td>\n",
       "      <td>1.0</td>\n",
       "      <td>0.0</td>\n",
       "      <td>0.0</td>\n",
       "      <td>-1.0</td>\n",
       "      <td>616.0</td>\n",
       "      <td>184.000</td>\n",
       "      <td>6500.0</td>\n",
       "      <td>843300.0</td>\n",
       "      <td>192985.714286</td>\n",
       "      <td>1664.267857</td>\n",
       "      <td>5470.168651</td>\n",
       "      <td>3411.660830</td>\n",
       "      <td>2100.0</td>\n",
       "      <td>2100.0</td>\n",
       "      <td>2100.000000</td>\n",
       "      <td>0.0</td>\n",
       "      <td>0.0</td>\n",
       "      <td>1.0</td>\n",
       "      <td>0.0</td>\n",
       "      <td>0.0</td>\n",
       "      <td>0.0</td>\n",
       "      <td>0.0</td>\n",
       "      <td>0.0</td>\n",
       "      <td>0.029349</td>\n",
       "      <td>0.028575</td>\n",
       "      <td>0.231866</td>\n",
       "      <td>0.681635</td>\n",
       "      <td>0.028575</td>\n",
       "      <td>0.564374</td>\n",
       "      <td>0.194249</td>\n",
       "      <td>0.039634</td>\n",
       "      <td>0.009146</td>\n",
       "      <td>0.812500</td>\n",
       "      <td>0.187500</td>\n",
       "      <td>0.374825</td>\n",
       "      <td>0.136364</td>\n",
       "      <td>0.70</td>\n",
       "      <td>-0.211111</td>\n",
       "      <td>-0.4</td>\n",
       "      <td>-0.100000</td>\n",
       "      <td>0.300000</td>\n",
       "      <td>1.000000</td>\n",
       "      <td>0.200000</td>\n",
       "      <td>1.000000</td>\n",
       "      <td>1900</td>\n",
       "    </tr>\n",
       "    <tr>\n",
       "      <th>38460</th>\n",
       "      <td>http://mashable.com/2014/12/27/son-pays-off-mo...</td>\n",
       "      <td>8.0</td>\n",
       "      <td>10.0</td>\n",
       "      <td>442.0</td>\n",
       "      <td>0.516355</td>\n",
       "      <td>1.0</td>\n",
       "      <td>0.644128</td>\n",
       "      <td>24.0</td>\n",
       "      <td>1.0</td>\n",
       "      <td>12.0</td>\n",
       "      <td>1.0</td>\n",
       "      <td>5.076923</td>\n",
       "      <td>8.0</td>\n",
       "      <td>0.0</td>\n",
       "      <td>0.0</td>\n",
       "      <td>0.0</td>\n",
       "      <td>0.0</td>\n",
       "      <td>0.0</td>\n",
       "      <td>0.0</td>\n",
       "      <td>-1.0</td>\n",
       "      <td>691.0</td>\n",
       "      <td>168.250</td>\n",
       "      <td>6200.0</td>\n",
       "      <td>843300.0</td>\n",
       "      <td>295850.000000</td>\n",
       "      <td>1753.882353</td>\n",
       "      <td>6880.687034</td>\n",
       "      <td>4206.439195</td>\n",
       "      <td>1400.0</td>\n",
       "      <td>1400.0</td>\n",
       "      <td>1400.000000</td>\n",
       "      <td>0.0</td>\n",
       "      <td>0.0</td>\n",
       "      <td>1.0</td>\n",
       "      <td>0.0</td>\n",
       "      <td>0.0</td>\n",
       "      <td>0.0</td>\n",
       "      <td>0.0</td>\n",
       "      <td>0.0</td>\n",
       "      <td>0.159004</td>\n",
       "      <td>0.025025</td>\n",
       "      <td>0.025207</td>\n",
       "      <td>0.643794</td>\n",
       "      <td>0.146970</td>\n",
       "      <td>0.510296</td>\n",
       "      <td>0.024609</td>\n",
       "      <td>0.033937</td>\n",
       "      <td>0.024887</td>\n",
       "      <td>0.576923</td>\n",
       "      <td>0.423077</td>\n",
       "      <td>0.307273</td>\n",
       "      <td>0.136364</td>\n",
       "      <td>0.50</td>\n",
       "      <td>-0.356439</td>\n",
       "      <td>-0.8</td>\n",
       "      <td>-0.166667</td>\n",
       "      <td>0.454545</td>\n",
       "      <td>0.136364</td>\n",
       "      <td>0.045455</td>\n",
       "      <td>0.136364</td>\n",
       "      <td>1900</td>\n",
       "    </tr>\n",
       "    <tr>\n",
       "      <th>38461</th>\n",
       "      <td>http://mashable.com/2014/12/27/ukraine-blasts/</td>\n",
       "      <td>8.0</td>\n",
       "      <td>6.0</td>\n",
       "      <td>682.0</td>\n",
       "      <td>0.539493</td>\n",
       "      <td>1.0</td>\n",
       "      <td>0.692661</td>\n",
       "      <td>10.0</td>\n",
       "      <td>1.0</td>\n",
       "      <td>1.0</td>\n",
       "      <td>0.0</td>\n",
       "      <td>4.975073</td>\n",
       "      <td>5.0</td>\n",
       "      <td>0.0</td>\n",
       "      <td>0.0</td>\n",
       "      <td>0.0</td>\n",
       "      <td>0.0</td>\n",
       "      <td>0.0</td>\n",
       "      <td>1.0</td>\n",
       "      <td>-1.0</td>\n",
       "      <td>0.0</td>\n",
       "      <td>-1.000</td>\n",
       "      <td>0.0</td>\n",
       "      <td>843300.0</td>\n",
       "      <td>254600.000000</td>\n",
       "      <td>0.000000</td>\n",
       "      <td>3384.316871</td>\n",
       "      <td>1777.895883</td>\n",
       "      <td>452.0</td>\n",
       "      <td>452.0</td>\n",
       "      <td>452.000000</td>\n",
       "      <td>0.0</td>\n",
       "      <td>0.0</td>\n",
       "      <td>1.0</td>\n",
       "      <td>0.0</td>\n",
       "      <td>0.0</td>\n",
       "      <td>0.0</td>\n",
       "      <td>0.0</td>\n",
       "      <td>0.0</td>\n",
       "      <td>0.040004</td>\n",
       "      <td>0.040003</td>\n",
       "      <td>0.839987</td>\n",
       "      <td>0.040002</td>\n",
       "      <td>0.040004</td>\n",
       "      <td>0.358578</td>\n",
       "      <td>-0.008066</td>\n",
       "      <td>0.020528</td>\n",
       "      <td>0.023460</td>\n",
       "      <td>0.466667</td>\n",
       "      <td>0.533333</td>\n",
       "      <td>0.236851</td>\n",
       "      <td>0.062500</td>\n",
       "      <td>0.50</td>\n",
       "      <td>-0.205246</td>\n",
       "      <td>-0.5</td>\n",
       "      <td>-0.012500</td>\n",
       "      <td>0.000000</td>\n",
       "      <td>0.000000</td>\n",
       "      <td>0.500000</td>\n",
       "      <td>0.000000</td>\n",
       "      <td>1100</td>\n",
       "    </tr>\n",
       "    <tr>\n",
       "      <th>38462</th>\n",
       "      <td>http://mashable.com/2014/12/27/youtube-channel...</td>\n",
       "      <td>8.0</td>\n",
       "      <td>10.0</td>\n",
       "      <td>157.0</td>\n",
       "      <td>0.701987</td>\n",
       "      <td>1.0</td>\n",
       "      <td>0.846154</td>\n",
       "      <td>1.0</td>\n",
       "      <td>1.0</td>\n",
       "      <td>0.0</td>\n",
       "      <td>2.0</td>\n",
       "      <td>4.471338</td>\n",
       "      <td>4.0</td>\n",
       "      <td>0.0</td>\n",
       "      <td>1.0</td>\n",
       "      <td>0.0</td>\n",
       "      <td>0.0</td>\n",
       "      <td>0.0</td>\n",
       "      <td>0.0</td>\n",
       "      <td>-1.0</td>\n",
       "      <td>97.0</td>\n",
       "      <td>23.500</td>\n",
       "      <td>205600.0</td>\n",
       "      <td>843300.0</td>\n",
       "      <td>366200.000000</td>\n",
       "      <td>3035.080555</td>\n",
       "      <td>3613.512953</td>\n",
       "      <td>3296.909481</td>\n",
       "      <td>2100.0</td>\n",
       "      <td>2100.0</td>\n",
       "      <td>2100.000000</td>\n",
       "      <td>0.0</td>\n",
       "      <td>0.0</td>\n",
       "      <td>1.0</td>\n",
       "      <td>0.0</td>\n",
       "      <td>0.0</td>\n",
       "      <td>0.0</td>\n",
       "      <td>0.0</td>\n",
       "      <td>0.0</td>\n",
       "      <td>0.050001</td>\n",
       "      <td>0.799339</td>\n",
       "      <td>0.050000</td>\n",
       "      <td>0.050659</td>\n",
       "      <td>0.050001</td>\n",
       "      <td>0.517893</td>\n",
       "      <td>0.104892</td>\n",
       "      <td>0.063694</td>\n",
       "      <td>0.012739</td>\n",
       "      <td>0.833333</td>\n",
       "      <td>0.166667</td>\n",
       "      <td>0.247338</td>\n",
       "      <td>0.100000</td>\n",
       "      <td>0.50</td>\n",
       "      <td>-0.200000</td>\n",
       "      <td>-0.2</td>\n",
       "      <td>-0.200000</td>\n",
       "      <td>0.333333</td>\n",
       "      <td>0.250000</td>\n",
       "      <td>0.166667</td>\n",
       "      <td>0.250000</td>\n",
       "      <td>1300</td>\n",
       "    </tr>\n",
       "  </tbody>\n",
       "</table>\n",
       "</div>"
      ],
      "text/plain": [
       "                                                     url  timedelta  \\\n",
       "38458  http://mashable.com/2014/12/27/samsung-app-aut...        8.0   \n",
       "38459  http://mashable.com/2014/12/27/seth-rogen-jame...        8.0   \n",
       "38460  http://mashable.com/2014/12/27/son-pays-off-mo...        8.0   \n",
       "38461     http://mashable.com/2014/12/27/ukraine-blasts/        8.0   \n",
       "38462  http://mashable.com/2014/12/27/youtube-channel...        8.0   \n",
       "\n",
       "       n_tokens_title  n_tokens_content  n_unique_tokens  n_non_stop_words  \\\n",
       "38458            11.0             346.0         0.529052               1.0   \n",
       "38459            12.0             328.0         0.696296               1.0   \n",
       "38460            10.0             442.0         0.516355               1.0   \n",
       "38461             6.0             682.0         0.539493               1.0   \n",
       "38462            10.0             157.0         0.701987               1.0   \n",
       "\n",
       "       n_non_stop_unique_tokens  num_hrefs  num_self_hrefs  num_imgs  \\\n",
       "38458                  0.684783        9.0             7.0       1.0   \n",
       "38459                  0.885057        9.0             7.0       3.0   \n",
       "38460                  0.644128       24.0             1.0      12.0   \n",
       "38461                  0.692661       10.0             1.0       1.0   \n",
       "38462                  0.846154        1.0             1.0       0.0   \n",
       "\n",
       "       num_videos  average_token_length  num_keywords  \\\n",
       "38458         1.0              4.523121           8.0   \n",
       "38459        48.0              4.405488           7.0   \n",
       "38460         1.0              5.076923           8.0   \n",
       "38461         0.0              4.975073           5.0   \n",
       "38462         2.0              4.471338           4.0   \n",
       "\n",
       "       data_channel_is_lifestyle  data_channel_is_entertainment  \\\n",
       "38458                        0.0                            0.0   \n",
       "38459                        0.0                            0.0   \n",
       "38460                        0.0                            0.0   \n",
       "38461                        0.0                            0.0   \n",
       "38462                        0.0                            1.0   \n",
       "\n",
       "       data_channel_is_bus  data_channel_is_socmed  data_channel_is_tech  \\\n",
       "38458                  0.0                     0.0                   1.0   \n",
       "38459                  0.0                     1.0                   0.0   \n",
       "38460                  0.0                     0.0                   0.0   \n",
       "38461                  0.0                     0.0                   0.0   \n",
       "38462                  0.0                     0.0                   0.0   \n",
       "\n",
       "       data_channel_is_world  kw_min_min  kw_max_min  kw_avg_min  kw_min_max  \\\n",
       "38458                    0.0        -1.0       671.0     173.125     26900.0   \n",
       "38459                    0.0        -1.0       616.0     184.000      6500.0   \n",
       "38460                    0.0        -1.0       691.0     168.250      6200.0   \n",
       "38461                    1.0        -1.0         0.0      -1.000         0.0   \n",
       "38462                    0.0        -1.0        97.0      23.500    205600.0   \n",
       "\n",
       "       kw_max_max     kw_avg_max   kw_min_avg   kw_max_avg   kw_avg_avg  \\\n",
       "38458    843300.0  374962.500000  2514.742857  4004.342857  3031.115764   \n",
       "38459    843300.0  192985.714286  1664.267857  5470.168651  3411.660830   \n",
       "38460    843300.0  295850.000000  1753.882353  6880.687034  4206.439195   \n",
       "38461    843300.0  254600.000000     0.000000  3384.316871  1777.895883   \n",
       "38462    843300.0  366200.000000  3035.080555  3613.512953  3296.909481   \n",
       "\n",
       "       self_reference_min_shares  self_reference_max_shares  \\\n",
       "38458                    11400.0                    48000.0   \n",
       "38459                     2100.0                     2100.0   \n",
       "38460                     1400.0                     1400.0   \n",
       "38461                      452.0                      452.0   \n",
       "38462                     2100.0                     2100.0   \n",
       "\n",
       "       self_reference_avg_sharess  weekday_is_monday  weekday_is_tuesday  \\\n",
       "38458                37033.333333                0.0                 0.0   \n",
       "38459                 2100.000000                0.0                 0.0   \n",
       "38460                 1400.000000                0.0                 0.0   \n",
       "38461                  452.000000                0.0                 0.0   \n",
       "38462                 2100.000000                0.0                 0.0   \n",
       "\n",
       "       weekday_is_wednesday  weekday_is_thursday  weekday_is_friday  \\\n",
       "38458                   1.0                  0.0                0.0   \n",
       "38459                   1.0                  0.0                0.0   \n",
       "38460                   1.0                  0.0                0.0   \n",
       "38461                   1.0                  0.0                0.0   \n",
       "38462                   1.0                  0.0                0.0   \n",
       "\n",
       "       weekday_is_saturday  weekday_is_sunday  is_weekend    LDA_00    LDA_01  \\\n",
       "38458                  0.0                0.0         0.0  0.025038  0.025001   \n",
       "38459                  0.0                0.0         0.0  0.029349  0.028575   \n",
       "38460                  0.0                0.0         0.0  0.159004  0.025025   \n",
       "38461                  0.0                0.0         0.0  0.040004  0.040003   \n",
       "38462                  0.0                0.0         0.0  0.050001  0.799339   \n",
       "\n",
       "         LDA_02    LDA_03    LDA_04  global_subjectivity  \\\n",
       "38458  0.151701  0.025000  0.773260             0.482679   \n",
       "38459  0.231866  0.681635  0.028575             0.564374   \n",
       "38460  0.025207  0.643794  0.146970             0.510296   \n",
       "38461  0.839987  0.040002  0.040004             0.358578   \n",
       "38462  0.050000  0.050659  0.050001             0.517893   \n",
       "\n",
       "       global_sentiment_polarity  global_rate_positive_words  \\\n",
       "38458                   0.141964                    0.037572   \n",
       "38459                   0.194249                    0.039634   \n",
       "38460                   0.024609                    0.033937   \n",
       "38461                  -0.008066                    0.020528   \n",
       "38462                   0.104892                    0.063694   \n",
       "\n",
       "       global_rate_negative_words  rate_positive_words  rate_negative_words  \\\n",
       "38458                    0.014451             0.722222             0.277778   \n",
       "38459                    0.009146             0.812500             0.187500   \n",
       "38460                    0.024887             0.576923             0.423077   \n",
       "38461                    0.023460             0.466667             0.533333   \n",
       "38462                    0.012739             0.833333             0.166667   \n",
       "\n",
       "       avg_positive_polarity  min_positive_polarity  max_positive_polarity  \\\n",
       "38458               0.333791               0.100000                   0.75   \n",
       "38459               0.374825               0.136364                   0.70   \n",
       "38460               0.307273               0.136364                   0.50   \n",
       "38461               0.236851               0.062500                   0.50   \n",
       "38462               0.247338               0.100000                   0.50   \n",
       "\n",
       "       avg_negative_polarity  min_negative_polarity  max_negative_polarity  \\\n",
       "38458              -0.260000                   -0.5              -0.125000   \n",
       "38459              -0.211111                   -0.4              -0.100000   \n",
       "38460              -0.356439                   -0.8              -0.166667   \n",
       "38461              -0.205246                   -0.5              -0.012500   \n",
       "38462              -0.200000                   -0.2              -0.200000   \n",
       "\n",
       "       title_subjectivity  title_sentiment_polarity  abs_title_subjectivity  \\\n",
       "38458            0.100000                  0.000000                0.400000   \n",
       "38459            0.300000                  1.000000                0.200000   \n",
       "38460            0.454545                  0.136364                0.045455   \n",
       "38461            0.000000                  0.000000                0.500000   \n",
       "38462            0.333333                  0.250000                0.166667   \n",
       "\n",
       "       abs_title_sentiment_polarity  shares  \n",
       "38458                      0.000000    1800  \n",
       "38459                      1.000000    1900  \n",
       "38460                      0.136364    1900  \n",
       "38461                      0.000000    1100  \n",
       "38462                      0.250000    1300  "
      ]
     },
     "execution_count": 10,
     "metadata": {},
     "output_type": "execute_result"
    }
   ],
   "source": [
    "df.tail(5)"
   ]
  },
  {
   "cell_type": "code",
   "execution_count": 15,
   "metadata": {},
   "outputs": [
    {
     "data": {
      "text/plain": [
       "(38463, 61)"
      ]
     },
     "execution_count": 15,
     "metadata": {},
     "output_type": "execute_result"
    }
   ],
   "source": [
    "df.shape"
   ]
  },
  {
   "cell_type": "markdown",
   "metadata": {},
   "source": [
    "### Shuffling the data and splitting it for training and testing"
   ]
  },
  {
   "cell_type": "code",
   "execution_count": 17,
   "metadata": {},
   "outputs": [
    {
     "data": {
      "text/html": [
       "<div>\n",
       "<style scoped>\n",
       "    .dataframe tbody tr th:only-of-type {\n",
       "        vertical-align: middle;\n",
       "    }\n",
       "\n",
       "    .dataframe tbody tr th {\n",
       "        vertical-align: top;\n",
       "    }\n",
       "\n",
       "    .dataframe thead th {\n",
       "        text-align: right;\n",
       "    }\n",
       "</style>\n",
       "<table border=\"1\" class=\"dataframe\">\n",
       "  <thead>\n",
       "    <tr style=\"text-align: right;\">\n",
       "      <th></th>\n",
       "      <th>timedelta</th>\n",
       "      <th>n_tokens_title</th>\n",
       "      <th>n_tokens_content</th>\n",
       "      <th>n_unique_tokens</th>\n",
       "      <th>n_non_stop_words</th>\n",
       "      <th>n_non_stop_unique_tokens</th>\n",
       "      <th>num_hrefs</th>\n",
       "      <th>num_self_hrefs</th>\n",
       "      <th>num_imgs</th>\n",
       "      <th>num_videos</th>\n",
       "      <th>average_token_length</th>\n",
       "      <th>num_keywords</th>\n",
       "      <th>data_channel_is_lifestyle</th>\n",
       "      <th>data_channel_is_entertainment</th>\n",
       "      <th>data_channel_is_bus</th>\n",
       "      <th>data_channel_is_socmed</th>\n",
       "      <th>data_channel_is_tech</th>\n",
       "      <th>data_channel_is_world</th>\n",
       "      <th>kw_min_min</th>\n",
       "      <th>kw_max_min</th>\n",
       "      <th>kw_avg_min</th>\n",
       "      <th>kw_min_max</th>\n",
       "      <th>kw_max_max</th>\n",
       "      <th>kw_avg_max</th>\n",
       "      <th>kw_min_avg</th>\n",
       "      <th>kw_max_avg</th>\n",
       "      <th>kw_avg_avg</th>\n",
       "      <th>self_reference_min_shares</th>\n",
       "      <th>self_reference_max_shares</th>\n",
       "      <th>self_reference_avg_sharess</th>\n",
       "      <th>weekday_is_monday</th>\n",
       "      <th>weekday_is_tuesday</th>\n",
       "      <th>weekday_is_wednesday</th>\n",
       "      <th>weekday_is_thursday</th>\n",
       "      <th>weekday_is_friday</th>\n",
       "      <th>weekday_is_saturday</th>\n",
       "      <th>weekday_is_sunday</th>\n",
       "      <th>is_weekend</th>\n",
       "      <th>LDA_00</th>\n",
       "      <th>LDA_01</th>\n",
       "      <th>LDA_02</th>\n",
       "      <th>LDA_03</th>\n",
       "      <th>LDA_04</th>\n",
       "      <th>global_subjectivity</th>\n",
       "      <th>global_sentiment_polarity</th>\n",
       "      <th>global_rate_positive_words</th>\n",
       "      <th>global_rate_negative_words</th>\n",
       "      <th>rate_positive_words</th>\n",
       "      <th>rate_negative_words</th>\n",
       "      <th>avg_positive_polarity</th>\n",
       "      <th>min_positive_polarity</th>\n",
       "      <th>max_positive_polarity</th>\n",
       "      <th>avg_negative_polarity</th>\n",
       "      <th>min_negative_polarity</th>\n",
       "      <th>max_negative_polarity</th>\n",
       "      <th>title_subjectivity</th>\n",
       "      <th>title_sentiment_polarity</th>\n",
       "      <th>abs_title_subjectivity</th>\n",
       "      <th>abs_title_sentiment_polarity</th>\n",
       "      <th>shares</th>\n",
       "    </tr>\n",
       "  </thead>\n",
       "  <tbody>\n",
       "    <tr>\n",
       "      <th>8543</th>\n",
       "      <td>568.0</td>\n",
       "      <td>7.0</td>\n",
       "      <td>215.0</td>\n",
       "      <td>0.674528</td>\n",
       "      <td>1.0</td>\n",
       "      <td>0.826087</td>\n",
       "      <td>4.0</td>\n",
       "      <td>3.0</td>\n",
       "      <td>0.0</td>\n",
       "      <td>1.0</td>\n",
       "      <td>5.065116</td>\n",
       "      <td>6.0</td>\n",
       "      <td>0.0</td>\n",
       "      <td>0.0</td>\n",
       "      <td>0.0</td>\n",
       "      <td>0.0</td>\n",
       "      <td>0.0</td>\n",
       "      <td>1.0</td>\n",
       "      <td>4.0</td>\n",
       "      <td>938.0</td>\n",
       "      <td>363.833333</td>\n",
       "      <td>938.0</td>\n",
       "      <td>690400.0</td>\n",
       "      <td>137023.000000</td>\n",
       "      <td>938.0</td>\n",
       "      <td>3278.649419</td>\n",
       "      <td>2279.969247</td>\n",
       "      <td>997.0</td>\n",
       "      <td>6800.0</td>\n",
       "      <td>3898.500000</td>\n",
       "      <td>0.0</td>\n",
       "      <td>0.0</td>\n",
       "      <td>1.0</td>\n",
       "      <td>0.0</td>\n",
       "      <td>0.0</td>\n",
       "      <td>0.0</td>\n",
       "      <td>0.0</td>\n",
       "      <td>0.0</td>\n",
       "      <td>0.034037</td>\n",
       "      <td>0.033400</td>\n",
       "      <td>0.865481</td>\n",
       "      <td>0.033746</td>\n",
       "      <td>0.033335</td>\n",
       "      <td>0.464556</td>\n",
       "      <td>0.113149</td>\n",
       "      <td>0.051163</td>\n",
       "      <td>0.013953</td>\n",
       "      <td>0.785714</td>\n",
       "      <td>0.214286</td>\n",
       "      <td>0.383117</td>\n",
       "      <td>0.2</td>\n",
       "      <td>0.90</td>\n",
       "      <td>-0.508333</td>\n",
       "      <td>-0.875</td>\n",
       "      <td>-0.25</td>\n",
       "      <td>0.950000</td>\n",
       "      <td>0.3</td>\n",
       "      <td>0.450000</td>\n",
       "      <td>0.3</td>\n",
       "      <td>1900</td>\n",
       "    </tr>\n",
       "    <tr>\n",
       "      <th>13479</th>\n",
       "      <td>470.0</td>\n",
       "      <td>10.0</td>\n",
       "      <td>183.0</td>\n",
       "      <td>0.548023</td>\n",
       "      <td>1.0</td>\n",
       "      <td>0.563910</td>\n",
       "      <td>9.0</td>\n",
       "      <td>4.0</td>\n",
       "      <td>12.0</td>\n",
       "      <td>0.0</td>\n",
       "      <td>4.950820</td>\n",
       "      <td>7.0</td>\n",
       "      <td>0.0</td>\n",
       "      <td>0.0</td>\n",
       "      <td>0.0</td>\n",
       "      <td>0.0</td>\n",
       "      <td>0.0</td>\n",
       "      <td>0.0</td>\n",
       "      <td>4.0</td>\n",
       "      <td>1000.0</td>\n",
       "      <td>354.666667</td>\n",
       "      <td>0.0</td>\n",
       "      <td>843300.0</td>\n",
       "      <td>317042.857143</td>\n",
       "      <td>0.0</td>\n",
       "      <td>32180.000000</td>\n",
       "      <td>8511.344229</td>\n",
       "      <td>3900.0</td>\n",
       "      <td>3900.0</td>\n",
       "      <td>3900.000000</td>\n",
       "      <td>0.0</td>\n",
       "      <td>0.0</td>\n",
       "      <td>1.0</td>\n",
       "      <td>0.0</td>\n",
       "      <td>0.0</td>\n",
       "      <td>0.0</td>\n",
       "      <td>0.0</td>\n",
       "      <td>0.0</td>\n",
       "      <td>0.028573</td>\n",
       "      <td>0.513509</td>\n",
       "      <td>0.028572</td>\n",
       "      <td>0.400774</td>\n",
       "      <td>0.028572</td>\n",
       "      <td>0.644444</td>\n",
       "      <td>0.233333</td>\n",
       "      <td>0.027322</td>\n",
       "      <td>0.005464</td>\n",
       "      <td>0.833333</td>\n",
       "      <td>0.166667</td>\n",
       "      <td>0.520000</td>\n",
       "      <td>0.1</td>\n",
       "      <td>0.80</td>\n",
       "      <td>-0.600000</td>\n",
       "      <td>-0.600</td>\n",
       "      <td>-0.60</td>\n",
       "      <td>0.666667</td>\n",
       "      <td>-0.7</td>\n",
       "      <td>0.166667</td>\n",
       "      <td>0.7</td>\n",
       "      <td>25100</td>\n",
       "    </tr>\n",
       "    <tr>\n",
       "      <th>17500</th>\n",
       "      <td>388.0</td>\n",
       "      <td>7.0</td>\n",
       "      <td>193.0</td>\n",
       "      <td>0.610169</td>\n",
       "      <td>1.0</td>\n",
       "      <td>0.786408</td>\n",
       "      <td>6.0</td>\n",
       "      <td>4.0</td>\n",
       "      <td>1.0</td>\n",
       "      <td>0.0</td>\n",
       "      <td>4.331606</td>\n",
       "      <td>7.0</td>\n",
       "      <td>0.0</td>\n",
       "      <td>0.0</td>\n",
       "      <td>0.0</td>\n",
       "      <td>0.0</td>\n",
       "      <td>1.0</td>\n",
       "      <td>0.0</td>\n",
       "      <td>-1.0</td>\n",
       "      <td>531.0</td>\n",
       "      <td>210.000000</td>\n",
       "      <td>0.0</td>\n",
       "      <td>843300.0</td>\n",
       "      <td>198885.714286</td>\n",
       "      <td>0.0</td>\n",
       "      <td>3470.212122</td>\n",
       "      <td>2329.799441</td>\n",
       "      <td>1800.0</td>\n",
       "      <td>3500.0</td>\n",
       "      <td>2366.666667</td>\n",
       "      <td>1.0</td>\n",
       "      <td>0.0</td>\n",
       "      <td>0.0</td>\n",
       "      <td>0.0</td>\n",
       "      <td>0.0</td>\n",
       "      <td>0.0</td>\n",
       "      <td>0.0</td>\n",
       "      <td>0.0</td>\n",
       "      <td>0.028576</td>\n",
       "      <td>0.399074</td>\n",
       "      <td>0.028575</td>\n",
       "      <td>0.028574</td>\n",
       "      <td>0.515201</td>\n",
       "      <td>0.353704</td>\n",
       "      <td>0.072222</td>\n",
       "      <td>0.020725</td>\n",
       "      <td>0.010363</td>\n",
       "      <td>0.666667</td>\n",
       "      <td>0.333333</td>\n",
       "      <td>0.237500</td>\n",
       "      <td>0.1</td>\n",
       "      <td>0.35</td>\n",
       "      <td>-0.150000</td>\n",
       "      <td>-0.200</td>\n",
       "      <td>-0.10</td>\n",
       "      <td>0.000000</td>\n",
       "      <td>0.0</td>\n",
       "      <td>0.500000</td>\n",
       "      <td>0.0</td>\n",
       "      <td>939</td>\n",
       "    </tr>\n",
       "  </tbody>\n",
       "</table>\n",
       "</div>"
      ],
      "text/plain": [
       "       timedelta  n_tokens_title  n_tokens_content  n_unique_tokens  \\\n",
       "8543       568.0             7.0             215.0         0.674528   \n",
       "13479      470.0            10.0             183.0         0.548023   \n",
       "17500      388.0             7.0             193.0         0.610169   \n",
       "\n",
       "       n_non_stop_words  n_non_stop_unique_tokens  num_hrefs  num_self_hrefs  \\\n",
       "8543                1.0                  0.826087        4.0             3.0   \n",
       "13479               1.0                  0.563910        9.0             4.0   \n",
       "17500               1.0                  0.786408        6.0             4.0   \n",
       "\n",
       "       num_imgs  num_videos  average_token_length  num_keywords  \\\n",
       "8543        0.0         1.0              5.065116           6.0   \n",
       "13479      12.0         0.0              4.950820           7.0   \n",
       "17500       1.0         0.0              4.331606           7.0   \n",
       "\n",
       "       data_channel_is_lifestyle  data_channel_is_entertainment  \\\n",
       "8543                         0.0                            0.0   \n",
       "13479                        0.0                            0.0   \n",
       "17500                        0.0                            0.0   \n",
       "\n",
       "       data_channel_is_bus  data_channel_is_socmed  data_channel_is_tech  \\\n",
       "8543                   0.0                     0.0                   0.0   \n",
       "13479                  0.0                     0.0                   0.0   \n",
       "17500                  0.0                     0.0                   1.0   \n",
       "\n",
       "       data_channel_is_world  kw_min_min  kw_max_min  kw_avg_min  kw_min_max  \\\n",
       "8543                     1.0         4.0       938.0  363.833333       938.0   \n",
       "13479                    0.0         4.0      1000.0  354.666667         0.0   \n",
       "17500                    0.0        -1.0       531.0  210.000000         0.0   \n",
       "\n",
       "       kw_max_max     kw_avg_max  kw_min_avg    kw_max_avg   kw_avg_avg  \\\n",
       "8543     690400.0  137023.000000       938.0   3278.649419  2279.969247   \n",
       "13479    843300.0  317042.857143         0.0  32180.000000  8511.344229   \n",
       "17500    843300.0  198885.714286         0.0   3470.212122  2329.799441   \n",
       "\n",
       "       self_reference_min_shares  self_reference_max_shares  \\\n",
       "8543                       997.0                     6800.0   \n",
       "13479                     3900.0                     3900.0   \n",
       "17500                     1800.0                     3500.0   \n",
       "\n",
       "       self_reference_avg_sharess  weekday_is_monday  weekday_is_tuesday  \\\n",
       "8543                  3898.500000                0.0                 0.0   \n",
       "13479                 3900.000000                0.0                 0.0   \n",
       "17500                 2366.666667                1.0                 0.0   \n",
       "\n",
       "       weekday_is_wednesday  weekday_is_thursday  weekday_is_friday  \\\n",
       "8543                    1.0                  0.0                0.0   \n",
       "13479                   1.0                  0.0                0.0   \n",
       "17500                   0.0                  0.0                0.0   \n",
       "\n",
       "       weekday_is_saturday  weekday_is_sunday  is_weekend    LDA_00    LDA_01  \\\n",
       "8543                   0.0                0.0         0.0  0.034037  0.033400   \n",
       "13479                  0.0                0.0         0.0  0.028573  0.513509   \n",
       "17500                  0.0                0.0         0.0  0.028576  0.399074   \n",
       "\n",
       "         LDA_02    LDA_03    LDA_04  global_subjectivity  \\\n",
       "8543   0.865481  0.033746  0.033335             0.464556   \n",
       "13479  0.028572  0.400774  0.028572             0.644444   \n",
       "17500  0.028575  0.028574  0.515201             0.353704   \n",
       "\n",
       "       global_sentiment_polarity  global_rate_positive_words  \\\n",
       "8543                    0.113149                    0.051163   \n",
       "13479                   0.233333                    0.027322   \n",
       "17500                   0.072222                    0.020725   \n",
       "\n",
       "       global_rate_negative_words  rate_positive_words  rate_negative_words  \\\n",
       "8543                     0.013953             0.785714             0.214286   \n",
       "13479                    0.005464             0.833333             0.166667   \n",
       "17500                    0.010363             0.666667             0.333333   \n",
       "\n",
       "       avg_positive_polarity  min_positive_polarity  max_positive_polarity  \\\n",
       "8543                0.383117                    0.2                   0.90   \n",
       "13479               0.520000                    0.1                   0.80   \n",
       "17500               0.237500                    0.1                   0.35   \n",
       "\n",
       "       avg_negative_polarity  min_negative_polarity  max_negative_polarity  \\\n",
       "8543               -0.508333                 -0.875                  -0.25   \n",
       "13479              -0.600000                 -0.600                  -0.60   \n",
       "17500              -0.150000                 -0.200                  -0.10   \n",
       "\n",
       "       title_subjectivity  title_sentiment_polarity  abs_title_subjectivity  \\\n",
       "8543             0.950000                       0.3                0.450000   \n",
       "13479            0.666667                      -0.7                0.166667   \n",
       "17500            0.000000                       0.0                0.500000   \n",
       "\n",
       "       abs_title_sentiment_polarity  shares  \n",
       "8543                            0.3    1900  \n",
       "13479                           0.7   25100  \n",
       "17500                           0.0     939  "
      ]
     },
     "execution_count": 17,
     "metadata": {},
     "output_type": "execute_result"
    }
   ],
   "source": [
    "df_shuffle=shuffle(df)\n",
    "df_shuffle.head(3)"
   ]
  },
  {
   "cell_type": "code",
   "execution_count": 18,
   "metadata": {},
   "outputs": [
    {
     "data": {
      "text/plain": [
       "26924"
      ]
     },
     "execution_count": 18,
     "metadata": {},
     "output_type": "execute_result"
    }
   ],
   "source": [
    "#70% of data value is being saved in variable a\n",
    "a=int(df_shuffle.shape[0]*0.7)\n",
    "a"
   ]
  },
  {
   "cell_type": "code",
   "execution_count": 19,
   "metadata": {},
   "outputs": [
    {
     "data": {
      "text/plain": [
       "11539"
      ]
     },
     "execution_count": 19,
     "metadata": {},
     "output_type": "execute_result"
    }
   ],
   "source": [
    "#70% of data value is being saved in variable b\n",
    "b=df_shuffle.shape[0]-int(df_shuffle.shape[0]*0.7)\n",
    "b"
   ]
  },
  {
   "cell_type": "code",
   "execution_count": 20,
   "metadata": {
    "collapsed": true
   },
   "outputs": [],
   "source": [
    "df_train=df_shuffle.head(a)"
   ]
  },
  {
   "cell_type": "code",
   "execution_count": 21,
   "metadata": {
    "collapsed": true
   },
   "outputs": [],
   "source": [
    "df_test=df_shuffle.head(b)"
   ]
  },
  {
   "cell_type": "code",
   "execution_count": 22,
   "metadata": {},
   "outputs": [
    {
     "data": {
      "text/html": [
       "<div>\n",
       "<style scoped>\n",
       "    .dataframe tbody tr th:only-of-type {\n",
       "        vertical-align: middle;\n",
       "    }\n",
       "\n",
       "    .dataframe tbody tr th {\n",
       "        vertical-align: top;\n",
       "    }\n",
       "\n",
       "    .dataframe thead th {\n",
       "        text-align: right;\n",
       "    }\n",
       "</style>\n",
       "<table border=\"1\" class=\"dataframe\">\n",
       "  <thead>\n",
       "    <tr style=\"text-align: right;\">\n",
       "      <th></th>\n",
       "      <th>timedelta</th>\n",
       "      <th>n_tokens_title</th>\n",
       "      <th>n_tokens_content</th>\n",
       "      <th>n_unique_tokens</th>\n",
       "      <th>n_non_stop_words</th>\n",
       "      <th>n_non_stop_unique_tokens</th>\n",
       "      <th>num_hrefs</th>\n",
       "      <th>num_self_hrefs</th>\n",
       "      <th>num_imgs</th>\n",
       "      <th>num_videos</th>\n",
       "      <th>average_token_length</th>\n",
       "      <th>num_keywords</th>\n",
       "      <th>data_channel_is_lifestyle</th>\n",
       "      <th>data_channel_is_entertainment</th>\n",
       "      <th>data_channel_is_bus</th>\n",
       "      <th>data_channel_is_socmed</th>\n",
       "      <th>data_channel_is_tech</th>\n",
       "      <th>data_channel_is_world</th>\n",
       "      <th>kw_min_min</th>\n",
       "      <th>kw_max_min</th>\n",
       "      <th>kw_avg_min</th>\n",
       "      <th>kw_min_max</th>\n",
       "      <th>kw_max_max</th>\n",
       "      <th>kw_avg_max</th>\n",
       "      <th>kw_min_avg</th>\n",
       "      <th>kw_max_avg</th>\n",
       "      <th>kw_avg_avg</th>\n",
       "      <th>self_reference_min_shares</th>\n",
       "      <th>self_reference_max_shares</th>\n",
       "      <th>self_reference_avg_sharess</th>\n",
       "      <th>weekday_is_monday</th>\n",
       "      <th>weekday_is_tuesday</th>\n",
       "      <th>weekday_is_wednesday</th>\n",
       "      <th>weekday_is_thursday</th>\n",
       "      <th>weekday_is_friday</th>\n",
       "      <th>weekday_is_saturday</th>\n",
       "      <th>weekday_is_sunday</th>\n",
       "      <th>is_weekend</th>\n",
       "      <th>LDA_00</th>\n",
       "      <th>LDA_01</th>\n",
       "      <th>LDA_02</th>\n",
       "      <th>LDA_03</th>\n",
       "      <th>LDA_04</th>\n",
       "      <th>global_subjectivity</th>\n",
       "      <th>global_sentiment_polarity</th>\n",
       "      <th>global_rate_positive_words</th>\n",
       "      <th>global_rate_negative_words</th>\n",
       "      <th>rate_positive_words</th>\n",
       "      <th>rate_negative_words</th>\n",
       "      <th>avg_positive_polarity</th>\n",
       "      <th>min_positive_polarity</th>\n",
       "      <th>max_positive_polarity</th>\n",
       "      <th>avg_negative_polarity</th>\n",
       "      <th>min_negative_polarity</th>\n",
       "      <th>max_negative_polarity</th>\n",
       "      <th>title_subjectivity</th>\n",
       "      <th>title_sentiment_polarity</th>\n",
       "      <th>abs_title_subjectivity</th>\n",
       "      <th>abs_title_sentiment_polarity</th>\n",
       "      <th>shares</th>\n",
       "    </tr>\n",
       "  </thead>\n",
       "  <tbody>\n",
       "    <tr>\n",
       "      <th>8543</th>\n",
       "      <td>568.0</td>\n",
       "      <td>7.0</td>\n",
       "      <td>215.0</td>\n",
       "      <td>0.674528</td>\n",
       "      <td>1.0</td>\n",
       "      <td>0.826087</td>\n",
       "      <td>4.0</td>\n",
       "      <td>3.0</td>\n",
       "      <td>0.0</td>\n",
       "      <td>1.0</td>\n",
       "      <td>5.065116</td>\n",
       "      <td>6.0</td>\n",
       "      <td>0.0</td>\n",
       "      <td>0.0</td>\n",
       "      <td>0.0</td>\n",
       "      <td>0.0</td>\n",
       "      <td>0.0</td>\n",
       "      <td>1.0</td>\n",
       "      <td>4.0</td>\n",
       "      <td>938.0</td>\n",
       "      <td>363.833333</td>\n",
       "      <td>938.0</td>\n",
       "      <td>690400.0</td>\n",
       "      <td>137023.000000</td>\n",
       "      <td>938.000000</td>\n",
       "      <td>3278.649419</td>\n",
       "      <td>2279.969247</td>\n",
       "      <td>997.0</td>\n",
       "      <td>6800.0</td>\n",
       "      <td>3898.500000</td>\n",
       "      <td>0.0</td>\n",
       "      <td>0.0</td>\n",
       "      <td>1.0</td>\n",
       "      <td>0.0</td>\n",
       "      <td>0.0</td>\n",
       "      <td>0.0</td>\n",
       "      <td>0.0</td>\n",
       "      <td>0.0</td>\n",
       "      <td>0.034037</td>\n",
       "      <td>0.033400</td>\n",
       "      <td>0.865481</td>\n",
       "      <td>0.033746</td>\n",
       "      <td>0.033335</td>\n",
       "      <td>0.464556</td>\n",
       "      <td>0.113149</td>\n",
       "      <td>0.051163</td>\n",
       "      <td>0.013953</td>\n",
       "      <td>0.785714</td>\n",
       "      <td>0.214286</td>\n",
       "      <td>0.383117</td>\n",
       "      <td>0.200000</td>\n",
       "      <td>0.90</td>\n",
       "      <td>-0.508333</td>\n",
       "      <td>-0.875</td>\n",
       "      <td>-0.250</td>\n",
       "      <td>0.950000</td>\n",
       "      <td>0.300000</td>\n",
       "      <td>0.450000</td>\n",
       "      <td>0.300000</td>\n",
       "      <td>1900</td>\n",
       "    </tr>\n",
       "    <tr>\n",
       "      <th>13479</th>\n",
       "      <td>470.0</td>\n",
       "      <td>10.0</td>\n",
       "      <td>183.0</td>\n",
       "      <td>0.548023</td>\n",
       "      <td>1.0</td>\n",
       "      <td>0.563910</td>\n",
       "      <td>9.0</td>\n",
       "      <td>4.0</td>\n",
       "      <td>12.0</td>\n",
       "      <td>0.0</td>\n",
       "      <td>4.950820</td>\n",
       "      <td>7.0</td>\n",
       "      <td>0.0</td>\n",
       "      <td>0.0</td>\n",
       "      <td>0.0</td>\n",
       "      <td>0.0</td>\n",
       "      <td>0.0</td>\n",
       "      <td>0.0</td>\n",
       "      <td>4.0</td>\n",
       "      <td>1000.0</td>\n",
       "      <td>354.666667</td>\n",
       "      <td>0.0</td>\n",
       "      <td>843300.0</td>\n",
       "      <td>317042.857143</td>\n",
       "      <td>0.000000</td>\n",
       "      <td>32180.000000</td>\n",
       "      <td>8511.344229</td>\n",
       "      <td>3900.0</td>\n",
       "      <td>3900.0</td>\n",
       "      <td>3900.000000</td>\n",
       "      <td>0.0</td>\n",
       "      <td>0.0</td>\n",
       "      <td>1.0</td>\n",
       "      <td>0.0</td>\n",
       "      <td>0.0</td>\n",
       "      <td>0.0</td>\n",
       "      <td>0.0</td>\n",
       "      <td>0.0</td>\n",
       "      <td>0.028573</td>\n",
       "      <td>0.513509</td>\n",
       "      <td>0.028572</td>\n",
       "      <td>0.400774</td>\n",
       "      <td>0.028572</td>\n",
       "      <td>0.644444</td>\n",
       "      <td>0.233333</td>\n",
       "      <td>0.027322</td>\n",
       "      <td>0.005464</td>\n",
       "      <td>0.833333</td>\n",
       "      <td>0.166667</td>\n",
       "      <td>0.520000</td>\n",
       "      <td>0.100000</td>\n",
       "      <td>0.80</td>\n",
       "      <td>-0.600000</td>\n",
       "      <td>-0.600</td>\n",
       "      <td>-0.600</td>\n",
       "      <td>0.666667</td>\n",
       "      <td>-0.700000</td>\n",
       "      <td>0.166667</td>\n",
       "      <td>0.700000</td>\n",
       "      <td>25100</td>\n",
       "    </tr>\n",
       "    <tr>\n",
       "      <th>17500</th>\n",
       "      <td>388.0</td>\n",
       "      <td>7.0</td>\n",
       "      <td>193.0</td>\n",
       "      <td>0.610169</td>\n",
       "      <td>1.0</td>\n",
       "      <td>0.786408</td>\n",
       "      <td>6.0</td>\n",
       "      <td>4.0</td>\n",
       "      <td>1.0</td>\n",
       "      <td>0.0</td>\n",
       "      <td>4.331606</td>\n",
       "      <td>7.0</td>\n",
       "      <td>0.0</td>\n",
       "      <td>0.0</td>\n",
       "      <td>0.0</td>\n",
       "      <td>0.0</td>\n",
       "      <td>1.0</td>\n",
       "      <td>0.0</td>\n",
       "      <td>-1.0</td>\n",
       "      <td>531.0</td>\n",
       "      <td>210.000000</td>\n",
       "      <td>0.0</td>\n",
       "      <td>843300.0</td>\n",
       "      <td>198885.714286</td>\n",
       "      <td>0.000000</td>\n",
       "      <td>3470.212122</td>\n",
       "      <td>2329.799441</td>\n",
       "      <td>1800.0</td>\n",
       "      <td>3500.0</td>\n",
       "      <td>2366.666667</td>\n",
       "      <td>1.0</td>\n",
       "      <td>0.0</td>\n",
       "      <td>0.0</td>\n",
       "      <td>0.0</td>\n",
       "      <td>0.0</td>\n",
       "      <td>0.0</td>\n",
       "      <td>0.0</td>\n",
       "      <td>0.0</td>\n",
       "      <td>0.028576</td>\n",
       "      <td>0.399074</td>\n",
       "      <td>0.028575</td>\n",
       "      <td>0.028574</td>\n",
       "      <td>0.515201</td>\n",
       "      <td>0.353704</td>\n",
       "      <td>0.072222</td>\n",
       "      <td>0.020725</td>\n",
       "      <td>0.010363</td>\n",
       "      <td>0.666667</td>\n",
       "      <td>0.333333</td>\n",
       "      <td>0.237500</td>\n",
       "      <td>0.100000</td>\n",
       "      <td>0.35</td>\n",
       "      <td>-0.150000</td>\n",
       "      <td>-0.200</td>\n",
       "      <td>-0.100</td>\n",
       "      <td>0.000000</td>\n",
       "      <td>0.000000</td>\n",
       "      <td>0.500000</td>\n",
       "      <td>0.000000</td>\n",
       "      <td>939</td>\n",
       "    </tr>\n",
       "    <tr>\n",
       "      <th>1445</th>\n",
       "      <td>707.0</td>\n",
       "      <td>10.0</td>\n",
       "      <td>490.0</td>\n",
       "      <td>0.565574</td>\n",
       "      <td>1.0</td>\n",
       "      <td>0.719472</td>\n",
       "      <td>11.0</td>\n",
       "      <td>8.0</td>\n",
       "      <td>1.0</td>\n",
       "      <td>0.0</td>\n",
       "      <td>4.700000</td>\n",
       "      <td>7.0</td>\n",
       "      <td>0.0</td>\n",
       "      <td>1.0</td>\n",
       "      <td>0.0</td>\n",
       "      <td>0.0</td>\n",
       "      <td>0.0</td>\n",
       "      <td>0.0</td>\n",
       "      <td>217.0</td>\n",
       "      <td>792.0</td>\n",
       "      <td>401.000000</td>\n",
       "      <td>0.0</td>\n",
       "      <td>69100.0</td>\n",
       "      <td>27742.857143</td>\n",
       "      <td>0.000000</td>\n",
       "      <td>3809.000000</td>\n",
       "      <td>2050.220649</td>\n",
       "      <td>294.0</td>\n",
       "      <td>26600.0</td>\n",
       "      <td>7448.500000</td>\n",
       "      <td>0.0</td>\n",
       "      <td>0.0</td>\n",
       "      <td>0.0</td>\n",
       "      <td>1.0</td>\n",
       "      <td>0.0</td>\n",
       "      <td>0.0</td>\n",
       "      <td>0.0</td>\n",
       "      <td>0.0</td>\n",
       "      <td>0.456845</td>\n",
       "      <td>0.300320</td>\n",
       "      <td>0.184892</td>\n",
       "      <td>0.029371</td>\n",
       "      <td>0.028572</td>\n",
       "      <td>0.546276</td>\n",
       "      <td>0.168970</td>\n",
       "      <td>0.059184</td>\n",
       "      <td>0.020408</td>\n",
       "      <td>0.743590</td>\n",
       "      <td>0.256410</td>\n",
       "      <td>0.384834</td>\n",
       "      <td>0.100000</td>\n",
       "      <td>1.00</td>\n",
       "      <td>-0.339444</td>\n",
       "      <td>-0.800</td>\n",
       "      <td>-0.050</td>\n",
       "      <td>0.000000</td>\n",
       "      <td>-0.200000</td>\n",
       "      <td>0.500000</td>\n",
       "      <td>0.200000</td>\n",
       "      <td>380</td>\n",
       "    </tr>\n",
       "    <tr>\n",
       "      <th>14432</th>\n",
       "      <td>451.0</td>\n",
       "      <td>9.0</td>\n",
       "      <td>597.0</td>\n",
       "      <td>0.516295</td>\n",
       "      <td>1.0</td>\n",
       "      <td>0.696275</td>\n",
       "      <td>10.0</td>\n",
       "      <td>10.0</td>\n",
       "      <td>1.0</td>\n",
       "      <td>0.0</td>\n",
       "      <td>4.452261</td>\n",
       "      <td>8.0</td>\n",
       "      <td>0.0</td>\n",
       "      <td>0.0</td>\n",
       "      <td>0.0</td>\n",
       "      <td>0.0</td>\n",
       "      <td>1.0</td>\n",
       "      <td>0.0</td>\n",
       "      <td>4.0</td>\n",
       "      <td>531.0</td>\n",
       "      <td>209.166667</td>\n",
       "      <td>0.0</td>\n",
       "      <td>843300.0</td>\n",
       "      <td>166850.000000</td>\n",
       "      <td>0.000000</td>\n",
       "      <td>3262.749031</td>\n",
       "      <td>1863.753086</td>\n",
       "      <td>527.0</td>\n",
       "      <td>7900.0</td>\n",
       "      <td>2603.857143</td>\n",
       "      <td>1.0</td>\n",
       "      <td>0.0</td>\n",
       "      <td>0.0</td>\n",
       "      <td>0.0</td>\n",
       "      <td>0.0</td>\n",
       "      <td>0.0</td>\n",
       "      <td>0.0</td>\n",
       "      <td>0.0</td>\n",
       "      <td>0.025048</td>\n",
       "      <td>0.025261</td>\n",
       "      <td>0.025002</td>\n",
       "      <td>0.025002</td>\n",
       "      <td>0.899687</td>\n",
       "      <td>0.450707</td>\n",
       "      <td>0.173421</td>\n",
       "      <td>0.050251</td>\n",
       "      <td>0.010050</td>\n",
       "      <td>0.833333</td>\n",
       "      <td>0.166667</td>\n",
       "      <td>0.364432</td>\n",
       "      <td>0.050000</td>\n",
       "      <td>0.80</td>\n",
       "      <td>-0.244444</td>\n",
       "      <td>-0.700</td>\n",
       "      <td>-0.050</td>\n",
       "      <td>0.900000</td>\n",
       "      <td>0.400000</td>\n",
       "      <td>0.400000</td>\n",
       "      <td>0.400000</td>\n",
       "      <td>1600</td>\n",
       "    </tr>\n",
       "    <tr>\n",
       "      <th>2315</th>\n",
       "      <td>692.0</td>\n",
       "      <td>10.0</td>\n",
       "      <td>172.0</td>\n",
       "      <td>0.691860</td>\n",
       "      <td>1.0</td>\n",
       "      <td>0.782609</td>\n",
       "      <td>4.0</td>\n",
       "      <td>3.0</td>\n",
       "      <td>1.0</td>\n",
       "      <td>0.0</td>\n",
       "      <td>4.895349</td>\n",
       "      <td>7.0</td>\n",
       "      <td>0.0</td>\n",
       "      <td>0.0</td>\n",
       "      <td>0.0</td>\n",
       "      <td>1.0</td>\n",
       "      <td>0.0</td>\n",
       "      <td>0.0</td>\n",
       "      <td>217.0</td>\n",
       "      <td>1300.0</td>\n",
       "      <td>629.857143</td>\n",
       "      <td>3600.0</td>\n",
       "      <td>69100.0</td>\n",
       "      <td>29428.571429</td>\n",
       "      <td>2321.806452</td>\n",
       "      <td>5850.000000</td>\n",
       "      <td>3304.554875</td>\n",
       "      <td>0.0</td>\n",
       "      <td>0.0</td>\n",
       "      <td>0.000000</td>\n",
       "      <td>0.0</td>\n",
       "      <td>0.0</td>\n",
       "      <td>0.0</td>\n",
       "      <td>0.0</td>\n",
       "      <td>1.0</td>\n",
       "      <td>0.0</td>\n",
       "      <td>0.0</td>\n",
       "      <td>0.0</td>\n",
       "      <td>0.884956</td>\n",
       "      <td>0.028617</td>\n",
       "      <td>0.028650</td>\n",
       "      <td>0.028755</td>\n",
       "      <td>0.029021</td>\n",
       "      <td>0.331818</td>\n",
       "      <td>0.173414</td>\n",
       "      <td>0.081395</td>\n",
       "      <td>0.000000</td>\n",
       "      <td>1.000000</td>\n",
       "      <td>0.000000</td>\n",
       "      <td>0.198187</td>\n",
       "      <td>0.033333</td>\n",
       "      <td>0.50</td>\n",
       "      <td>0.000000</td>\n",
       "      <td>0.000</td>\n",
       "      <td>0.000</td>\n",
       "      <td>0.066667</td>\n",
       "      <td>0.033333</td>\n",
       "      <td>0.433333</td>\n",
       "      <td>0.033333</td>\n",
       "      <td>4800</td>\n",
       "    </tr>\n",
       "    <tr>\n",
       "      <th>34892</th>\n",
       "      <td>71.0</td>\n",
       "      <td>13.0</td>\n",
       "      <td>401.0</td>\n",
       "      <td>0.555276</td>\n",
       "      <td>1.0</td>\n",
       "      <td>0.758929</td>\n",
       "      <td>2.0</td>\n",
       "      <td>1.0</td>\n",
       "      <td>1.0</td>\n",
       "      <td>2.0</td>\n",
       "      <td>4.917706</td>\n",
       "      <td>7.0</td>\n",
       "      <td>0.0</td>\n",
       "      <td>0.0</td>\n",
       "      <td>0.0</td>\n",
       "      <td>0.0</td>\n",
       "      <td>0.0</td>\n",
       "      <td>1.0</td>\n",
       "      <td>-1.0</td>\n",
       "      <td>973.0</td>\n",
       "      <td>365.666667</td>\n",
       "      <td>0.0</td>\n",
       "      <td>843300.0</td>\n",
       "      <td>172928.571429</td>\n",
       "      <td>0.000000</td>\n",
       "      <td>3446.075532</td>\n",
       "      <td>2308.316202</td>\n",
       "      <td>672.0</td>\n",
       "      <td>672.0</td>\n",
       "      <td>672.000000</td>\n",
       "      <td>0.0</td>\n",
       "      <td>0.0</td>\n",
       "      <td>1.0</td>\n",
       "      <td>0.0</td>\n",
       "      <td>0.0</td>\n",
       "      <td>0.0</td>\n",
       "      <td>0.0</td>\n",
       "      <td>0.0</td>\n",
       "      <td>0.028574</td>\n",
       "      <td>0.028648</td>\n",
       "      <td>0.212360</td>\n",
       "      <td>0.028618</td>\n",
       "      <td>0.701800</td>\n",
       "      <td>0.566074</td>\n",
       "      <td>0.092315</td>\n",
       "      <td>0.032419</td>\n",
       "      <td>0.022444</td>\n",
       "      <td>0.590909</td>\n",
       "      <td>0.409091</td>\n",
       "      <td>0.485897</td>\n",
       "      <td>0.100000</td>\n",
       "      <td>1.00</td>\n",
       "      <td>-0.355247</td>\n",
       "      <td>-0.900</td>\n",
       "      <td>-0.100</td>\n",
       "      <td>0.000000</td>\n",
       "      <td>0.000000</td>\n",
       "      <td>0.500000</td>\n",
       "      <td>0.000000</td>\n",
       "      <td>1500</td>\n",
       "    </tr>\n",
       "    <tr>\n",
       "      <th>13561</th>\n",
       "      <td>469.0</td>\n",
       "      <td>10.0</td>\n",
       "      <td>1127.0</td>\n",
       "      <td>0.497253</td>\n",
       "      <td>1.0</td>\n",
       "      <td>0.715373</td>\n",
       "      <td>16.0</td>\n",
       "      <td>6.0</td>\n",
       "      <td>11.0</td>\n",
       "      <td>0.0</td>\n",
       "      <td>4.581189</td>\n",
       "      <td>8.0</td>\n",
       "      <td>0.0</td>\n",
       "      <td>0.0</td>\n",
       "      <td>0.0</td>\n",
       "      <td>0.0</td>\n",
       "      <td>1.0</td>\n",
       "      <td>0.0</td>\n",
       "      <td>4.0</td>\n",
       "      <td>331.0</td>\n",
       "      <td>109.857143</td>\n",
       "      <td>0.0</td>\n",
       "      <td>843300.0</td>\n",
       "      <td>189300.000000</td>\n",
       "      <td>0.000000</td>\n",
       "      <td>3266.698581</td>\n",
       "      <td>2414.624061</td>\n",
       "      <td>2700.0</td>\n",
       "      <td>2700.0</td>\n",
       "      <td>2700.000000</td>\n",
       "      <td>0.0</td>\n",
       "      <td>0.0</td>\n",
       "      <td>0.0</td>\n",
       "      <td>1.0</td>\n",
       "      <td>0.0</td>\n",
       "      <td>0.0</td>\n",
       "      <td>0.0</td>\n",
       "      <td>0.0</td>\n",
       "      <td>0.025019</td>\n",
       "      <td>0.025527</td>\n",
       "      <td>0.025061</td>\n",
       "      <td>0.524290</td>\n",
       "      <td>0.400103</td>\n",
       "      <td>0.512122</td>\n",
       "      <td>0.099175</td>\n",
       "      <td>0.058563</td>\n",
       "      <td>0.034605</td>\n",
       "      <td>0.628571</td>\n",
       "      <td>0.371429</td>\n",
       "      <td>0.382165</td>\n",
       "      <td>0.062500</td>\n",
       "      <td>1.00</td>\n",
       "      <td>-0.304879</td>\n",
       "      <td>-0.700</td>\n",
       "      <td>-0.050</td>\n",
       "      <td>0.000000</td>\n",
       "      <td>0.000000</td>\n",
       "      <td>0.500000</td>\n",
       "      <td>0.000000</td>\n",
       "      <td>2400</td>\n",
       "    </tr>\n",
       "    <tr>\n",
       "      <th>2270</th>\n",
       "      <td>693.0</td>\n",
       "      <td>9.0</td>\n",
       "      <td>219.0</td>\n",
       "      <td>0.587963</td>\n",
       "      <td>1.0</td>\n",
       "      <td>0.707692</td>\n",
       "      <td>2.0</td>\n",
       "      <td>2.0</td>\n",
       "      <td>1.0</td>\n",
       "      <td>0.0</td>\n",
       "      <td>4.726027</td>\n",
       "      <td>7.0</td>\n",
       "      <td>1.0</td>\n",
       "      <td>0.0</td>\n",
       "      <td>0.0</td>\n",
       "      <td>0.0</td>\n",
       "      <td>0.0</td>\n",
       "      <td>0.0</td>\n",
       "      <td>217.0</td>\n",
       "      <td>456.0</td>\n",
       "      <td>322.500000</td>\n",
       "      <td>0.0</td>\n",
       "      <td>69100.0</td>\n",
       "      <td>35942.857143</td>\n",
       "      <td>0.000000</td>\n",
       "      <td>4641.818182</td>\n",
       "      <td>2535.043909</td>\n",
       "      <td>15700.0</td>\n",
       "      <td>15700.0</td>\n",
       "      <td>15700.000000</td>\n",
       "      <td>0.0</td>\n",
       "      <td>0.0</td>\n",
       "      <td>0.0</td>\n",
       "      <td>1.0</td>\n",
       "      <td>0.0</td>\n",
       "      <td>0.0</td>\n",
       "      <td>0.0</td>\n",
       "      <td>0.0</td>\n",
       "      <td>0.028629</td>\n",
       "      <td>0.028575</td>\n",
       "      <td>0.028574</td>\n",
       "      <td>0.028604</td>\n",
       "      <td>0.885618</td>\n",
       "      <td>0.515377</td>\n",
       "      <td>0.106453</td>\n",
       "      <td>0.045662</td>\n",
       "      <td>0.009132</td>\n",
       "      <td>0.833333</td>\n",
       "      <td>0.166667</td>\n",
       "      <td>0.264035</td>\n",
       "      <td>0.136364</td>\n",
       "      <td>0.50</td>\n",
       "      <td>-0.450000</td>\n",
       "      <td>-0.600</td>\n",
       "      <td>-0.300</td>\n",
       "      <td>0.454545</td>\n",
       "      <td>0.136364</td>\n",
       "      <td>0.045455</td>\n",
       "      <td>0.136364</td>\n",
       "      <td>1500</td>\n",
       "    </tr>\n",
       "    <tr>\n",
       "      <th>38019</th>\n",
       "      <td>20.0</td>\n",
       "      <td>12.0</td>\n",
       "      <td>992.0</td>\n",
       "      <td>0.418367</td>\n",
       "      <td>1.0</td>\n",
       "      <td>0.629423</td>\n",
       "      <td>2.0</td>\n",
       "      <td>1.0</td>\n",
       "      <td>1.0</td>\n",
       "      <td>1.0</td>\n",
       "      <td>4.737903</td>\n",
       "      <td>7.0</td>\n",
       "      <td>0.0</td>\n",
       "      <td>0.0</td>\n",
       "      <td>0.0</td>\n",
       "      <td>0.0</td>\n",
       "      <td>0.0</td>\n",
       "      <td>1.0</td>\n",
       "      <td>-1.0</td>\n",
       "      <td>843.0</td>\n",
       "      <td>139.666667</td>\n",
       "      <td>0.0</td>\n",
       "      <td>843300.0</td>\n",
       "      <td>233500.000000</td>\n",
       "      <td>0.000000</td>\n",
       "      <td>3393.367028</td>\n",
       "      <td>1834.280723</td>\n",
       "      <td>2100.0</td>\n",
       "      <td>2100.0</td>\n",
       "      <td>2100.000000</td>\n",
       "      <td>0.0</td>\n",
       "      <td>0.0</td>\n",
       "      <td>0.0</td>\n",
       "      <td>0.0</td>\n",
       "      <td>1.0</td>\n",
       "      <td>0.0</td>\n",
       "      <td>0.0</td>\n",
       "      <td>0.0</td>\n",
       "      <td>0.028573</td>\n",
       "      <td>0.028573</td>\n",
       "      <td>0.885708</td>\n",
       "      <td>0.028572</td>\n",
       "      <td>0.028573</td>\n",
       "      <td>0.482792</td>\n",
       "      <td>0.185725</td>\n",
       "      <td>0.042339</td>\n",
       "      <td>0.012097</td>\n",
       "      <td>0.777778</td>\n",
       "      <td>0.222222</td>\n",
       "      <td>0.376582</td>\n",
       "      <td>0.050000</td>\n",
       "      <td>1.00</td>\n",
       "      <td>-0.221991</td>\n",
       "      <td>-0.400</td>\n",
       "      <td>-0.075</td>\n",
       "      <td>1.000000</td>\n",
       "      <td>0.500000</td>\n",
       "      <td>0.500000</td>\n",
       "      <td>0.500000</td>\n",
       "      <td>957</td>\n",
       "    </tr>\n",
       "  </tbody>\n",
       "</table>\n",
       "</div>"
      ],
      "text/plain": [
       "       timedelta  n_tokens_title  n_tokens_content  n_unique_tokens  \\\n",
       "8543       568.0             7.0             215.0         0.674528   \n",
       "13479      470.0            10.0             183.0         0.548023   \n",
       "17500      388.0             7.0             193.0         0.610169   \n",
       "1445       707.0            10.0             490.0         0.565574   \n",
       "14432      451.0             9.0             597.0         0.516295   \n",
       "2315       692.0            10.0             172.0         0.691860   \n",
       "34892       71.0            13.0             401.0         0.555276   \n",
       "13561      469.0            10.0            1127.0         0.497253   \n",
       "2270       693.0             9.0             219.0         0.587963   \n",
       "38019       20.0            12.0             992.0         0.418367   \n",
       "\n",
       "       n_non_stop_words  n_non_stop_unique_tokens  num_hrefs  num_self_hrefs  \\\n",
       "8543                1.0                  0.826087        4.0             3.0   \n",
       "13479               1.0                  0.563910        9.0             4.0   \n",
       "17500               1.0                  0.786408        6.0             4.0   \n",
       "1445                1.0                  0.719472       11.0             8.0   \n",
       "14432               1.0                  0.696275       10.0            10.0   \n",
       "2315                1.0                  0.782609        4.0             3.0   \n",
       "34892               1.0                  0.758929        2.0             1.0   \n",
       "13561               1.0                  0.715373       16.0             6.0   \n",
       "2270                1.0                  0.707692        2.0             2.0   \n",
       "38019               1.0                  0.629423        2.0             1.0   \n",
       "\n",
       "       num_imgs  num_videos  average_token_length  num_keywords  \\\n",
       "8543        0.0         1.0              5.065116           6.0   \n",
       "13479      12.0         0.0              4.950820           7.0   \n",
       "17500       1.0         0.0              4.331606           7.0   \n",
       "1445        1.0         0.0              4.700000           7.0   \n",
       "14432       1.0         0.0              4.452261           8.0   \n",
       "2315        1.0         0.0              4.895349           7.0   \n",
       "34892       1.0         2.0              4.917706           7.0   \n",
       "13561      11.0         0.0              4.581189           8.0   \n",
       "2270        1.0         0.0              4.726027           7.0   \n",
       "38019       1.0         1.0              4.737903           7.0   \n",
       "\n",
       "       data_channel_is_lifestyle  data_channel_is_entertainment  \\\n",
       "8543                         0.0                            0.0   \n",
       "13479                        0.0                            0.0   \n",
       "17500                        0.0                            0.0   \n",
       "1445                         0.0                            1.0   \n",
       "14432                        0.0                            0.0   \n",
       "2315                         0.0                            0.0   \n",
       "34892                        0.0                            0.0   \n",
       "13561                        0.0                            0.0   \n",
       "2270                         1.0                            0.0   \n",
       "38019                        0.0                            0.0   \n",
       "\n",
       "       data_channel_is_bus  data_channel_is_socmed  data_channel_is_tech  \\\n",
       "8543                   0.0                     0.0                   0.0   \n",
       "13479                  0.0                     0.0                   0.0   \n",
       "17500                  0.0                     0.0                   1.0   \n",
       "1445                   0.0                     0.0                   0.0   \n",
       "14432                  0.0                     0.0                   1.0   \n",
       "2315                   0.0                     1.0                   0.0   \n",
       "34892                  0.0                     0.0                   0.0   \n",
       "13561                  0.0                     0.0                   1.0   \n",
       "2270                   0.0                     0.0                   0.0   \n",
       "38019                  0.0                     0.0                   0.0   \n",
       "\n",
       "       data_channel_is_world  kw_min_min  kw_max_min  kw_avg_min  kw_min_max  \\\n",
       "8543                     1.0         4.0       938.0  363.833333       938.0   \n",
       "13479                    0.0         4.0      1000.0  354.666667         0.0   \n",
       "17500                    0.0        -1.0       531.0  210.000000         0.0   \n",
       "1445                     0.0       217.0       792.0  401.000000         0.0   \n",
       "14432                    0.0         4.0       531.0  209.166667         0.0   \n",
       "2315                     0.0       217.0      1300.0  629.857143      3600.0   \n",
       "34892                    1.0        -1.0       973.0  365.666667         0.0   \n",
       "13561                    0.0         4.0       331.0  109.857143         0.0   \n",
       "2270                     0.0       217.0       456.0  322.500000         0.0   \n",
       "38019                    1.0        -1.0       843.0  139.666667         0.0   \n",
       "\n",
       "       kw_max_max     kw_avg_max   kw_min_avg    kw_max_avg   kw_avg_avg  \\\n",
       "8543     690400.0  137023.000000   938.000000   3278.649419  2279.969247   \n",
       "13479    843300.0  317042.857143     0.000000  32180.000000  8511.344229   \n",
       "17500    843300.0  198885.714286     0.000000   3470.212122  2329.799441   \n",
       "1445      69100.0   27742.857143     0.000000   3809.000000  2050.220649   \n",
       "14432    843300.0  166850.000000     0.000000   3262.749031  1863.753086   \n",
       "2315      69100.0   29428.571429  2321.806452   5850.000000  3304.554875   \n",
       "34892    843300.0  172928.571429     0.000000   3446.075532  2308.316202   \n",
       "13561    843300.0  189300.000000     0.000000   3266.698581  2414.624061   \n",
       "2270      69100.0   35942.857143     0.000000   4641.818182  2535.043909   \n",
       "38019    843300.0  233500.000000     0.000000   3393.367028  1834.280723   \n",
       "\n",
       "       self_reference_min_shares  self_reference_max_shares  \\\n",
       "8543                       997.0                     6800.0   \n",
       "13479                     3900.0                     3900.0   \n",
       "17500                     1800.0                     3500.0   \n",
       "1445                       294.0                    26600.0   \n",
       "14432                      527.0                     7900.0   \n",
       "2315                         0.0                        0.0   \n",
       "34892                      672.0                      672.0   \n",
       "13561                     2700.0                     2700.0   \n",
       "2270                     15700.0                    15700.0   \n",
       "38019                     2100.0                     2100.0   \n",
       "\n",
       "       self_reference_avg_sharess  weekday_is_monday  weekday_is_tuesday  \\\n",
       "8543                  3898.500000                0.0                 0.0   \n",
       "13479                 3900.000000                0.0                 0.0   \n",
       "17500                 2366.666667                1.0                 0.0   \n",
       "1445                  7448.500000                0.0                 0.0   \n",
       "14432                 2603.857143                1.0                 0.0   \n",
       "2315                     0.000000                0.0                 0.0   \n",
       "34892                  672.000000                0.0                 0.0   \n",
       "13561                 2700.000000                0.0                 0.0   \n",
       "2270                 15700.000000                0.0                 0.0   \n",
       "38019                 2100.000000                0.0                 0.0   \n",
       "\n",
       "       weekday_is_wednesday  weekday_is_thursday  weekday_is_friday  \\\n",
       "8543                    1.0                  0.0                0.0   \n",
       "13479                   1.0                  0.0                0.0   \n",
       "17500                   0.0                  0.0                0.0   \n",
       "1445                    0.0                  1.0                0.0   \n",
       "14432                   0.0                  0.0                0.0   \n",
       "2315                    0.0                  0.0                1.0   \n",
       "34892                   1.0                  0.0                0.0   \n",
       "13561                   0.0                  1.0                0.0   \n",
       "2270                    0.0                  1.0                0.0   \n",
       "38019                   0.0                  0.0                1.0   \n",
       "\n",
       "       weekday_is_saturday  weekday_is_sunday  is_weekend    LDA_00    LDA_01  \\\n",
       "8543                   0.0                0.0         0.0  0.034037  0.033400   \n",
       "13479                  0.0                0.0         0.0  0.028573  0.513509   \n",
       "17500                  0.0                0.0         0.0  0.028576  0.399074   \n",
       "1445                   0.0                0.0         0.0  0.456845  0.300320   \n",
       "14432                  0.0                0.0         0.0  0.025048  0.025261   \n",
       "2315                   0.0                0.0         0.0  0.884956  0.028617   \n",
       "34892                  0.0                0.0         0.0  0.028574  0.028648   \n",
       "13561                  0.0                0.0         0.0  0.025019  0.025527   \n",
       "2270                   0.0                0.0         0.0  0.028629  0.028575   \n",
       "38019                  0.0                0.0         0.0  0.028573  0.028573   \n",
       "\n",
       "         LDA_02    LDA_03    LDA_04  global_subjectivity  \\\n",
       "8543   0.865481  0.033746  0.033335             0.464556   \n",
       "13479  0.028572  0.400774  0.028572             0.644444   \n",
       "17500  0.028575  0.028574  0.515201             0.353704   \n",
       "1445   0.184892  0.029371  0.028572             0.546276   \n",
       "14432  0.025002  0.025002  0.899687             0.450707   \n",
       "2315   0.028650  0.028755  0.029021             0.331818   \n",
       "34892  0.212360  0.028618  0.701800             0.566074   \n",
       "13561  0.025061  0.524290  0.400103             0.512122   \n",
       "2270   0.028574  0.028604  0.885618             0.515377   \n",
       "38019  0.885708  0.028572  0.028573             0.482792   \n",
       "\n",
       "       global_sentiment_polarity  global_rate_positive_words  \\\n",
       "8543                    0.113149                    0.051163   \n",
       "13479                   0.233333                    0.027322   \n",
       "17500                   0.072222                    0.020725   \n",
       "1445                    0.168970                    0.059184   \n",
       "14432                   0.173421                    0.050251   \n",
       "2315                    0.173414                    0.081395   \n",
       "34892                   0.092315                    0.032419   \n",
       "13561                   0.099175                    0.058563   \n",
       "2270                    0.106453                    0.045662   \n",
       "38019                   0.185725                    0.042339   \n",
       "\n",
       "       global_rate_negative_words  rate_positive_words  rate_negative_words  \\\n",
       "8543                     0.013953             0.785714             0.214286   \n",
       "13479                    0.005464             0.833333             0.166667   \n",
       "17500                    0.010363             0.666667             0.333333   \n",
       "1445                     0.020408             0.743590             0.256410   \n",
       "14432                    0.010050             0.833333             0.166667   \n",
       "2315                     0.000000             1.000000             0.000000   \n",
       "34892                    0.022444             0.590909             0.409091   \n",
       "13561                    0.034605             0.628571             0.371429   \n",
       "2270                     0.009132             0.833333             0.166667   \n",
       "38019                    0.012097             0.777778             0.222222   \n",
       "\n",
       "       avg_positive_polarity  min_positive_polarity  max_positive_polarity  \\\n",
       "8543                0.383117               0.200000                   0.90   \n",
       "13479               0.520000               0.100000                   0.80   \n",
       "17500               0.237500               0.100000                   0.35   \n",
       "1445                0.384834               0.100000                   1.00   \n",
       "14432               0.364432               0.050000                   0.80   \n",
       "2315                0.198187               0.033333                   0.50   \n",
       "34892               0.485897               0.100000                   1.00   \n",
       "13561               0.382165               0.062500                   1.00   \n",
       "2270                0.264035               0.136364                   0.50   \n",
       "38019               0.376582               0.050000                   1.00   \n",
       "\n",
       "       avg_negative_polarity  min_negative_polarity  max_negative_polarity  \\\n",
       "8543               -0.508333                 -0.875                 -0.250   \n",
       "13479              -0.600000                 -0.600                 -0.600   \n",
       "17500              -0.150000                 -0.200                 -0.100   \n",
       "1445               -0.339444                 -0.800                 -0.050   \n",
       "14432              -0.244444                 -0.700                 -0.050   \n",
       "2315                0.000000                  0.000                  0.000   \n",
       "34892              -0.355247                 -0.900                 -0.100   \n",
       "13561              -0.304879                 -0.700                 -0.050   \n",
       "2270               -0.450000                 -0.600                 -0.300   \n",
       "38019              -0.221991                 -0.400                 -0.075   \n",
       "\n",
       "       title_subjectivity  title_sentiment_polarity  abs_title_subjectivity  \\\n",
       "8543             0.950000                  0.300000                0.450000   \n",
       "13479            0.666667                 -0.700000                0.166667   \n",
       "17500            0.000000                  0.000000                0.500000   \n",
       "1445             0.000000                 -0.200000                0.500000   \n",
       "14432            0.900000                  0.400000                0.400000   \n",
       "2315             0.066667                  0.033333                0.433333   \n",
       "34892            0.000000                  0.000000                0.500000   \n",
       "13561            0.000000                  0.000000                0.500000   \n",
       "2270             0.454545                  0.136364                0.045455   \n",
       "38019            1.000000                  0.500000                0.500000   \n",
       "\n",
       "       abs_title_sentiment_polarity  shares  \n",
       "8543                       0.300000    1900  \n",
       "13479                      0.700000   25100  \n",
       "17500                      0.000000     939  \n",
       "1445                       0.200000     380  \n",
       "14432                      0.400000    1600  \n",
       "2315                       0.033333    4800  \n",
       "34892                      0.000000    1500  \n",
       "13561                      0.000000    2400  \n",
       "2270                       0.136364    1500  \n",
       "38019                      0.500000     957  "
      ]
     },
     "execution_count": 22,
     "metadata": {},
     "output_type": "execute_result"
    }
   ],
   "source": [
    "df_train.head(10)"
   ]
  },
  {
   "cell_type": "markdown",
   "metadata": {},
   "source": [
    "# Evaluating Data using Linear Regression"
   ]
  },
  {
   "cell_type": "markdown",
   "metadata": {},
   "source": [
    "\n",
    "\n",
    "## a. All the features\n",
    "\n",
    "Evaluating the quality of the model on all the features\n",
    "\n",
    "### Training the model with all features\n"
   ]
  },
  {
   "cell_type": "code",
   "execution_count": 218,
   "metadata": {},
   "outputs": [
    {
     "name": "stdout",
     "output_type": "stream",
     "text": [
      "Intercept                         -350.299442\n",
      "n_tokens_title                      79.818573\n",
      "n_tokens_content                     0.608371\n",
      "n_unique_tokens                   3925.777602\n",
      "n_non_stop_words                 -1580.075084\n",
      "n_non_stop_unique_tokens         -1692.035733\n",
      "num_hrefs                           26.566286\n",
      "num_self_hrefs                     -56.702242\n",
      "num_imgs                             8.475340\n",
      "num_videos                           4.796970\n",
      "average_token_length              -572.669340\n",
      "num_keywords                        47.421483\n",
      "data_channel_is_lifestyle        -1089.104347\n",
      "data_channel_is_entertainment    -1201.842877\n",
      "data_channel_is_bus               -815.086471\n",
      "data_channel_is_socmed            -626.961134\n",
      "data_channel_is_tech              -578.256824\n",
      "data_channel_is_world             -555.686434\n",
      "kw_min_min                           2.253979\n",
      "kw_max_min                           0.088990\n",
      "kw_avg_min                          -0.368438\n",
      "kw_min_max                          -0.001984\n",
      "kw_max_max                          -0.000488\n",
      "kw_avg_max                          -0.000752\n",
      "kw_min_avg                          -0.384648\n",
      "kw_max_avg                          -0.204222\n",
      "kw_avg_avg                           1.673241\n",
      "self_reference_min_shares            0.026116\n",
      "self_reference_max_shares            0.005737\n",
      "self_reference_avg_sharess          -0.005702\n",
      "weekday_is_monday                  280.140846\n",
      "weekday_is_tuesday                -248.014845\n",
      "weekday_is_wednesday               -46.928513\n",
      "weekday_is_thursday               -246.862712\n",
      "weekday_is_friday                 -229.894011\n",
      "weekday_is_saturday                277.353196\n",
      "weekday_is_sunday                 -136.093404\n",
      "is_weekend                         141.259792\n",
      "LDA_00                             496.516307\n",
      "LDA_01                            -276.005243\n",
      "LDA_02                            -737.108053\n",
      "LDA_03                              95.706728\n",
      "LDA_04                              71.772160\n",
      "global_subjectivity               2439.470236\n",
      "global_sentiment_polarity          735.044503\n",
      "global_rate_positive_words      -13908.186679\n",
      "global_rate_negative_words        1317.435969\n",
      "rate_positive_words               2124.231172\n",
      "rate_negative_words               2057.971041\n",
      "avg_positive_polarity            -1632.259876\n",
      "min_positive_polarity            -1981.236316\n",
      "max_positive_polarity              346.289781\n",
      "avg_negative_polarity            -1669.850234\n",
      "min_negative_polarity              115.220658\n",
      "max_negative_polarity             -210.526776\n",
      "title_subjectivity                -100.036323\n",
      "title_sentiment_polarity           139.894225\n",
      "abs_title_subjectivity             509.403288\n",
      "abs_title_sentiment_polarity       682.662938\n",
      "dtype: float64\n"
     ]
    }
   ],
   "source": [
    "#Import statsmodels package for training a linear regression model.\n",
    "import statsmodels.formula.api as sm\n",
    "\n",
    "# The formula specifies the target feature and the descriptive features used for training the \n",
    "# linear regression model.\n",
    "# We first train a simple linear regression with only one descriptive feature (Size).\n",
    "# For training the model we call the method fit() on the given data stored in our df dataframe.\n",
    "lm_a = sm.ols(formula=\"shares ~ n_tokens_title+n_tokens_content+n_unique_tokens+n_non_stop_words+n_non_stop_unique_tokens+num_hrefs+num_self_hrefs+num_imgs+num_videos+average_token_length+num_keywords+data_channel_is_lifestyle+data_channel_is_entertainment+data_channel_is_bus+data_channel_is_socmed+data_channel_is_tech+data_channel_is_world+kw_min_min+kw_max_min+kw_avg_min+kw_min_max+kw_max_max+kw_avg_max+kw_min_avg+kw_max_avg+kw_avg_avg+self_reference_min_shares+self_reference_max_shares+self_reference_avg_sharess+weekday_is_monday+weekday_is_tuesday+weekday_is_wednesday+weekday_is_thursday+weekday_is_friday+weekday_is_saturday+weekday_is_sunday+is_weekend+LDA_00+LDA_01+LDA_02+LDA_03+LDA_04+global_subjectivity+global_sentiment_polarity+global_rate_positive_words+global_rate_negative_words+rate_positive_words+rate_negative_words+avg_positive_polarity+min_positive_polarity+max_positive_polarity+avg_negative_polarity+min_negative_polarity+max_negative_polarity+title_subjectivity+title_sentiment_polarity+abs_title_subjectivity+abs_title_sentiment_polarity\", data=df).fit()\n",
    "# Print the model weights/parameters\n",
    "print(lm_a.params)"
   ]
  },
  {
   "cell_type": "markdown",
   "metadata": {},
   "source": [
    "### Evaluating the quality of the model on all data (p-values, R-squared)¶"
   ]
  },
  {
   "cell_type": "code",
   "execution_count": 57,
   "metadata": {},
   "outputs": [
    {
     "name": "stdout",
     "output_type": "stream",
     "text": [
      "                            OLS Regression Results                            \n",
      "==============================================================================\n",
      "Dep. Variable:                 shares   R-squared:                       0.023\n",
      "Model:                            OLS   Adj. R-squared:                  0.021\n",
      "Method:                 Least Squares   F-statistic:                     16.35\n",
      "Date:                Mon, 30 Apr 2018   Prob (F-statistic):          5.91e-151\n",
      "Time:                        11:42:50   Log-Likelihood:            -4.1405e+05\n",
      "No. Observations:               38463   AIC:                         8.282e+05\n",
      "Df Residuals:                   38407   BIC:                         8.287e+05\n",
      "Df Model:                          55                                         \n",
      "Covariance Type:            nonrobust                                         \n",
      "=================================================================================================\n",
      "                                    coef    std err          t      P>|t|      [0.025      0.975]\n",
      "-------------------------------------------------------------------------------------------------\n",
      "Intercept                      -350.2994   4283.654     -0.082      0.935   -8746.371    8045.772\n",
      "n_tokens_title                   79.8186     29.008      2.752      0.006      22.962     136.676\n",
      "n_tokens_content                  0.6084      0.223      2.726      0.006       0.171       1.046\n",
      "n_unique_tokens                3925.7776   1917.809      2.047      0.041     166.822    7684.733\n",
      "n_non_stop_words              -1580.0751    647.933     -2.439      0.015   -2850.041    -310.109\n",
      "n_non_stop_unique_tokens      -1692.0357   1629.140     -1.039      0.299   -4885.192    1501.120\n",
      "num_hrefs                        26.5663      6.689      3.972      0.000      13.456      39.677\n",
      "num_self_hrefs                  -56.7022     17.771     -3.191      0.001     -91.534     -21.871\n",
      "num_imgs                          8.4753      9.224      0.919      0.358      -9.604      26.554\n",
      "num_videos                        4.7970     15.782      0.304      0.761     -26.137      35.731\n",
      "average_token_length           -572.6693    242.612     -2.360      0.018   -1048.195     -97.144\n",
      "num_keywords                     47.4215     37.459      1.266      0.206     -26.000     120.843\n",
      "data_channel_is_lifestyle     -1089.1043    399.872     -2.724      0.006   -1872.863    -305.346\n",
      "data_channel_is_entertainment -1201.8429    263.751     -4.557      0.000   -1718.801    -684.885\n",
      "data_channel_is_bus            -815.0865    388.262     -2.099      0.036   -1576.091     -54.082\n",
      "data_channel_is_socmed         -626.9611    376.842     -1.664      0.096   -1365.581     111.659\n",
      "data_channel_is_tech           -578.2568    376.982     -1.534      0.125   -1317.151     160.637\n",
      "data_channel_is_world          -555.6864    384.465     -1.445      0.148   -1309.248     197.875\n",
      "kw_min_min                        2.2540      1.624      1.388      0.165      -0.929       5.437\n",
      "kw_max_min                        0.0890      0.050      1.764      0.078      -0.010       0.188\n",
      "kw_avg_min                       -0.3684      0.309     -1.193      0.233      -0.974       0.237\n",
      "kw_min_max                       -0.0020      0.001     -1.640      0.101      -0.004       0.000\n",
      "kw_max_max                       -0.0005      0.001     -0.841      0.400      -0.002       0.001\n",
      "kw_avg_max                       -0.0008      0.001     -0.892      0.372      -0.002       0.001\n",
      "kw_min_avg                       -0.3846      0.077     -4.998      0.000      -0.535      -0.234\n",
      "kw_max_avg                       -0.2042      0.026     -7.962      0.000      -0.254      -0.154\n",
      "kw_avg_avg                        1.6732      0.146     11.495      0.000       1.388       1.959\n",
      "self_reference_min_shares         0.0261      0.007      3.482      0.000       0.011       0.041\n",
      "self_reference_max_shares         0.0057      0.004      1.410      0.159      -0.002       0.014\n",
      "self_reference_avg_sharess       -0.0057      0.010     -0.548      0.584      -0.026       0.015\n",
      "weekday_is_monday               280.1408    766.221      0.366      0.715   -1221.672    1781.954\n",
      "weekday_is_tuesday             -248.0148    764.860     -0.324      0.746   -1747.160    1251.130\n",
      "weekday_is_wednesday            -46.9285    766.483     -0.061      0.951   -1549.255    1455.398\n",
      "weekday_is_thursday            -246.8627    766.679     -0.322      0.747   -1749.573    1255.848\n",
      "weekday_is_friday              -229.8940    768.082     -0.299      0.765   -1735.355    1275.567\n",
      "weekday_is_saturday             277.3532    305.881      0.907      0.365    -322.182     876.889\n",
      "weekday_is_sunday              -136.0934    303.376     -0.449      0.654    -730.719     458.532\n",
      "is_weekend                      141.2598    515.499      0.274      0.784    -869.132    1151.652\n",
      "LDA_00                          496.5163    925.699      0.536      0.592   -1317.878    2310.910\n",
      "LDA_01                         -276.0052    907.569     -0.304      0.761   -2054.864    1502.854\n",
      "LDA_02                         -737.1081    920.824     -0.800      0.423   -2541.946    1067.730\n",
      "LDA_03                           95.7067    893.037      0.107      0.915   -1654.668    1846.081\n",
      "LDA_04                           71.7722    909.965      0.079      0.937   -1711.783    1855.327\n",
      "global_subjectivity            2439.4702    849.154      2.873      0.004     775.106    4103.835\n",
      "global_sentiment_polarity       735.0445   1662.263      0.442      0.658   -2523.034    3993.123\n",
      "global_rate_positive_words    -1.391e+04   7144.225     -1.947      0.052   -2.79e+04      94.678\n",
      "global_rate_negative_words     1317.4360   1.36e+04      0.097      0.923   -2.54e+04     2.8e+04\n",
      "rate_positive_words            2124.2312   5756.863      0.369      0.712   -9159.368    1.34e+04\n",
      "rate_negative_words            2057.9710   5802.502      0.355      0.723   -9315.082    1.34e+04\n",
      "avg_positive_polarity         -1632.2599   1362.217     -1.198      0.231   -4302.241    1037.721\n",
      "min_positive_polarity         -1981.2363   1140.547     -1.737      0.082   -4216.739     254.266\n",
      "max_positive_polarity           346.2898    429.653      0.806      0.420    -495.841    1188.420\n",
      "avg_negative_polarity         -1669.8502   1254.786     -1.331      0.183   -4129.262     789.562\n",
      "min_negative_polarity           115.2207    457.415      0.252      0.801    -781.324    1011.765\n",
      "max_negative_polarity          -210.5268   1043.191     -0.202      0.840   -2255.209    1834.155\n",
      "title_subjectivity             -100.0363    277.978     -0.360      0.719    -644.879     444.807\n",
      "title_sentiment_polarity        139.8942    254.996      0.549      0.583    -359.904     639.692\n",
      "abs_title_subjectivity          509.4033    369.585      1.378      0.168    -214.993    1233.800\n",
      "abs_title_sentiment_polarity    682.6629    401.875      1.699      0.089    -105.023    1470.349\n",
      "==============================================================================\n",
      "Omnibus:                   106659.721   Durbin-Watson:                   1.998\n",
      "Prob(Omnibus):                  0.000   Jarque-Bera (JB):       6172873195.191\n",
      "Skew:                          35.491   Prob(JB):                         0.00\n",
      "Kurtosis:                    1964.298   Cond. No.                     1.04e+16\n",
      "==============================================================================\n",
      "\n",
      "Warnings:\n",
      "[1] Standard Errors assume that the covariance matrix of the errors is correctly specified.\n",
      "[2] The smallest eigenvalue is 2.41e-16. This might indicate that there are\n",
      "strong multicollinearity problems or that the design matrix is singular.\n"
     ]
    }
   ],
   "source": [
    "print(lm_a.summary())"
   ]
  },
  {
   "cell_type": "markdown",
   "metadata": {},
   "source": [
    "### Evaluating the model on training data"
   ]
  },
  {
   "cell_type": "code",
   "execution_count": 58,
   "metadata": {},
   "outputs": [
    {
     "data": {
      "text/plain": [
       "8543     1555.805495\n",
       "13479    8892.236930\n",
       "17500    2659.156704\n",
       "1445     2484.121981\n",
       "14432    2249.442951\n",
       "dtype: float64"
      ]
     },
     "execution_count": 58,
     "metadata": {},
     "output_type": "execute_result"
    }
   ],
   "source": [
    "predictions_train_sample = lm_a.predict(df_train)\n",
    "predictions_train_sample.head(5)"
   ]
  },
  {
   "cell_type": "code",
   "execution_count": 59,
   "metadata": {},
   "outputs": [
    {
     "data": {
      "text/plain": [
       "count    26924.000000\n",
       "mean      3353.851535\n",
       "std       1765.466251\n",
       "min      -1749.240619\n",
       "25%       2203.677273\n",
       "50%       3007.151713\n",
       "75%       4105.520204\n",
       "max      29899.105904\n",
       "dtype: float64"
      ]
     },
     "execution_count": 59,
     "metadata": {},
     "output_type": "execute_result"
    }
   ],
   "source": [
    "predictions_train_sample.describe()"
   ]
  },
  {
   "cell_type": "code",
   "execution_count": 61,
   "metadata": {},
   "outputs": [
    {
     "data": {
      "text/plain": [
       "3353.8515354308806"
      ]
     },
     "execution_count": 61,
     "metadata": {},
     "output_type": "execute_result"
    }
   ],
   "source": [
    "#prediction of the trained sample\n",
    "predictions_train_sample.mean()"
   ]
  },
  {
   "cell_type": "markdown",
   "metadata": {},
   "source": [
    "setting up the threshold value to mean and then evaluating the model"
   ]
  },
  {
   "cell_type": "code",
   "execution_count": 62,
   "metadata": {},
   "outputs": [
    {
     "data": {
      "text/plain": [
       "0    16107\n",
       "1    10817\n",
       "dtype: int64"
      ]
     },
     "execution_count": 62,
     "metadata": {},
     "output_type": "execute_result"
    }
   ],
   "source": [
    "predictions_train_sample = predictions_train_sample.apply(lambda res: 1 if res > predictions_train_sample.mean()  else 0)\n",
    "predictions_train_sample.value_counts()"
   ]
  },
  {
   "cell_type": "code",
   "execution_count": 63,
   "metadata": {},
   "outputs": [
    {
     "data": {
      "text/plain": [
       "3321.0465012628138"
      ]
     },
     "execution_count": 63,
     "metadata": {},
     "output_type": "execute_result"
    }
   ],
   "source": [
    "df_train['shares'].mean()"
   ]
  },
  {
   "cell_type": "code",
   "execution_count": 64,
   "metadata": {},
   "outputs": [
    {
     "name": "stderr",
     "output_type": "stream",
     "text": [
      "/Users/Tejaswis/anaconda3/envs/comp47350py36/lib/python3.6/site-packages/ipykernel_launcher.py:1: SettingWithCopyWarning: \n",
      "A value is trying to be set on a copy of a slice from a DataFrame.\n",
      "Try using .loc[row_indexer,col_indexer] = value instead\n",
      "\n",
      "See the caveats in the documentation: http://pandas.pydata.org/pandas-docs/stable/indexing.html#indexing-view-versus-copy\n",
      "  \"\"\"Entry point for launching an IPython kernel.\n"
     ]
    },
    {
     "data": {
      "text/plain": [
       "0    21480\n",
       "1     5444\n",
       "Name: shares_binary, dtype: int64"
      ]
     },
     "execution_count": 64,
     "metadata": {},
     "output_type": "execute_result"
    }
   ],
   "source": [
    "df_train['shares_binary'] = np.where(df_train['shares'] >= df_train['shares'].mean(), 1, 0)\n",
    "df_train['shares_binary'].value_counts()"
   ]
  },
  {
   "cell_type": "code",
   "execution_count": 65,
   "metadata": {},
   "outputs": [
    {
     "name": "stdout",
     "output_type": "stream",
     "text": [
      "Descriptive features:\n",
      " 8543     0\n",
      "13479    1\n",
      "17500    0\n",
      "1445     0\n",
      "dtype: int64\n",
      "\n",
      "Target feature:\n",
      " 8543     0\n",
      "13479    1\n",
      "17500    0\n",
      "1445     0\n",
      "Name: shares_binary, dtype: int64\n"
     ]
    }
   ],
   "source": [
    "# Prepare the descriptive features\n",
    "x1 = predictions_train_sample\n",
    "y1 = df_train.shares_binary\n",
    "print(\"Descriptive features:\\n\", x1.head(4))\n",
    "print(\"\\nTarget feature:\\n\", y1.head(4))"
   ]
  },
  {
   "cell_type": "code",
   "execution_count": 66,
   "metadata": {},
   "outputs": [
    {
     "name": "stdout",
     "output_type": "stream",
     "text": [
      "Accuracy:  0.6464492645966424\n",
      "Confusion matrix: \n",
      " [[14034  7446]\n",
      " [ 2073  3371]]\n",
      "Classification report:\n",
      "               precision    recall  f1-score   support\n",
      "\n",
      "          0       0.87      0.65      0.75     21480\n",
      "          1       0.31      0.62      0.41      5444\n",
      "\n",
      "avg / total       0.76      0.65      0.68     26924\n",
      "\n"
     ]
    }
   ],
   "source": [
    "# Some more evaluation metrics for training data\n",
    "print(\"Accuracy: \", metrics.accuracy_score(y1, x1))\n",
    "print(\"Confusion matrix: \\n\", metrics.confusion_matrix(y1, x1))\n",
    "print(\"Classification report:\\n \", metrics.classification_report(y1, x1))"
   ]
  },
  {
   "cell_type": "markdown",
   "metadata": {},
   "source": [
    "The accuracy of the predictions can be observed as 0.64 when trained the model with all the features"
   ]
  },
  {
   "cell_type": "markdown",
   "metadata": {},
   "source": [
    "### Evaluating the model on train data by setting third quartile value as the threshold value "
   ]
  },
  {
   "cell_type": "code",
   "execution_count": 67,
   "metadata": {},
   "outputs": [
    {
     "data": {
      "text/plain": [
       "8543     1555.805495\n",
       "13479    8892.236930\n",
       "17500    2659.156704\n",
       "1445     2484.121981\n",
       "14432    2249.442951\n",
       "dtype: float64"
      ]
     },
     "execution_count": 67,
     "metadata": {},
     "output_type": "execute_result"
    }
   ],
   "source": [
    "predictions_train_s1 = lm_a.predict(df_train)\n",
    "predictions_train_s1.head(5)\n"
   ]
  },
  {
   "cell_type": "code",
   "execution_count": 68,
   "metadata": {},
   "outputs": [
    {
     "data": {
      "text/plain": [
       "4105.52020362979"
      ]
     },
     "execution_count": 68,
     "metadata": {},
     "output_type": "execute_result"
    }
   ],
   "source": [
    "q3 = predictions_train_s1.quantile(q=0.75,interpolation='linear')\n",
    "q3"
   ]
  },
  {
   "cell_type": "code",
   "execution_count": 69,
   "metadata": {},
   "outputs": [
    {
     "data": {
      "text/plain": [
       "0    20193\n",
       "1     6731\n",
       "dtype: int64"
      ]
     },
     "execution_count": 69,
     "metadata": {},
     "output_type": "execute_result"
    }
   ],
   "source": [
    "predictions_train_s1 = predictions_train_s1.apply(lambda res: 1 if res > q3  else 0)\n",
    "predictions_train_s1.value_counts()\n"
   ]
  },
  {
   "cell_type": "code",
   "execution_count": 70,
   "metadata": {},
   "outputs": [
    {
     "name": "stderr",
     "output_type": "stream",
     "text": [
      "/Users/Tejaswis/anaconda3/envs/comp47350py36/lib/python3.6/site-packages/ipykernel_launcher.py:1: SettingWithCopyWarning: \n",
      "A value is trying to be set on a copy of a slice from a DataFrame.\n",
      "Try using .loc[row_indexer,col_indexer] = value instead\n",
      "\n",
      "See the caveats in the documentation: http://pandas.pydata.org/pandas-docs/stable/indexing.html#indexing-view-versus-copy\n",
      "  \"\"\"Entry point for launching an IPython kernel.\n"
     ]
    },
    {
     "data": {
      "text/plain": [
       "0    22663\n",
       "1     4261\n",
       "Name: shares_binary, dtype: int64"
      ]
     },
     "execution_count": 70,
     "metadata": {},
     "output_type": "execute_result"
    }
   ],
   "source": [
    "df_train['shares_binary'] = np.where(df_train['shares'] >= q3, 1, 0)\n",
    "df_train['shares_binary'].value_counts()"
   ]
  },
  {
   "cell_type": "code",
   "execution_count": 71,
   "metadata": {},
   "outputs": [
    {
     "name": "stdout",
     "output_type": "stream",
     "text": [
      "Descriptive features:\n",
      " 8543     0\n",
      "13479    1\n",
      "17500    0\n",
      "1445     0\n",
      "dtype: int64\n",
      "\n",
      "Target feature:\n",
      " 8543     0\n",
      "13479    1\n",
      "17500    0\n",
      "1445     0\n",
      "Name: shares_binary, dtype: int64\n"
     ]
    }
   ],
   "source": [
    "# Prepare the descriptive features\n",
    "x1 = predictions_train_s1\n",
    "y1 = df_train.shares_binary\n",
    "print(\"Descriptive features:\\n\", x1.head(4))\n",
    "print(\"\\nTarget feature:\\n\", y1.head(4))"
   ]
  },
  {
   "cell_type": "code",
   "execution_count": 72,
   "metadata": {},
   "outputs": [
    {
     "name": "stdout",
     "output_type": "stream",
     "text": [
      "Accuracy:  0.7352547912642995\n",
      "Confusion matrix: \n",
      " [[17864  4799]\n",
      " [ 2329  1932]]\n",
      "Classification report:\n",
      "               precision    recall  f1-score   support\n",
      "\n",
      "          0       0.88      0.79      0.83     22663\n",
      "          1       0.29      0.45      0.35      4261\n",
      "\n",
      "avg / total       0.79      0.74      0.76     26924\n",
      "\n"
     ]
    }
   ],
   "source": [
    "#Some more evaluation metrics for training data\n",
    "print(\"Accuracy: \", metrics.accuracy_score(y1, x1))\n",
    "print(\"Confusion matrix: \\n\", metrics.confusion_matrix(y1, x1))\n",
    "print(\"Classification report:\\n \", metrics.classification_report(y1, x1))"
   ]
  },
  {
   "cell_type": "markdown",
   "metadata": {},
   "source": [
    "Experimenting with threshold values for our classification of the target feature. Rather than dividing into below and above average popularity,divided it into viral and non-viral categories. For this threshold is set to classify the top 25th percentile as ‘popular’, and the rest as not popular. This did improve the performance of the model somewhat, giving an accuracy of .73."
   ]
  },
  {
   "cell_type": "markdown",
   "metadata": {},
   "source": [
    "### Evaluating the model on test data"
   ]
  },
  {
   "cell_type": "code",
   "execution_count": 906,
   "metadata": {},
   "outputs": [
    {
     "data": {
      "text/plain": [
       "(11894, 61)"
      ]
     },
     "execution_count": 906,
     "metadata": {},
     "output_type": "execute_result"
    }
   ],
   "source": [
    "df_test.shape"
   ]
  },
  {
   "cell_type": "code",
   "execution_count": 907,
   "metadata": {},
   "outputs": [
    {
     "data": {
      "text/plain": [
       "37405    3606.530868\n",
       "6314     2661.771314\n",
       "12711    2815.793269\n",
       "4219     5407.401647\n",
       "7592     5282.194757\n",
       "dtype: float64"
      ]
     },
     "execution_count": 907,
     "metadata": {},
     "output_type": "execute_result"
    }
   ],
   "source": [
    "predictions_test_sample = lm_a.predict(df_test)\n",
    "predictions_test_sample.head(5)"
   ]
  },
  {
   "cell_type": "code",
   "execution_count": 908,
   "metadata": {
    "collapsed": true
   },
   "outputs": [],
   "source": [
    "predictions_test_s1= lm_a.predict(df_test)"
   ]
  },
  {
   "cell_type": "code",
   "execution_count": 909,
   "metadata": {},
   "outputs": [
    {
     "data": {
      "text/plain": [
       "count    11894.000000\n",
       "mean      3422.319726\n",
       "std       1787.204740\n",
       "min      -1703.951955\n",
       "25%       2236.142461\n",
       "50%       3065.446139\n",
       "75%       4218.904002\n",
       "max      30214.594129\n",
       "dtype: float64"
      ]
     },
     "execution_count": 909,
     "metadata": {},
     "output_type": "execute_result"
    }
   ],
   "source": [
    "predictions_test_sample.describe()"
   ]
  },
  {
   "cell_type": "code",
   "execution_count": 910,
   "metadata": {},
   "outputs": [
    {
     "data": {
      "text/plain": [
       "0    7118\n",
       "1    4776\n",
       "dtype: int64"
      ]
     },
     "execution_count": 910,
     "metadata": {},
     "output_type": "execute_result"
    }
   ],
   "source": [
    "predictions_test_sample = predictions_test_sample.apply(lambda res: 1 if res > predictions_test_sample.mean() else 0)\n",
    "predictions_test_sample.value_counts()"
   ]
  },
  {
   "cell_type": "code",
   "execution_count": 911,
   "metadata": {},
   "outputs": [
    {
     "name": "stderr",
     "output_type": "stream",
     "text": [
      "C:\\Users\\anjal\\anaconda3\\lib\\site-packages\\ipykernel_launcher.py:1: SettingWithCopyWarning: \n",
      "A value is trying to be set on a copy of a slice from a DataFrame.\n",
      "Try using .loc[row_indexer,col_indexer] = value instead\n",
      "\n",
      "See the caveats in the documentation: http://pandas.pydata.org/pandas-docs/stable/indexing.html#indexing-view-versus-copy\n",
      "  \"\"\"Entry point for launching an IPython kernel.\n"
     ]
    },
    {
     "data": {
      "text/plain": [
       "0    9499\n",
       "1    2395\n",
       "Name: shares_binary, dtype: int64"
      ]
     },
     "execution_count": 911,
     "metadata": {},
     "output_type": "execute_result"
    }
   ],
   "source": [
    "df_test['shares_binary'] = np.where(df_test['shares'] >=df_test['shares'].mean(), 1, 0)\n",
    "df_test['shares_binary'].value_counts()"
   ]
  },
  {
   "cell_type": "code",
   "execution_count": 912,
   "metadata": {},
   "outputs": [
    {
     "name": "stdout",
     "output_type": "stream",
     "text": [
      "Descriptive features:\n",
      " 37405    1\n",
      "6314     0\n",
      "12711    0\n",
      "4219     1\n",
      "dtype: int64\n",
      "\n",
      "Target feature:\n",
      " 37405    0\n",
      "6314     0\n",
      "12711    0\n",
      "4219     0\n",
      "Name: shares_binary, dtype: int32\n"
     ]
    }
   ],
   "source": [
    "# Prepare the descriptive features\n",
    "x1 = predictions_test_sample\n",
    "y1 = df_test.shares_binary\n",
    "print(\"Descriptive features:\\n\", x1.head(4))\n",
    "print(\"\\nTarget feature:\\n\", y1.head(4))"
   ]
  },
  {
   "cell_type": "code",
   "execution_count": 913,
   "metadata": {},
   "outputs": [
    {
     "name": "stdout",
     "output_type": "stream",
     "text": [
      "Accuracy:  0.6442744240793677\n",
      "Confusion matrix: \n",
      " [[6193 3306]\n",
      " [ 925 1470]]\n",
      "Classification report:\n",
      "               precision    recall  f1-score   support\n",
      "\n",
      "          0       0.87      0.65      0.75      9499\n",
      "          1       0.31      0.61      0.41      2395\n",
      "\n",
      "avg / total       0.76      0.64      0.68     11894\n",
      "\n"
     ]
    }
   ],
   "source": [
    "# Some more evaluation metrics for test data\n",
    "print(\"Accuracy: \", metrics.accuracy_score(y1, x1))\n",
    "print(\"Confusion matrix: \\n\", metrics.confusion_matrix(y1, x1))\n",
    "print(\"Classification report:\\n \", metrics.classification_report(y1, x1))"
   ]
  },
  {
   "cell_type": "markdown",
   "metadata": {},
   "source": [
    "### Evaluating the model on test data by setting third quartile value as the threshold value "
   ]
  },
  {
   "cell_type": "code",
   "execution_count": 914,
   "metadata": {},
   "outputs": [
    {
     "data": {
      "text/plain": [
       "4218.904001881543"
      ]
     },
     "execution_count": 914,
     "metadata": {},
     "output_type": "execute_result"
    }
   ],
   "source": [
    "q3 = predictions_test_s1.quantile(q=0.75,interpolation='linear')\n",
    "q3"
   ]
  },
  {
   "cell_type": "code",
   "execution_count": 915,
   "metadata": {},
   "outputs": [
    {
     "data": {
      "text/plain": [
       "0    8920\n",
       "1    2974\n",
       "dtype: int64"
      ]
     },
     "execution_count": 915,
     "metadata": {},
     "output_type": "execute_result"
    }
   ],
   "source": [
    "predictions_test_s1 = predictions_test_s1.apply(lambda res: 1 if res > q3  else 0)\n",
    "predictions_test_s1.value_counts()"
   ]
  },
  {
   "cell_type": "code",
   "execution_count": 916,
   "metadata": {},
   "outputs": [
    {
     "name": "stderr",
     "output_type": "stream",
     "text": [
      "C:\\Users\\anjal\\anaconda3\\lib\\site-packages\\ipykernel_launcher.py:1: SettingWithCopyWarning: \n",
      "A value is trying to be set on a copy of a slice from a DataFrame.\n",
      "Try using .loc[row_indexer,col_indexer] = value instead\n",
      "\n",
      "See the caveats in the documentation: http://pandas.pydata.org/pandas-docs/stable/indexing.html#indexing-view-versus-copy\n",
      "  \"\"\"Entry point for launching an IPython kernel.\n"
     ]
    },
    {
     "data": {
      "text/plain": [
       "0    9992\n",
       "1    1902\n",
       "Name: shares_binary, dtype: int64"
      ]
     },
     "execution_count": 916,
     "metadata": {},
     "output_type": "execute_result"
    }
   ],
   "source": [
    "df_test['shares_binary'] = np.where(df_test['shares'] >= q3, 1, 0)\n",
    "df_test['shares_binary'].value_counts()"
   ]
  },
  {
   "cell_type": "code",
   "execution_count": 917,
   "metadata": {},
   "outputs": [
    {
     "name": "stdout",
     "output_type": "stream",
     "text": [
      "Descriptive features:\n",
      " 37405    0\n",
      "6314     0\n",
      "12711    0\n",
      "4219     1\n",
      "dtype: int64\n",
      "\n",
      "Target feature:\n",
      " 37405    0\n",
      "6314     0\n",
      "12711    0\n",
      "4219     0\n",
      "Name: shares_binary, dtype: int32\n"
     ]
    }
   ],
   "source": [
    "# Prepare the descriptive features\n",
    "x1 = predictions_test_s1\n",
    "y1 = df_test.shares_binary\n",
    "print(\"Descriptive features:\\n\", x1.head(4))\n",
    "print(\"\\nTarget feature:\\n\", y1.head(4))"
   ]
  },
  {
   "cell_type": "code",
   "execution_count": 918,
   "metadata": {},
   "outputs": [
    {
     "name": "stdout",
     "output_type": "stream",
     "text": [
      "Accuracy:  0.7354968891878257\n",
      "Confusion matrix: \n",
      " [[7883 2109]\n",
      " [1037  865]]\n",
      "Classification report:\n",
      "               precision    recall  f1-score   support\n",
      "\n",
      "          0       0.88      0.79      0.83      9992\n",
      "          1       0.29      0.45      0.35      1902\n",
      "\n",
      "avg / total       0.79      0.74      0.76     11894\n",
      "\n"
     ]
    }
   ],
   "source": [
    "\n",
    "#Some more evaluation metrics for training data\n",
    "print(\"Accuracy: \", metrics.accuracy_score(y1, x1))\n",
    "print(\"Confusion matrix: \\n\", metrics.confusion_matrix(y1, x1))\n",
    "print(\"Classification report:\\n \", metrics.classification_report(y1, x1))"
   ]
  },
  {
   "cell_type": "markdown",
   "metadata": {},
   "source": [
    "Same experiment with this selection of features. When the threshold is set to 3rd quartile it is observed that performance of the model has improved to 0.73."
   ]
  },
  {
   "cell_type": "markdown",
   "metadata": {},
   "source": [
    "## b.Manually selected features\n",
    "\n",
    "### Training manually selected features"
   ]
  },
  {
   "cell_type": "code",
   "execution_count": 74,
   "metadata": {},
   "outputs": [
    {
     "name": "stdout",
     "output_type": "stream",
     "text": [
      "Intercept                      716.018466\n",
      "kw_avg_avg                       0.668974\n",
      "LDA_03                        1371.843778\n",
      "LDA_02                       -1184.159483\n",
      "self_reference_avg_sharess       0.020063\n",
      "data_channel_is_world          111.187295\n",
      "num_hrefs                       33.021886\n",
      "dtype: float64\n"
     ]
    }
   ],
   "source": [
    "#Import statsmodels package for training a linear regression model.\n",
    "import statsmodels.formula.api as sm\n",
    "\n",
    "# The formula specifies the target feature and the descriptive features used for training the \n",
    "# linear regression model.\n",
    "# We first train a simple linear regression with only one descriptive feature (Size).\n",
    "# For training the model we call the method fit() on the given data stored in our df dataframe.\n",
    "lm_m = sm.ols(formula=\"shares ~  kw_avg_avg + LDA_03 + LDA_02 + self_reference_avg_sharess + data_channel_is_world + num_hrefs\", data=df).fit()\n",
    "# Print the model weights/parameters\n",
    "print(lm_m.params)"
   ]
  },
  {
   "cell_type": "markdown",
   "metadata": {},
   "source": [
    "### Evaluating the r-squared and p values"
   ]
  },
  {
   "cell_type": "code",
   "execution_count": 75,
   "metadata": {},
   "outputs": [
    {
     "name": "stdout",
     "output_type": "stream",
     "text": [
      "                            OLS Regression Results                            \n",
      "==============================================================================\n",
      "Dep. Variable:                 shares   R-squared:                       0.017\n",
      "Model:                            OLS   Adj. R-squared:                  0.016\n",
      "Method:                 Least Squares   F-statistic:                     108.2\n",
      "Date:                Mon, 30 Apr 2018   Prob (F-statistic):          7.33e-136\n",
      "Time:                        11:51:56   Log-Likelihood:            -4.1417e+05\n",
      "No. Observations:               38463   AIC:                         8.284e+05\n",
      "Df Residuals:                   38456   BIC:                         8.284e+05\n",
      "Df Model:                           6                                         \n",
      "Covariance Type:            nonrobust                                         \n",
      "==============================================================================================\n",
      "                                 coef    std err          t      P>|t|      [0.025      0.975]\n",
      "----------------------------------------------------------------------------------------------\n",
      "Intercept                    716.0185    177.552      4.033      0.000     368.012    1064.025\n",
      "kw_avg_avg                     0.6690      0.051     13.103      0.000       0.569       0.769\n",
      "LDA_03                      1371.8438    231.247      5.932      0.000     918.594    1825.093\n",
      "LDA_02                     -1184.1595    386.491     -3.064      0.002   -1941.691    -426.628\n",
      "self_reference_avg_sharess     0.0201      0.002      8.268      0.000       0.015       0.025\n",
      "data_channel_is_world        111.1873    261.152      0.426      0.670    -400.676     623.051\n",
      "num_hrefs                     33.0219      5.270      6.266      0.000      22.693      43.351\n",
      "==============================================================================\n",
      "Omnibus:                   106508.030   Durbin-Watson:                   1.999\n",
      "Prob(Omnibus):                  0.000   Jarque-Bera (JB):       6091797016.498\n",
      "Skew:                          35.359   Prob(JB):                         0.00\n",
      "Kurtosis:                    1951.368   Cond. No.                     1.96e+05\n",
      "==============================================================================\n",
      "\n",
      "Warnings:\n",
      "[1] Standard Errors assume that the covariance matrix of the errors is correctly specified.\n",
      "[2] The condition number is large, 1.96e+05. This might indicate that there are\n",
      "strong multicollinearity or other numerical problems.\n"
     ]
    }
   ],
   "source": [
    "print(lm_m.summary())"
   ]
  },
  {
   "cell_type": "markdown",
   "metadata": {},
   "source": [
    "### Evaluating the model on training data"
   ]
  },
  {
   "cell_type": "code",
   "execution_count": 76,
   "metadata": {},
   "outputs": [
    {
     "data": {
      "text/plain": [
       "8543     1584.176848\n",
       "13479    7301.296250\n",
       "17500    2525.570161\n",
       "1445     2421.594910\n",
       "14432    2349.973837\n",
       "dtype: float64"
      ]
     },
     "execution_count": 76,
     "metadata": {},
     "output_type": "execute_result"
    }
   ],
   "source": [
    "predictions_train_sample = lm_m.predict(df_train)\n",
    "predictions_train_sample.head(5)"
   ]
  },
  {
   "cell_type": "code",
   "execution_count": 77,
   "metadata": {},
   "outputs": [
    {
     "data": {
      "text/plain": [
       "count    26924.000000\n",
       "mean      3355.465885\n",
       "std       1493.933012\n",
       "min        149.831871\n",
       "25%       2424.756914\n",
       "50%       3026.907683\n",
       "75%       3976.855784\n",
       "max      30797.141136\n",
       "dtype: float64"
      ]
     },
     "execution_count": 77,
     "metadata": {},
     "output_type": "execute_result"
    }
   ],
   "source": [
    "predictions_train_sample.describe()"
   ]
  },
  {
   "cell_type": "code",
   "execution_count": 78,
   "metadata": {},
   "outputs": [
    {
     "data": {
      "text/plain": [
       "3355.4658848367685"
      ]
     },
     "execution_count": 78,
     "metadata": {},
     "output_type": "execute_result"
    }
   ],
   "source": [
    "predictions_train_sample.mean()"
   ]
  },
  {
   "cell_type": "code",
   "execution_count": 79,
   "metadata": {},
   "outputs": [
    {
     "data": {
      "text/plain": [
       "0    16399\n",
       "1    10525\n",
       "dtype: int64"
      ]
     },
     "execution_count": 79,
     "metadata": {},
     "output_type": "execute_result"
    }
   ],
   "source": [
    "predictions_train_sample = predictions_train_sample.apply(lambda res: 1 if res > predictions_train_sample.mean()  else 0)\n",
    "predictions_train_sample.value_counts()"
   ]
  },
  {
   "cell_type": "code",
   "execution_count": 80,
   "metadata": {},
   "outputs": [
    {
     "data": {
      "text/plain": [
       "3321.0465012628138"
      ]
     },
     "execution_count": 80,
     "metadata": {},
     "output_type": "execute_result"
    }
   ],
   "source": [
    "df_train['shares'].mean()"
   ]
  },
  {
   "cell_type": "code",
   "execution_count": 81,
   "metadata": {},
   "outputs": [
    {
     "name": "stderr",
     "output_type": "stream",
     "text": [
      "/Users/Tejaswis/anaconda3/envs/comp47350py36/lib/python3.6/site-packages/ipykernel_launcher.py:1: SettingWithCopyWarning: \n",
      "A value is trying to be set on a copy of a slice from a DataFrame.\n",
      "Try using .loc[row_indexer,col_indexer] = value instead\n",
      "\n",
      "See the caveats in the documentation: http://pandas.pydata.org/pandas-docs/stable/indexing.html#indexing-view-versus-copy\n",
      "  \"\"\"Entry point for launching an IPython kernel.\n"
     ]
    },
    {
     "data": {
      "text/plain": [
       "0    21480\n",
       "1     5444\n",
       "Name: shares_binary, dtype: int64"
      ]
     },
     "execution_count": 81,
     "metadata": {},
     "output_type": "execute_result"
    }
   ],
   "source": [
    "df_train['shares_binary'] = np.where(df_train['shares'] >= df_train['shares'].mean(), 1, 0)\n",
    "df_train['shares_binary'].value_counts()"
   ]
  },
  {
   "cell_type": "code",
   "execution_count": 82,
   "metadata": {},
   "outputs": [
    {
     "name": "stdout",
     "output_type": "stream",
     "text": [
      "Descriptive features:\n",
      " 8543     0\n",
      "13479    1\n",
      "17500    0\n",
      "1445     0\n",
      "dtype: int64\n",
      "\n",
      "Target feature:\n",
      " 8543     0\n",
      "13479    1\n",
      "17500    0\n",
      "1445     0\n",
      "Name: shares_binary, dtype: int64\n"
     ]
    }
   ],
   "source": [
    "# Prepare the descriptive features\n",
    "x1 = predictions_train_sample\n",
    "y1 = df_train.shares_binary\n",
    "print(\"Descriptive features:\\n\", x1.head(4))\n",
    "print(\"\\nTarget feature:\\n\", y1.head(4))"
   ]
  },
  {
   "cell_type": "code",
   "execution_count": 83,
   "metadata": {},
   "outputs": [
    {
     "name": "stdout",
     "output_type": "stream",
     "text": [
      "Accuracy:  0.6379809835091368\n",
      "Confusion matrix: \n",
      " [[14066  7414]\n",
      " [ 2333  3111]]\n",
      "Classification report:\n",
      "               precision    recall  f1-score   support\n",
      "\n",
      "          0       0.86      0.65      0.74     21480\n",
      "          1       0.30      0.57      0.39      5444\n",
      "\n",
      "avg / total       0.74      0.64      0.67     26924\n",
      "\n"
     ]
    }
   ],
   "source": [
    "#Some more evaluation metrics for training data\n",
    "print(\"Accuracy: \", metrics.accuracy_score(y1, x1))\n",
    "print(\"Confusion matrix: \\n\", metrics.confusion_matrix(y1, x1))\n",
    "print(\"Classification report:\\n \", metrics.classification_report(y1, x1))"
   ]
  },
  {
   "cell_type": "markdown",
   "metadata": {},
   "source": [
    "### Evaluating the model on train data by setting third quartile value as the threshold value "
   ]
  },
  {
   "cell_type": "code",
   "execution_count": 84,
   "metadata": {},
   "outputs": [
    {
     "data": {
      "text/plain": [
       "8543     1584.176848\n",
       "13479    7301.296250\n",
       "17500    2525.570161\n",
       "1445     2421.594910\n",
       "14432    2349.973837\n",
       "dtype: float64"
      ]
     },
     "execution_count": 84,
     "metadata": {},
     "output_type": "execute_result"
    }
   ],
   "source": [
    "predictions_train_s2 = lm_m.predict(df_train)\n",
    "predictions_train_s2.head(5)"
   ]
  },
  {
   "cell_type": "code",
   "execution_count": 85,
   "metadata": {},
   "outputs": [
    {
     "data": {
      "text/plain": [
       "3976.85578375863"
      ]
     },
     "execution_count": 85,
     "metadata": {},
     "output_type": "execute_result"
    }
   ],
   "source": [
    "q3 = predictions_train_s2.quantile(q=0.75,interpolation='linear')\n",
    "q3"
   ]
  },
  {
   "cell_type": "code",
   "execution_count": 86,
   "metadata": {},
   "outputs": [
    {
     "data": {
      "text/plain": [
       "0    20193\n",
       "1     6731\n",
       "dtype: int64"
      ]
     },
     "execution_count": 86,
     "metadata": {},
     "output_type": "execute_result"
    }
   ],
   "source": [
    "predictions_train_s2 = predictions_train_s2.apply(lambda res: 1 if res > q3  else 0)\n",
    "predictions_train_s2.value_counts()"
   ]
  },
  {
   "cell_type": "code",
   "execution_count": 87,
   "metadata": {},
   "outputs": [
    {
     "name": "stderr",
     "output_type": "stream",
     "text": [
      "/Users/Tejaswis/anaconda3/envs/comp47350py36/lib/python3.6/site-packages/ipykernel_launcher.py:1: SettingWithCopyWarning: \n",
      "A value is trying to be set on a copy of a slice from a DataFrame.\n",
      "Try using .loc[row_indexer,col_indexer] = value instead\n",
      "\n",
      "See the caveats in the documentation: http://pandas.pydata.org/pandas-docs/stable/indexing.html#indexing-view-versus-copy\n",
      "  \"\"\"Entry point for launching an IPython kernel.\n"
     ]
    },
    {
     "data": {
      "text/plain": [
       "0    22438\n",
       "1     4486\n",
       "Name: shares_binary, dtype: int64"
      ]
     },
     "execution_count": 87,
     "metadata": {},
     "output_type": "execute_result"
    }
   ],
   "source": [
    "df_train['shares_binary'] = np.where(df_train['shares'] >= q3, 1, 0)\n",
    "df_train['shares_binary'].value_counts()"
   ]
  },
  {
   "cell_type": "code",
   "execution_count": 88,
   "metadata": {},
   "outputs": [
    {
     "name": "stdout",
     "output_type": "stream",
     "text": [
      "Descriptive features:\n",
      " 8543     0\n",
      "13479    1\n",
      "17500    0\n",
      "1445     0\n",
      "dtype: int64\n",
      "\n",
      "Target feature:\n",
      " 8543     0\n",
      "13479    1\n",
      "17500    0\n",
      "1445     0\n",
      "Name: shares_binary, dtype: int64\n"
     ]
    }
   ],
   "source": [
    "# Prepare the descriptive features\n",
    "x1 = predictions_train_s2\n",
    "y1 = df_train.shares_binary\n",
    "print(\"Descriptive features:\\n\", x1.head(4))\n",
    "print(\"\\nTarget feature:\\n\", y1.head(4))"
   ]
  },
  {
   "cell_type": "code",
   "execution_count": 89,
   "metadata": {},
   "outputs": [
    {
     "name": "stdout",
     "output_type": "stream",
     "text": [
      "Accuracy:  0.7233323428911008\n",
      "Confusion matrix: \n",
      " [[17591  4847]\n",
      " [ 2602  1884]]\n",
      "Classification report:\n",
      "               precision    recall  f1-score   support\n",
      "\n",
      "          0       0.87      0.78      0.83     22438\n",
      "          1       0.28      0.42      0.34      4486\n",
      "\n",
      "avg / total       0.77      0.72      0.74     26924\n",
      "\n"
     ]
    }
   ],
   "source": [
    "#Some more evaluation metrics for training data\n",
    "print(\"Accuracy: \", metrics.accuracy_score(y1, x1))\n",
    "print(\"Confusion matrix: \\n\", metrics.confusion_matrix(y1, x1))\n",
    "print(\"Classification report:\\n \", metrics.classification_report(y1, x1))"
   ]
  },
  {
   "cell_type": "markdown",
   "metadata": {},
   "source": [
    "### Evaluating the model on test data"
   ]
  },
  {
   "cell_type": "code",
   "execution_count": 90,
   "metadata": {},
   "outputs": [
    {
     "data": {
      "text/plain": [
       "(11539, 60)"
      ]
     },
     "execution_count": 90,
     "metadata": {},
     "output_type": "execute_result"
    }
   ],
   "source": [
    "df_test.shape"
   ]
  },
  {
   "cell_type": "code",
   "execution_count": 91,
   "metadata": {},
   "outputs": [
    {
     "data": {
      "text/plain": [
       "8543     1584.176848\n",
       "13479    7301.296250\n",
       "17500    2525.570161\n",
       "1445     2421.594910\n",
       "14432    2349.973837\n",
       "dtype: float64"
      ]
     },
     "execution_count": 91,
     "metadata": {},
     "output_type": "execute_result"
    }
   ],
   "source": [
    "predictions_test_sample = lm_m.predict(df_test)\n",
    "predictions_test_sample.head(5)"
   ]
  },
  {
   "cell_type": "code",
   "execution_count": 92,
   "metadata": {},
   "outputs": [
    {
     "data": {
      "text/plain": [
       "count    11539.000000\n",
       "mean      3361.998636\n",
       "std       1552.764773\n",
       "min        149.831871\n",
       "25%       2418.996829\n",
       "50%       3026.777831\n",
       "75%       3977.022113\n",
       "max      30797.141136\n",
       "dtype: float64"
      ]
     },
     "execution_count": 92,
     "metadata": {},
     "output_type": "execute_result"
    }
   ],
   "source": [
    "predictions_test_sample.describe()"
   ]
  },
  {
   "cell_type": "code",
   "execution_count": 93,
   "metadata": {},
   "outputs": [
    {
     "data": {
      "text/plain": [
       "0    7066\n",
       "1    4473\n",
       "dtype: int64"
      ]
     },
     "execution_count": 93,
     "metadata": {},
     "output_type": "execute_result"
    }
   ],
   "source": [
    "predictions_test_sample = predictions_test_sample.apply(lambda res: 1 if res > predictions_test_sample.mean() else 0)\n",
    "predictions_test_sample.value_counts()"
   ]
  },
  {
   "cell_type": "code",
   "execution_count": 94,
   "metadata": {},
   "outputs": [
    {
     "name": "stderr",
     "output_type": "stream",
     "text": [
      "/Users/Tejaswis/anaconda3/envs/comp47350py36/lib/python3.6/site-packages/ipykernel_launcher.py:1: SettingWithCopyWarning: \n",
      "A value is trying to be set on a copy of a slice from a DataFrame.\n",
      "Try using .loc[row_indexer,col_indexer] = value instead\n",
      "\n",
      "See the caveats in the documentation: http://pandas.pydata.org/pandas-docs/stable/indexing.html#indexing-view-versus-copy\n",
      "  \"\"\"Entry point for launching an IPython kernel.\n"
     ]
    },
    {
     "data": {
      "text/plain": [
       "0    9215\n",
       "1    2324\n",
       "Name: shares_binary, dtype: int64"
      ]
     },
     "execution_count": 94,
     "metadata": {},
     "output_type": "execute_result"
    }
   ],
   "source": [
    "df_test['shares_binary'] = np.where(df_test['shares'] >=df_test['shares'].mean(), 1, 0)\n",
    "df_test['shares_binary'].value_counts()"
   ]
  },
  {
   "cell_type": "code",
   "execution_count": 95,
   "metadata": {},
   "outputs": [
    {
     "name": "stdout",
     "output_type": "stream",
     "text": [
      "Descriptive features:\n",
      " 8543     0\n",
      "13479    1\n",
      "17500    0\n",
      "1445     0\n",
      "dtype: int64\n",
      "\n",
      "Target feature:\n",
      " 8543     0\n",
      "13479    1\n",
      "17500    0\n",
      "1445     0\n",
      "Name: shares_binary, dtype: int64\n"
     ]
    }
   ],
   "source": [
    "# Prepare the descriptive features\n",
    "x1 = predictions_test_sample\n",
    "y1 = df_test.shares_binary\n",
    "print(\"Descriptive features:\\n\", x1.head(4))\n",
    "print(\"\\nTarget feature:\\n\", y1.head(4))"
   ]
  },
  {
   "cell_type": "code",
   "execution_count": 96,
   "metadata": {},
   "outputs": [
    {
     "name": "stdout",
     "output_type": "stream",
     "text": [
      "Accuracy:  0.6383568766790884\n",
      "Confusion matrix: \n",
      " [[6054 3161]\n",
      " [1012 1312]]\n",
      "Classification report:\n",
      "               precision    recall  f1-score   support\n",
      "\n",
      "          0       0.86      0.66      0.74      9215\n",
      "          1       0.29      0.56      0.39      2324\n",
      "\n",
      "avg / total       0.74      0.64      0.67     11539\n",
      "\n"
     ]
    }
   ],
   "source": [
    "# Some more evaluation metrics for test data\n",
    "print(\"Accuracy: \", metrics.accuracy_score(y1, x1))\n",
    "print(\"Confusion matrix: \\n\", metrics.confusion_matrix(y1, x1))\n",
    "print(\"Classification report:\\n \", metrics.classification_report(y1, x1))"
   ]
  },
  {
   "cell_type": "markdown",
   "metadata": {},
   "source": [
    "### Evaluating the model on test data by setting third quartile value as the threshold value "
   ]
  },
  {
   "cell_type": "code",
   "execution_count": 97,
   "metadata": {},
   "outputs": [
    {
     "data": {
      "text/plain": [
       "8543     1584.176848\n",
       "13479    7301.296250\n",
       "17500    2525.570161\n",
       "1445     2421.594910\n",
       "14432    2349.973837\n",
       "dtype: float64"
      ]
     },
     "execution_count": 97,
     "metadata": {},
     "output_type": "execute_result"
    }
   ],
   "source": [
    "predictions_test_s2 = lm_m.predict(df_test)\n",
    "predictions_test_s2.head(5)"
   ]
  },
  {
   "cell_type": "code",
   "execution_count": 98,
   "metadata": {},
   "outputs": [
    {
     "data": {
      "text/plain": [
       "3977.0221131019507"
      ]
     },
     "execution_count": 98,
     "metadata": {},
     "output_type": "execute_result"
    }
   ],
   "source": [
    "q3 = predictions_test_s2.quantile(q=0.75,interpolation='linear')\n",
    "q3"
   ]
  },
  {
   "cell_type": "code",
   "execution_count": 99,
   "metadata": {},
   "outputs": [
    {
     "data": {
      "text/plain": [
       "0    8654\n",
       "1    2885\n",
       "dtype: int64"
      ]
     },
     "execution_count": 99,
     "metadata": {},
     "output_type": "execute_result"
    }
   ],
   "source": [
    "predictions_test_s2 = predictions_test_s2.apply(lambda res: 1 if res > q3  else 0)\n",
    "predictions_test_s2.value_counts()"
   ]
  },
  {
   "cell_type": "code",
   "execution_count": 100,
   "metadata": {},
   "outputs": [
    {
     "name": "stderr",
     "output_type": "stream",
     "text": [
      "/Users/Tejaswis/anaconda3/envs/comp47350py36/lib/python3.6/site-packages/ipykernel_launcher.py:2: SettingWithCopyWarning: \n",
      "A value is trying to be set on a copy of a slice from a DataFrame.\n",
      "Try using .loc[row_indexer,col_indexer] = value instead\n",
      "\n",
      "See the caveats in the documentation: http://pandas.pydata.org/pandas-docs/stable/indexing.html#indexing-view-versus-copy\n",
      "  \n"
     ]
    },
    {
     "data": {
      "text/plain": [
       "0    9608\n",
       "1    1931\n",
       "Name: shares_binary, dtype: int64"
      ]
     },
     "execution_count": 100,
     "metadata": {},
     "output_type": "execute_result"
    }
   ],
   "source": [
    "\n",
    "df_test['shares_binary'] = np.where(df_test['shares'] >= q3, 1, 0)\n",
    "df_test['shares_binary'].value_counts()"
   ]
  },
  {
   "cell_type": "code",
   "execution_count": 101,
   "metadata": {},
   "outputs": [
    {
     "name": "stdout",
     "output_type": "stream",
     "text": [
      "Descriptive features:\n",
      " 8543     0\n",
      "13479    1\n",
      "17500    0\n",
      "1445     0\n",
      "dtype: int64\n",
      "\n",
      "Target feature:\n",
      " 8543     0\n",
      "13479    1\n",
      "17500    0\n",
      "1445     0\n",
      "Name: shares_binary, dtype: int64\n"
     ]
    }
   ],
   "source": [
    "# Prepare the descriptive features\n",
    "x1 = predictions_test_s2\n",
    "y1 = df_test.shares_binary\n",
    "print(\"Descriptive features:\\n\", x1.head(4))\n",
    "print(\"\\nTarget feature:\\n\", y1.head(4))"
   ]
  },
  {
   "cell_type": "code",
   "execution_count": 102,
   "metadata": {},
   "outputs": [
    {
     "name": "stdout",
     "output_type": "stream",
     "text": [
      "Accuracy:  0.7237195597538781\n",
      "Confusion matrix: \n",
      " [[7537 2071]\n",
      " [1117  814]]\n",
      "Classification report:\n",
      "               precision    recall  f1-score   support\n",
      "\n",
      "          0       0.87      0.78      0.83      9608\n",
      "          1       0.28      0.42      0.34      1931\n",
      "\n",
      "avg / total       0.77      0.72      0.74     11539\n",
      "\n"
     ]
    }
   ],
   "source": [
    "\n",
    "#Some more evaluation metrics for training data\n",
    "print(\"Accuracy: \", metrics.accuracy_score(y1, x1))\n",
    "print(\"Confusion matrix: \\n\", metrics.confusion_matrix(y1, x1))\n",
    "print(\"Classification report:\\n \", metrics.classification_report(y1, x1))"
   ]
  },
  {
   "cell_type": "markdown",
   "metadata": {},
   "source": [
    "The accuracy is observed as 0.63 when the threshold is set to mean, where there is improvement in the performance again when the threshold is set to 75%, which is 0.72"
   ]
  },
  {
   "cell_type": "markdown",
   "metadata": {},
   "source": [
    "## c. Selection of features based on the random forest feature importance table.\n",
    "\n",
    "Training the model by considering the features from random forest importance table"
   ]
  },
  {
   "cell_type": "code",
   "execution_count": 192,
   "metadata": {},
   "outputs": [
    {
     "name": "stdout",
     "output_type": "stream",
     "text": [
      "                            OLS Regression Results                            \n",
      "==============================================================================\n",
      "Dep. Variable:                 shares   R-squared:                       0.020\n",
      "Model:                            OLS   Adj. R-squared:                  0.019\n",
      "Method:                 Least Squares   F-statistic:                     29.75\n",
      "Date:                Mon, 30 Apr 2018   Prob (F-statistic):          1.55e-106\n",
      "Time:                        14:12:13   Log-Likelihood:            -2.9687e+05\n",
      "No. Observations:               27751   AIC:                         5.938e+05\n",
      "Df Residuals:                   27731   BIC:                         5.940e+05\n",
      "Df Model:                          19                                         \n",
      "Covariance Type:            nonrobust                                         \n",
      "==============================================================================================\n",
      "                                 coef    std err          t      P>|t|      [0.025      0.975]\n",
      "----------------------------------------------------------------------------------------------\n",
      "Intercept                   3.714e+10    2.4e+10      1.549      0.121   -9.86e+09    8.41e+10\n",
      "LDA_00                      7.427e+09    4.8e+09      1.549      0.121   -1.97e+09    1.68e+10\n",
      "LDA_01                      7.427e+09    4.8e+09      1.549      0.121   -1.97e+09    1.68e+10\n",
      "LDA_02                      7.427e+09    4.8e+09      1.549      0.121   -1.97e+09    1.68e+10\n",
      "LDA_03                      7.427e+09    4.8e+09      1.549      0.121   -1.97e+09    1.68e+10\n",
      "LDA_04                      7.427e+09    4.8e+09      1.549      0.121   -1.97e+09    1.68e+10\n",
      "average_token_length        -379.4982    263.489     -1.440      0.150    -895.951     136.954\n",
      "avg_negative_polarity      -2609.3605    661.560     -3.944      0.000   -3906.051   -1312.670\n",
      "avg_positive_polarity      -2173.8286    970.117     -2.241      0.025   -4075.305    -272.352\n",
      "global_rate_positive_words -1.968e+04   5268.293     -3.735      0.000      -3e+04   -9348.972\n",
      "global_sentiment_polarity   2025.6604   1070.081      1.893      0.058     -71.751    4123.072\n",
      "global_subjectivity         3807.8138    890.582      4.276      0.000    2062.229    5553.399\n",
      "kw_avg_avg                     1.2853      0.120     10.751      0.000       1.051       1.520\n",
      "kw_avg_max                    -0.0014      0.001     -2.176      0.030      -0.003      -0.000\n",
      "kw_avg_min                     0.8066      0.412      1.957      0.050      -0.001       1.615\n",
      "kw_max_avg                    -0.1027      0.025     -4.142      0.000      -0.151      -0.054\n",
      "kw_max_min                    -0.0975      0.068     -1.438      0.150      -0.230       0.035\n",
      "n_non_stop_unique_tokens   -3097.4089   1681.126     -1.842      0.065   -6392.498     197.681\n",
      "n_non_stop_words           -4.456e+10   2.88e+10     -1.549      0.121   -1.01e+11    1.18e+10\n",
      "n_tokens_content               0.7024      0.218      3.229      0.001       0.276       1.129\n",
      "n_unique_tokens             3659.2901   2376.215      1.540      0.124    -998.209    8316.789\n",
      "==============================================================================\n",
      "Omnibus:                    73698.498   Durbin-Watson:                   1.989\n",
      "Prob(Omnibus):                  0.000   Jarque-Bera (JB):       2963558988.417\n",
      "Skew:                          31.693   Prob(JB):                         0.00\n",
      "Kurtosis:                    1602.677   Cond. No.                     9.47e+17\n",
      "==============================================================================\n",
      "\n",
      "Warnings:\n",
      "[1] Standard Errors assume that the covariance matrix of the errors is correctly specified.\n",
      "[2] The smallest eigenvalue is 2.56e-21. This might indicate that there are\n",
      "strong multicollinearity problems or that the design matrix is singular.\n"
     ]
    }
   ],
   "source": [
    "#Train a model with all the features selected using random forest feature importance table\n",
    "lm2= sm.ols(formula=\"shares ~  LDA_00 + LDA_01 + LDA_02 + LDA_03 + LDA_04 + average_token_length + avg_negative_polarity + avg_positive_polarity +  global_rate_positive_words + global_sentiment_polarity + global_subjectivity + kw_avg_avg + kw_avg_max + kw_avg_min + kw_max_avg + kw_max_min  + n_non_stop_unique_tokens + n_non_stop_words + n_tokens_content + n_unique_tokens \", data=df_train).fit()\n",
    "print(lm2.summary())"
   ]
  },
  {
   "cell_type": "markdown",
   "metadata": {},
   "source": [
    "### Evaluating the model on training data\n",
    "Split the dataset into a training set and a test set. Fit the model on the training set, evaluate both on the training and the test set. Compare the prediction error on both sets."
   ]
  },
  {
   "cell_type": "code",
   "execution_count": 193,
   "metadata": {},
   "outputs": [
    {
     "data": {
      "text/plain": [
       "5794     2659.996544\n",
       "21138    5064.118523\n",
       "25763    2843.397133\n",
       "11341    4300.787422\n",
       "1651     2544.580452\n",
       "dtype: float64"
      ]
     },
     "execution_count": 193,
     "metadata": {},
     "output_type": "execute_result"
    }
   ],
   "source": [
    "predictions_train_sample = lm2.predict(df_train)\n",
    "predictions_train_sample.head(5)"
   ]
  },
  {
   "cell_type": "code",
   "execution_count": 194,
   "metadata": {},
   "outputs": [
    {
     "data": {
      "text/plain": [
       "count    27751.000000\n",
       "mean      3325.328570\n",
       "std       1528.823779\n",
       "min      -1077.573326\n",
       "25%       2281.135578\n",
       "50%       3075.360252\n",
       "75%       4086.065605\n",
       "max      29173.156586\n",
       "dtype: float64"
      ]
     },
     "execution_count": 194,
     "metadata": {},
     "output_type": "execute_result"
    }
   ],
   "source": [
    "predictions_train_sample.describe()"
   ]
  },
  {
   "cell_type": "code",
   "execution_count": 195,
   "metadata": {},
   "outputs": [
    {
     "data": {
      "text/plain": [
       "0    15909\n",
       "1    11842\n",
       "dtype: int64"
      ]
     },
     "execution_count": 195,
     "metadata": {},
     "output_type": "execute_result"
    }
   ],
   "source": [
    "predictions_train_sample = predictions_train_sample.apply(lambda res: 1 if res > predictions_train_sample.mean()  else 0)\n",
    "predictions_train_sample.value_counts()"
   ]
  },
  {
   "cell_type": "code",
   "execution_count": 196,
   "metadata": {},
   "outputs": [
    {
     "name": "stderr",
     "output_type": "stream",
     "text": [
      "/Users/Tejaswis/anaconda3/envs/comp47350py36/lib/python3.6/site-packages/ipykernel_launcher.py:1: SettingWithCopyWarning: \n",
      "A value is trying to be set on a copy of a slice from a DataFrame.\n",
      "Try using .loc[row_indexer,col_indexer] = value instead\n",
      "\n",
      "See the caveats in the documentation: http://pandas.pydata.org/pandas-docs/stable/indexing.html#indexing-view-versus-copy\n",
      "  \"\"\"Entry point for launching an IPython kernel.\n"
     ]
    },
    {
     "data": {
      "text/plain": [
       "0    22194\n",
       "1     5557\n",
       "Name: shares_binary, dtype: int64"
      ]
     },
     "execution_count": 196,
     "metadata": {},
     "output_type": "execute_result"
    }
   ],
   "source": [
    "df_train['shares_binary'] = np.where(df_train['shares'] >=df_train['shares'].mean(), 1, 0)\n",
    "df_train['shares_binary'].value_counts()"
   ]
  },
  {
   "cell_type": "code",
   "execution_count": 197,
   "metadata": {},
   "outputs": [
    {
     "name": "stdout",
     "output_type": "stream",
     "text": [
      "Descriptive features:\n",
      " 5794     0\n",
      "21138    1\n",
      "25763    0\n",
      "11341    1\n",
      "dtype: int64\n",
      "\n",
      "Target feature:\n",
      " 5794     0\n",
      "21138    0\n",
      "25763    1\n",
      "11341    1\n",
      "Name: shares_binary, dtype: int64\n"
     ]
    }
   ],
   "source": [
    "# Prepare the descriptive features\n",
    "x1 = predictions_train_sample\n",
    "y1 = df_train.shares_binary\n",
    "print(\"Descriptive features:\\n\", x1.head(4))\n",
    "print(\"\\nTarget feature:\\n\", y1.head(4))"
   ]
  },
  {
   "cell_type": "code",
   "execution_count": 198,
   "metadata": {},
   "outputs": [
    {
     "name": "stdout",
     "output_type": "stream",
     "text": [
      "Accuracy:  0.6233288890490433\n",
      "Confusion matrix: \n",
      " [[13825  8369]\n",
      " [ 2084  3473]]\n",
      "Classification report:\n",
      "               precision    recall  f1-score   support\n",
      "\n",
      "          0       0.87      0.62      0.73     22194\n",
      "          1       0.29      0.62      0.40      5557\n",
      "\n",
      "avg / total       0.75      0.62      0.66     27751\n",
      "\n"
     ]
    }
   ],
   "source": [
    "# Some more evaluation metrics for train data\n",
    "print(\"Accuracy: \", metrics.accuracy_score(y1, x1))\n",
    "print(\"Confusion matrix: \\n\", metrics.confusion_matrix(y1, x1))\n",
    "print(\"Classification report:\\n \", metrics.classification_report(y1, x1))"
   ]
  },
  {
   "cell_type": "markdown",
   "metadata": {},
   "source": [
    "### Evaluating the model on train data by setting third quartile value as the threshold value"
   ]
  },
  {
   "cell_type": "code",
   "execution_count": 199,
   "metadata": {},
   "outputs": [
    {
     "data": {
      "text/plain": [
       "5794     2659.996544\n",
       "21138    5064.118523\n",
       "25763    2843.397133\n",
       "11341    4300.787422\n",
       "1651     2544.580452\n",
       "dtype: float64"
      ]
     },
     "execution_count": 199,
     "metadata": {},
     "output_type": "execute_result"
    }
   ],
   "source": [
    "predictions_train_s4 = lm2.predict(df_train)\n",
    "predictions_train_s4.head(5)\n"
   ]
  },
  {
   "cell_type": "code",
   "execution_count": 200,
   "metadata": {},
   "outputs": [
    {
     "data": {
      "text/plain": [
       "4086.065605163574"
      ]
     },
     "execution_count": 200,
     "metadata": {},
     "output_type": "execute_result"
    }
   ],
   "source": [
    "q3 = predictions_train_s4.quantile(q=0.75,interpolation='linear')\n",
    "q3"
   ]
  },
  {
   "cell_type": "code",
   "execution_count": 201,
   "metadata": {},
   "outputs": [
    {
     "data": {
      "text/plain": [
       "0    20813\n",
       "1     6938\n",
       "dtype: int64"
      ]
     },
     "execution_count": 201,
     "metadata": {},
     "output_type": "execute_result"
    }
   ],
   "source": [
    "predictions_train_s4 = predictions_train_s4.apply(lambda res: 1 if res > q3  else 0)\n",
    "predictions_train_s4.value_counts()"
   ]
  },
  {
   "cell_type": "code",
   "execution_count": 202,
   "metadata": {},
   "outputs": [
    {
     "name": "stderr",
     "output_type": "stream",
     "text": [
      "/Users/Tejaswis/anaconda3/envs/comp47350py36/lib/python3.6/site-packages/ipykernel_launcher.py:1: SettingWithCopyWarning: \n",
      "A value is trying to be set on a copy of a slice from a DataFrame.\n",
      "Try using .loc[row_indexer,col_indexer] = value instead\n",
      "\n",
      "See the caveats in the documentation: http://pandas.pydata.org/pandas-docs/stable/indexing.html#indexing-view-versus-copy\n",
      "  \"\"\"Entry point for launching an IPython kernel.\n"
     ]
    },
    {
     "data": {
      "text/plain": [
       "0    23308\n",
       "1     4443\n",
       "Name: shares_binary, dtype: int64"
      ]
     },
     "execution_count": 202,
     "metadata": {},
     "output_type": "execute_result"
    }
   ],
   "source": [
    "df_train['shares_binary'] = np.where(df_train['shares'] >= q3, 1, 0)\n",
    "df_train['shares_binary'].value_counts()"
   ]
  },
  {
   "cell_type": "code",
   "execution_count": 203,
   "metadata": {},
   "outputs": [
    {
     "name": "stdout",
     "output_type": "stream",
     "text": [
      "Descriptive features:\n",
      " 5794     0\n",
      "21138    1\n",
      "25763    0\n",
      "11341    1\n",
      "dtype: int64\n",
      "\n",
      "Target feature:\n",
      " 5794     0\n",
      "21138    0\n",
      "25763    1\n",
      "11341    1\n",
      "Name: shares_binary, dtype: int64\n"
     ]
    }
   ],
   "source": [
    "\n",
    "# Prepare the descriptive features\n",
    "x1 = predictions_train_s4\n",
    "y1 = df_train.shares_binary\n",
    "print(\"Descriptive features:\\n\", x1.head(4))\n",
    "print(\"\\nTarget feature:\\n\", y1.head(4))"
   ]
  },
  {
   "cell_type": "code",
   "execution_count": 204,
   "metadata": {},
   "outputs": [
    {
     "name": "stdout",
     "output_type": "stream",
     "text": [
      "Accuracy:  0.7289106698857699\n",
      "Confusion matrix: \n",
      " [[18299  5009]\n",
      " [ 2514  1929]]\n",
      "Classification report:\n",
      "               precision    recall  f1-score   support\n",
      "\n",
      "          0       0.88      0.79      0.83     23308\n",
      "          1       0.28      0.43      0.34      4443\n",
      "\n",
      "avg / total       0.78      0.73      0.75     27751\n",
      "\n"
     ]
    }
   ],
   "source": [
    "#Some more evaluation metrics for training data\n",
    "print(\"Accuracy: \", metrics.accuracy_score(y1, x1))\n",
    "print(\"Confusion matrix: \\n\", metrics.confusion_matrix(y1, x1))\n",
    "print(\"Classification report:\\n \", metrics.classification_report(y1, x1))"
   ]
  },
  {
   "cell_type": "markdown",
   "metadata": {},
   "source": [
    "### Evaluating the model on test data\n",
    "Split the dataset into a training set and a test set. Fit the model on the training set, evaluate both on the training and the test set. Compare the prediction error on both sets"
   ]
  },
  {
   "cell_type": "code",
   "execution_count": 205,
   "metadata": {},
   "outputs": [
    {
     "data": {
      "text/plain": [
       "5794     2659.996544\n",
       "21138    5064.118523\n",
       "25763    2843.397133\n",
       "11341    4300.787422\n",
       "1651     2544.580452\n",
       "dtype: float64"
      ]
     },
     "execution_count": 205,
     "metadata": {},
     "output_type": "execute_result"
    }
   ],
   "source": [
    "predictions_test_sample = lm2.predict(df_test)\n",
    "predictions_test_sample.head(5)"
   ]
  },
  {
   "cell_type": "code",
   "execution_count": 206,
   "metadata": {},
   "outputs": [
    {
     "data": {
      "text/plain": [
       "count    11893.000000\n",
       "mean      3337.153762\n",
       "std       1525.725429\n",
       "min       -908.052917\n",
       "25%       2290.293106\n",
       "50%       3087.251472\n",
       "75%       4116.549683\n",
       "max      23490.888374\n",
       "dtype: float64"
      ]
     },
     "execution_count": 206,
     "metadata": {},
     "output_type": "execute_result"
    }
   ],
   "source": [
    "predictions_test_sample.describe()"
   ]
  },
  {
   "cell_type": "code",
   "execution_count": 207,
   "metadata": {},
   "outputs": [
    {
     "data": {
      "text/plain": [
       "0    6821\n",
       "1    5072\n",
       "dtype: int64"
      ]
     },
     "execution_count": 207,
     "metadata": {},
     "output_type": "execute_result"
    }
   ],
   "source": [
    "predictions_test_sample = predictions_test_sample.apply(lambda res: 1 if res > predictions_test_sample.mean()  else 0)\n",
    "predictions_test_sample.value_counts()"
   ]
  },
  {
   "cell_type": "code",
   "execution_count": 208,
   "metadata": {},
   "outputs": [
    {
     "name": "stderr",
     "output_type": "stream",
     "text": [
      "/Users/Tejaswis/anaconda3/envs/comp47350py36/lib/python3.6/site-packages/ipykernel_launcher.py:1: SettingWithCopyWarning: \n",
      "A value is trying to be set on a copy of a slice from a DataFrame.\n",
      "Try using .loc[row_indexer,col_indexer] = value instead\n",
      "\n",
      "See the caveats in the documentation: http://pandas.pydata.org/pandas-docs/stable/indexing.html#indexing-view-versus-copy\n",
      "  \"\"\"Entry point for launching an IPython kernel.\n"
     ]
    },
    {
     "data": {
      "text/plain": [
       "0    9407\n",
       "1    2486\n",
       "Name: shares_binary, dtype: int64"
      ]
     },
     "execution_count": 208,
     "metadata": {},
     "output_type": "execute_result"
    }
   ],
   "source": [
    "df_test['shares_binary'] = np.where(df_test['shares'] >=df_test['shares'].mean(), 1, 0)\n",
    "df_test['shares_binary'].value_counts()"
   ]
  },
  {
   "cell_type": "code",
   "execution_count": 209,
   "metadata": {},
   "outputs": [
    {
     "name": "stdout",
     "output_type": "stream",
     "text": [
      "Descriptive features:\n",
      " 5794     0\n",
      "21138    1\n",
      "25763    0\n",
      "11341    1\n",
      "dtype: int64\n",
      "\n",
      "Target feature:\n",
      " 5794     0\n",
      "21138    0\n",
      "25763    1\n",
      "11341    1\n",
      "Name: shares_binary, dtype: int64\n"
     ]
    }
   ],
   "source": [
    "# Prepare the descriptive features\n",
    "x1 = predictions_test_sample\n",
    "y1 = df_test.shares_binary\n",
    "print(\"Descriptive features:\\n\", x1.head(4))\n",
    "print(\"\\nTarget feature:\\n\", y1.head(4))"
   ]
  },
  {
   "cell_type": "code",
   "execution_count": 210,
   "metadata": {},
   "outputs": [
    {
     "name": "stdout",
     "output_type": "stream",
     "text": [
      "Accuracy:  0.6246531573194316\n",
      "Confusion matrix: \n",
      " [[5882 3525]\n",
      " [ 939 1547]]\n",
      "Classification report:\n",
      "               precision    recall  f1-score   support\n",
      "\n",
      "          0       0.86      0.63      0.72      9407\n",
      "          1       0.31      0.62      0.41      2486\n",
      "\n",
      "avg / total       0.75      0.62      0.66     11893\n",
      "\n"
     ]
    }
   ],
   "source": [
    "# Some more evaluation metrics for test data\n",
    "print(\"Accuracy: \", metrics.accuracy_score(y1, x1))\n",
    "print(\"Confusion matrix: \\n\", metrics.confusion_matrix(y1, x1))\n",
    "print(\"Classification report:\\n \", metrics.classification_report(y1, x1))"
   ]
  },
  {
   "cell_type": "markdown",
   "metadata": {},
   "source": [
    "### Evaluating the model on test data by setting third quartile value as the threshold value"
   ]
  },
  {
   "cell_type": "code",
   "execution_count": 212,
   "metadata": {},
   "outputs": [
    {
     "data": {
      "text/plain": [
       "5794     2659.996544\n",
       "21138    5064.118523\n",
       "25763    2843.397133\n",
       "11341    4300.787422\n",
       "1651     2544.580452\n",
       "dtype: float64"
      ]
     },
     "execution_count": 212,
     "metadata": {},
     "output_type": "execute_result"
    }
   ],
   "source": [
    "predictions_test_s4 = lm2.predict(df_test)\n",
    "predictions_test_s4.head(5)\n"
   ]
  },
  {
   "cell_type": "code",
   "execution_count": 213,
   "metadata": {},
   "outputs": [
    {
     "data": {
      "text/plain": [
       "4116.5496826171875"
      ]
     },
     "execution_count": 213,
     "metadata": {},
     "output_type": "execute_result"
    }
   ],
   "source": [
    "q3 = predictions_test_s4.quantile(q=0.75,interpolation='linear')\n",
    "q3"
   ]
  },
  {
   "cell_type": "code",
   "execution_count": 214,
   "metadata": {},
   "outputs": [
    {
     "data": {
      "text/plain": [
       "0    8920\n",
       "1    2973\n",
       "dtype: int64"
      ]
     },
     "execution_count": 214,
     "metadata": {},
     "output_type": "execute_result"
    }
   ],
   "source": [
    "predictions_test_s4 = predictions_test_s4.apply(lambda res: 1 if res > q3  else 0)\n",
    "predictions_test_s4.value_counts()"
   ]
  },
  {
   "cell_type": "code",
   "execution_count": 215,
   "metadata": {},
   "outputs": [
    {
     "name": "stderr",
     "output_type": "stream",
     "text": [
      "/Users/Tejaswis/anaconda3/envs/comp47350py36/lib/python3.6/site-packages/ipykernel_launcher.py:1: SettingWithCopyWarning: \n",
      "A value is trying to be set on a copy of a slice from a DataFrame.\n",
      "Try using .loc[row_indexer,col_indexer] = value instead\n",
      "\n",
      "See the caveats in the documentation: http://pandas.pydata.org/pandas-docs/stable/indexing.html#indexing-view-versus-copy\n",
      "  \"\"\"Entry point for launching an IPython kernel.\n"
     ]
    },
    {
     "data": {
      "text/plain": [
       "0    10013\n",
       "1     1880\n",
       "Name: shares_binary, dtype: int64"
      ]
     },
     "execution_count": 215,
     "metadata": {},
     "output_type": "execute_result"
    }
   ],
   "source": [
    "df_test['shares_binary'] = np.where(df_test['shares'] >= q3, 1, 0)\n",
    "df_test['shares_binary'].value_counts()"
   ]
  },
  {
   "cell_type": "code",
   "execution_count": 216,
   "metadata": {},
   "outputs": [
    {
     "name": "stdout",
     "output_type": "stream",
     "text": [
      "Descriptive features:\n",
      " 5794     0\n",
      "21138    1\n",
      "25763    0\n",
      "11341    1\n",
      "dtype: int64\n",
      "\n",
      "Target feature:\n",
      " 5794     0\n",
      "21138    0\n",
      "25763    1\n",
      "11341    1\n",
      "Name: shares_binary, dtype: int64\n"
     ]
    }
   ],
   "source": [
    "# Prepare the descriptive features\n",
    "x1 = predictions_test_s4\n",
    "y1 = df_test.shares_binary\n",
    "print(\"Descriptive features:\\n\", x1.head(4))\n",
    "print(\"\\nTarget feature:\\n\", y1.head(4))"
   ]
  },
  {
   "cell_type": "code",
   "execution_count": 217,
   "metadata": {},
   "outputs": [
    {
     "name": "stdout",
     "output_type": "stream",
     "text": [
      "Accuracy:  0.7283275876566048\n",
      "Confusion matrix: \n",
      " [[7851 2162]\n",
      " [1069  811]]\n",
      "Classification report:\n",
      "               precision    recall  f1-score   support\n",
      "\n",
      "          0       0.88      0.78      0.83     10013\n",
      "          1       0.27      0.43      0.33      1880\n",
      "\n",
      "avg / total       0.78      0.73      0.75     11893\n",
      "\n"
     ]
    }
   ],
   "source": [
    "#Some more evaluation metrics for training data\n",
    "print(\"Accuracy: \", metrics.accuracy_score(y1, x1))\n",
    "print(\"Confusion matrix: \\n\", metrics.confusion_matrix(y1, x1))\n",
    "print(\"Classification report:\\n \", metrics.classification_report(y1, x1))"
   ]
  },
  {
   "cell_type": "markdown",
   "metadata": {},
   "source": [
    "## d. Selection of features using  information gain entropy\n",
    "\n",
    "Selected the features using the information gain algorithm and evaluated the model on different aspects\n",
    "\n",
    "### Training the model"
   ]
  },
  {
   "cell_type": "code",
   "execution_count": 190,
   "metadata": {},
   "outputs": [
    {
     "name": "stderr",
     "output_type": "stream",
     "text": [
      "/Users/Tejaswis/anaconda3/envs/comp47350py36/lib/python3.6/site-packages/sklearn/utils/validation.py:578: DataConversionWarning: A column-vector y was passed when a 1d array was expected. Please change the shape of y to (n_samples, ), for example using ravel().\n",
      "  y = column_or_1d(y, warn=True)\n"
     ]
    }
   ],
   "source": [
    "#this will output a dictionary of each attribute, i.e. item in the vocabulary as keys and their information gain as values\n",
    "import sklearn\n",
    "res = dict(zip(col,\n",
    "               sklearn.feature_selection.mutual_info_classif(df3, y, discrete_features=True)\n",
    "               ))"
   ]
  },
  {
   "cell_type": "markdown",
   "metadata": {},
   "source": [
    "Calculated the Information Gain for each attribute with respect to a class in a (sparse) document-term matrix. The Information Gain is defined as H(Class) - H(Class | Attribute), where H is the entropy.\n",
    "{'LDA_00': 5.3683915362330374,\n",
    " 'LDA_01': 5.3523199569360722,\n",
    " 'LDA_02': 5.3781644224537075,\n",
    " 'LDA_03': 5.3462810765221249,\n",
    " 'LDA_04': 5.3710643647200067,\n",
    " 'abs_title_sentiment_polarity': 0.50702816220588831,\n",
    " 'abs_title_subjectivity': 0.43979556291202926,\n",
    " 'average_token_length': 4.862218222274274,\n",
    " 'avg_negative_polarity': 3.2184776499478405,\n",
    " 'avg_positive_polarity': 4.550486467232763,\n",
    " 'data_channel_is_bus': 0.019734703530144952,\n",
    " 'data_channel_is_entertainment': 0.028221257938357381,\n",
    " 'data_channel_is_lifestyle': 0.016517076680820295,\n",
    " 'data_channel_is_socmed': 0.021559352173343017,\n",
    " 'data_channel_is_tech': 0.025760582972089992,\n",
    " 'data_channel_is_world': 0.033772286388906787,\n",
    " 'global_rate_negative_words': 3.2334070871857832,\n",
    " 'global_rate_positive_words': 3.6223875279391913,\n",
    " 'global_sentiment_polarity': 5.0554207505644913,\n",
    " 'global_subjectivity': 5.0455606551707159,\n",
    " 'is_weekend': 0.033357583699486673,\n",
    " 'kw_avg_avg': 5.3674749949656313,\n",
    " 'kw_avg_max': 5.0014755022737392,\n",
    " 'kw_avg_min': 4.1477465186447944,\n",
    " 'kw_max_avg': 4.2258022861775739,\n",
    " 'kw_max_max': 0.099661120751210974,\n",
    " 'kw_max_min': 1.6862121516285513,\n",
    " 'kw_min_avg': 2.7190278778614578,\n",
    " 'kw_min_max': 0.99983234514130503,\n",
    " 'kw_min_min': 0.053593571044521754,\n",
    " 'max_negative_polarity': 0.25845928194887174,\n",
    " 'max_positive_polarity': 0.17879915239025657,\n",
    " 'min_negative_polarity': 0.28497092261873314,\n",
    " 'min_positive_polarity': 0.18594115670637662,\n",
    " 'n_non_stop_unique_tokens': 4.5355325459776816,\n",
    " 'n_non_stop_words': 1.8600226943587341,\n",
    " 'n_tokens_content': 2.2139975492463311,\n",
    " 'n_tokens_title': 0.16149333202589627,\n",
    " 'n_unique_tokens': 4.7738715496223669,\n",
    " 'num_hrefs': 0.42329342722289792,\n",
    " 'num_imgs': 0.28439453282237359,\n",
    " 'num_keywords': 0.12456877659897686,\n",
    " 'num_self_hrefs': 0.19677041286643404,\n",
    " 'num_videos': 0.14253212459190581,\n",
    " 'rate_negative_words': 1.5064827587538716,\n",
    " 'rate_positive_words': 1.5158634846150842,\n",
    " 'self_reference_avg_sharess': 2.2845925840343497,\n",
    " 'self_reference_max_shares': 1.2087976581423132,\n",
    " 'self_reference_min_shares': 1.3049492964946465,\n",
    " 'timedelta': 1.7723839453974395,\n",
    " 'title_sentiment_polarity': 0.6089786677705652,\n",
    " 'title_subjectivity': 0.5472633834302385,\n",
    " 'weekday_is_friday': 0.018957945216486138,\n",
    " 'weekday_is_monday': 0.019821589042664917,\n",
    " 'weekday_is_saturday': 0.022387405911094269,\n",
    " 'weekday_is_sunday': 0.020253328014658761,\n",
    " 'weekday_is_thursday': 0.01962792154740356,\n",
    " 'weekday_is_tuesday': 0.020586316422148067,\n",
    " 'weekday_is_wednesday': 0.020629877393717369}"
   ]
  },
  {
   "cell_type": "code",
   "execution_count": 103,
   "metadata": {},
   "outputs": [
    {
     "name": "stdout",
     "output_type": "stream",
     "text": [
      "                            OLS Regression Results                            \n",
      "==============================================================================\n",
      "Dep. Variable:                 shares   R-squared:                       0.022\n",
      "Model:                            OLS   Adj. R-squared:                  0.021\n",
      "Method:                 Least Squares   F-statistic:                     18.81\n",
      "Date:                Mon, 30 Apr 2018   Prob (F-statistic):          4.99e-105\n",
      "Time:                        11:55:28   Log-Likelihood:            -2.8865e+05\n",
      "No. Observations:               26924   AIC:                         5.774e+05\n",
      "Df Residuals:                   26891   BIC:                         5.776e+05\n",
      "Df Model:                          32                                         \n",
      "Covariance Type:            nonrobust                                         \n",
      "================================================================================================\n",
      "                                   coef    std err          t      P>|t|      [0.025      0.975]\n",
      "------------------------------------------------------------------------------------------------\n",
      "Intercept                     9.487e+09   2.55e+10      0.373      0.709   -4.04e+10    5.94e+10\n",
      "LDA_00                        1.915e+09   5.14e+09      0.373      0.709   -8.16e+09     1.2e+10\n",
      "LDA_01                        1.915e+09   5.14e+09      0.373      0.709   -8.16e+09     1.2e+10\n",
      "LDA_02                        1.915e+09   5.14e+09      0.373      0.709   -8.16e+09     1.2e+10\n",
      "LDA_03                        1.915e+09   5.14e+09      0.373      0.709   -8.16e+09     1.2e+10\n",
      "LDA_04                        1.915e+09   5.14e+09      0.373      0.709   -8.16e+09     1.2e+10\n",
      "abs_title_sentiment_polarity  1028.8823    459.511      2.239      0.025     128.216    1929.549\n",
      "abs_title_subjectivity         417.6165    417.921      0.999      0.318    -401.530    1236.763\n",
      "average_token_length          -378.5008    278.191     -1.361      0.174    -923.770     166.769\n",
      "avg_negative_polarity         -974.7715    712.266     -1.369      0.171   -2370.851     421.308\n",
      "avg_positive_polarity        -1415.1778   1202.374     -1.177      0.239   -3771.893     941.537\n",
      "global_rate_negative_words    2277.2046   1.51e+04      0.151      0.880   -2.73e+04    3.18e+04\n",
      "global_rate_positive_words   -6507.9196   7983.503     -0.815      0.415   -2.22e+04    9140.162\n",
      "global_sentiment_polarity      358.3453   1846.993      0.194      0.846   -3261.858    3978.549\n",
      "global_subjectivity           2325.3954    953.239      2.439      0.015     456.997    4193.794\n",
      "kw_avg_avg                       1.7961      0.152     11.803      0.000       1.498       2.094\n",
      "kw_avg_max                      -0.0004      0.001     -0.457      0.648      -0.002       0.001\n",
      "kw_avg_min                      -0.1921      0.349     -0.550      0.582      -0.877       0.492\n",
      "kw_max_avg                      -0.2175      0.029     -7.609      0.000      -0.274      -0.161\n",
      "kw_max_min                       0.0695      0.056      1.238      0.216      -0.041       0.179\n",
      "kw_min_avg                      -0.4370      0.083     -5.239      0.000      -0.600      -0.273\n",
      "kw_min_max                      -0.0025      0.001     -1.878      0.060      -0.005       0.000\n",
      "n_non_stop_unique_tokens      -497.5577   1796.132     -0.277      0.782   -4018.070    3022.955\n",
      "n_non_stop_words              -1.14e+10   3.06e+10     -0.373      0.709   -7.14e+10    4.86e+10\n",
      "n_tokens_content                 0.4941      0.242      2.040      0.041       0.019       0.969\n",
      "n_unique_tokens               1591.1773   2543.815      0.626      0.532   -3394.833    6577.188\n",
      "num_hrefs                       27.2812      7.197      3.791      0.000      13.175      41.387\n",
      "rate_negative_words           1458.7075   7826.861      0.186      0.852   -1.39e+04    1.68e+04\n",
      "rate_positive_words           1176.7755   7786.353      0.151      0.880   -1.41e+04    1.64e+04\n",
      "self_reference_avg_sharess       0.0238      0.013      1.862      0.063      -0.001       0.049\n",
      "self_reference_max_shares       -0.0052      0.005     -1.066      0.287      -0.015       0.004\n",
      "self_reference_min_shares       -0.0082      0.009     -0.884      0.376      -0.026       0.010\n",
      "timedelta                        1.5697      0.397      3.958      0.000       0.792       2.347\n",
      "title_sentiment_polarity       -66.3942    292.232     -0.227      0.820    -639.184     506.395\n",
      "title_subjectivity              55.6192    316.429      0.176      0.860    -564.597     675.836\n",
      "==============================================================================\n",
      "Omnibus:                    77480.018   Durbin-Watson:                   2.009\n",
      "Prob(Omnibus):                  0.000   Jarque-Bera (JB):       6561443726.461\n",
      "Skew:                          39.058   Prob(JB):                         0.00\n",
      "Kurtosis:                    2420.179   Cond. No.                     2.58e+15\n",
      "==============================================================================\n",
      "\n",
      "Warnings:\n",
      "[1] Standard Errors assume that the covariance matrix of the errors is correctly specified.\n",
      "[2] The smallest eigenvalue is 3.4e-16. This might indicate that there are\n",
      "strong multicollinearity problems or that the design matrix is singular.\n"
     ]
    }
   ],
   "source": [
    "#Train a model with all the features\n",
    "lm1= sm.ols(formula=\"shares ~  LDA_00 + LDA_01 + LDA_02 + LDA_03 + LDA_04 + abs_title_sentiment_polarity + abs_title_subjectivity + average_token_length + avg_negative_polarity + avg_positive_polarity + global_rate_negative_words +  global_rate_positive_words + global_sentiment_polarity + global_subjectivity + kw_avg_avg + kw_avg_max + kw_avg_min + kw_max_avg + kw_max_min + kw_min_avg + kw_min_max + n_non_stop_unique_tokens + n_non_stop_words + n_tokens_content + n_unique_tokens + num_hrefs + rate_negative_words + rate_positive_words + self_reference_avg_sharess + self_reference_max_shares + self_reference_min_shares + timedelta + title_sentiment_polarity + title_subjectivity\", data=df_train).fit()\n",
    "print(lm1.summary())"
   ]
  },
  {
   "cell_type": "markdown",
   "metadata": {},
   "source": [
    "### Evaluating the model on training  data\n",
    "Split the dataset into a training set and a test set. Fit the model on the training set, evaluate both on the training and the test set. Compare the prediction error on both sets."
   ]
  },
  {
   "cell_type": "code",
   "execution_count": 105,
   "metadata": {},
   "outputs": [
    {
     "data": {
      "text/plain": [
       "8543     2378.248789\n",
       "13479    8586.563070\n",
       "17500    2470.895708\n",
       "1445     2943.742937\n",
       "14432    2552.879938\n",
       "dtype: float64"
      ]
     },
     "execution_count": 105,
     "metadata": {},
     "output_type": "execute_result"
    }
   ],
   "source": [
    "predictions_train_sample = lm1.predict(df_train)\n",
    "predictions_train_sample.head(5)"
   ]
  },
  {
   "cell_type": "code",
   "execution_count": 106,
   "metadata": {},
   "outputs": [
    {
     "data": {
      "text/plain": [
       "count    26924.000000\n",
       "mean      3320.966254\n",
       "std       1639.463732\n",
       "min      -2746.037458\n",
       "25%       2244.197678\n",
       "50%       3047.563269\n",
       "75%       4100.809010\n",
       "max      36898.778675\n",
       "dtype: float64"
      ]
     },
     "execution_count": 106,
     "metadata": {},
     "output_type": "execute_result"
    }
   ],
   "source": [
    "predictions_train_sample.describe()"
   ]
  },
  {
   "cell_type": "code",
   "execution_count": 107,
   "metadata": {},
   "outputs": [
    {
     "data": {
      "text/plain": [
       "3320.9662540495583"
      ]
     },
     "execution_count": 107,
     "metadata": {},
     "output_type": "execute_result"
    }
   ],
   "source": [
    "predictions_train_sample.mean()"
   ]
  },
  {
   "cell_type": "code",
   "execution_count": 108,
   "metadata": {},
   "outputs": [
    {
     "data": {
      "text/plain": [
       "0    15585\n",
       "1    11339\n",
       "dtype: int64"
      ]
     },
     "execution_count": 108,
     "metadata": {},
     "output_type": "execute_result"
    }
   ],
   "source": [
    "predictions_train_sample = predictions_train_sample.apply(lambda res: 1 if res > predictions_train_sample.mean()  else 0)\n",
    "predictions_train_sample.value_counts()"
   ]
  },
  {
   "cell_type": "code",
   "execution_count": 109,
   "metadata": {},
   "outputs": [
    {
     "data": {
      "text/plain": [
       "3321.0465012628138"
      ]
     },
     "execution_count": 109,
     "metadata": {},
     "output_type": "execute_result"
    }
   ],
   "source": [
    "df_train['shares'].mean()"
   ]
  },
  {
   "cell_type": "code",
   "execution_count": 110,
   "metadata": {},
   "outputs": [
    {
     "name": "stderr",
     "output_type": "stream",
     "text": [
      "/Users/Tejaswis/anaconda3/envs/comp47350py36/lib/python3.6/site-packages/ipykernel_launcher.py:1: SettingWithCopyWarning: \n",
      "A value is trying to be set on a copy of a slice from a DataFrame.\n",
      "Try using .loc[row_indexer,col_indexer] = value instead\n",
      "\n",
      "See the caveats in the documentation: http://pandas.pydata.org/pandas-docs/stable/indexing.html#indexing-view-versus-copy\n",
      "  \"\"\"Entry point for launching an IPython kernel.\n"
     ]
    },
    {
     "data": {
      "text/plain": [
       "0    21480\n",
       "1     5444\n",
       "Name: shares_binary, dtype: int64"
      ]
     },
     "execution_count": 110,
     "metadata": {},
     "output_type": "execute_result"
    }
   ],
   "source": [
    "df_train['shares_binary'] = np.where(df_train['shares'] >= df_train['shares'].mean(), 1, 0)\n",
    "df_train['shares_binary'].value_counts()"
   ]
  },
  {
   "cell_type": "code",
   "execution_count": 111,
   "metadata": {},
   "outputs": [
    {
     "name": "stdout",
     "output_type": "stream",
     "text": [
      "Descriptive features:\n",
      " 8543     0\n",
      "13479    1\n",
      "17500    0\n",
      "1445     0\n",
      "dtype: int64\n",
      "\n",
      "Target feature:\n",
      " 8543     0\n",
      "13479    1\n",
      "17500    0\n",
      "1445     0\n",
      "Name: shares_binary, dtype: int64\n"
     ]
    }
   ],
   "source": [
    "# Prepare the descriptive features\n",
    "x1 = predictions_train_sample\n",
    "y1 = df_train.shares_binary\n",
    "print(\"Descriptive features:\\n\", x1.head(4))\n",
    "print(\"\\nTarget feature:\\n\", y1.head(4))"
   ]
  },
  {
   "cell_type": "code",
   "execution_count": 112,
   "metadata": {},
   "outputs": [
    {
     "name": "stdout",
     "output_type": "stream",
     "text": [
      "Accuracy:  0.6327811617887387\n",
      "Confusion matrix: \n",
      " [[13589  7891]\n",
      " [ 1996  3448]]\n",
      "Classification report:\n",
      "               precision    recall  f1-score   support\n",
      "\n",
      "          0       0.87      0.63      0.73     21480\n",
      "          1       0.30      0.63      0.41      5444\n",
      "\n",
      "avg / total       0.76      0.63      0.67     26924\n",
      "\n"
     ]
    }
   ],
   "source": [
    "# Some more evaluation metrics for training data\n",
    "print(\"Accuracy: \", metrics.accuracy_score(y1, x1))\n",
    "print(\"Confusion matrix: \\n\", metrics.confusion_matrix(y1, x1))\n",
    "print(\"Classification report:\\n \", metrics.classification_report(y1, x1))\n"
   ]
  },
  {
   "cell_type": "markdown",
   "metadata": {},
   "source": [
    "## Evaluating the model on train data by setting third quartile value as the threshold value "
   ]
  },
  {
   "cell_type": "code",
   "execution_count": 113,
   "metadata": {},
   "outputs": [
    {
     "data": {
      "text/plain": [
       "8543     2378.248789\n",
       "13479    8586.563070\n",
       "17500    2470.895708\n",
       "1445     2943.742937\n",
       "14432    2552.879938\n",
       "dtype: float64"
      ]
     },
     "execution_count": 113,
     "metadata": {},
     "output_type": "execute_result"
    }
   ],
   "source": [
    "predictions_train_s3 = lm1.predict(df_train)\n",
    "predictions_train_s3.head(5)\n",
    "\n"
   ]
  },
  {
   "cell_type": "code",
   "execution_count": 114,
   "metadata": {},
   "outputs": [
    {
     "data": {
      "text/plain": [
       "4100.809010028839"
      ]
     },
     "execution_count": 114,
     "metadata": {},
     "output_type": "execute_result"
    }
   ],
   "source": [
    "q3 = predictions_train_s3.quantile(q=0.75,interpolation='linear')\n",
    "q3"
   ]
  },
  {
   "cell_type": "code",
   "execution_count": 115,
   "metadata": {},
   "outputs": [
    {
     "data": {
      "text/plain": [
       "0    20193\n",
       "1     6731\n",
       "dtype: int64"
      ]
     },
     "execution_count": 115,
     "metadata": {},
     "output_type": "execute_result"
    }
   ],
   "source": [
    "predictions_train_s3 = predictions_train_s3.apply(lambda res: 1 if res > q3  else 0)\n",
    "predictions_train_s3.value_counts()"
   ]
  },
  {
   "cell_type": "code",
   "execution_count": 116,
   "metadata": {},
   "outputs": [
    {
     "name": "stderr",
     "output_type": "stream",
     "text": [
      "/Users/Tejaswis/anaconda3/envs/comp47350py36/lib/python3.6/site-packages/ipykernel_launcher.py:1: SettingWithCopyWarning: \n",
      "A value is trying to be set on a copy of a slice from a DataFrame.\n",
      "Try using .loc[row_indexer,col_indexer] = value instead\n",
      "\n",
      "See the caveats in the documentation: http://pandas.pydata.org/pandas-docs/stable/indexing.html#indexing-view-versus-copy\n",
      "  \"\"\"Entry point for launching an IPython kernel.\n"
     ]
    },
    {
     "data": {
      "text/plain": [
       "0    22663\n",
       "1     4261\n",
       "Name: shares_binary, dtype: int64"
      ]
     },
     "execution_count": 116,
     "metadata": {},
     "output_type": "execute_result"
    }
   ],
   "source": [
    "df_train['shares_binary'] = np.where(df_train['shares'] >= q3, 1, 0)\n",
    "df_train['shares_binary'].value_counts()"
   ]
  },
  {
   "cell_type": "code",
   "execution_count": 117,
   "metadata": {},
   "outputs": [
    {
     "name": "stdout",
     "output_type": "stream",
     "text": [
      "Descriptive features:\n",
      " 8543     0\n",
      "13479    1\n",
      "17500    0\n",
      "1445     0\n",
      "dtype: int64\n",
      "\n",
      "Target feature:\n",
      " 8543     0\n",
      "13479    1\n",
      "17500    0\n",
      "1445     0\n",
      "Name: shares_binary, dtype: int64\n"
     ]
    }
   ],
   "source": [
    "# Prepare the descriptive features\n",
    "x1 = predictions_train_s3\n",
    "y1 = df_train.shares_binary\n",
    "print(\"Descriptive features:\\n\", x1.head(4))\n",
    "print(\"\\nTarget feature:\\n\", y1.head(4))"
   ]
  },
  {
   "cell_type": "code",
   "execution_count": 118,
   "metadata": {},
   "outputs": [
    {
     "name": "stdout",
     "output_type": "stream",
     "text": [
      "Accuracy:  0.7343633932550884\n",
      "Confusion matrix: \n",
      " [[17852  4811]\n",
      " [ 2341  1920]]\n",
      "Classification report:\n",
      "               precision    recall  f1-score   support\n",
      "\n",
      "          0       0.88      0.79      0.83     22663\n",
      "          1       0.29      0.45      0.35      4261\n",
      "\n",
      "avg / total       0.79      0.73      0.76     26924\n",
      "\n"
     ]
    }
   ],
   "source": [
    "#Some more evaluation metrics for training data\n",
    "print(\"Accuracy: \", metrics.accuracy_score(y1, x1))\n",
    "print(\"Confusion matrix: \\n\", metrics.confusion_matrix(y1, x1))\n",
    "print(\"Classification report:\\n \", metrics.classification_report(y1, x1))"
   ]
  },
  {
   "cell_type": "markdown",
   "metadata": {},
   "source": [
    "### Evaluating the model on test  data\n",
    "Split the dataset into a training set and a test set. Fit the model on the training set, evaluate both on the training and the test set. Compare the prediction error on both sets."
   ]
  },
  {
   "cell_type": "code",
   "execution_count": 119,
   "metadata": {},
   "outputs": [
    {
     "data": {
      "text/plain": [
       "(11539, 61)"
      ]
     },
     "execution_count": 119,
     "metadata": {},
     "output_type": "execute_result"
    }
   ],
   "source": [
    "df_test.shape"
   ]
  },
  {
   "cell_type": "code",
   "execution_count": 120,
   "metadata": {},
   "outputs": [
    {
     "data": {
      "text/plain": [
       "8543     2378.248789\n",
       "13479    8586.563070\n",
       "17500    2470.895708\n",
       "1445     2943.742937\n",
       "14432    2552.879938\n",
       "dtype: float64"
      ]
     },
     "execution_count": 120,
     "metadata": {},
     "output_type": "execute_result"
    }
   ],
   "source": [
    "predictions_test_sample = lm1.predict(df_test)\n",
    "predictions_test_sample.head(5)"
   ]
  },
  {
   "cell_type": "code",
   "execution_count": 121,
   "metadata": {},
   "outputs": [
    {
     "data": {
      "text/plain": [
       "count    11539.000000\n",
       "mean      3324.318794\n",
       "std       1678.672704\n",
       "min      -2746.037458\n",
       "25%       2230.327971\n",
       "50%       3054.235016\n",
       "75%       4106.119324\n",
       "max      36898.778675\n",
       "dtype: float64"
      ]
     },
     "execution_count": 121,
     "metadata": {},
     "output_type": "execute_result"
    }
   ],
   "source": [
    "predictions_test_sample.describe()"
   ]
  },
  {
   "cell_type": "code",
   "execution_count": 122,
   "metadata": {},
   "outputs": [
    {
     "data": {
      "text/plain": [
       "0    6694\n",
       "1    4845\n",
       "dtype: int64"
      ]
     },
     "execution_count": 122,
     "metadata": {},
     "output_type": "execute_result"
    }
   ],
   "source": [
    "predictions_test_sample = predictions_test_sample.apply(lambda res: 1 if res > predictions_test_sample.mean() else 0)\n",
    "predictions_test_sample.value_counts()"
   ]
  },
  {
   "cell_type": "code",
   "execution_count": 123,
   "metadata": {},
   "outputs": [
    {
     "name": "stderr",
     "output_type": "stream",
     "text": [
      "/Users/Tejaswis/anaconda3/envs/comp47350py36/lib/python3.6/site-packages/ipykernel_launcher.py:1: SettingWithCopyWarning: \n",
      "A value is trying to be set on a copy of a slice from a DataFrame.\n",
      "Try using .loc[row_indexer,col_indexer] = value instead\n",
      "\n",
      "See the caveats in the documentation: http://pandas.pydata.org/pandas-docs/stable/indexing.html#indexing-view-versus-copy\n",
      "  \"\"\"Entry point for launching an IPython kernel.\n"
     ]
    },
    {
     "data": {
      "text/plain": [
       "0    9215\n",
       "1    2324\n",
       "Name: shares_binary, dtype: int64"
      ]
     },
     "execution_count": 123,
     "metadata": {},
     "output_type": "execute_result"
    }
   ],
   "source": [
    "df_test['shares_binary'] = np.where(df_test['shares'] >=df_test['shares'].mean(), 1, 0)\n",
    "df_test['shares_binary'].value_counts()"
   ]
  },
  {
   "cell_type": "code",
   "execution_count": 124,
   "metadata": {},
   "outputs": [
    {
     "name": "stdout",
     "output_type": "stream",
     "text": [
      "Descriptive features:\n",
      " 8543     0\n",
      "13479    1\n",
      "17500    0\n",
      "1445     0\n",
      "dtype: int64\n",
      "\n",
      "Target feature:\n",
      " 8543     0\n",
      "13479    1\n",
      "17500    0\n",
      "1445     0\n",
      "Name: shares_binary, dtype: int64\n"
     ]
    }
   ],
   "source": [
    "# Prepare the descriptive features\n",
    "x1 = predictions_test_sample\n",
    "y1 = df_test.shares_binary\n",
    "print(\"Descriptive features:\\n\", x1.head(4))\n",
    "print(\"\\nTarget feature:\\n\", y1.head(4))"
   ]
  },
  {
   "cell_type": "code",
   "execution_count": 125,
   "metadata": {},
   "outputs": [
    {
     "name": "stdout",
     "output_type": "stream",
     "text": [
      "Accuracy:  0.6321171678654997\n",
      "Confusion matrix: \n",
      " [[5832 3383]\n",
      " [ 862 1462]]\n",
      "Classification report:\n",
      "               precision    recall  f1-score   support\n",
      "\n",
      "          0       0.87      0.63      0.73      9215\n",
      "          1       0.30      0.63      0.41      2324\n",
      "\n",
      "avg / total       0.76      0.63      0.67     11539\n",
      "\n"
     ]
    }
   ],
   "source": [
    "# Some more evaluation metrics for test data\n",
    "print(\"Accuracy: \", metrics.accuracy_score(y1, x1))\n",
    "print(\"Confusion matrix: \\n\", metrics.confusion_matrix(y1, x1))\n",
    "print(\"Classification report:\\n \", metrics.classification_report(y1, x1))\n"
   ]
  },
  {
   "cell_type": "markdown",
   "metadata": {},
   "source": [
    "### Evaluating the model on test data by setting third quartile value as the threshold value "
   ]
  },
  {
   "cell_type": "code",
   "execution_count": 126,
   "metadata": {},
   "outputs": [
    {
     "data": {
      "text/plain": [
       "8543     2378.248789\n",
       "13479    8586.563070\n",
       "17500    2470.895708\n",
       "1445     2943.742937\n",
       "14432    2552.879938\n",
       "dtype: float64"
      ]
     },
     "execution_count": 126,
     "metadata": {},
     "output_type": "execute_result"
    }
   ],
   "source": [
    "predictions_test_s3 = lm1.predict(df_test)\n",
    "predictions_test_s3.head(5)\n"
   ]
  },
  {
   "cell_type": "code",
   "execution_count": 127,
   "metadata": {},
   "outputs": [
    {
     "data": {
      "text/plain": [
       "4106.119323730469"
      ]
     },
     "execution_count": 127,
     "metadata": {},
     "output_type": "execute_result"
    }
   ],
   "source": [
    "q3 = predictions_test_s3.quantile(q=0.75,interpolation='linear')\n",
    "q3"
   ]
  },
  {
   "cell_type": "code",
   "execution_count": 128,
   "metadata": {},
   "outputs": [
    {
     "data": {
      "text/plain": [
       "0    8654\n",
       "1    2885\n",
       "dtype: int64"
      ]
     },
     "execution_count": 128,
     "metadata": {},
     "output_type": "execute_result"
    }
   ],
   "source": [
    "predictions_test_s3 = predictions_test_s3.apply(lambda res: 1 if res > q3  else 0)\n",
    "predictions_test_s3.value_counts()"
   ]
  },
  {
   "cell_type": "code",
   "execution_count": 129,
   "metadata": {},
   "outputs": [
    {
     "name": "stderr",
     "output_type": "stream",
     "text": [
      "/Users/Tejaswis/anaconda3/envs/comp47350py36/lib/python3.6/site-packages/ipykernel_launcher.py:1: SettingWithCopyWarning: \n",
      "A value is trying to be set on a copy of a slice from a DataFrame.\n",
      "Try using .loc[row_indexer,col_indexer] = value instead\n",
      "\n",
      "See the caveats in the documentation: http://pandas.pydata.org/pandas-docs/stable/indexing.html#indexing-view-versus-copy\n",
      "  \"\"\"Entry point for launching an IPython kernel.\n"
     ]
    },
    {
     "data": {
      "text/plain": [
       "0    9710\n",
       "1    1829\n",
       "Name: shares_binary, dtype: int64"
      ]
     },
     "execution_count": 129,
     "metadata": {},
     "output_type": "execute_result"
    }
   ],
   "source": [
    "df_test['shares_binary'] = np.where(df_test['shares'] >= q3, 1, 0)\n",
    "df_test['shares_binary'].value_counts()"
   ]
  },
  {
   "cell_type": "code",
   "execution_count": 130,
   "metadata": {},
   "outputs": [
    {
     "name": "stdout",
     "output_type": "stream",
     "text": [
      "Descriptive features:\n",
      " 8543     0\n",
      "13479    1\n",
      "17500    0\n",
      "1445     0\n",
      "dtype: int64\n",
      "\n",
      "Target feature:\n",
      " 8543     0\n",
      "13479    1\n",
      "17500    0\n",
      "1445     0\n",
      "Name: shares_binary, dtype: int64\n"
     ]
    }
   ],
   "source": [
    "# Prepare the descriptive features\n",
    "x1 = predictions_test_s3\n",
    "y1 = df_test.shares_binary\n",
    "print(\"Descriptive features:\\n\", x1.head(4))\n",
    "print(\"\\nTarget feature:\\n\", y1.head(4))"
   ]
  },
  {
   "cell_type": "code",
   "execution_count": 131,
   "metadata": {},
   "outputs": [
    {
     "name": "stdout",
     "output_type": "stream",
     "text": [
      "Accuracy:  0.7342923996880145\n",
      "Confusion matrix: \n",
      " [[7649 2061]\n",
      " [1005  824]]\n",
      "Classification report:\n",
      "               precision    recall  f1-score   support\n",
      "\n",
      "          0       0.88      0.79      0.83      9710\n",
      "          1       0.29      0.45      0.35      1829\n",
      "\n",
      "avg / total       0.79      0.73      0.76     11539\n",
      "\n"
     ]
    }
   ],
   "source": [
    "\n",
    "#Some more evaluation metrics for training data\n",
    "print(\"Accuracy: \", metrics.accuracy_score(y1, x1))\n",
    "print(\"Confusion matrix: \\n\", metrics.confusion_matrix(y1, x1))\n",
    "print(\"Classification report:\\n \", metrics.classification_report(y1, x1))"
   ]
  },
  {
   "cell_type": "markdown",
   "metadata": {},
   "source": [
    "# Data Normalization"
   ]
  },
  {
   "cell_type": "code",
   "execution_count": 618,
   "metadata": {},
   "outputs": [
    {
     "data": {
      "text/html": [
       "<div>\n",
       "<style scoped>\n",
       "    .dataframe tbody tr th:only-of-type {\n",
       "        vertical-align: middle;\n",
       "    }\n",
       "\n",
       "    .dataframe tbody tr th {\n",
       "        vertical-align: top;\n",
       "    }\n",
       "\n",
       "    .dataframe thead th {\n",
       "        text-align: right;\n",
       "    }\n",
       "</style>\n",
       "<table border=\"1\" class=\"dataframe\">\n",
       "  <thead>\n",
       "    <tr style=\"text-align: right;\">\n",
       "      <th></th>\n",
       "      <th>timedelta</th>\n",
       "      <th>n_tokens_title</th>\n",
       "      <th>n_tokens_content</th>\n",
       "      <th>n_unique_tokens</th>\n",
       "      <th>n_non_stop_words</th>\n",
       "      <th>n_non_stop_unique_tokens</th>\n",
       "      <th>num_hrefs</th>\n",
       "      <th>num_self_hrefs</th>\n",
       "      <th>num_imgs</th>\n",
       "      <th>num_videos</th>\n",
       "      <th>average_token_length</th>\n",
       "      <th>num_keywords</th>\n",
       "      <th>data_channel_is_lifestyle</th>\n",
       "      <th>data_channel_is_entertainment</th>\n",
       "      <th>data_channel_is_bus</th>\n",
       "      <th>data_channel_is_socmed</th>\n",
       "      <th>data_channel_is_tech</th>\n",
       "      <th>data_channel_is_world</th>\n",
       "      <th>kw_min_min</th>\n",
       "      <th>kw_max_min</th>\n",
       "      <th>kw_avg_min</th>\n",
       "      <th>kw_min_max</th>\n",
       "      <th>kw_max_max</th>\n",
       "      <th>kw_avg_max</th>\n",
       "      <th>kw_min_avg</th>\n",
       "      <th>kw_max_avg</th>\n",
       "      <th>kw_avg_avg</th>\n",
       "      <th>self_reference_min_shares</th>\n",
       "      <th>self_reference_max_shares</th>\n",
       "      <th>self_reference_avg_sharess</th>\n",
       "      <th>weekday_is_monday</th>\n",
       "      <th>weekday_is_tuesday</th>\n",
       "      <th>weekday_is_wednesday</th>\n",
       "      <th>weekday_is_thursday</th>\n",
       "      <th>weekday_is_friday</th>\n",
       "      <th>weekday_is_saturday</th>\n",
       "      <th>weekday_is_sunday</th>\n",
       "      <th>is_weekend</th>\n",
       "      <th>LDA_00</th>\n",
       "      <th>LDA_01</th>\n",
       "      <th>LDA_02</th>\n",
       "      <th>LDA_03</th>\n",
       "      <th>LDA_04</th>\n",
       "      <th>global_subjectivity</th>\n",
       "      <th>global_sentiment_polarity</th>\n",
       "      <th>global_rate_positive_words</th>\n",
       "      <th>global_rate_negative_words</th>\n",
       "      <th>rate_positive_words</th>\n",
       "      <th>rate_negative_words</th>\n",
       "      <th>avg_positive_polarity</th>\n",
       "      <th>min_positive_polarity</th>\n",
       "      <th>max_positive_polarity</th>\n",
       "      <th>avg_negative_polarity</th>\n",
       "      <th>min_negative_polarity</th>\n",
       "      <th>max_negative_polarity</th>\n",
       "      <th>title_subjectivity</th>\n",
       "      <th>title_sentiment_polarity</th>\n",
       "      <th>abs_title_subjectivity</th>\n",
       "      <th>abs_title_sentiment_polarity</th>\n",
       "      <th>shares</th>\n",
       "    </tr>\n",
       "  </thead>\n",
       "  <tbody>\n",
       "    <tr>\n",
       "      <th>22087</th>\n",
       "      <td>295.0</td>\n",
       "      <td>10.0</td>\n",
       "      <td>291.0</td>\n",
       "      <td>0.584775</td>\n",
       "      <td>1.0</td>\n",
       "      <td>0.792683</td>\n",
       "      <td>9.0</td>\n",
       "      <td>4.0</td>\n",
       "      <td>2.0</td>\n",
       "      <td>0.0</td>\n",
       "      <td>4.797251</td>\n",
       "      <td>10.0</td>\n",
       "      <td>1.0</td>\n",
       "      <td>0.0</td>\n",
       "      <td>0.0</td>\n",
       "      <td>0.0</td>\n",
       "      <td>0.0</td>\n",
       "      <td>0.0</td>\n",
       "      <td>-1.0</td>\n",
       "      <td>474.0</td>\n",
       "      <td>230.111111</td>\n",
       "      <td>0.0</td>\n",
       "      <td>843300.0</td>\n",
       "      <td>172520.000000</td>\n",
       "      <td>0.000000</td>\n",
       "      <td>6901.963303</td>\n",
       "      <td>3713.878246</td>\n",
       "      <td>3000.0</td>\n",
       "      <td>3000.0</td>\n",
       "      <td>3000.0</td>\n",
       "      <td>0.0</td>\n",
       "      <td>0.0</td>\n",
       "      <td>1.0</td>\n",
       "      <td>0.0</td>\n",
       "      <td>0.0</td>\n",
       "      <td>0.0</td>\n",
       "      <td>0.0</td>\n",
       "      <td>0.0</td>\n",
       "      <td>0.817682</td>\n",
       "      <td>0.121907</td>\n",
       "      <td>0.020021</td>\n",
       "      <td>0.020070</td>\n",
       "      <td>0.020320</td>\n",
       "      <td>0.480934</td>\n",
       "      <td>0.084975</td>\n",
       "      <td>0.034364</td>\n",
       "      <td>0.020619</td>\n",
       "      <td>0.625000</td>\n",
       "      <td>0.375000</td>\n",
       "      <td>0.365606</td>\n",
       "      <td>0.033333</td>\n",
       "      <td>0.80</td>\n",
       "      <td>-0.269444</td>\n",
       "      <td>-0.500000</td>\n",
       "      <td>-0.125000</td>\n",
       "      <td>0.0</td>\n",
       "      <td>0.0</td>\n",
       "      <td>0.5</td>\n",
       "      <td>0.0</td>\n",
       "      <td>748</td>\n",
       "    </tr>\n",
       "    <tr>\n",
       "      <th>9849</th>\n",
       "      <td>545.0</td>\n",
       "      <td>13.0</td>\n",
       "      <td>404.0</td>\n",
       "      <td>0.549367</td>\n",
       "      <td>1.0</td>\n",
       "      <td>0.652672</td>\n",
       "      <td>17.0</td>\n",
       "      <td>2.0</td>\n",
       "      <td>1.0</td>\n",
       "      <td>0.0</td>\n",
       "      <td>5.027228</td>\n",
       "      <td>7.0</td>\n",
       "      <td>0.0</td>\n",
       "      <td>0.0</td>\n",
       "      <td>0.0</td>\n",
       "      <td>0.0</td>\n",
       "      <td>0.0</td>\n",
       "      <td>1.0</td>\n",
       "      <td>4.0</td>\n",
       "      <td>143.0</td>\n",
       "      <td>71.285714</td>\n",
       "      <td>13100.0</td>\n",
       "      <td>843300.0</td>\n",
       "      <td>232285.714286</td>\n",
       "      <td>1368.444444</td>\n",
       "      <td>3303.462238</td>\n",
       "      <td>2227.736414</td>\n",
       "      <td>838.0</td>\n",
       "      <td>838.0</td>\n",
       "      <td>838.0</td>\n",
       "      <td>0.0</td>\n",
       "      <td>0.0</td>\n",
       "      <td>0.0</td>\n",
       "      <td>0.0</td>\n",
       "      <td>1.0</td>\n",
       "      <td>0.0</td>\n",
       "      <td>0.0</td>\n",
       "      <td>0.0</td>\n",
       "      <td>0.028572</td>\n",
       "      <td>0.028572</td>\n",
       "      <td>0.885712</td>\n",
       "      <td>0.028571</td>\n",
       "      <td>0.028574</td>\n",
       "      <td>0.410718</td>\n",
       "      <td>0.030829</td>\n",
       "      <td>0.014851</td>\n",
       "      <td>0.007426</td>\n",
       "      <td>0.666667</td>\n",
       "      <td>0.333333</td>\n",
       "      <td>0.153182</td>\n",
       "      <td>0.100000</td>\n",
       "      <td>0.25</td>\n",
       "      <td>-0.444444</td>\n",
       "      <td>-0.666667</td>\n",
       "      <td>-0.166667</td>\n",
       "      <td>0.0</td>\n",
       "      <td>0.0</td>\n",
       "      <td>0.5</td>\n",
       "      <td>0.0</td>\n",
       "      <td>735</td>\n",
       "    </tr>\n",
       "  </tbody>\n",
       "</table>\n",
       "</div>"
      ],
      "text/plain": [
       "       timedelta  n_tokens_title  n_tokens_content  n_unique_tokens  \\\n",
       "22087      295.0            10.0             291.0         0.584775   \n",
       "9849       545.0            13.0             404.0         0.549367   \n",
       "\n",
       "       n_non_stop_words  n_non_stop_unique_tokens  num_hrefs  num_self_hrefs  \\\n",
       "22087               1.0                  0.792683        9.0             4.0   \n",
       "9849                1.0                  0.652672       17.0             2.0   \n",
       "\n",
       "       num_imgs  num_videos  average_token_length  num_keywords  \\\n",
       "22087       2.0         0.0              4.797251          10.0   \n",
       "9849        1.0         0.0              5.027228           7.0   \n",
       "\n",
       "       data_channel_is_lifestyle  data_channel_is_entertainment  \\\n",
       "22087                        1.0                            0.0   \n",
       "9849                         0.0                            0.0   \n",
       "\n",
       "       data_channel_is_bus  data_channel_is_socmed  data_channel_is_tech  \\\n",
       "22087                  0.0                     0.0                   0.0   \n",
       "9849                   0.0                     0.0                   0.0   \n",
       "\n",
       "       data_channel_is_world  kw_min_min  kw_max_min  kw_avg_min  kw_min_max  \\\n",
       "22087                    0.0        -1.0       474.0  230.111111         0.0   \n",
       "9849                     1.0         4.0       143.0   71.285714     13100.0   \n",
       "\n",
       "       kw_max_max     kw_avg_max   kw_min_avg   kw_max_avg   kw_avg_avg  \\\n",
       "22087    843300.0  172520.000000     0.000000  6901.963303  3713.878246   \n",
       "9849     843300.0  232285.714286  1368.444444  3303.462238  2227.736414   \n",
       "\n",
       "       self_reference_min_shares  self_reference_max_shares  \\\n",
       "22087                     3000.0                     3000.0   \n",
       "9849                       838.0                      838.0   \n",
       "\n",
       "       self_reference_avg_sharess  weekday_is_monday  weekday_is_tuesday  \\\n",
       "22087                      3000.0                0.0                 0.0   \n",
       "9849                        838.0                0.0                 0.0   \n",
       "\n",
       "       weekday_is_wednesday  weekday_is_thursday  weekday_is_friday  \\\n",
       "22087                   1.0                  0.0                0.0   \n",
       "9849                    0.0                  0.0                1.0   \n",
       "\n",
       "       weekday_is_saturday  weekday_is_sunday  is_weekend    LDA_00    LDA_01  \\\n",
       "22087                  0.0                0.0         0.0  0.817682  0.121907   \n",
       "9849                   0.0                0.0         0.0  0.028572  0.028572   \n",
       "\n",
       "         LDA_02    LDA_03    LDA_04  global_subjectivity  \\\n",
       "22087  0.020021  0.020070  0.020320             0.480934   \n",
       "9849   0.885712  0.028571  0.028574             0.410718   \n",
       "\n",
       "       global_sentiment_polarity  global_rate_positive_words  \\\n",
       "22087                   0.084975                    0.034364   \n",
       "9849                    0.030829                    0.014851   \n",
       "\n",
       "       global_rate_negative_words  rate_positive_words  rate_negative_words  \\\n",
       "22087                    0.020619             0.625000             0.375000   \n",
       "9849                     0.007426             0.666667             0.333333   \n",
       "\n",
       "       avg_positive_polarity  min_positive_polarity  max_positive_polarity  \\\n",
       "22087               0.365606               0.033333                   0.80   \n",
       "9849                0.153182               0.100000                   0.25   \n",
       "\n",
       "       avg_negative_polarity  min_negative_polarity  max_negative_polarity  \\\n",
       "22087              -0.269444              -0.500000              -0.125000   \n",
       "9849               -0.444444              -0.666667              -0.166667   \n",
       "\n",
       "       title_subjectivity  title_sentiment_polarity  abs_title_subjectivity  \\\n",
       "22087                 0.0                       0.0                     0.5   \n",
       "9849                  0.0                       0.0                     0.5   \n",
       "\n",
       "       abs_title_sentiment_polarity  shares  \n",
       "22087                           0.0     748  \n",
       "9849                            0.0     735  "
      ]
     },
     "execution_count": 618,
     "metadata": {},
     "output_type": "execute_result"
    }
   ],
   "source": [
    "df_shuffle.head(2)"
   ]
  },
  {
   "cell_type": "code",
   "execution_count": 683,
   "metadata": {},
   "outputs": [
    {
     "data": {
      "text/plain": [
       "(39644, 60)"
      ]
     },
     "execution_count": 683,
     "metadata": {},
     "output_type": "execute_result"
    }
   ],
   "source": [
    "df_cont=df_shuffle\n",
    "df_cont.shape"
   ]
  },
  {
   "cell_type": "code",
   "execution_count": 658,
   "metadata": {},
   "outputs": [
    {
     "data": {
      "text/html": [
       "<div>\n",
       "<style scoped>\n",
       "    .dataframe tbody tr th:only-of-type {\n",
       "        vertical-align: middle;\n",
       "    }\n",
       "\n",
       "    .dataframe tbody tr th {\n",
       "        vertical-align: top;\n",
       "    }\n",
       "\n",
       "    .dataframe thead th {\n",
       "        text-align: right;\n",
       "    }\n",
       "</style>\n",
       "<table border=\"1\" class=\"dataframe\">\n",
       "  <thead>\n",
       "    <tr style=\"text-align: right;\">\n",
       "      <th></th>\n",
       "      <th>timedelta</th>\n",
       "      <th>n_tokens_title</th>\n",
       "      <th>n_tokens_content</th>\n",
       "      <th>n_unique_tokens</th>\n",
       "      <th>n_non_stop_words</th>\n",
       "      <th>n_non_stop_unique_tokens</th>\n",
       "      <th>num_hrefs</th>\n",
       "      <th>num_self_hrefs</th>\n",
       "      <th>num_imgs</th>\n",
       "      <th>num_videos</th>\n",
       "      <th>average_token_length</th>\n",
       "      <th>num_keywords</th>\n",
       "      <th>data_channel_is_lifestyle</th>\n",
       "      <th>data_channel_is_entertainment</th>\n",
       "      <th>data_channel_is_bus</th>\n",
       "      <th>data_channel_is_socmed</th>\n",
       "      <th>data_channel_is_tech</th>\n",
       "      <th>data_channel_is_world</th>\n",
       "      <th>kw_min_min</th>\n",
       "      <th>kw_max_min</th>\n",
       "      <th>kw_avg_min</th>\n",
       "      <th>kw_min_max</th>\n",
       "      <th>kw_max_max</th>\n",
       "      <th>kw_avg_max</th>\n",
       "      <th>kw_min_avg</th>\n",
       "      <th>kw_max_avg</th>\n",
       "      <th>kw_avg_avg</th>\n",
       "      <th>self_reference_min_shares</th>\n",
       "      <th>self_reference_max_shares</th>\n",
       "      <th>self_reference_avg_sharess</th>\n",
       "      <th>weekday_is_monday</th>\n",
       "      <th>weekday_is_tuesday</th>\n",
       "      <th>weekday_is_wednesday</th>\n",
       "      <th>weekday_is_thursday</th>\n",
       "      <th>weekday_is_friday</th>\n",
       "      <th>weekday_is_saturday</th>\n",
       "      <th>weekday_is_sunday</th>\n",
       "      <th>is_weekend</th>\n",
       "      <th>LDA_00</th>\n",
       "      <th>LDA_01</th>\n",
       "      <th>LDA_02</th>\n",
       "      <th>LDA_03</th>\n",
       "      <th>LDA_04</th>\n",
       "      <th>global_subjectivity</th>\n",
       "      <th>global_sentiment_polarity</th>\n",
       "      <th>global_rate_positive_words</th>\n",
       "      <th>global_rate_negative_words</th>\n",
       "      <th>rate_positive_words</th>\n",
       "      <th>rate_negative_words</th>\n",
       "      <th>avg_positive_polarity</th>\n",
       "      <th>min_positive_polarity</th>\n",
       "      <th>max_positive_polarity</th>\n",
       "      <th>avg_negative_polarity</th>\n",
       "      <th>min_negative_polarity</th>\n",
       "      <th>max_negative_polarity</th>\n",
       "      <th>title_subjectivity</th>\n",
       "      <th>title_sentiment_polarity</th>\n",
       "      <th>abs_title_subjectivity</th>\n",
       "      <th>abs_title_sentiment_polarity</th>\n",
       "      <th>shares</th>\n",
       "    </tr>\n",
       "  </thead>\n",
       "  <tbody>\n",
       "    <tr>\n",
       "      <th>22087</th>\n",
       "      <td>0.396957</td>\n",
       "      <td>0.380952</td>\n",
       "      <td>0.034340</td>\n",
       "      <td>0.000834</td>\n",
       "      <td>0.00096</td>\n",
       "      <td>0.001220</td>\n",
       "      <td>0.029605</td>\n",
       "      <td>0.034483</td>\n",
       "      <td>0.015625</td>\n",
       "      <td>0.000000</td>\n",
       "      <td>0.596559</td>\n",
       "      <td>1.000000</td>\n",
       "      <td>1.0</td>\n",
       "      <td>0.0</td>\n",
       "      <td>0.0</td>\n",
       "      <td>0.0</td>\n",
       "      <td>0.0</td>\n",
       "      <td>0.0</td>\n",
       "      <td>0.000000</td>\n",
       "      <td>0.001588</td>\n",
       "      <td>0.005396</td>\n",
       "      <td>0.000000</td>\n",
       "      <td>1.000000</td>\n",
       "      <td>0.204577</td>\n",
       "      <td>0.000277</td>\n",
       "      <td>0.023130</td>\n",
       "      <td>0.085244</td>\n",
       "      <td>0.003557</td>\n",
       "      <td>0.003557</td>\n",
       "      <td>0.003557</td>\n",
       "      <td>0.0</td>\n",
       "      <td>0.0</td>\n",
       "      <td>1.0</td>\n",
       "      <td>0.0</td>\n",
       "      <td>0.0</td>\n",
       "      <td>0.0</td>\n",
       "      <td>0.0</td>\n",
       "      <td>0.0</td>\n",
       "      <td>0.882079</td>\n",
       "      <td>0.131657</td>\n",
       "      <td>0.021762</td>\n",
       "      <td>0.021661</td>\n",
       "      <td>0.021916</td>\n",
       "      <td>0.480934</td>\n",
       "      <td>0.426827</td>\n",
       "      <td>0.221009</td>\n",
       "      <td>0.111493</td>\n",
       "      <td>0.625000</td>\n",
       "      <td>0.375000</td>\n",
       "      <td>0.365606</td>\n",
       "      <td>0.033333</td>\n",
       "      <td>0.80</td>\n",
       "      <td>0.730556</td>\n",
       "      <td>0.500000</td>\n",
       "      <td>0.875000</td>\n",
       "      <td>0.000000</td>\n",
       "      <td>0.500000</td>\n",
       "      <td>1.000000</td>\n",
       "      <td>0.000000</td>\n",
       "      <td>0.000886</td>\n",
       "    </tr>\n",
       "    <tr>\n",
       "      <th>9849</th>\n",
       "      <td>0.742739</td>\n",
       "      <td>0.523810</td>\n",
       "      <td>0.047675</td>\n",
       "      <td>0.000784</td>\n",
       "      <td>0.00096</td>\n",
       "      <td>0.001004</td>\n",
       "      <td>0.055921</td>\n",
       "      <td>0.017241</td>\n",
       "      <td>0.007812</td>\n",
       "      <td>0.000000</td>\n",
       "      <td>0.625158</td>\n",
       "      <td>0.666667</td>\n",
       "      <td>0.0</td>\n",
       "      <td>0.0</td>\n",
       "      <td>0.0</td>\n",
       "      <td>0.0</td>\n",
       "      <td>0.0</td>\n",
       "      <td>1.0</td>\n",
       "      <td>0.013228</td>\n",
       "      <td>0.000479</td>\n",
       "      <td>0.001688</td>\n",
       "      <td>0.015534</td>\n",
       "      <td>1.000000</td>\n",
       "      <td>0.275448</td>\n",
       "      <td>0.378923</td>\n",
       "      <td>0.011071</td>\n",
       "      <td>0.051133</td>\n",
       "      <td>0.000994</td>\n",
       "      <td>0.000994</td>\n",
       "      <td>0.000994</td>\n",
       "      <td>0.0</td>\n",
       "      <td>0.0</td>\n",
       "      <td>0.0</td>\n",
       "      <td>0.0</td>\n",
       "      <td>1.0</td>\n",
       "      <td>0.0</td>\n",
       "      <td>0.0</td>\n",
       "      <td>0.0</td>\n",
       "      <td>0.030822</td>\n",
       "      <td>0.030857</td>\n",
       "      <td>0.962731</td>\n",
       "      <td>0.030837</td>\n",
       "      <td>0.030817</td>\n",
       "      <td>0.410718</td>\n",
       "      <td>0.378551</td>\n",
       "      <td>0.095515</td>\n",
       "      <td>0.040154</td>\n",
       "      <td>0.666667</td>\n",
       "      <td>0.333333</td>\n",
       "      <td>0.153182</td>\n",
       "      <td>0.100000</td>\n",
       "      <td>0.25</td>\n",
       "      <td>0.555556</td>\n",
       "      <td>0.333333</td>\n",
       "      <td>0.833333</td>\n",
       "      <td>0.000000</td>\n",
       "      <td>0.500000</td>\n",
       "      <td>1.000000</td>\n",
       "      <td>0.000000</td>\n",
       "      <td>0.000870</td>\n",
       "    </tr>\n",
       "    <tr>\n",
       "      <th>28004</th>\n",
       "      <td>0.254495</td>\n",
       "      <td>0.285714</td>\n",
       "      <td>0.043427</td>\n",
       "      <td>0.000618</td>\n",
       "      <td>0.00096</td>\n",
       "      <td>0.000816</td>\n",
       "      <td>0.016447</td>\n",
       "      <td>0.043103</td>\n",
       "      <td>0.015625</td>\n",
       "      <td>0.000000</td>\n",
       "      <td>0.513638</td>\n",
       "      <td>0.444444</td>\n",
       "      <td>0.0</td>\n",
       "      <td>0.0</td>\n",
       "      <td>0.0</td>\n",
       "      <td>0.0</td>\n",
       "      <td>1.0</td>\n",
       "      <td>0.0</td>\n",
       "      <td>0.000000</td>\n",
       "      <td>0.002899</td>\n",
       "      <td>0.005366</td>\n",
       "      <td>0.008419</td>\n",
       "      <td>1.000000</td>\n",
       "      <td>0.520693</td>\n",
       "      <td>0.554781</td>\n",
       "      <td>0.011894</td>\n",
       "      <td>0.062804</td>\n",
       "      <td>0.001542</td>\n",
       "      <td>0.016483</td>\n",
       "      <td>0.009012</td>\n",
       "      <td>1.0</td>\n",
       "      <td>0.0</td>\n",
       "      <td>0.0</td>\n",
       "      <td>0.0</td>\n",
       "      <td>0.0</td>\n",
       "      <td>0.0</td>\n",
       "      <td>0.0</td>\n",
       "      <td>0.0</td>\n",
       "      <td>0.043151</td>\n",
       "      <td>0.043203</td>\n",
       "      <td>0.043479</td>\n",
       "      <td>0.043172</td>\n",
       "      <td>0.905956</td>\n",
       "      <td>0.450728</td>\n",
       "      <td>0.501715</td>\n",
       "      <td>0.297101</td>\n",
       "      <td>0.073470</td>\n",
       "      <td>0.772727</td>\n",
       "      <td>0.227273</td>\n",
       "      <td>0.303170</td>\n",
       "      <td>0.100000</td>\n",
       "      <td>1.00</td>\n",
       "      <td>0.856270</td>\n",
       "      <td>0.800000</td>\n",
       "      <td>0.928571</td>\n",
       "      <td>0.300000</td>\n",
       "      <td>0.500000</td>\n",
       "      <td>0.400000</td>\n",
       "      <td>0.000000</td>\n",
       "      <td>0.002015</td>\n",
       "    </tr>\n",
       "    <tr>\n",
       "      <th>30837</th>\n",
       "      <td>0.192254</td>\n",
       "      <td>0.571429</td>\n",
       "      <td>0.051806</td>\n",
       "      <td>0.000820</td>\n",
       "      <td>0.00096</td>\n",
       "      <td>0.001227</td>\n",
       "      <td>0.013158</td>\n",
       "      <td>0.017241</td>\n",
       "      <td>0.007812</td>\n",
       "      <td>0.000000</td>\n",
       "      <td>0.593162</td>\n",
       "      <td>0.666667</td>\n",
       "      <td>0.0</td>\n",
       "      <td>1.0</td>\n",
       "      <td>0.0</td>\n",
       "      <td>0.0</td>\n",
       "      <td>0.0</td>\n",
       "      <td>0.0</td>\n",
       "      <td>0.000000</td>\n",
       "      <td>0.003686</td>\n",
       "      <td>0.006404</td>\n",
       "      <td>0.016246</td>\n",
       "      <td>1.000000</td>\n",
       "      <td>0.307618</td>\n",
       "      <td>0.856614</td>\n",
       "      <td>0.017715</td>\n",
       "      <td>0.095456</td>\n",
       "      <td>0.011502</td>\n",
       "      <td>0.025969</td>\n",
       "      <td>0.018736</td>\n",
       "      <td>0.0</td>\n",
       "      <td>0.0</td>\n",
       "      <td>0.0</td>\n",
       "      <td>1.0</td>\n",
       "      <td>0.0</td>\n",
       "      <td>0.0</td>\n",
       "      <td>0.0</td>\n",
       "      <td>0.0</td>\n",
       "      <td>0.030825</td>\n",
       "      <td>0.806062</td>\n",
       "      <td>0.031058</td>\n",
       "      <td>0.031009</td>\n",
       "      <td>0.180923</td>\n",
       "      <td>0.480681</td>\n",
       "      <td>0.476106</td>\n",
       "      <td>0.351601</td>\n",
       "      <td>0.147811</td>\n",
       "      <td>0.666667</td>\n",
       "      <td>0.333333</td>\n",
       "      <td>0.458460</td>\n",
       "      <td>0.100000</td>\n",
       "      <td>1.00</td>\n",
       "      <td>0.664087</td>\n",
       "      <td>0.250000</td>\n",
       "      <td>0.900000</td>\n",
       "      <td>0.300000</td>\n",
       "      <td>0.550000</td>\n",
       "      <td>0.400000</td>\n",
       "      <td>0.100000</td>\n",
       "      <td>0.011027</td>\n",
       "    </tr>\n",
       "    <tr>\n",
       "      <th>22399</th>\n",
       "      <td>0.388658</td>\n",
       "      <td>0.523810</td>\n",
       "      <td>0.042837</td>\n",
       "      <td>0.000850</td>\n",
       "      <td>0.00096</td>\n",
       "      <td>0.001157</td>\n",
       "      <td>0.003289</td>\n",
       "      <td>0.000000</td>\n",
       "      <td>0.000000</td>\n",
       "      <td>0.010989</td>\n",
       "      <td>0.566960</td>\n",
       "      <td>0.555556</td>\n",
       "      <td>0.0</td>\n",
       "      <td>0.0</td>\n",
       "      <td>1.0</td>\n",
       "      <td>0.0</td>\n",
       "      <td>0.0</td>\n",
       "      <td>0.0</td>\n",
       "      <td>0.000000</td>\n",
       "      <td>0.005362</td>\n",
       "      <td>0.011605</td>\n",
       "      <td>0.000000</td>\n",
       "      <td>1.000000</td>\n",
       "      <td>0.455334</td>\n",
       "      <td>0.000277</td>\n",
       "      <td>0.068321</td>\n",
       "      <td>0.132665</td>\n",
       "      <td>0.000000</td>\n",
       "      <td>0.000000</td>\n",
       "      <td>0.000000</td>\n",
       "      <td>0.0</td>\n",
       "      <td>1.0</td>\n",
       "      <td>0.0</td>\n",
       "      <td>0.0</td>\n",
       "      <td>0.0</td>\n",
       "      <td>0.0</td>\n",
       "      <td>0.0</td>\n",
       "      <td>0.0</td>\n",
       "      <td>0.576336</td>\n",
       "      <td>0.036005</td>\n",
       "      <td>0.036259</td>\n",
       "      <td>0.216321</td>\n",
       "      <td>0.214210</td>\n",
       "      <td>0.509041</td>\n",
       "      <td>0.542350</td>\n",
       "      <td>0.354346</td>\n",
       "      <td>0.059586</td>\n",
       "      <td>0.833333</td>\n",
       "      <td>0.166667</td>\n",
       "      <td>0.352684</td>\n",
       "      <td>0.033333</td>\n",
       "      <td>0.70</td>\n",
       "      <td>0.763393</td>\n",
       "      <td>0.500000</td>\n",
       "      <td>0.928571</td>\n",
       "      <td>0.454545</td>\n",
       "      <td>0.568182</td>\n",
       "      <td>0.090909</td>\n",
       "      <td>0.136364</td>\n",
       "      <td>0.004149</td>\n",
       "    </tr>\n",
       "    <tr>\n",
       "      <th>29327</th>\n",
       "      <td>0.225450</td>\n",
       "      <td>0.714286</td>\n",
       "      <td>0.075879</td>\n",
       "      <td>0.000650</td>\n",
       "      <td>0.00096</td>\n",
       "      <td>0.000879</td>\n",
       "      <td>0.029605</td>\n",
       "      <td>0.017241</td>\n",
       "      <td>0.015625</td>\n",
       "      <td>0.000000</td>\n",
       "      <td>0.541125</td>\n",
       "      <td>0.666667</td>\n",
       "      <td>0.0</td>\n",
       "      <td>1.0</td>\n",
       "      <td>0.0</td>\n",
       "      <td>0.0</td>\n",
       "      <td>0.0</td>\n",
       "      <td>0.0</td>\n",
       "      <td>0.000000</td>\n",
       "      <td>0.002084</td>\n",
       "      <td>0.003189</td>\n",
       "      <td>0.000000</td>\n",
       "      <td>1.000000</td>\n",
       "      <td>0.255120</td>\n",
       "      <td>0.000277</td>\n",
       "      <td>0.011817</td>\n",
       "      <td>0.040428</td>\n",
       "      <td>0.001897</td>\n",
       "      <td>0.002016</td>\n",
       "      <td>0.001957</td>\n",
       "      <td>1.0</td>\n",
       "      <td>0.0</td>\n",
       "      <td>0.0</td>\n",
       "      <td>0.0</td>\n",
       "      <td>0.0</td>\n",
       "      <td>0.0</td>\n",
       "      <td>0.0</td>\n",
       "      <td>0.0</td>\n",
       "      <td>0.030827</td>\n",
       "      <td>0.765217</td>\n",
       "      <td>0.031102</td>\n",
       "      <td>0.221995</td>\n",
       "      <td>0.030817</td>\n",
       "      <td>0.462397</td>\n",
       "      <td>0.519431</td>\n",
       "      <td>0.320068</td>\n",
       "      <td>0.075687</td>\n",
       "      <td>0.780488</td>\n",
       "      <td>0.219512</td>\n",
       "      <td>0.487362</td>\n",
       "      <td>0.062500</td>\n",
       "      <td>0.80</td>\n",
       "      <td>0.677160</td>\n",
       "      <td>0.500000</td>\n",
       "      <td>0.844444</td>\n",
       "      <td>0.300000</td>\n",
       "      <td>0.633333</td>\n",
       "      <td>0.400000</td>\n",
       "      <td>0.266667</td>\n",
       "      <td>0.001185</td>\n",
       "    </tr>\n",
       "    <tr>\n",
       "      <th>35443</th>\n",
       "      <td>0.091286</td>\n",
       "      <td>0.428571</td>\n",
       "      <td>0.070215</td>\n",
       "      <td>0.000688</td>\n",
       "      <td>0.00096</td>\n",
       "      <td>0.000956</td>\n",
       "      <td>0.049342</td>\n",
       "      <td>0.034483</td>\n",
       "      <td>0.046875</td>\n",
       "      <td>0.000000</td>\n",
       "      <td>0.562207</td>\n",
       "      <td>0.666667</td>\n",
       "      <td>0.0</td>\n",
       "      <td>0.0</td>\n",
       "      <td>0.0</td>\n",
       "      <td>0.0</td>\n",
       "      <td>1.0</td>\n",
       "      <td>0.0</td>\n",
       "      <td>0.000000</td>\n",
       "      <td>0.001374</td>\n",
       "      <td>0.002515</td>\n",
       "      <td>0.031898</td>\n",
       "      <td>1.000000</td>\n",
       "      <td>0.605987</td>\n",
       "      <td>0.605184</td>\n",
       "      <td>0.014760</td>\n",
       "      <td>0.072793</td>\n",
       "      <td>0.001186</td>\n",
       "      <td>0.003202</td>\n",
       "      <td>0.002411</td>\n",
       "      <td>0.0</td>\n",
       "      <td>0.0</td>\n",
       "      <td>0.0</td>\n",
       "      <td>0.0</td>\n",
       "      <td>0.0</td>\n",
       "      <td>0.0</td>\n",
       "      <td>1.0</td>\n",
       "      <td>1.0</td>\n",
       "      <td>0.218294</td>\n",
       "      <td>0.030953</td>\n",
       "      <td>0.210001</td>\n",
       "      <td>0.030877</td>\n",
       "      <td>0.590141</td>\n",
       "      <td>0.465209</td>\n",
       "      <td>0.589357</td>\n",
       "      <td>0.453979</td>\n",
       "      <td>0.009088</td>\n",
       "      <td>0.976744</td>\n",
       "      <td>0.023256</td>\n",
       "      <td>0.355916</td>\n",
       "      <td>0.033333</td>\n",
       "      <td>1.00</td>\n",
       "      <td>0.833333</td>\n",
       "      <td>0.833333</td>\n",
       "      <td>0.833333</td>\n",
       "      <td>0.500000</td>\n",
       "      <td>0.750000</td>\n",
       "      <td>0.000000</td>\n",
       "      <td>0.500000</td>\n",
       "      <td>0.003912</td>\n",
       "    </tr>\n",
       "    <tr>\n",
       "      <th>16627</th>\n",
       "      <td>0.554633</td>\n",
       "      <td>0.428571</td>\n",
       "      <td>0.069271</td>\n",
       "      <td>0.000711</td>\n",
       "      <td>0.00096</td>\n",
       "      <td>0.001059</td>\n",
       "      <td>0.016447</td>\n",
       "      <td>0.008621</td>\n",
       "      <td>0.007812</td>\n",
       "      <td>0.000000</td>\n",
       "      <td>0.557582</td>\n",
       "      <td>0.888889</td>\n",
       "      <td>1.0</td>\n",
       "      <td>0.0</td>\n",
       "      <td>0.0</td>\n",
       "      <td>0.0</td>\n",
       "      <td>0.0</td>\n",
       "      <td>0.0</td>\n",
       "      <td>0.013228</td>\n",
       "      <td>0.002523</td>\n",
       "      <td>0.005931</td>\n",
       "      <td>0.000000</td>\n",
       "      <td>1.000000</td>\n",
       "      <td>0.196121</td>\n",
       "      <td>0.000277</td>\n",
       "      <td>0.014603</td>\n",
       "      <td>0.060026</td>\n",
       "      <td>0.003320</td>\n",
       "      <td>0.003320</td>\n",
       "      <td>0.003320</td>\n",
       "      <td>1.0</td>\n",
       "      <td>0.0</td>\n",
       "      <td>0.0</td>\n",
       "      <td>0.0</td>\n",
       "      <td>0.0</td>\n",
       "      <td>0.0</td>\n",
       "      <td>0.0</td>\n",
       "      <td>0.0</td>\n",
       "      <td>0.024589</td>\n",
       "      <td>0.024008</td>\n",
       "      <td>0.145774</td>\n",
       "      <td>0.024039</td>\n",
       "      <td>0.861302</td>\n",
       "      <td>0.474195</td>\n",
       "      <td>0.465677</td>\n",
       "      <td>0.262952</td>\n",
       "      <td>0.055272</td>\n",
       "      <td>0.800000</td>\n",
       "      <td>0.200000</td>\n",
       "      <td>0.347948</td>\n",
       "      <td>0.100000</td>\n",
       "      <td>0.60</td>\n",
       "      <td>0.786574</td>\n",
       "      <td>0.500000</td>\n",
       "      <td>0.875000</td>\n",
       "      <td>0.000000</td>\n",
       "      <td>0.500000</td>\n",
       "      <td>1.000000</td>\n",
       "      <td>0.000000</td>\n",
       "      <td>0.004149</td>\n",
       "    </tr>\n",
       "    <tr>\n",
       "      <th>16655</th>\n",
       "      <td>0.553250</td>\n",
       "      <td>0.476190</td>\n",
       "      <td>0.077767</td>\n",
       "      <td>0.000698</td>\n",
       "      <td>0.00096</td>\n",
       "      <td>0.001037</td>\n",
       "      <td>0.075658</td>\n",
       "      <td>0.077586</td>\n",
       "      <td>0.109375</td>\n",
       "      <td>0.000000</td>\n",
       "      <td>0.552896</td>\n",
       "      <td>0.777778</td>\n",
       "      <td>0.0</td>\n",
       "      <td>1.0</td>\n",
       "      <td>0.0</td>\n",
       "      <td>0.0</td>\n",
       "      <td>0.0</td>\n",
       "      <td>0.0</td>\n",
       "      <td>0.000000</td>\n",
       "      <td>0.002182</td>\n",
       "      <td>0.005987</td>\n",
       "      <td>0.000000</td>\n",
       "      <td>1.000000</td>\n",
       "      <td>0.200418</td>\n",
       "      <td>0.000277</td>\n",
       "      <td>0.012459</td>\n",
       "      <td>0.051958</td>\n",
       "      <td>0.001156</td>\n",
       "      <td>0.002609</td>\n",
       "      <td>0.001868</td>\n",
       "      <td>0.0</td>\n",
       "      <td>1.0</td>\n",
       "      <td>0.0</td>\n",
       "      <td>0.0</td>\n",
       "      <td>0.0</td>\n",
       "      <td>0.0</td>\n",
       "      <td>0.0</td>\n",
       "      <td>0.0</td>\n",
       "      <td>0.026970</td>\n",
       "      <td>0.027394</td>\n",
       "      <td>0.027205</td>\n",
       "      <td>0.970896</td>\n",
       "      <td>0.027003</td>\n",
       "      <td>0.484821</td>\n",
       "      <td>0.508935</td>\n",
       "      <td>0.263501</td>\n",
       "      <td>0.106671</td>\n",
       "      <td>0.675000</td>\n",
       "      <td>0.325000</td>\n",
       "      <td>0.397551</td>\n",
       "      <td>0.062500</td>\n",
       "      <td>0.90</td>\n",
       "      <td>0.820253</td>\n",
       "      <td>0.600000</td>\n",
       "      <td>0.950000</td>\n",
       "      <td>0.800000</td>\n",
       "      <td>0.700000</td>\n",
       "      <td>0.600000</td>\n",
       "      <td>0.400000</td>\n",
       "      <td>0.000714</td>\n",
       "    </tr>\n",
       "    <tr>\n",
       "      <th>7224</th>\n",
       "      <td>0.813278</td>\n",
       "      <td>0.380952</td>\n",
       "      <td>0.015577</td>\n",
       "      <td>0.001031</td>\n",
       "      <td>0.00096</td>\n",
       "      <td>0.001252</td>\n",
       "      <td>0.019737</td>\n",
       "      <td>0.000000</td>\n",
       "      <td>0.000000</td>\n",
       "      <td>0.010989</td>\n",
       "      <td>0.543579</td>\n",
       "      <td>0.555556</td>\n",
       "      <td>0.0</td>\n",
       "      <td>0.0</td>\n",
       "      <td>0.0</td>\n",
       "      <td>0.0</td>\n",
       "      <td>0.0</td>\n",
       "      <td>0.0</td>\n",
       "      <td>0.013228</td>\n",
       "      <td>0.001139</td>\n",
       "      <td>0.004039</td>\n",
       "      <td>0.000000</td>\n",
       "      <td>0.818688</td>\n",
       "      <td>0.399225</td>\n",
       "      <td>0.000277</td>\n",
       "      <td>0.016352</td>\n",
       "      <td>0.062370</td>\n",
       "      <td>0.000000</td>\n",
       "      <td>0.000000</td>\n",
       "      <td>0.000000</td>\n",
       "      <td>0.0</td>\n",
       "      <td>0.0</td>\n",
       "      <td>1.0</td>\n",
       "      <td>0.0</td>\n",
       "      <td>0.0</td>\n",
       "      <td>0.0</td>\n",
       "      <td>0.0</td>\n",
       "      <td>0.0</td>\n",
       "      <td>0.035959</td>\n",
       "      <td>0.036057</td>\n",
       "      <td>0.036232</td>\n",
       "      <td>0.935326</td>\n",
       "      <td>0.035951</td>\n",
       "      <td>0.657792</td>\n",
       "      <td>0.647055</td>\n",
       "      <td>0.243613</td>\n",
       "      <td>0.040965</td>\n",
       "      <td>0.833333</td>\n",
       "      <td>0.166667</td>\n",
       "      <td>0.502273</td>\n",
       "      <td>0.136364</td>\n",
       "      <td>1.00</td>\n",
       "      <td>0.812500</td>\n",
       "      <td>0.812500</td>\n",
       "      <td>0.812500</td>\n",
       "      <td>0.200000</td>\n",
       "      <td>0.550000</td>\n",
       "      <td>0.600000</td>\n",
       "      <td>0.100000</td>\n",
       "      <td>0.115260</td>\n",
       "    </tr>\n",
       "  </tbody>\n",
       "</table>\n",
       "</div>"
      ],
      "text/plain": [
       "       timedelta  n_tokens_title  n_tokens_content  n_unique_tokens  \\\n",
       "22087   0.396957        0.380952          0.034340         0.000834   \n",
       "9849    0.742739        0.523810          0.047675         0.000784   \n",
       "28004   0.254495        0.285714          0.043427         0.000618   \n",
       "30837   0.192254        0.571429          0.051806         0.000820   \n",
       "22399   0.388658        0.523810          0.042837         0.000850   \n",
       "29327   0.225450        0.714286          0.075879         0.000650   \n",
       "35443   0.091286        0.428571          0.070215         0.000688   \n",
       "16627   0.554633        0.428571          0.069271         0.000711   \n",
       "16655   0.553250        0.476190          0.077767         0.000698   \n",
       "7224    0.813278        0.380952          0.015577         0.001031   \n",
       "\n",
       "       n_non_stop_words  n_non_stop_unique_tokens  num_hrefs  num_self_hrefs  \\\n",
       "22087           0.00096                  0.001220   0.029605        0.034483   \n",
       "9849            0.00096                  0.001004   0.055921        0.017241   \n",
       "28004           0.00096                  0.000816   0.016447        0.043103   \n",
       "30837           0.00096                  0.001227   0.013158        0.017241   \n",
       "22399           0.00096                  0.001157   0.003289        0.000000   \n",
       "29327           0.00096                  0.000879   0.029605        0.017241   \n",
       "35443           0.00096                  0.000956   0.049342        0.034483   \n",
       "16627           0.00096                  0.001059   0.016447        0.008621   \n",
       "16655           0.00096                  0.001037   0.075658        0.077586   \n",
       "7224            0.00096                  0.001252   0.019737        0.000000   \n",
       "\n",
       "       num_imgs  num_videos  average_token_length  num_keywords  \\\n",
       "22087  0.015625    0.000000              0.596559      1.000000   \n",
       "9849   0.007812    0.000000              0.625158      0.666667   \n",
       "28004  0.015625    0.000000              0.513638      0.444444   \n",
       "30837  0.007812    0.000000              0.593162      0.666667   \n",
       "22399  0.000000    0.010989              0.566960      0.555556   \n",
       "29327  0.015625    0.000000              0.541125      0.666667   \n",
       "35443  0.046875    0.000000              0.562207      0.666667   \n",
       "16627  0.007812    0.000000              0.557582      0.888889   \n",
       "16655  0.109375    0.000000              0.552896      0.777778   \n",
       "7224   0.000000    0.010989              0.543579      0.555556   \n",
       "\n",
       "       data_channel_is_lifestyle  data_channel_is_entertainment  \\\n",
       "22087                        1.0                            0.0   \n",
       "9849                         0.0                            0.0   \n",
       "28004                        0.0                            0.0   \n",
       "30837                        0.0                            1.0   \n",
       "22399                        0.0                            0.0   \n",
       "29327                        0.0                            1.0   \n",
       "35443                        0.0                            0.0   \n",
       "16627                        1.0                            0.0   \n",
       "16655                        0.0                            1.0   \n",
       "7224                         0.0                            0.0   \n",
       "\n",
       "       data_channel_is_bus  data_channel_is_socmed  data_channel_is_tech  \\\n",
       "22087                  0.0                     0.0                   0.0   \n",
       "9849                   0.0                     0.0                   0.0   \n",
       "28004                  0.0                     0.0                   1.0   \n",
       "30837                  0.0                     0.0                   0.0   \n",
       "22399                  1.0                     0.0                   0.0   \n",
       "29327                  0.0                     0.0                   0.0   \n",
       "35443                  0.0                     0.0                   1.0   \n",
       "16627                  0.0                     0.0                   0.0   \n",
       "16655                  0.0                     0.0                   0.0   \n",
       "7224                   0.0                     0.0                   0.0   \n",
       "\n",
       "       data_channel_is_world  kw_min_min  kw_max_min  kw_avg_min  kw_min_max  \\\n",
       "22087                    0.0    0.000000    0.001588    0.005396    0.000000   \n",
       "9849                     1.0    0.013228    0.000479    0.001688    0.015534   \n",
       "28004                    0.0    0.000000    0.002899    0.005366    0.008419   \n",
       "30837                    0.0    0.000000    0.003686    0.006404    0.016246   \n",
       "22399                    0.0    0.000000    0.005362    0.011605    0.000000   \n",
       "29327                    0.0    0.000000    0.002084    0.003189    0.000000   \n",
       "35443                    0.0    0.000000    0.001374    0.002515    0.031898   \n",
       "16627                    0.0    0.013228    0.002523    0.005931    0.000000   \n",
       "16655                    0.0    0.000000    0.002182    0.005987    0.000000   \n",
       "7224                     0.0    0.013228    0.001139    0.004039    0.000000   \n",
       "\n",
       "       kw_max_max  kw_avg_max  kw_min_avg  kw_max_avg  kw_avg_avg  \\\n",
       "22087    1.000000    0.204577    0.000277    0.023130    0.085244   \n",
       "9849     1.000000    0.275448    0.378923    0.011071    0.051133   \n",
       "28004    1.000000    0.520693    0.554781    0.011894    0.062804   \n",
       "30837    1.000000    0.307618    0.856614    0.017715    0.095456   \n",
       "22399    1.000000    0.455334    0.000277    0.068321    0.132665   \n",
       "29327    1.000000    0.255120    0.000277    0.011817    0.040428   \n",
       "35443    1.000000    0.605987    0.605184    0.014760    0.072793   \n",
       "16627    1.000000    0.196121    0.000277    0.014603    0.060026   \n",
       "16655    1.000000    0.200418    0.000277    0.012459    0.051958   \n",
       "7224     0.818688    0.399225    0.000277    0.016352    0.062370   \n",
       "\n",
       "       self_reference_min_shares  self_reference_max_shares  \\\n",
       "22087                   0.003557                   0.003557   \n",
       "9849                    0.000994                   0.000994   \n",
       "28004                   0.001542                   0.016483   \n",
       "30837                   0.011502                   0.025969   \n",
       "22399                   0.000000                   0.000000   \n",
       "29327                   0.001897                   0.002016   \n",
       "35443                   0.001186                   0.003202   \n",
       "16627                   0.003320                   0.003320   \n",
       "16655                   0.001156                   0.002609   \n",
       "7224                    0.000000                   0.000000   \n",
       "\n",
       "       self_reference_avg_sharess  weekday_is_monday  weekday_is_tuesday  \\\n",
       "22087                    0.003557                0.0                 0.0   \n",
       "9849                     0.000994                0.0                 0.0   \n",
       "28004                    0.009012                1.0                 0.0   \n",
       "30837                    0.018736                0.0                 0.0   \n",
       "22399                    0.000000                0.0                 1.0   \n",
       "29327                    0.001957                1.0                 0.0   \n",
       "35443                    0.002411                0.0                 0.0   \n",
       "16627                    0.003320                1.0                 0.0   \n",
       "16655                    0.001868                0.0                 1.0   \n",
       "7224                     0.000000                0.0                 0.0   \n",
       "\n",
       "       weekday_is_wednesday  weekday_is_thursday  weekday_is_friday  \\\n",
       "22087                   1.0                  0.0                0.0   \n",
       "9849                    0.0                  0.0                1.0   \n",
       "28004                   0.0                  0.0                0.0   \n",
       "30837                   0.0                  1.0                0.0   \n",
       "22399                   0.0                  0.0                0.0   \n",
       "29327                   0.0                  0.0                0.0   \n",
       "35443                   0.0                  0.0                0.0   \n",
       "16627                   0.0                  0.0                0.0   \n",
       "16655                   0.0                  0.0                0.0   \n",
       "7224                    1.0                  0.0                0.0   \n",
       "\n",
       "       weekday_is_saturday  weekday_is_sunday  is_weekend    LDA_00    LDA_01  \\\n",
       "22087                  0.0                0.0         0.0  0.882079  0.131657   \n",
       "9849                   0.0                0.0         0.0  0.030822  0.030857   \n",
       "28004                  0.0                0.0         0.0  0.043151  0.043203   \n",
       "30837                  0.0                0.0         0.0  0.030825  0.806062   \n",
       "22399                  0.0                0.0         0.0  0.576336  0.036005   \n",
       "29327                  0.0                0.0         0.0  0.030827  0.765217   \n",
       "35443                  0.0                1.0         1.0  0.218294  0.030953   \n",
       "16627                  0.0                0.0         0.0  0.024589  0.024008   \n",
       "16655                  0.0                0.0         0.0  0.026970  0.027394   \n",
       "7224                   0.0                0.0         0.0  0.035959  0.036057   \n",
       "\n",
       "         LDA_02    LDA_03    LDA_04  global_subjectivity  \\\n",
       "22087  0.021762  0.021661  0.021916             0.480934   \n",
       "9849   0.962731  0.030837  0.030817             0.410718   \n",
       "28004  0.043479  0.043172  0.905956             0.450728   \n",
       "30837  0.031058  0.031009  0.180923             0.480681   \n",
       "22399  0.036259  0.216321  0.214210             0.509041   \n",
       "29327  0.031102  0.221995  0.030817             0.462397   \n",
       "35443  0.210001  0.030877  0.590141             0.465209   \n",
       "16627  0.145774  0.024039  0.861302             0.474195   \n",
       "16655  0.027205  0.970896  0.027003             0.484821   \n",
       "7224   0.036232  0.935326  0.035951             0.657792   \n",
       "\n",
       "       global_sentiment_polarity  global_rate_positive_words  \\\n",
       "22087                   0.426827                    0.221009   \n",
       "9849                    0.378551                    0.095515   \n",
       "28004                   0.501715                    0.297101   \n",
       "30837                   0.476106                    0.351601   \n",
       "22399                   0.542350                    0.354346   \n",
       "29327                   0.519431                    0.320068   \n",
       "35443                   0.589357                    0.453979   \n",
       "16627                   0.465677                    0.262952   \n",
       "16655                   0.508935                    0.263501   \n",
       "7224                    0.647055                    0.243613   \n",
       "\n",
       "       global_rate_negative_words  rate_positive_words  rate_negative_words  \\\n",
       "22087                    0.111493             0.625000             0.375000   \n",
       "9849                     0.040154             0.666667             0.333333   \n",
       "28004                    0.073470             0.772727             0.227273   \n",
       "30837                    0.147811             0.666667             0.333333   \n",
       "22399                    0.059586             0.833333             0.166667   \n",
       "29327                    0.075687             0.780488             0.219512   \n",
       "35443                    0.009088             0.976744             0.023256   \n",
       "16627                    0.055272             0.800000             0.200000   \n",
       "16655                    0.106671             0.675000             0.325000   \n",
       "7224                     0.040965             0.833333             0.166667   \n",
       "\n",
       "       avg_positive_polarity  min_positive_polarity  max_positive_polarity  \\\n",
       "22087               0.365606               0.033333                   0.80   \n",
       "9849                0.153182               0.100000                   0.25   \n",
       "28004               0.303170               0.100000                   1.00   \n",
       "30837               0.458460               0.100000                   1.00   \n",
       "22399               0.352684               0.033333                   0.70   \n",
       "29327               0.487362               0.062500                   0.80   \n",
       "35443               0.355916               0.033333                   1.00   \n",
       "16627               0.347948               0.100000                   0.60   \n",
       "16655               0.397551               0.062500                   0.90   \n",
       "7224                0.502273               0.136364                   1.00   \n",
       "\n",
       "       avg_negative_polarity  min_negative_polarity  max_negative_polarity  \\\n",
       "22087               0.730556               0.500000               0.875000   \n",
       "9849                0.555556               0.333333               0.833333   \n",
       "28004               0.856270               0.800000               0.928571   \n",
       "30837               0.664087               0.250000               0.900000   \n",
       "22399               0.763393               0.500000               0.928571   \n",
       "29327               0.677160               0.500000               0.844444   \n",
       "35443               0.833333               0.833333               0.833333   \n",
       "16627               0.786574               0.500000               0.875000   \n",
       "16655               0.820253               0.600000               0.950000   \n",
       "7224                0.812500               0.812500               0.812500   \n",
       "\n",
       "       title_subjectivity  title_sentiment_polarity  abs_title_subjectivity  \\\n",
       "22087            0.000000                  0.500000                1.000000   \n",
       "9849             0.000000                  0.500000                1.000000   \n",
       "28004            0.300000                  0.500000                0.400000   \n",
       "30837            0.300000                  0.550000                0.400000   \n",
       "22399            0.454545                  0.568182                0.090909   \n",
       "29327            0.300000                  0.633333                0.400000   \n",
       "35443            0.500000                  0.750000                0.000000   \n",
       "16627            0.000000                  0.500000                1.000000   \n",
       "16655            0.800000                  0.700000                0.600000   \n",
       "7224             0.200000                  0.550000                0.600000   \n",
       "\n",
       "       abs_title_sentiment_polarity    shares  \n",
       "22087                      0.000000  0.000886  \n",
       "9849                       0.000000  0.000870  \n",
       "28004                      0.000000  0.002015  \n",
       "30837                      0.100000  0.011027  \n",
       "22399                      0.136364  0.004149  \n",
       "29327                      0.266667  0.001185  \n",
       "35443                      0.500000  0.003912  \n",
       "16627                      0.000000  0.004149  \n",
       "16655                      0.400000  0.000714  \n",
       "7224                       0.100000  0.115260  "
      ]
     },
     "execution_count": 658,
     "metadata": {},
     "output_type": "execute_result"
    }
   ],
   "source": [
    "#Range normalise all columns\n",
    "df_norm = (df_cont - df_cont.min()) / (df_cont.max() - df_cont.min())\n",
    "df_norm.head(10)"
   ]
  },
  {
   "cell_type": "code",
   "execution_count": 659,
   "metadata": {},
   "outputs": [
    {
     "data": {
      "text/plain": [
       "<matplotlib.axes._subplots.AxesSubplot at 0x184a13378d0>"
      ]
     },
     "execution_count": 659,
     "metadata": {},
     "output_type": "execute_result"
    },
    {
     "data": {
      "image/png": "[encoded data removed]",
      "text/plain": [
       "<matplotlib.figure.Figure at 0x18493772278>"
      ]
     },
     "metadata": {},
     "output_type": "display_data"
    }
   ],
   "source": [
    "df_norm.plot(kind='scatter', x='global_rate_positive_words', y='shares', label=\"%.3f\" % df_norm[['global_rate_positive_words', 'shares']].corr().as_matrix()[0,1])\n",
    "#df.plot(kind='scatter', x='Floor', y='RentalPrice', label=\"%.3f\" % df[['Floor', 'RentalPrice']].corr().as_matrix()[0,1])\n",
    "#df.plot(kind='scatter', x='BroadbandRate', y='RentalPrice', label=\"%.3f\" % df[['BroadbandRate', 'RentalPrice']].corr().as_matrix()[0,1])"
   ]
  },
  {
   "cell_type": "code",
   "execution_count": 1021,
   "metadata": {},
   "outputs": [
    {
     "data": {
      "text/plain": [
       "<matplotlib.axes._subplots.AxesSubplot at 0x184a127a940>"
      ]
     },
     "execution_count": 1021,
     "metadata": {},
     "output_type": "execute_result"
    },
    {
     "data": {
      "image/png": "[encoded data removed]",
      "text/plain": [
       "<matplotlib.figure.Figure at 0x18488aeab38>"
      ]
     },
     "metadata": {},
     "output_type": "display_data"
    }
   ],
   "source": [
    "df_norm.plot(kind='scatter', x='LDA_02', y='shares', label=\"%.3f\" % df_norm[['global_rate_positive_words', 'shares']].corr().as_matrix()[0,1])\n",
    "#df.plot(kind='scatter', x='Floor', y='RentalPrice', label=\"%.3f\" % df[['Floor', 'RentalPrice']].corr().as_matrix()[0,1])\n",
    "#df.plot(kind='scatter', x='BroadbandRate', y='RentalPrice', label=\"%.3f\" % df[['BroadbandRate', 'RentalPrice']].corr().as_matrix()[0,1])"
   ]
  },
  {
   "cell_type": "code",
   "execution_count": 1022,
   "metadata": {},
   "outputs": [
    {
     "data": {
      "text/plain": [
       "<matplotlib.axes._subplots.AxesSubplot at 0x184a0fb03c8>"
      ]
     },
     "execution_count": 1022,
     "metadata": {},
     "output_type": "execute_result"
    },
    {
     "data": {
      "image/png": "[encoded data removed]",
      "text/plain": [
       "<matplotlib.figure.Figure at 0x184c08e6b00>"
      ]
     },
     "metadata": {},
     "output_type": "display_data"
    }
   ],
   "source": [
    "df_norm.plot(kind='scatter', x='self_reference_max_shares', y='shares', label=\"%.3f\" % df_norm[['global_rate_positive_words', 'shares']].corr().as_matrix()[0,1])\n",
    "#df.plot(kind='scatter', x='Floor', y='RentalPrice', label=\"%.3f\" % df[['Floor', 'RentalPrice']].corr().as_matrix()[0,1])\n",
    "#df.plot(kind='scatter', x='BroadbandRate', y='RentalPrice', label=\"%.3f\" % df[['BroadbandRate', 'RentalPrice']].corr().as_matrix()[0,1])"
   ]
  },
  {
   "cell_type": "code",
   "execution_count": 1024,
   "metadata": {},
   "outputs": [
    {
     "data": {
      "text/plain": [
       "<matplotlib.axes._subplots.AxesSubplot at 0x18488ac3208>"
      ]
     },
     "execution_count": 1024,
     "metadata": {},
     "output_type": "execute_result"
    },
    {
     "data": {
      "image/png": "[encoded data removed]",
      "text/plain": [
       "<matplotlib.figure.Figure at 0x18488afe400>"
      ]
     },
     "metadata": {},
     "output_type": "display_data"
    }
   ],
   "source": [
    "df_norm.plot(kind='scatter', x='LDA_01', y='shares', label=\"%.3f\" % df_norm[['global_rate_positive_words', 'shares']].corr().as_matrix()[0,1])\n",
    "#df.plot(kind='scatter', x='Floor', y='RentalPrice', label=\"%.3f\" % df[['Floor', 'RentalPrice']].corr().as_matrix()[0,1])\n",
    "#df.plot(kind='scatter', x='BroadbandRate', y='RentalPrice', label=\"%.3f\" % df[['BroadbandRate', 'RentalPrice']].corr().as_matrix()[0,1])"
   ]
  },
  {
   "cell_type": "code",
   "execution_count": 1025,
   "metadata": {},
   "outputs": [
    {
     "data": {
      "text/plain": [
       "<matplotlib.axes._subplots.AxesSubplot at 0x18495213a90>"
      ]
     },
     "execution_count": 1025,
     "metadata": {},
     "output_type": "execute_result"
    },
    {
     "data": {
      "image/png": "[encoded data removed]",
      "text/plain": [
       "<matplotlib.figure.Figure at 0x18488b0d828>"
      ]
     },
     "metadata": {},
     "output_type": "display_data"
    }
   ],
   "source": [
    "df_norm.plot(kind='scatter', x='kw_max_min', y='shares', label=\"%.3f\" % df_norm[['global_rate_positive_words', 'shares']].corr().as_matrix()[0,1])\n",
    "#df.plot(kind='scatter', x='Floor', y='RentalPrice', label=\"%.3f\" % df[['Floor', 'RentalPrice']].corr().as_matrix()[0,1])\n",
    "#df.plot(kind='scatter', x='BroadbandRate', y='RentalPrice', label=\"%.3f\" % df[['BroadbandRate', 'RentalPrice']].corr().as_matrix()[0,1])"
   ]
  },
  {
   "cell_type": "code",
   "execution_count": 1026,
   "metadata": {},
   "outputs": [
    {
     "data": {
      "text/plain": [
       "(39644, 60)"
      ]
     },
     "execution_count": 1026,
     "metadata": {},
     "output_type": "execute_result"
    }
   ],
   "source": [
    "df_norm.shape"
   ]
  },
  {
   "cell_type": "code",
   "execution_count": 665,
   "metadata": {},
   "outputs": [
    {
     "data": {
      "text/plain": [
       "(27750, 60)"
      ]
     },
     "execution_count": 665,
     "metadata": {},
     "output_type": "execute_result"
    }
   ],
   "source": [
    "df_train_norm=df_norm.head(a)\n",
    "df_train_norm.shape"
   ]
  },
  {
   "cell_type": "code",
   "execution_count": 666,
   "metadata": {},
   "outputs": [
    {
     "data": {
      "text/plain": [
       "(11894, 60)"
      ]
     },
     "execution_count": 666,
     "metadata": {},
     "output_type": "execute_result"
    }
   ],
   "source": [
    "df_test_norm=df_norm.head(b)\n",
    "df_test_norm.shape"
   ]
  },
  {
   "cell_type": "code",
   "execution_count": 1008,
   "metadata": {},
   "outputs": [
    {
     "name": "stdout",
     "output_type": "stream",
     "text": [
      "                            OLS Regression Results                            \n",
      "==============================================================================\n",
      "Dep. Variable:                 shares   R-squared:                       0.018\n",
      "Model:                            OLS   Adj. R-squared:                  0.018\n",
      "Method:                 Least Squares   F-statistic:                     25.78\n",
      "Date:                Mon, 30 Apr 2018   Prob (F-statistic):           1.36e-95\n",
      "Time:                        00:41:59   Log-Likelihood:                 80490.\n",
      "No. Observations:               27750   AIC:                        -1.609e+05\n",
      "Df Residuals:                   27729   BIC:                        -1.608e+05\n",
      "Df Model:                          20                                         \n",
      "Covariance Type:            nonrobust                                         \n",
      "==============================================================================================\n",
      "                                 coef    std err          t      P>|t|      [0.025      0.975]\n",
      "----------------------------------------------------------------------------------------------\n",
      "Intercept                     -0.3451      1.934     -0.178      0.858      -4.137       3.446\n",
      "LDA_00                         0.3216      1.793      0.179      0.858      -3.193       3.836\n",
      "LDA_01                         0.3200      1.791      0.179      0.858      -3.190       3.830\n",
      "LDA_02                         0.3184      1.779      0.179      0.858      -3.170       3.806\n",
      "LDA_03                         0.3224      1.792      0.180      0.857      -3.190       3.835\n",
      "LDA_04                         0.3215      1.793      0.179      0.858      -3.193       3.837\n",
      "average_token_length          -0.0017      0.003     -0.654      0.513      -0.007       0.003\n",
      "avg_negative_polarity         -0.0020      0.001     -2.372      0.018      -0.004      -0.000\n",
      "avg_positive_polarity         -0.0028      0.001     -2.273      0.023      -0.005      -0.000\n",
      "global_rate_positive_words    -0.0026      0.001     -2.484      0.013      -0.005      -0.001\n",
      "global_sentiment_polarity      0.0033      0.002      2.175      0.030       0.000       0.006\n",
      "global_subjectivity            0.0036      0.001      3.192      0.001       0.001       0.006\n",
      "kw_avg_avg                     0.0730      0.006     11.475      0.000       0.061       0.085\n",
      "kw_avg_max                    -0.0026      0.001     -3.815      0.000      -0.004      -0.001\n",
      "kw_avg_min                    -0.0155      0.016     -0.964      0.335      -0.047       0.016\n",
      "kw_max_avg                    -0.0528      0.008     -6.292      0.000      -0.069      -0.036\n",
      "kw_max_min                     0.0220      0.019      1.177      0.239      -0.015       0.059\n",
      "n_non_stop_unique_tokens      -2.6401      1.296     -2.036      0.042      -5.181      -0.099\n",
      "n_non_stop_words              -1.0562      2.017     -0.524      0.600      -5.009       2.896\n",
      "n_tokens_content               0.0078      0.002      3.376      0.001       0.003       0.012\n",
      "n_unique_tokens                4.0455      1.656      2.443      0.015       0.800       7.291\n",
      "==============================================================================\n",
      "Omnibus:                    76873.309   Durbin-Watson:                   1.995\n",
      "Prob(Omnibus):                  0.000   Jarque-Bera (JB):       4791467428.715\n",
      "Skew:                          35.302   Prob(JB):                         0.00\n",
      "Kurtosis:                    2037.450   Cond. No.                     1.03e+05\n",
      "==============================================================================\n",
      "\n",
      "Warnings:\n",
      "[1] Standard Errors assume that the covariance matrix of the errors is correctly specified.\n",
      "[2] The condition number is large, 1.03e+05. This might indicate that there are\n",
      "strong multicollinearity or other numerical problems.\n"
     ]
    }
   ],
   "source": [
    "#Train a model with all the normalised features\n",
    "lm_norm= sm.ols(formula=\"shares ~  LDA_00 + LDA_01 + LDA_02 + LDA_03 + LDA_04 + average_token_length + avg_negative_polarity + avg_positive_polarity +  global_rate_positive_words + global_sentiment_polarity + global_subjectivity + kw_avg_avg + kw_avg_max + kw_avg_min + kw_max_avg + kw_max_min  + n_non_stop_unique_tokens + n_non_stop_words + n_tokens_content + n_unique_tokens \", data=df_train_norm).fit()\n",
    "print(lm_norm.summary())"
   ]
  },
  {
   "cell_type": "markdown",
   "metadata": {},
   "source": [
    "### Evaluating the model on train data"
   ]
  },
  {
   "cell_type": "code",
   "execution_count": 668,
   "metadata": {},
   "outputs": [
    {
     "data": {
      "text/plain": [
       "22087    0.004593\n",
       "9849     0.003266\n",
       "28004    0.003056\n",
       "30837    0.004340\n",
       "22399    0.005759\n",
       "dtype: float64"
      ]
     },
     "execution_count": 668,
     "metadata": {},
     "output_type": "execute_result"
    }
   ],
   "source": [
    "predictions_train_norm = lm_norm.predict(df_train_norm)\n",
    "predictions_train_norm.head(5)\n"
   ]
  },
  {
   "cell_type": "code",
   "execution_count": 669,
   "metadata": {},
   "outputs": [
    {
     "data": {
      "text/plain": [
       "count    27750.000000\n",
       "mean         0.004007\n",
       "std          0.001815\n",
       "min         -0.000883\n",
       "25%          0.002737\n",
       "50%          0.003672\n",
       "75%          0.004941\n",
       "max          0.032094\n",
       "dtype: float64"
      ]
     },
     "execution_count": 669,
     "metadata": {},
     "output_type": "execute_result"
    }
   ],
   "source": [
    "predictions_train_norm.describe()"
   ]
  },
  {
   "cell_type": "code",
   "execution_count": 670,
   "metadata": {},
   "outputs": [
    {
     "data": {
      "text/plain": [
       "0    16109\n",
       "1    11641\n",
       "dtype: int64"
      ]
     },
     "execution_count": 670,
     "metadata": {},
     "output_type": "execute_result"
    }
   ],
   "source": [
    "predictions_train_norm = predictions_train_norm.apply(lambda res: 1 if res > predictions_train_norm.mean()  else 0)\n",
    "predictions_train_norm.value_counts()"
   ]
  },
  {
   "cell_type": "code",
   "execution_count": 671,
   "metadata": {},
   "outputs": [
    {
     "name": "stderr",
     "output_type": "stream",
     "text": [
      "C:\\Users\\anjal\\anaconda3\\lib\\site-packages\\ipykernel_launcher.py:1: SettingWithCopyWarning: \n",
      "A value is trying to be set on a copy of a slice from a DataFrame.\n",
      "Try using .loc[row_indexer,col_indexer] = value instead\n",
      "\n",
      "See the caveats in the documentation: http://pandas.pydata.org/pandas-docs/stable/indexing.html#indexing-view-versus-copy\n",
      "  \"\"\"Entry point for launching an IPython kernel.\n"
     ]
    },
    {
     "data": {
      "text/plain": [
       "0    22040\n",
       "1     5710\n",
       "Name: shares_binary, dtype: int64"
      ]
     },
     "execution_count": 671,
     "metadata": {},
     "output_type": "execute_result"
    }
   ],
   "source": [
    "df_train_norm['shares_binary'] = np.where(df_train_norm['shares'] >=df_train_norm['shares'].mean(), 1, 0)\n",
    "df_train_norm['shares_binary'].value_counts()"
   ]
  },
  {
   "cell_type": "code",
   "execution_count": 672,
   "metadata": {},
   "outputs": [
    {
     "name": "stdout",
     "output_type": "stream",
     "text": [
      "Descriptive features:\n",
      " 22087    1\n",
      "9849     0\n",
      "28004    0\n",
      "30837    1\n",
      "dtype: int64\n",
      "\n",
      "Target feature:\n",
      " 22087    0\n",
      "9849     0\n",
      "28004    0\n",
      "30837    1\n",
      "Name: shares_binary, dtype: int32\n"
     ]
    }
   ],
   "source": [
    "\n",
    "# Prepare the descriptive features\n",
    "x_norm = predictions_train_norm\n",
    "y_norm = df_train_norm.shares_binary\n",
    "print(\"Descriptive features:\\n\", x_norm.head(4))\n",
    "print(\"\\nTarget feature:\\n\", y_norm.head(4))"
   ]
  },
  {
   "cell_type": "code",
   "execution_count": 673,
   "metadata": {},
   "outputs": [
    {
     "name": "stdout",
     "output_type": "stream",
     "text": [
      "Accuracy:  0.6236036036036036\n",
      "Confusion matrix: \n",
      " [[13852  8188]\n",
      " [ 2257  3453]]\n",
      "Classification report:\n",
      "               precision    recall  f1-score   support\n",
      "\n",
      "          0       0.86      0.63      0.73     22040\n",
      "          1       0.30      0.60      0.40      5710\n",
      "\n",
      "avg / total       0.74      0.62      0.66     27750\n",
      "\n"
     ]
    }
   ],
   "source": [
    "# Some more evaluation metrics for train data\n",
    "print(\"Accuracy: \", metrics.accuracy_score(y_norm, x_norm))\n",
    "print(\"Confusion matrix: \\n\", metrics.confusion_matrix(y_norm, x_norm))\n",
    "print(\"Classification report:\\n \", metrics.classification_report(y_norm, x_norm))"
   ]
  },
  {
   "cell_type": "markdown",
   "metadata": {},
   "source": [
    "### Evaluating the model on test data"
   ]
  },
  {
   "cell_type": "code",
   "execution_count": 674,
   "metadata": {},
   "outputs": [
    {
     "data": {
      "text/plain": [
       "22087    0.004593\n",
       "9849     0.003266\n",
       "28004    0.003056\n",
       "30837    0.004340\n",
       "22399    0.005759\n",
       "dtype: float64"
      ]
     },
     "execution_count": 674,
     "metadata": {},
     "output_type": "execute_result"
    }
   ],
   "source": [
    "predictions_test_norm = lm_norm.predict(df_test_norm)\n",
    "predictions_test_norm.head(5)\n"
   ]
  },
  {
   "cell_type": "code",
   "execution_count": 675,
   "metadata": {},
   "outputs": [
    {
     "data": {
      "text/plain": [
       "count    11894.000000\n",
       "mean         0.004018\n",
       "std          0.001802\n",
       "min         -0.000883\n",
       "25%          0.002762\n",
       "50%          0.003688\n",
       "75%          0.004940\n",
       "max          0.026717\n",
       "dtype: float64"
      ]
     },
     "execution_count": 675,
     "metadata": {},
     "output_type": "execute_result"
    }
   ],
   "source": [
    "predictions_test_norm.describe()"
   ]
  },
  {
   "cell_type": "code",
   "execution_count": 676,
   "metadata": {},
   "outputs": [
    {
     "data": {
      "text/plain": [
       "0    6861\n",
       "1    5033\n",
       "dtype: int64"
      ]
     },
     "execution_count": 676,
     "metadata": {},
     "output_type": "execute_result"
    }
   ],
   "source": [
    "predictions_test_norm = predictions_test_norm.apply(lambda res: 1 if res > predictions_test_norm.mean()  else 0)\n",
    "predictions_test_norm.value_counts()"
   ]
  },
  {
   "cell_type": "code",
   "execution_count": 677,
   "metadata": {},
   "outputs": [
    {
     "name": "stderr",
     "output_type": "stream",
     "text": [
      "C:\\Users\\anjal\\anaconda3\\lib\\site-packages\\ipykernel_launcher.py:1: SettingWithCopyWarning: \n",
      "A value is trying to be set on a copy of a slice from a DataFrame.\n",
      "Try using .loc[row_indexer,col_indexer] = value instead\n",
      "\n",
      "See the caveats in the documentation: http://pandas.pydata.org/pandas-docs/stable/indexing.html#indexing-view-versus-copy\n",
      "  \"\"\"Entry point for launching an IPython kernel.\n"
     ]
    },
    {
     "data": {
      "text/plain": [
       "0    9408\n",
       "1    2486\n",
       "Name: shares_binary, dtype: int64"
      ]
     },
     "execution_count": 677,
     "metadata": {},
     "output_type": "execute_result"
    }
   ],
   "source": [
    "df_test_norm['shares_binary'] = np.where(df_test_norm['shares'] >=df_test_norm['shares'].mean(), 1, 0)\n",
    "df_test_norm['shares_binary'].value_counts()"
   ]
  },
  {
   "cell_type": "code",
   "execution_count": 678,
   "metadata": {},
   "outputs": [
    {
     "name": "stdout",
     "output_type": "stream",
     "text": [
      "Descriptive features:\n",
      " 22087    1\n",
      "9849     0\n",
      "28004    0\n",
      "30837    1\n",
      "dtype: int64\n",
      "\n",
      "Target feature:\n",
      " 22087    0\n",
      "9849     0\n",
      "28004    0\n",
      "30837    1\n",
      "Name: shares_binary, dtype: int32\n"
     ]
    }
   ],
   "source": [
    "\n",
    "# Prepare the descriptive features\n",
    "x_norm = predictions_test_norm\n",
    "y_norm = df_test_norm.shares_binary\n",
    "print(\"Descriptive features:\\n\", x_norm.head(4))\n",
    "print(\"\\nTarget feature:\\n\", y_norm.head(4))"
   ]
  },
  {
   "cell_type": "code",
   "execution_count": 679,
   "metadata": {},
   "outputs": [
    {
     "name": "stdout",
     "output_type": "stream",
     "text": [
      "Accuracy:  0.6212375987893055\n",
      "Confusion matrix: \n",
      " [[5882 3526]\n",
      " [ 979 1507]]\n",
      "Classification report:\n",
      "               precision    recall  f1-score   support\n",
      "\n",
      "          0       0.86      0.63      0.72      9408\n",
      "          1       0.30      0.61      0.40      2486\n",
      "\n",
      "avg / total       0.74      0.62      0.66     11894\n",
      "\n"
     ]
    }
   ],
   "source": [
    "# Some more evaluation metrics for test data\n",
    "print(\"Accuracy: \", metrics.accuracy_score(y_norm, x_norm))\n",
    "print(\"Confusion matrix: \\n\", metrics.confusion_matrix(y_norm, x_norm))\n",
    "print(\"Classification report:\\n \", metrics.classification_report(y_norm, x_norm))"
   ]
  },
  {
   "cell_type": "markdown",
   "metadata": {},
   "source": [
    "# Data Standardization"
   ]
  },
  {
   "cell_type": "code",
   "execution_count": 1009,
   "metadata": {},
   "outputs": [
    {
     "data": {
      "text/html": [
       "<div>\n",
       "<style scoped>\n",
       "    .dataframe tbody tr th:only-of-type {\n",
       "        vertical-align: middle;\n",
       "    }\n",
       "\n",
       "    .dataframe tbody tr th {\n",
       "        vertical-align: top;\n",
       "    }\n",
       "\n",
       "    .dataframe thead th {\n",
       "        text-align: right;\n",
       "    }\n",
       "</style>\n",
       "<table border=\"1\" class=\"dataframe\">\n",
       "  <thead>\n",
       "    <tr style=\"text-align: right;\">\n",
       "      <th></th>\n",
       "      <th>timedelta</th>\n",
       "      <th>n_tokens_title</th>\n",
       "      <th>n_tokens_content</th>\n",
       "      <th>n_unique_tokens</th>\n",
       "      <th>n_non_stop_words</th>\n",
       "      <th>n_non_stop_unique_tokens</th>\n",
       "      <th>num_hrefs</th>\n",
       "      <th>num_self_hrefs</th>\n",
       "      <th>num_imgs</th>\n",
       "      <th>num_videos</th>\n",
       "      <th>average_token_length</th>\n",
       "      <th>num_keywords</th>\n",
       "      <th>data_channel_is_lifestyle</th>\n",
       "      <th>data_channel_is_entertainment</th>\n",
       "      <th>data_channel_is_bus</th>\n",
       "      <th>data_channel_is_socmed</th>\n",
       "      <th>data_channel_is_tech</th>\n",
       "      <th>data_channel_is_world</th>\n",
       "      <th>kw_min_min</th>\n",
       "      <th>kw_max_min</th>\n",
       "      <th>kw_avg_min</th>\n",
       "      <th>kw_min_max</th>\n",
       "      <th>kw_max_max</th>\n",
       "      <th>kw_avg_max</th>\n",
       "      <th>kw_min_avg</th>\n",
       "      <th>kw_max_avg</th>\n",
       "      <th>kw_avg_avg</th>\n",
       "      <th>self_reference_min_shares</th>\n",
       "      <th>self_reference_max_shares</th>\n",
       "      <th>self_reference_avg_sharess</th>\n",
       "      <th>weekday_is_monday</th>\n",
       "      <th>weekday_is_tuesday</th>\n",
       "      <th>weekday_is_wednesday</th>\n",
       "      <th>weekday_is_thursday</th>\n",
       "      <th>weekday_is_friday</th>\n",
       "      <th>weekday_is_saturday</th>\n",
       "      <th>weekday_is_sunday</th>\n",
       "      <th>is_weekend</th>\n",
       "      <th>LDA_00</th>\n",
       "      <th>LDA_01</th>\n",
       "      <th>LDA_02</th>\n",
       "      <th>LDA_03</th>\n",
       "      <th>LDA_04</th>\n",
       "      <th>global_subjectivity</th>\n",
       "      <th>global_sentiment_polarity</th>\n",
       "      <th>global_rate_positive_words</th>\n",
       "      <th>global_rate_negative_words</th>\n",
       "      <th>rate_positive_words</th>\n",
       "      <th>rate_negative_words</th>\n",
       "      <th>avg_positive_polarity</th>\n",
       "      <th>min_positive_polarity</th>\n",
       "      <th>max_positive_polarity</th>\n",
       "      <th>avg_negative_polarity</th>\n",
       "      <th>min_negative_polarity</th>\n",
       "      <th>max_negative_polarity</th>\n",
       "      <th>title_subjectivity</th>\n",
       "      <th>title_sentiment_polarity</th>\n",
       "      <th>abs_title_subjectivity</th>\n",
       "      <th>abs_title_sentiment_polarity</th>\n",
       "      <th>shares</th>\n",
       "    </tr>\n",
       "  </thead>\n",
       "  <tbody>\n",
       "    <tr>\n",
       "      <th>22087</th>\n",
       "      <td>-0.277967</td>\n",
       "      <td>-0.188620</td>\n",
       "      <td>-0.542370</td>\n",
       "      <td>0.010384</td>\n",
       "      <td>0.000675</td>\n",
       "      <td>0.031704</td>\n",
       "      <td>-0.166227</td>\n",
       "      <td>0.183226</td>\n",
       "      <td>-0.306175</td>\n",
       "      <td>-0.304264</td>\n",
       "      <td>0.294896</td>\n",
       "      <td>1.454187</td>\n",
       "      <td>4.229260</td>\n",
       "      <td>-0.465353</td>\n",
       "      <td>-0.432942</td>\n",
       "      <td>-0.249484</td>\n",
       "      <td>-0.476905</td>\n",
       "      <td>-0.519560</td>\n",
       "      <td>-0.389280</td>\n",
       "      <td>-0.176245</td>\n",
       "      <td>-0.132503</td>\n",
       "      <td>-0.234752</td>\n",
       "      <td>0.424126</td>\n",
       "      <td>-0.642195</td>\n",
       "      <td>-0.982144</td>\n",
       "      <td>0.204095</td>\n",
       "      <td>0.438508</td>\n",
       "      <td>-0.050599</td>\n",
       "      <td>-0.178641</td>\n",
       "      <td>-0.140500</td>\n",
       "      <td>-0.449386</td>\n",
       "      <td>-0.478658</td>\n",
       "      <td>2.081338</td>\n",
       "      <td>-0.473755</td>\n",
       "      <td>-0.409822</td>\n",
       "      <td>-0.256817</td>\n",
       "      <td>-0.272319</td>\n",
       "      <td>-0.388113</td>\n",
       "      <td>2.407391</td>\n",
       "      <td>-0.088065</td>\n",
       "      <td>-0.695742</td>\n",
       "      <td>-0.690062</td>\n",
       "      <td>-0.739008</td>\n",
       "      <td>0.321929</td>\n",
       "      <td>-0.354217</td>\n",
       "      <td>-0.301835</td>\n",
       "      <td>0.370014</td>\n",
       "      <td>-0.300464</td>\n",
       "      <td>0.557561</td>\n",
       "      <td>0.112692</td>\n",
       "      <td>-0.870957</td>\n",
       "      <td>0.174637</td>\n",
       "      <td>-0.077669</td>\n",
       "      <td>0.075593</td>\n",
       "      <td>-0.183488</td>\n",
       "      <td>-0.870796</td>\n",
       "      <td>-0.269073</td>\n",
       "      <td>0.837738</td>\n",
       "      <td>-0.689649</td>\n",
       "      <td>-0.227693</td>\n",
       "    </tr>\n",
       "    <tr>\n",
       "      <th>9849</th>\n",
       "      <td>0.889364</td>\n",
       "      <td>1.230466</td>\n",
       "      <td>-0.302510</td>\n",
       "      <td>0.000327</td>\n",
       "      <td>0.000675</td>\n",
       "      <td>-0.011181</td>\n",
       "      <td>0.539737</td>\n",
       "      <td>-0.335562</td>\n",
       "      <td>-0.426520</td>\n",
       "      <td>-0.304264</td>\n",
       "      <td>0.567249</td>\n",
       "      <td>-0.117209</td>\n",
       "      <td>-0.236442</td>\n",
       "      <td>-0.465353</td>\n",
       "      <td>-0.432942</td>\n",
       "      <td>-0.249484</td>\n",
       "      <td>-0.476905</td>\n",
       "      <td>1.924658</td>\n",
       "      <td>-0.317475</td>\n",
       "      <td>-0.262041</td>\n",
       "      <td>-0.388350</td>\n",
       "      <td>-0.008836</td>\n",
       "      <td>0.424126</td>\n",
       "      <td>-0.199821</td>\n",
       "      <td>0.220930</td>\n",
       "      <td>-0.385932</td>\n",
       "      <td>-0.688937</td>\n",
       "      <td>-0.160130</td>\n",
       "      <td>-0.231337</td>\n",
       "      <td>-0.229797</td>\n",
       "      <td>-0.449386</td>\n",
       "      <td>-0.478658</td>\n",
       "      <td>-0.480448</td>\n",
       "      <td>-0.473755</td>\n",
       "      <td>2.440024</td>\n",
       "      <td>-0.256817</td>\n",
       "      <td>-0.272319</td>\n",
       "      <td>-0.388113</td>\n",
       "      <td>-0.593317</td>\n",
       "      <td>-0.512883</td>\n",
       "      <td>2.372504</td>\n",
       "      <td>-0.661261</td>\n",
       "      <td>-0.710468</td>\n",
       "      <td>-0.279835</td>\n",
       "      <td>-0.912817</td>\n",
       "      <td>-1.421415</td>\n",
       "      <td>-0.848407</td>\n",
       "      <td>-0.081404</td>\n",
       "      <td>0.290734</td>\n",
       "      <td>-1.919255</td>\n",
       "      <td>0.063864</td>\n",
       "      <td>-2.045023</td>\n",
       "      <td>-1.447792</td>\n",
       "      <td>-0.498547</td>\n",
       "      <td>-0.620369</td>\n",
       "      <td>-0.870796</td>\n",
       "      <td>-0.269073</td>\n",
       "      <td>0.837738</td>\n",
       "      <td>-0.689649</td>\n",
       "      <td>-0.228812</td>\n",
       "    </tr>\n",
       "    <tr>\n",
       "      <th>28004</th>\n",
       "      <td>-0.758907</td>\n",
       "      <td>-1.134677</td>\n",
       "      <td>-0.378926</td>\n",
       "      <td>-0.032659</td>\n",
       "      <td>0.000675</td>\n",
       "      <td>-0.048597</td>\n",
       "      <td>-0.519209</td>\n",
       "      <td>0.442620</td>\n",
       "      <td>-0.306175</td>\n",
       "      <td>-0.304264</td>\n",
       "      <td>-0.494791</td>\n",
       "      <td>-1.164806</td>\n",
       "      <td>-0.236442</td>\n",
       "      <td>-0.465353</td>\n",
       "      <td>-0.432942</td>\n",
       "      <td>-0.249484</td>\n",
       "      <td>2.096799</td>\n",
       "      <td>-0.519560</td>\n",
       "      <td>-0.389280</td>\n",
       "      <td>-0.074897</td>\n",
       "      <td>-0.134615</td>\n",
       "      <td>-0.112309</td>\n",
       "      <td>0.424126</td>\n",
       "      <td>1.330978</td>\n",
       "      <td>0.779681</td>\n",
       "      <td>-0.345625</td>\n",
       "      <td>-0.303173</td>\n",
       "      <td>-0.136724</td>\n",
       "      <td>0.087034</td>\n",
       "      <td>0.049493</td>\n",
       "      <td>2.225204</td>\n",
       "      <td>-0.478658</td>\n",
       "      <td>-0.480448</td>\n",
       "      <td>-0.473755</td>\n",
       "      <td>-0.409822</td>\n",
       "      <td>-0.256817</td>\n",
       "      <td>-0.272319</td>\n",
       "      <td>-0.388113</td>\n",
       "      <td>-0.549856</td>\n",
       "      <td>-0.460849</td>\n",
       "      <td>-0.624926</td>\n",
       "      <td>-0.622545</td>\n",
       "      <td>2.095433</td>\n",
       "      <td>0.063061</td>\n",
       "      <td>0.512317</td>\n",
       "      <td>0.377012</td>\n",
       "      <td>-0.279389</td>\n",
       "      <td>0.476204</td>\n",
       "      <td>-0.388463</td>\n",
       "      <td>-0.484537</td>\n",
       "      <td>0.063864</td>\n",
       "      <td>0.981786</td>\n",
       "      <td>0.906583</td>\n",
       "      <td>1.109044</td>\n",
       "      <td>0.378217</td>\n",
       "      <td>0.054424</td>\n",
       "      <td>-0.269073</td>\n",
       "      <td>-0.751322</td>\n",
       "      <td>-0.689649</td>\n",
       "      <td>-0.145815</td>\n",
       "    </tr>\n",
       "    <tr>\n",
       "      <th>30837</th>\n",
       "      <td>-0.969027</td>\n",
       "      <td>1.703495</td>\n",
       "      <td>-0.228217</td>\n",
       "      <td>0.007624</td>\n",
       "      <td>0.000675</td>\n",
       "      <td>0.033201</td>\n",
       "      <td>-0.607455</td>\n",
       "      <td>-0.335562</td>\n",
       "      <td>-0.426520</td>\n",
       "      <td>-0.304264</td>\n",
       "      <td>0.262542</td>\n",
       "      <td>-0.117209</td>\n",
       "      <td>-0.236442</td>\n",
       "      <td>2.148853</td>\n",
       "      <td>-0.432942</td>\n",
       "      <td>-0.249484</td>\n",
       "      <td>-0.476905</td>\n",
       "      <td>-0.519560</td>\n",
       "      <td>-0.389280</td>\n",
       "      <td>-0.013984</td>\n",
       "      <td>-0.062955</td>\n",
       "      <td>0.001512</td>\n",
       "      <td>0.424126</td>\n",
       "      <td>0.000980</td>\n",
       "      <td>1.738694</td>\n",
       "      <td>-0.060826</td>\n",
       "      <td>0.776040</td>\n",
       "      <td>0.288836</td>\n",
       "      <td>0.282025</td>\n",
       "      <td>0.388178</td>\n",
       "      <td>-0.449386</td>\n",
       "      <td>-0.478658</td>\n",
       "      <td>-0.480448</td>\n",
       "      <td>2.110742</td>\n",
       "      <td>-0.409822</td>\n",
       "      <td>-0.256817</td>\n",
       "      <td>-0.272319</td>\n",
       "      <td>-0.388113</td>\n",
       "      <td>-0.593306</td>\n",
       "      <td>2.754187</td>\n",
       "      <td>-0.665429</td>\n",
       "      <td>-0.660721</td>\n",
       "      <td>-0.229194</td>\n",
       "      <td>0.319755</td>\n",
       "      <td>0.216002</td>\n",
       "      <td>0.863226</td>\n",
       "      <td>0.990297</td>\n",
       "      <td>-0.081404</td>\n",
       "      <td>0.290734</td>\n",
       "      <td>1.000884</td>\n",
       "      <td>0.063864</td>\n",
       "      <td>0.981786</td>\n",
       "      <td>-0.598067</td>\n",
       "      <td>-0.785617</td>\n",
       "      <td>0.078641</td>\n",
       "      <td>0.054424</td>\n",
       "      <td>0.107646</td>\n",
       "      <td>-0.751322</td>\n",
       "      <td>-0.247747</td>\n",
       "      <td>0.507839</td>\n",
       "    </tr>\n",
       "    <tr>\n",
       "      <th>22399</th>\n",
       "      <td>-0.305983</td>\n",
       "      <td>1.230466</td>\n",
       "      <td>-0.389539</td>\n",
       "      <td>0.013601</td>\n",
       "      <td>0.000675</td>\n",
       "      <td>0.019308</td>\n",
       "      <td>-0.872192</td>\n",
       "      <td>-0.854350</td>\n",
       "      <td>-0.546866</td>\n",
       "      <td>-0.060828</td>\n",
       "      <td>0.013014</td>\n",
       "      <td>-0.641007</td>\n",
       "      <td>-0.236442</td>\n",
       "      <td>-0.465353</td>\n",
       "      <td>2.309718</td>\n",
       "      <td>-0.249484</td>\n",
       "      <td>-0.476905</td>\n",
       "      <td>-0.519560</td>\n",
       "      <td>-0.389280</td>\n",
       "      <td>0.115617</td>\n",
       "      <td>0.295866</td>\n",
       "      <td>-0.234752</td>\n",
       "      <td>0.424126</td>\n",
       "      <td>0.923015</td>\n",
       "      <td>-0.982144</td>\n",
       "      <td>2.415166</td>\n",
       "      <td>2.005859</td>\n",
       "      <td>-0.202585</td>\n",
       "      <td>-0.251763</td>\n",
       "      <td>-0.264409</td>\n",
       "      <td>-0.449386</td>\n",
       "      <td>2.089123</td>\n",
       "      <td>-0.480448</td>\n",
       "      <td>-0.473755</td>\n",
       "      <td>-0.409822</td>\n",
       "      <td>-0.256817</td>\n",
       "      <td>-0.272319</td>\n",
       "      <td>-0.388113</td>\n",
       "      <td>1.329639</td>\n",
       "      <td>-0.491186</td>\n",
       "      <td>-0.648470</td>\n",
       "      <td>-0.079070</td>\n",
       "      <td>-0.122468</td>\n",
       "      <td>0.562803</td>\n",
       "      <td>0.982511</td>\n",
       "      <td>0.887710</td>\n",
       "      <td>-0.516526</td>\n",
       "      <td>0.794837</td>\n",
       "      <td>-0.776576</td>\n",
       "      <td>-0.010914</td>\n",
       "      <td>-0.870957</td>\n",
       "      <td>-0.228938</td>\n",
       "      <td>0.179424</td>\n",
       "      <td>0.075593</td>\n",
       "      <td>0.378217</td>\n",
       "      <td>0.531052</td>\n",
       "      <td>0.244634</td>\n",
       "      <td>-1.569929</td>\n",
       "      <td>-0.087055</td>\n",
       "      <td>0.008998</td>\n",
       "    </tr>\n",
       "    <tr>\n",
       "      <th>29327</th>\n",
       "      <td>-0.856963</td>\n",
       "      <td>3.122581</td>\n",
       "      <td>0.204805</td>\n",
       "      <td>-0.026303</td>\n",
       "      <td>0.000675</td>\n",
       "      <td>-0.036065</td>\n",
       "      <td>-0.166227</td>\n",
       "      <td>-0.335562</td>\n",
       "      <td>-0.306175</td>\n",
       "      <td>-0.304264</td>\n",
       "      <td>-0.233018</td>\n",
       "      <td>-0.117209</td>\n",
       "      <td>-0.236442</td>\n",
       "      <td>2.148853</td>\n",
       "      <td>-0.432942</td>\n",
       "      <td>-0.249484</td>\n",
       "      <td>-0.476905</td>\n",
       "      <td>-0.519560</td>\n",
       "      <td>-0.389280</td>\n",
       "      <td>-0.137883</td>\n",
       "      <td>-0.284748</td>\n",
       "      <td>-0.234752</td>\n",
       "      <td>0.424126</td>\n",
       "      <td>-0.326709</td>\n",
       "      <td>-0.982144</td>\n",
       "      <td>-0.349419</td>\n",
       "      <td>-1.042769</td>\n",
       "      <td>-0.121526</td>\n",
       "      <td>-0.210327</td>\n",
       "      <td>-0.196259</td>\n",
       "      <td>2.225204</td>\n",
       "      <td>-0.478658</td>\n",
       "      <td>-0.480448</td>\n",
       "      <td>-0.473755</td>\n",
       "      <td>-0.409822</td>\n",
       "      <td>-0.256817</td>\n",
       "      <td>-0.272319</td>\n",
       "      <td>-0.388113</td>\n",
       "      <td>-0.593297</td>\n",
       "      <td>2.582047</td>\n",
       "      <td>-0.665287</td>\n",
       "      <td>-0.061260</td>\n",
       "      <td>-0.710470</td>\n",
       "      <td>0.163058</td>\n",
       "      <td>0.717314</td>\n",
       "      <td>0.581909</td>\n",
       "      <td>-0.241529</td>\n",
       "      <td>0.517005</td>\n",
       "      <td>-0.438160</td>\n",
       "      <td>1.277354</td>\n",
       "      <td>-0.461973</td>\n",
       "      <td>0.174637</td>\n",
       "      <td>-0.495714</td>\n",
       "      <td>0.075593</td>\n",
       "      <td>-0.503867</td>\n",
       "      <td>0.054424</td>\n",
       "      <td>0.735510</td>\n",
       "      <td>-0.751322</td>\n",
       "      <td>0.488758</td>\n",
       "      <td>-0.206020</td>\n",
       "    </tr>\n",
       "    <tr>\n",
       "      <th>35443</th>\n",
       "      <td>-1.309888</td>\n",
       "      <td>0.284409</td>\n",
       "      <td>0.102918</td>\n",
       "      <td>-0.018810</td>\n",
       "      <td>0.000675</td>\n",
       "      <td>-0.020780</td>\n",
       "      <td>0.363246</td>\n",
       "      <td>0.183226</td>\n",
       "      <td>0.175205</td>\n",
       "      <td>-0.304264</td>\n",
       "      <td>-0.032249</td>\n",
       "      <td>-0.117209</td>\n",
       "      <td>-0.236442</td>\n",
       "      <td>-0.465353</td>\n",
       "      <td>-0.432942</td>\n",
       "      <td>-0.249484</td>\n",
       "      <td>2.096799</td>\n",
       "      <td>-0.519560</td>\n",
       "      <td>-0.389280</td>\n",
       "      <td>-0.192834</td>\n",
       "      <td>-0.331279</td>\n",
       "      <td>0.229153</td>\n",
       "      <td>0.424126</td>\n",
       "      <td>1.863379</td>\n",
       "      <td>0.939826</td>\n",
       "      <td>-0.205425</td>\n",
       "      <td>0.026980</td>\n",
       "      <td>-0.151923</td>\n",
       "      <td>-0.185953</td>\n",
       "      <td>-0.180426</td>\n",
       "      <td>-0.449386</td>\n",
       "      <td>-0.478658</td>\n",
       "      <td>-0.480448</td>\n",
       "      <td>-0.473755</td>\n",
       "      <td>-0.409822</td>\n",
       "      <td>-0.256817</td>\n",
       "      <td>3.672075</td>\n",
       "      <td>2.576503</td>\n",
       "      <td>0.067527</td>\n",
       "      <td>-0.512479</td>\n",
       "      <td>-0.081944</td>\n",
       "      <td>-0.661136</td>\n",
       "      <td>1.082855</td>\n",
       "      <td>0.187158</td>\n",
       "      <td>1.526429</td>\n",
       "      <td>1.776580</td>\n",
       "      <td>-1.378993</td>\n",
       "      <td>1.548813</td>\n",
       "      <td>-1.694958</td>\n",
       "      <td>0.020005</td>\n",
       "      <td>-0.870957</td>\n",
       "      <td>0.981786</td>\n",
       "      <td>0.727007</td>\n",
       "      <td>1.223872</td>\n",
       "      <td>-0.620369</td>\n",
       "      <td>0.671237</td>\n",
       "      <td>1.614519</td>\n",
       "      <td>-1.810696</td>\n",
       "      <td>1.519864</td>\n",
       "      <td>-0.008203</td>\n",
       "    </tr>\n",
       "    <tr>\n",
       "      <th>16627</th>\n",
       "      <td>0.254336</td>\n",
       "      <td>0.284409</td>\n",
       "      <td>0.085936</td>\n",
       "      <td>-0.014180</td>\n",
       "      <td>0.000675</td>\n",
       "      <td>-0.000346</td>\n",
       "      <td>-0.519209</td>\n",
       "      <td>-0.594956</td>\n",
       "      <td>-0.426520</td>\n",
       "      <td>-0.304264</td>\n",
       "      <td>-0.076294</td>\n",
       "      <td>0.930389</td>\n",
       "      <td>4.229260</td>\n",
       "      <td>-0.465353</td>\n",
       "      <td>-0.432942</td>\n",
       "      <td>-0.249484</td>\n",
       "      <td>-0.476905</td>\n",
       "      <td>-0.519560</td>\n",
       "      <td>-0.317475</td>\n",
       "      <td>-0.103928</td>\n",
       "      <td>-0.095632</td>\n",
       "      <td>-0.234752</td>\n",
       "      <td>0.424126</td>\n",
       "      <td>-0.694978</td>\n",
       "      <td>-0.982144</td>\n",
       "      <td>-0.213120</td>\n",
       "      <td>-0.394999</td>\n",
       "      <td>-0.060731</td>\n",
       "      <td>-0.183516</td>\n",
       "      <td>-0.148761</td>\n",
       "      <td>2.225204</td>\n",
       "      <td>-0.478658</td>\n",
       "      <td>-0.480448</td>\n",
       "      <td>-0.473755</td>\n",
       "      <td>-0.409822</td>\n",
       "      <td>-0.256817</td>\n",
       "      <td>-0.272319</td>\n",
       "      <td>-0.388113</td>\n",
       "      <td>-0.615289</td>\n",
       "      <td>-0.541748</td>\n",
       "      <td>-0.291371</td>\n",
       "      <td>-0.682597</td>\n",
       "      <td>1.952262</td>\n",
       "      <td>0.264168</td>\n",
       "      <td>0.095324</td>\n",
       "      <td>0.072354</td>\n",
       "      <td>-0.590208</td>\n",
       "      <td>0.619589</td>\n",
       "      <td>-0.563114</td>\n",
       "      <td>-0.056214</td>\n",
       "      <td>0.063864</td>\n",
       "      <td>-0.632512</td>\n",
       "      <td>0.360916</td>\n",
       "      <td>0.075593</td>\n",
       "      <td>-0.183488</td>\n",
       "      <td>-0.870796</td>\n",
       "      <td>-0.269073</td>\n",
       "      <td>0.837738</td>\n",
       "      <td>-0.689649</td>\n",
       "      <td>0.008998</td>\n",
       "    </tr>\n",
       "    <tr>\n",
       "      <th>16655</th>\n",
       "      <td>0.249667</td>\n",
       "      <td>0.757438</td>\n",
       "      <td>0.238768</td>\n",
       "      <td>-0.016802</td>\n",
       "      <td>0.000675</td>\n",
       "      <td>-0.004710</td>\n",
       "      <td>1.069210</td>\n",
       "      <td>1.480195</td>\n",
       "      <td>1.137967</td>\n",
       "      <td>-0.304264</td>\n",
       "      <td>-0.120924</td>\n",
       "      <td>0.406590</td>\n",
       "      <td>-0.236442</td>\n",
       "      <td>2.148853</td>\n",
       "      <td>-0.432942</td>\n",
       "      <td>-0.249484</td>\n",
       "      <td>-0.476905</td>\n",
       "      <td>-0.519560</td>\n",
       "      <td>-0.389280</td>\n",
       "      <td>-0.130366</td>\n",
       "      <td>-0.091720</td>\n",
       "      <td>-0.234752</td>\n",
       "      <td>0.424126</td>\n",
       "      <td>-0.668156</td>\n",
       "      <td>-0.982144</td>\n",
       "      <td>-0.317980</td>\n",
       "      <td>-0.661673</td>\n",
       "      <td>-0.153189</td>\n",
       "      <td>-0.198140</td>\n",
       "      <td>-0.199357</td>\n",
       "      <td>-0.449386</td>\n",
       "      <td>2.089123</td>\n",
       "      <td>-0.480448</td>\n",
       "      <td>-0.473755</td>\n",
       "      <td>-0.409822</td>\n",
       "      <td>-0.256817</td>\n",
       "      <td>-0.272319</td>\n",
       "      <td>-0.388113</td>\n",
       "      <td>-0.606895</td>\n",
       "      <td>-0.527476</td>\n",
       "      <td>-0.677993</td>\n",
       "      <td>2.289362</td>\n",
       "      <td>-0.722699</td>\n",
       "      <td>0.355242</td>\n",
       "      <td>0.595868</td>\n",
       "      <td>0.077248</td>\n",
       "      <td>0.287662</td>\n",
       "      <td>-0.037592</td>\n",
       "      <td>0.237368</td>\n",
       "      <td>0.418258</td>\n",
       "      <td>-0.461973</td>\n",
       "      <td>0.578211</td>\n",
       "      <td>0.624600</td>\n",
       "      <td>0.420076</td>\n",
       "      <td>0.602899</td>\n",
       "      <td>1.596456</td>\n",
       "      <td>1.237801</td>\n",
       "      <td>-0.221636</td>\n",
       "      <td>1.077961</td>\n",
       "      <td>-0.240164</td>\n",
       "    </tr>\n",
       "    <tr>\n",
       "      <th>7224</th>\n",
       "      <td>1.127499</td>\n",
       "      <td>-0.188620</td>\n",
       "      <td>-0.879873</td>\n",
       "      <td>0.049666</td>\n",
       "      <td>0.000675</td>\n",
       "      <td>0.038219</td>\n",
       "      <td>-0.430964</td>\n",
       "      <td>-0.854350</td>\n",
       "      <td>-0.546866</td>\n",
       "      <td>-0.060828</td>\n",
       "      <td>-0.209647</td>\n",
       "      <td>-0.641007</td>\n",
       "      <td>-0.236442</td>\n",
       "      <td>-0.465353</td>\n",
       "      <td>-0.432942</td>\n",
       "      <td>-0.249484</td>\n",
       "      <td>-0.476905</td>\n",
       "      <td>-0.519560</td>\n",
       "      <td>-0.317475</td>\n",
       "      <td>-0.210978</td>\n",
       "      <td>-0.226112</td>\n",
       "      <td>-0.234752</td>\n",
       "      <td>-0.288687</td>\n",
       "      <td>0.572786</td>\n",
       "      <td>-0.982144</td>\n",
       "      <td>-0.127510</td>\n",
       "      <td>-0.317523</td>\n",
       "      <td>-0.202585</td>\n",
       "      <td>-0.251763</td>\n",
       "      <td>-0.264409</td>\n",
       "      <td>-0.449386</td>\n",
       "      <td>-0.478658</td>\n",
       "      <td>2.081338</td>\n",
       "      <td>-0.473755</td>\n",
       "      <td>-0.409822</td>\n",
       "      <td>-0.256817</td>\n",
       "      <td>-0.272319</td>\n",
       "      <td>-0.388113</td>\n",
       "      <td>-0.575207</td>\n",
       "      <td>-0.490967</td>\n",
       "      <td>-0.648557</td>\n",
       "      <td>2.177717</td>\n",
       "      <td>-0.694008</td>\n",
       "      <td>1.837620</td>\n",
       "      <td>2.194055</td>\n",
       "      <td>-0.100182</td>\n",
       "      <td>-0.834553</td>\n",
       "      <td>0.794837</td>\n",
       "      <td>-0.776576</td>\n",
       "      <td>1.419980</td>\n",
       "      <td>0.573766</td>\n",
       "      <td>0.981786</td>\n",
       "      <td>0.563897</td>\n",
       "      <td>1.152104</td>\n",
       "      <td>-0.838809</td>\n",
       "      <td>-0.253983</td>\n",
       "      <td>0.107646</td>\n",
       "      <td>-0.221636</td>\n",
       "      <td>-0.247747</td>\n",
       "      <td>8.067861</td>\n",
       "    </tr>\n",
       "  </tbody>\n",
       "</table>\n",
       "</div>"
      ],
      "text/plain": [
       "       timedelta  n_tokens_title  n_tokens_content  n_unique_tokens  \\\n",
       "22087  -0.277967       -0.188620         -0.542370         0.010384   \n",
       "9849    0.889364        1.230466         -0.302510         0.000327   \n",
       "28004  -0.758907       -1.134677         -0.378926        -0.032659   \n",
       "30837  -0.969027        1.703495         -0.228217         0.007624   \n",
       "22399  -0.305983        1.230466         -0.389539         0.013601   \n",
       "29327  -0.856963        3.122581          0.204805        -0.026303   \n",
       "35443  -1.309888        0.284409          0.102918        -0.018810   \n",
       "16627   0.254336        0.284409          0.085936        -0.014180   \n",
       "16655   0.249667        0.757438          0.238768        -0.016802   \n",
       "7224    1.127499       -0.188620         -0.879873         0.049666   \n",
       "\n",
       "       n_non_stop_words  n_non_stop_unique_tokens  num_hrefs  num_self_hrefs  \\\n",
       "22087          0.000675                  0.031704  -0.166227        0.183226   \n",
       "9849           0.000675                 -0.011181   0.539737       -0.335562   \n",
       "28004          0.000675                 -0.048597  -0.519209        0.442620   \n",
       "30837          0.000675                  0.033201  -0.607455       -0.335562   \n",
       "22399          0.000675                  0.019308  -0.872192       -0.854350   \n",
       "29327          0.000675                 -0.036065  -0.166227       -0.335562   \n",
       "35443          0.000675                 -0.020780   0.363246        0.183226   \n",
       "16627          0.000675                 -0.000346  -0.519209       -0.594956   \n",
       "16655          0.000675                 -0.004710   1.069210        1.480195   \n",
       "7224           0.000675                  0.038219  -0.430964       -0.854350   \n",
       "\n",
       "       num_imgs  num_videos  average_token_length  num_keywords  \\\n",
       "22087 -0.306175   -0.304264              0.294896      1.454187   \n",
       "9849  -0.426520   -0.304264              0.567249     -0.117209   \n",
       "28004 -0.306175   -0.304264             -0.494791     -1.164806   \n",
       "30837 -0.426520   -0.304264              0.262542     -0.117209   \n",
       "22399 -0.546866   -0.060828              0.013014     -0.641007   \n",
       "29327 -0.306175   -0.304264             -0.233018     -0.117209   \n",
       "35443  0.175205   -0.304264             -0.032249     -0.117209   \n",
       "16627 -0.426520   -0.304264             -0.076294      0.930389   \n",
       "16655  1.137967   -0.304264             -0.120924      0.406590   \n",
       "7224  -0.546866   -0.060828             -0.209647     -0.641007   \n",
       "\n",
       "       data_channel_is_lifestyle  data_channel_is_entertainment  \\\n",
       "22087                   4.229260                      -0.465353   \n",
       "9849                   -0.236442                      -0.465353   \n",
       "28004                  -0.236442                      -0.465353   \n",
       "30837                  -0.236442                       2.148853   \n",
       "22399                  -0.236442                      -0.465353   \n",
       "29327                  -0.236442                       2.148853   \n",
       "35443                  -0.236442                      -0.465353   \n",
       "16627                   4.229260                      -0.465353   \n",
       "16655                  -0.236442                       2.148853   \n",
       "7224                   -0.236442                      -0.465353   \n",
       "\n",
       "       data_channel_is_bus  data_channel_is_socmed  data_channel_is_tech  \\\n",
       "22087            -0.432942               -0.249484             -0.476905   \n",
       "9849             -0.432942               -0.249484             -0.476905   \n",
       "28004            -0.432942               -0.249484              2.096799   \n",
       "30837            -0.432942               -0.249484             -0.476905   \n",
       "22399             2.309718               -0.249484             -0.476905   \n",
       "29327            -0.432942               -0.249484             -0.476905   \n",
       "35443            -0.432942               -0.249484              2.096799   \n",
       "16627            -0.432942               -0.249484             -0.476905   \n",
       "16655            -0.432942               -0.249484             -0.476905   \n",
       "7224             -0.432942               -0.249484             -0.476905   \n",
       "\n",
       "       data_channel_is_world  kw_min_min  kw_max_min  kw_avg_min  kw_min_max  \\\n",
       "22087              -0.519560   -0.389280   -0.176245   -0.132503   -0.234752   \n",
       "9849                1.924658   -0.317475   -0.262041   -0.388350   -0.008836   \n",
       "28004              -0.519560   -0.389280   -0.074897   -0.134615   -0.112309   \n",
       "30837              -0.519560   -0.389280   -0.013984   -0.062955    0.001512   \n",
       "22399              -0.519560   -0.389280    0.115617    0.295866   -0.234752   \n",
       "29327              -0.519560   -0.389280   -0.137883   -0.284748   -0.234752   \n",
       "35443              -0.519560   -0.389280   -0.192834   -0.331279    0.229153   \n",
       "16627              -0.519560   -0.317475   -0.103928   -0.095632   -0.234752   \n",
       "16655              -0.519560   -0.389280   -0.130366   -0.091720   -0.234752   \n",
       "7224               -0.519560   -0.317475   -0.210978   -0.226112   -0.234752   \n",
       "\n",
       "       kw_max_max  kw_avg_max  kw_min_avg  kw_max_avg  kw_avg_avg  \\\n",
       "22087    0.424126   -0.642195   -0.982144    0.204095    0.438508   \n",
       "9849     0.424126   -0.199821    0.220930   -0.385932   -0.688937   \n",
       "28004    0.424126    1.330978    0.779681   -0.345625   -0.303173   \n",
       "30837    0.424126    0.000980    1.738694   -0.060826    0.776040   \n",
       "22399    0.424126    0.923015   -0.982144    2.415166    2.005859   \n",
       "29327    0.424126   -0.326709   -0.982144   -0.349419   -1.042769   \n",
       "35443    0.424126    1.863379    0.939826   -0.205425    0.026980   \n",
       "16627    0.424126   -0.694978   -0.982144   -0.213120   -0.394999   \n",
       "16655    0.424126   -0.668156   -0.982144   -0.317980   -0.661673   \n",
       "7224    -0.288687    0.572786   -0.982144   -0.127510   -0.317523   \n",
       "\n",
       "       self_reference_min_shares  self_reference_max_shares  \\\n",
       "22087                  -0.050599                  -0.178641   \n",
       "9849                   -0.160130                  -0.231337   \n",
       "28004                  -0.136724                   0.087034   \n",
       "30837                   0.288836                   0.282025   \n",
       "22399                  -0.202585                  -0.251763   \n",
       "29327                  -0.121526                  -0.210327   \n",
       "35443                  -0.151923                  -0.185953   \n",
       "16627                  -0.060731                  -0.183516   \n",
       "16655                  -0.153189                  -0.198140   \n",
       "7224                   -0.202585                  -0.251763   \n",
       "\n",
       "       self_reference_avg_sharess  weekday_is_monday  weekday_is_tuesday  \\\n",
       "22087                   -0.140500          -0.449386           -0.478658   \n",
       "9849                    -0.229797          -0.449386           -0.478658   \n",
       "28004                    0.049493           2.225204           -0.478658   \n",
       "30837                    0.388178          -0.449386           -0.478658   \n",
       "22399                   -0.264409          -0.449386            2.089123   \n",
       "29327                   -0.196259           2.225204           -0.478658   \n",
       "35443                   -0.180426          -0.449386           -0.478658   \n",
       "16627                   -0.148761           2.225204           -0.478658   \n",
       "16655                   -0.199357          -0.449386            2.089123   \n",
       "7224                    -0.264409          -0.449386           -0.478658   \n",
       "\n",
       "       weekday_is_wednesday  weekday_is_thursday  weekday_is_friday  \\\n",
       "22087              2.081338            -0.473755          -0.409822   \n",
       "9849              -0.480448            -0.473755           2.440024   \n",
       "28004             -0.480448            -0.473755          -0.409822   \n",
       "30837             -0.480448             2.110742          -0.409822   \n",
       "22399             -0.480448            -0.473755          -0.409822   \n",
       "29327             -0.480448            -0.473755          -0.409822   \n",
       "35443             -0.480448            -0.473755          -0.409822   \n",
       "16627             -0.480448            -0.473755          -0.409822   \n",
       "16655             -0.480448            -0.473755          -0.409822   \n",
       "7224               2.081338            -0.473755          -0.409822   \n",
       "\n",
       "       weekday_is_saturday  weekday_is_sunday  is_weekend    LDA_00    LDA_01  \\\n",
       "22087            -0.256817          -0.272319   -0.388113  2.407391 -0.088065   \n",
       "9849             -0.256817          -0.272319   -0.388113 -0.593317 -0.512883   \n",
       "28004            -0.256817          -0.272319   -0.388113 -0.549856 -0.460849   \n",
       "30837            -0.256817          -0.272319   -0.388113 -0.593306  2.754187   \n",
       "22399            -0.256817          -0.272319   -0.388113  1.329639 -0.491186   \n",
       "29327            -0.256817          -0.272319   -0.388113 -0.593297  2.582047   \n",
       "35443            -0.256817           3.672075    2.576503  0.067527 -0.512479   \n",
       "16627            -0.256817          -0.272319   -0.388113 -0.615289 -0.541748   \n",
       "16655            -0.256817          -0.272319   -0.388113 -0.606895 -0.527476   \n",
       "7224             -0.256817          -0.272319   -0.388113 -0.575207 -0.490967   \n",
       "\n",
       "         LDA_02    LDA_03    LDA_04  global_subjectivity  \\\n",
       "22087 -0.695742 -0.690062 -0.739008             0.321929   \n",
       "9849   2.372504 -0.661261 -0.710468            -0.279835   \n",
       "28004 -0.624926 -0.622545  2.095433             0.063061   \n",
       "30837 -0.665429 -0.660721 -0.229194             0.319755   \n",
       "22399 -0.648470 -0.079070 -0.122468             0.562803   \n",
       "29327 -0.665287 -0.061260 -0.710470             0.163058   \n",
       "35443 -0.081944 -0.661136  1.082855             0.187158   \n",
       "16627 -0.291371 -0.682597  1.952262             0.264168   \n",
       "16655 -0.677993  2.289362 -0.722699             0.355242   \n",
       "7224  -0.648557  2.177717 -0.694008             1.837620   \n",
       "\n",
       "       global_sentiment_polarity  global_rate_positive_words  \\\n",
       "22087                  -0.354217                   -0.301835   \n",
       "9849                   -0.912817                   -1.421415   \n",
       "28004                   0.512317                    0.377012   \n",
       "30837                   0.216002                    0.863226   \n",
       "22399                   0.982511                    0.887710   \n",
       "29327                   0.717314                    0.581909   \n",
       "35443                   1.526429                    1.776580   \n",
       "16627                   0.095324                    0.072354   \n",
       "16655                   0.595868                    0.077248   \n",
       "7224                    2.194055                   -0.100182   \n",
       "\n",
       "       global_rate_negative_words  rate_positive_words  rate_negative_words  \\\n",
       "22087                    0.370014            -0.300464             0.557561   \n",
       "9849                    -0.848407            -0.081404             0.290734   \n",
       "28004                   -0.279389             0.476204            -0.388463   \n",
       "30837                    0.990297            -0.081404             0.290734   \n",
       "22399                   -0.516526             0.794837            -0.776576   \n",
       "29327                   -0.241529             0.517005            -0.438160   \n",
       "35443                   -1.378993             1.548813            -1.694958   \n",
       "16627                   -0.590208             0.619589            -0.563114   \n",
       "16655                    0.287662            -0.037592             0.237368   \n",
       "7224                    -0.834553             0.794837            -0.776576   \n",
       "\n",
       "       avg_positive_polarity  min_positive_polarity  max_positive_polarity  \\\n",
       "22087               0.112692              -0.870957               0.174637   \n",
       "9849               -1.919255               0.063864              -2.045023   \n",
       "28004              -0.484537               0.063864               0.981786   \n",
       "30837               1.000884               0.063864               0.981786   \n",
       "22399              -0.010914              -0.870957              -0.228938   \n",
       "29327               1.277354              -0.461973               0.174637   \n",
       "35443               0.020005              -0.870957               0.981786   \n",
       "16627              -0.056214               0.063864              -0.632512   \n",
       "16655               0.418258              -0.461973               0.578211   \n",
       "7224                1.419980               0.573766               0.981786   \n",
       "\n",
       "       avg_negative_polarity  min_negative_polarity  max_negative_polarity  \\\n",
       "22087              -0.077669               0.075593              -0.183488   \n",
       "9849               -1.447792              -0.498547              -0.620369   \n",
       "28004               0.906583               1.109044               0.378217   \n",
       "30837              -0.598067              -0.785617               0.078641   \n",
       "22399               0.179424               0.075593               0.378217   \n",
       "29327              -0.495714               0.075593              -0.503867   \n",
       "35443               0.727007               1.223872              -0.620369   \n",
       "16627               0.360916               0.075593              -0.183488   \n",
       "16655               0.624600               0.420076               0.602899   \n",
       "7224                0.563897               1.152104              -0.838809   \n",
       "\n",
       "       title_subjectivity  title_sentiment_polarity  abs_title_subjectivity  \\\n",
       "22087           -0.870796                 -0.269073                0.837738   \n",
       "9849            -0.870796                 -0.269073                0.837738   \n",
       "28004            0.054424                 -0.269073               -0.751322   \n",
       "30837            0.054424                  0.107646               -0.751322   \n",
       "22399            0.531052                  0.244634               -1.569929   \n",
       "29327            0.054424                  0.735510               -0.751322   \n",
       "35443            0.671237                  1.614519               -1.810696   \n",
       "16627           -0.870796                 -0.269073                0.837738   \n",
       "16655            1.596456                  1.237801               -0.221636   \n",
       "7224            -0.253983                  0.107646               -0.221636   \n",
       "\n",
       "       abs_title_sentiment_polarity    shares  \n",
       "22087                     -0.689649 -0.227693  \n",
       "9849                      -0.689649 -0.228812  \n",
       "28004                     -0.689649 -0.145815  \n",
       "30837                     -0.247747  0.507839  \n",
       "22399                     -0.087055  0.008998  \n",
       "29327                      0.488758 -0.206020  \n",
       "35443                      1.519864 -0.008203  \n",
       "16627                     -0.689649  0.008998  \n",
       "16655                      1.077961 -0.240164  \n",
       "7224                      -0.247747  8.067861  "
      ]
     },
     "execution_count": 1009,
     "metadata": {},
     "output_type": "execute_result"
    }
   ],
   "source": [
    "# Trying standardisation of features, instead of range normalisation.\n",
    "df_st = (df_cont - df_cont.mean()) / df_cont.std()\n",
    "df_st.head(10)"
   ]
  },
  {
   "cell_type": "code",
   "execution_count": 687,
   "metadata": {
    "collapsed": true
   },
   "outputs": [],
   "source": [
    "df_train_st=df_st.head(a)"
   ]
  },
  {
   "cell_type": "code",
   "execution_count": 688,
   "metadata": {
    "collapsed": true
   },
   "outputs": [],
   "source": [
    "df_test_st=df_st.head(b)"
   ]
  },
  {
   "cell_type": "code",
   "execution_count": 1010,
   "metadata": {},
   "outputs": [
    {
     "name": "stdout",
     "output_type": "stream",
     "text": [
      "                            OLS Regression Results                            \n",
      "==============================================================================\n",
      "Dep. Variable:                 shares   R-squared:                       0.018\n",
      "Model:                            OLS   Adj. R-squared:                  0.018\n",
      "Method:                 Least Squares   F-statistic:                     25.78\n",
      "Date:                Mon, 30 Apr 2018   Prob (F-statistic):           1.36e-95\n",
      "Time:                        00:44:32   Log-Likelihood:                -38391.\n",
      "No. Observations:               27750   AIC:                         7.682e+04\n",
      "Df Residuals:                   27729   BIC:                         7.700e+04\n",
      "Df Model:                          20                                         \n",
      "Covariance Type:            nonrobust                                         \n",
      "==============================================================================================\n",
      "                                 coef    std err          t      P>|t|      [0.025      0.975]\n",
      "----------------------------------------------------------------------------------------------\n",
      "Intercept                     -0.0017      0.006     -0.291      0.771      -0.013       0.010\n",
      "LDA_00                         6.6162     36.892      0.179      0.858     -65.694      78.926\n",
      "LDA_01                         5.5072     30.821      0.179      0.858     -54.904      65.919\n",
      "LDA_02                         7.0815     39.582      0.179      0.858     -70.501      84.664\n",
      "LDA_03                         7.4508     41.411      0.180      0.857     -73.716      88.618\n",
      "LDA_04                         7.2732     40.568      0.179      0.858     -72.241      86.788\n",
      "average_token_length          -0.0129      0.020     -0.654      0.513      -0.052       0.026\n",
      "avg_negative_polarity         -0.0183      0.008     -2.372      0.018      -0.033      -0.003\n",
      "avg_positive_polarity         -0.0210      0.009     -2.273      0.023      -0.039      -0.003\n",
      "global_rate_positive_words    -0.0209      0.008     -2.484      0.013      -0.037      -0.004\n",
      "global_sentiment_polarity      0.0206      0.009      2.175      0.030       0.002       0.039\n",
      "global_subjectivity            0.0305      0.010      3.192      0.001       0.012       0.049\n",
      "kw_avg_avg                     0.1602      0.014     11.475      0.000       0.133       0.188\n",
      "kw_avg_max                    -0.0297      0.008     -3.815      0.000      -0.045      -0.014\n",
      "kw_avg_min                    -0.0163      0.017     -0.964      0.335      -0.049       0.017\n",
      "kw_max_avg                    -0.0782      0.012     -6.292      0.000      -0.103      -0.054\n",
      "kw_max_min                     0.0206      0.018      1.177      0.239      -0.014       0.055\n",
      "n_non_stop_unique_tokens      -0.9618      0.472     -2.036      0.042      -1.888      -0.036\n",
      "n_non_stop_words              -0.3846      0.734     -0.524      0.600      -1.824       1.055\n",
      "n_tokens_content               0.0314      0.009      3.376      0.001       0.013       0.050\n",
      "n_unique_tokens                1.4737      0.603      2.443      0.015       0.291       2.656\n",
      "==============================================================================\n",
      "Omnibus:                    76873.309   Durbin-Watson:                   1.995\n",
      "Prob(Omnibus):                  0.000   Jarque-Bera (JB):       4791467428.715\n",
      "Skew:                          35.302   Prob(JB):                         0.00\n",
      "Kurtosis:                    2037.450   Cond. No.                     3.04e+04\n",
      "==============================================================================\n",
      "\n",
      "Warnings:\n",
      "[1] Standard Errors assume that the covariance matrix of the errors is correctly specified.\n",
      "[2] The condition number is large, 3.04e+04. This might indicate that there are\n",
      "strong multicollinearity or other numerical problems.\n"
     ]
    }
   ],
   "source": [
    "#Train a model \n",
    "lm_st= sm.ols(formula=\"shares ~  LDA_00 + LDA_01 + LDA_02 + LDA_03 + LDA_04 + average_token_length + avg_negative_polarity + avg_positive_polarity +  global_rate_positive_words + global_sentiment_polarity + global_subjectivity + kw_avg_avg + kw_avg_max + kw_avg_min + kw_max_avg + kw_max_min  + n_non_stop_unique_tokens + n_non_stop_words + n_tokens_content + n_unique_tokens \", data=df_train_st).fit()\n",
    "print(lm_st.summary())"
   ]
  },
  {
   "cell_type": "markdown",
   "metadata": {},
   "source": [
    "### Evaluating the model on train data"
   ]
  },
  {
   "cell_type": "code",
   "execution_count": 692,
   "metadata": {},
   "outputs": [
    {
     "data": {
      "text/plain": [
       "22087    0.041202\n",
       "9849    -0.055026\n",
       "28004   -0.070325\n",
       "30837    0.022873\n",
       "22399    0.125741\n",
       "dtype: float64"
      ]
     },
     "execution_count": 692,
     "metadata": {},
     "output_type": "execute_result"
    }
   ],
   "source": [
    "predictions_train_st = lm_st.predict(df_train_st)\n",
    "predictions_train_st.head(5)\n"
   ]
  },
  {
   "cell_type": "code",
   "execution_count": 693,
   "metadata": {},
   "outputs": [
    {
     "data": {
      "text/plain": [
       "count    27750.000000\n",
       "mean        -0.001293\n",
       "std          0.131623\n",
       "min         -0.355956\n",
       "25%         -0.093411\n",
       "50%         -0.025630\n",
       "75%          0.066461\n",
       "max          2.035796\n",
       "dtype: float64"
      ]
     },
     "execution_count": 693,
     "metadata": {},
     "output_type": "execute_result"
    }
   ],
   "source": [
    "predictions_train_st.describe()"
   ]
  },
  {
   "cell_type": "code",
   "execution_count": 694,
   "metadata": {},
   "outputs": [
    {
     "data": {
      "text/plain": [
       "0    16109\n",
       "1    11641\n",
       "dtype: int64"
      ]
     },
     "execution_count": 694,
     "metadata": {},
     "output_type": "execute_result"
    }
   ],
   "source": [
    "predictions_train_st = predictions_train_st.apply(lambda res: 1 if res > predictions_train_st.mean()  else 0)\n",
    "predictions_train_st.value_counts()"
   ]
  },
  {
   "cell_type": "code",
   "execution_count": 695,
   "metadata": {},
   "outputs": [
    {
     "name": "stderr",
     "output_type": "stream",
     "text": [
      "C:\\Users\\anjal\\anaconda3\\lib\\site-packages\\ipykernel_launcher.py:1: SettingWithCopyWarning: \n",
      "A value is trying to be set on a copy of a slice from a DataFrame.\n",
      "Try using .loc[row_indexer,col_indexer] = value instead\n",
      "\n",
      "See the caveats in the documentation: http://pandas.pydata.org/pandas-docs/stable/indexing.html#indexing-view-versus-copy\n",
      "  \"\"\"Entry point for launching an IPython kernel.\n"
     ]
    },
    {
     "data": {
      "text/plain": [
       "0    22040\n",
       "1     5710\n",
       "Name: shares_binary, dtype: int64"
      ]
     },
     "execution_count": 695,
     "metadata": {},
     "output_type": "execute_result"
    }
   ],
   "source": [
    "df_train_st['shares_binary'] = np.where(df_train_st['shares'] >=df_train_st['shares'].mean(), 1, 0)\n",
    "df_train_st['shares_binary'].value_counts()"
   ]
  },
  {
   "cell_type": "code",
   "execution_count": 705,
   "metadata": {},
   "outputs": [
    {
     "name": "stdout",
     "output_type": "stream",
     "text": [
      "Descriptive features:\n",
      " 22087    1\n",
      "9849     0\n",
      "28004    0\n",
      "30837    1\n",
      "dtype: int64\n",
      "\n",
      "Target feature:\n",
      " 22087    0\n",
      "9849     0\n",
      "28004    0\n",
      "30837    1\n",
      "Name: shares_binary, dtype: int32\n"
     ]
    }
   ],
   "source": [
    "# Prepare the descriptive features\n",
    "x_st = predictions_test_st\n",
    "y_st = df_test_st.shares_binary\n",
    "print(\"Descriptive features:\\n\", x_st.head(4))\n",
    "print(\"\\nTarget feature:\\n\", y_st.head(4))"
   ]
  },
  {
   "cell_type": "code",
   "execution_count": 706,
   "metadata": {},
   "outputs": [
    {
     "name": "stdout",
     "output_type": "stream",
     "text": [
      "Accuracy:  0.6212375987893055\n",
      "Confusion matrix: \n",
      " [[5882 3526]\n",
      " [ 979 1507]]\n",
      "Classification report:\n",
      "               precision    recall  f1-score   support\n",
      "\n",
      "          0       0.86      0.63      0.72      9408\n",
      "          1       0.30      0.61      0.40      2486\n",
      "\n",
      "avg / total       0.74      0.62      0.66     11894\n",
      "\n"
     ]
    }
   ],
   "source": [
    "# Some more evaluation metrics for train data\n",
    "print(\"Accuracy: \", metrics.accuracy_score(y_st, x_st))\n",
    "print(\"Confusion matrix: \\n\", metrics.confusion_matrix(y_st, x_st))\n",
    "print(\"Classification report:\\n \", metrics.classification_report(y_st, x_st))"
   ]
  },
  {
   "cell_type": "markdown",
   "metadata": {},
   "source": [
    "### Evaluating the model on test data"
   ]
  },
  {
   "cell_type": "code",
   "execution_count": 707,
   "metadata": {},
   "outputs": [
    {
     "data": {
      "text/plain": [
       "22087    0.041202\n",
       "9849    -0.055026\n",
       "28004   -0.070325\n",
       "30837    0.022873\n",
       "22399    0.125741\n",
       "dtype: float64"
      ]
     },
     "execution_count": 707,
     "metadata": {},
     "output_type": "execute_result"
    }
   ],
   "source": [
    "predictions_test_st = lm_st.predict(df_test_st)\n",
    "predictions_test_st.head(5)\n"
   ]
  },
  {
   "cell_type": "code",
   "execution_count": 708,
   "metadata": {},
   "outputs": [
    {
     "data": {
      "text/plain": [
       "count    11894.000000\n",
       "mean        -0.000489\n",
       "std          0.130705\n",
       "min         -0.355956\n",
       "25%         -0.091599\n",
       "50%         -0.024486\n",
       "75%          0.066346\n",
       "max          1.645840\n",
       "dtype: float64"
      ]
     },
     "execution_count": 708,
     "metadata": {},
     "output_type": "execute_result"
    }
   ],
   "source": [
    "predictions_test_st.describe()"
   ]
  },
  {
   "cell_type": "code",
   "execution_count": 709,
   "metadata": {},
   "outputs": [
    {
     "data": {
      "text/plain": [
       "0    6861\n",
       "1    5033\n",
       "dtype: int64"
      ]
     },
     "execution_count": 709,
     "metadata": {},
     "output_type": "execute_result"
    }
   ],
   "source": [
    "predictions_test_st = predictions_test_st.apply(lambda res: 1 if res > predictions_test_st.mean()  else 0)\n",
    "predictions_test_st.value_counts()"
   ]
  },
  {
   "cell_type": "code",
   "execution_count": 710,
   "metadata": {},
   "outputs": [
    {
     "name": "stderr",
     "output_type": "stream",
     "text": [
      "C:\\Users\\anjal\\anaconda3\\lib\\site-packages\\ipykernel_launcher.py:1: SettingWithCopyWarning: \n",
      "A value is trying to be set on a copy of a slice from a DataFrame.\n",
      "Try using .loc[row_indexer,col_indexer] = value instead\n",
      "\n",
      "See the caveats in the documentation: http://pandas.pydata.org/pandas-docs/stable/indexing.html#indexing-view-versus-copy\n",
      "  \"\"\"Entry point for launching an IPython kernel.\n"
     ]
    },
    {
     "data": {
      "text/plain": [
       "0    9408\n",
       "1    2486\n",
       "Name: shares_binary, dtype: int64"
      ]
     },
     "execution_count": 710,
     "metadata": {},
     "output_type": "execute_result"
    }
   ],
   "source": [
    "df_test_st['shares_binary'] = np.where(df_test_st['shares'] >=df_test_st['shares'].mean(), 1, 0)\n",
    "df_test_st['shares_binary'].value_counts()"
   ]
  },
  {
   "cell_type": "code",
   "execution_count": 713,
   "metadata": {},
   "outputs": [
    {
     "name": "stdout",
     "output_type": "stream",
     "text": [
      "Descriptive features:\n",
      " 22087    1\n",
      "9849     0\n",
      "28004    0\n",
      "30837    1\n",
      "dtype: int64\n",
      "\n",
      "Target feature:\n",
      " 22087    0\n",
      "9849     0\n",
      "28004    0\n",
      "30837    1\n",
      "Name: shares_binary, dtype: int32\n"
     ]
    }
   ],
   "source": [
    "# Prepare the descriptive features\n",
    "x_st = predictions_test_st\n",
    "y_st = df_test_st.shares_binary\n",
    "print(\"Descriptive features:\\n\", x_st.head(4))\n",
    "print(\"\\nTarget feature:\\n\", y_st.head(4))"
   ]
  },
  {
   "cell_type": "code",
   "execution_count": 1020,
   "metadata": {},
   "outputs": [
    {
     "name": "stdout",
     "output_type": "stream",
     "text": [
      "Accuracy:  0.6212375987893055\n",
      "Confusion matrix: \n",
      " [[5882 3526]\n",
      " [ 979 1507]]\n",
      "Classification report:\n",
      "               precision    recall  f1-score   support\n",
      "\n",
      "          0       0.86      0.63      0.72      9408\n",
      "          1       0.30      0.61      0.40      2486\n",
      "\n",
      "avg / total       0.74      0.62      0.66     11894\n",
      "\n"
     ]
    }
   ],
   "source": [
    "# Some more evaluation metrics for test data\n",
    "print(\"Accuracy: \", metrics.accuracy_score(y_st, x_st))\n",
    "print(\"Confusion matrix: \\n\", metrics.confusion_matrix(y_st, x_st))\n",
    "print(\"Classification report:\\n \", metrics.classification_report(y_st, x_st))"
   ]
  },
  {
   "cell_type": "markdown",
   "metadata": {},
   "source": [
    "# Model evaluation: Training versus test error\n",
    "Evaluating the model quality only on the training data is misleading. This happens due to the fact that more complex models (e.g., more features) can fit the training data better, but do not generalise to new data, since they pick up too many unimportant details from the training data.\n",
    "The more complexity we add to the model, the lower the training error tends to get, and the higher the test error. This is called over-fitting the data. An example is shown in the picture below.\n",
    "\n",
    "\n",
    "\n"
   ]
  },
  {
   "cell_type": "code",
   "execution_count": 1015,
   "metadata": {},
   "outputs": [
    {
     "name": "stdout",
     "output_type": "stream",
     "text": [
      "('Actual - Predicted:\\n', 8246    -1491.405290\n",
      "30971    3592.731392\n",
      "23069   -4490.972075\n",
      "8805    -2116.383307\n",
      "9696    -3793.222320\n",
      "dtype: float64)\n",
      "\n",
      "(Actual - Predicted) squared:\n",
      " 8246     2.224290e+06\n",
      "30971    1.290772e+07\n",
      "23069    2.016883e+07\n",
      "8805     4.479078e+06\n",
      "9696     1.438854e+07\n",
      "dtype: float64\n"
     ]
    }
   ],
   "source": [
    "#Pair the actual and the predicted values\n",
    "print((\"Actual - Predicted:\\n\", (df_train.shares - lm2.predict(df_train)).head(5)))\n",
    "print(\"\\n(Actual - Predicted) squared:\\n\", ((df_train.shares - lm2.predict(df_train))**2).head(5))"
   ]
  },
  {
   "cell_type": "code",
   "execution_count": 1016,
   "metadata": {},
   "outputs": [
    {
     "name": "stdout",
     "output_type": "stream",
     "text": [
      "\n",
      "Mean Squared Error:\n",
      " 109106818.34973353\n"
     ]
    }
   ],
   "source": [
    "# Print the Mean Squared Error of the model on the training set\n",
    "mse = ((df_train.shares - lm2.predict(df_train))** 2).mean()\n",
    "print(\"\\nMean Squared Error:\\n\", mse)"
   ]
  },
  {
   "cell_type": "code",
   "execution_count": 1017,
   "metadata": {},
   "outputs": [
    {
     "name": "stdout",
     "output_type": "stream",
     "text": [
      "\n",
      "Mean Absolute Error:\n",
      " 3057.458072787482\n"
     ]
    }
   ],
   "source": [
    "# Print the Mean Absolute Error of the model on the training set\n",
    "mae = abs(df_train.shares - lm2.predict(df_train)).mean()\n",
    "print(\"\\nMean Absolute Error:\\n\", mae)"
   ]
  },
  {
   "cell_type": "code",
   "execution_count": 1018,
   "metadata": {},
   "outputs": [
    {
     "name": "stdout",
     "output_type": "stream",
     "text": [
      "\n",
      "Mean Squared Error:\n",
      " 126309806.43748417\n"
     ]
    }
   ],
   "source": [
    "# Print the Mean Squared Error of the model on the test set\n",
    "mse = ((df_test.shares - lm2.predict(df_test))** 2).mean()\n",
    "print(\"\\nMean Squared Error:\\n\", mse)"
   ]
  },
  {
   "cell_type": "code",
   "execution_count": 1019,
   "metadata": {},
   "outputs": [
    {
     "name": "stdout",
     "output_type": "stream",
     "text": [
      "\n",
      "Mean Absolute Error:\n",
      " 3159.3925534524687\n"
     ]
    }
   ],
   "source": [
    "# Print the Mean Absolute Error of the model on the training set\n",
    "mae = abs(df_test.shares - lm2.predict(df_test)).mean()\n",
    "print(\"\\nMean Absolute Error:\\n\", mae)"
   ]
  },
  {
   "cell_type": "markdown",
   "metadata": {},
   "source": [
    "Report:\n",
    "\n",
    "\n",
    "To perform the linear regression we started with data preparation and data understanding by dropping unimportant columns. The cleaned dataset is used to evaluate the linear regression model. As the next step, we experimented using different methods to choose appropriate features that impacts the prediction of target shares.\n",
    "\n",
    "\n",
    "- We tested the performance of the model by selecting the features manually. This gave pretty good results and similar accuracy which is around 0.63 for mean threshold and 0.72 for the 3rd quartile threshold.\n",
    "\n",
    "- Like wise we considered different features based on algorithm information gain. We chose the features for this iteration of the linear model based on the output of this algorithm. We trained the model and split the dataset into a training set and a test set. Fit the model on the training set, evaluated both on the training and the test set. Interestingly, the accuracy is good which is again 0.63 when threshold is set to mean and 0.73 for the higher threshold level.\n",
    "- As suggested by professor during the presentation we tried training the model with all the features which gave adequate results. R-squared value is 0.023 and accuracy while evaluating the train data is around 0.64 and on test data 0.644. We thought of experimenting by setting new threshold value to 75% and evaluated the model which boosted the performance for training model to 0.73 and test model to 0.735.\n",
    "\n",
    "- We have decided to experiment using the random forest metrics to inform our linear regression model. Using the feature importance table from the 100 tree model, we selected the top 10 most important features and ran a linear model using these. We were successful in obtaining the good accuracy which is 0.62 for the mean threshold and 0.72 by setting threshold to third quartile.\n",
    "\n",
    "- We also tried normalizing and standardizing the methods, which gave relatively modest accuracy similar to other models.\n",
    "\n",
    "- Overall its good practice on evaluating the model using different features and assessing the metrics. We can say among all the feature selection methods, the model trained with all the features gave higher accuracyWe will use these results to compare with our further models.\n"
   ]
  },
  {
   "cell_type": "code",
   "execution_count": null,
   "metadata": {
    "collapsed": true
   },
   "outputs": [],
   "source": []
  }
 ],
 "metadata": {
  "kernelspec": {
   "display_name": "Python 3",
   "language": "python",
   "name": "python3"
  },
  "language_info": {
   "codemirror_mode": {
    "name": "ipython",
    "version": 3
   },
   "file_extension": ".py",
   "mimetype": "text/x-python",
   "name": "python",
   "nbconvert_exporter": "python",
   "pygments_lexer": "ipython3",
   "version": "3.6.3"
  }
 },
 "nbformat": 4,
 "nbformat_minor": 2
}
