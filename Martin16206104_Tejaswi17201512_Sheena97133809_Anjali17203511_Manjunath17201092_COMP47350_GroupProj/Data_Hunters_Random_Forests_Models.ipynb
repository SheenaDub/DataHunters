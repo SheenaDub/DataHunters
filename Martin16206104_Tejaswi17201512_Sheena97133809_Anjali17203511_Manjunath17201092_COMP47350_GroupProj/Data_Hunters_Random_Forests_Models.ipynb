{
 "cells": [
  {
   "cell_type": "code",
   "execution_count": 431,
   "metadata": {},
   "outputs": [],
   "source": [
    "import pandas as pd\n",
    "import numpy as np\n",
    "from sklearn.ensemble import RandomForestRegressor\n",
    "from sklearn.model_selection import train_test_split\n",
    "from sklearn.metrics import mean_absolute_error\n",
    "from sklearn.metrics import median_absolute_error\n",
    "import seaborn as sns\n",
    "import matplotlib.pyplot as plt\n",
    "from sklearn.model_selection import RandomizedSearchCV\n",
    "from sklearn.utils import shuffle\n",
    "from sklearn.ensemble import RandomForestClassifier\n",
    "from sklearn.metrics import accuracy_score\n",
    "from sklearn.metrics import confusion_matrix\n",
    "from sklearn.metrics import classification_report\n",
    "\n",
    "\n",
    "%matplotlib inline"
   ]
  },
  {
   "cell_type": "markdown",
   "metadata": {},
   "source": [
    "<h3> Import cleaned dataset. Drop non-predictive features and set \n",
    "display options to suit our large amount of features</h3>"
   ]
  },
  {
   "cell_type": "code",
   "execution_count": 368,
   "metadata": {},
   "outputs": [
    {
     "name": "stderr",
     "output_type": "stream",
     "text": [
      "IOPub data rate exceeded.\n",
      "The notebook server will temporarily stop sending output\n",
      "to the client in order to avoid crashing it.\n",
      "To change this limit, set the config variable\n",
      "`--NotebookApp.iopub_data_rate_limit`.\n"
     ]
    }
   ],
   "source": [
    "# for now, df is created from original dataset\n",
    "# should be replaced by cleaned version once quality plan is complete\n",
    "df = pd.read_csv('OnlineNewsPopularityCleaned.csv', skipinitialspace=True)\n",
    "pd.options.display.max_columns = None\n",
    "pd.options.display.max_rows = None\n",
    "# could try leaving timedelta in for the random forests, because if it is worthless\n",
    "# random forests algo will just ignore\n",
    "df = df.drop(['url', 'timedelta'], axis=1)\n",
    "# drop non-predictive features \n",
    "shuffle(df)\n",
    "# shuffle df in case there is a pattern to how rows were inserted "
   ]
  },
  {
   "cell_type": "code",
   "execution_count": 349,
   "metadata": {
    "collapsed": true
   },
   "outputs": [],
   "source": [
    "# split df into X (descriptive features) and y (target feature)\n",
    "X = df.drop(['shares'], axis=1)   \n",
    "y = df['shares']"
   ]
  },
  {
   "cell_type": "code",
   "execution_count": 350,
   "metadata": {
    "collapsed": true
   },
   "outputs": [],
   "source": [
    "# further split into training and testing sets for convenient use with sklearn models\n",
    "X_train, X_test, y_train, y_test = train_test_split(X, y, test_size=0.25)"
   ]
  },
  {
   "cell_type": "markdown",
   "metadata": {},
   "source": [
    "<h3> As the target is a continuous value, will first try RandomForestRegressor. Starting with a baseline model, using all predictive features of the dataset, and all default params for the model. </h3>"
   ]
  },
  {
   "cell_type": "code",
   "execution_count": 351,
   "metadata": {
    "collapsed": true
   },
   "outputs": [],
   "source": [
    "rf_baseline = RandomForestRegressor(n_estimators=100, oob_score=True)"
   ]
  },
  {
   "cell_type": "code",
   "execution_count": 352,
   "metadata": {},
   "outputs": [
    {
     "data": {
      "text/plain": [
       "RandomForestRegressor(bootstrap=True, criterion='mse', max_depth=None,\n",
       "           max_features='auto', max_leaf_nodes=None,\n",
       "           min_impurity_decrease=0.0, min_impurity_split=None,\n",
       "           min_samples_leaf=1, min_samples_split=2,\n",
       "           min_weight_fraction_leaf=0.0, n_estimators=100, n_jobs=1,\n",
       "           oob_score=True, random_state=None, verbose=0, warm_start=False)"
      ]
     },
     "execution_count": 352,
     "metadata": {},
     "output_type": "execute_result"
    }
   ],
   "source": [
    "rf_baseline.fit(X_train, y_train)"
   ]
  },
  {
   "cell_type": "code",
   "execution_count": 354,
   "metadata": {},
   "outputs": [
    {
     "data": {
      "text/plain": [
       "-0.089992946569479981"
      ]
     },
     "execution_count": 354,
     "metadata": {},
     "output_type": "execute_result"
    }
   ],
   "source": [
    "# appears to be a very poor score. (from what i understand, oob score is an estimated r2 score when testing the model\n",
    "# on the 'out of bag' rows - those not used in any of the random samples assembled in the bagging process)\n",
    "rf_baseline.oob_score_"
   ]
  },
  {
   "cell_type": "code",
   "execution_count": 325,
   "metadata": {
    "collapsed": true
   },
   "outputs": [],
   "source": [
    "# get a mean absolute error to get another check of model accuracy (using mae because, from my current understanding,\n",
    "# it's less sensitive to outliers that mse)"
   ]
  },
  {
   "cell_type": "code",
   "execution_count": 381,
   "metadata": {},
   "outputs": [
    {
     "data": {
      "text/plain": [
       "1479.3732078853045"
      ]
     },
     "execution_count": 381,
     "metadata": {},
     "output_type": "execute_result"
    }
   ],
   "source": [
    "mae = median_absolute_error(y_test[:500], rf_baseline.oob_prediction_[:500])\n",
    "mae"
   ]
  },
  {
   "cell_type": "code",
   "execution_count": null,
   "metadata": {
    "collapsed": true
   },
   "outputs": [],
   "source": [
    "# to get perspective on this figure, i will look closer at the target feature."
   ]
  },
  {
   "cell_type": "code",
   "execution_count": 327,
   "metadata": {},
   "outputs": [
    {
     "data": {
      "text/plain": [
       "count     38463.000000\n",
       "mean       3355.360398\n",
       "std       11585.968776\n",
       "min           1.000000\n",
       "25%         945.000000\n",
       "50%        1400.000000\n",
       "75%        2700.000000\n",
       "max      843300.000000\n",
       "Name: shares, dtype: float64"
      ]
     },
     "execution_count": 327,
     "metadata": {},
     "output_type": "execute_result"
    }
   ],
   "source": [
    "# high std deviation - triple the mean value. \n",
    "# this skewed distribution makes sense, given the nature of the target feature - viral popularity is related to a\n",
    "# network effect which results in something like exponential growth of social media shares past a certain point. \n",
    "y.describe()"
   ]
  },
  {
   "cell_type": "code",
   "execution_count": 356,
   "metadata": {},
   "outputs": [
    {
     "data": {
      "text/plain": [
       "<matplotlib.axes._subplots.AxesSubplot at 0x1a2e249d68>"
      ]
     },
     "execution_count": 356,
     "metadata": {},
     "output_type": "execute_result"
    },
    {
     "data": {
      "image/png": "[encoded data removed]",
      "text/plain": [
       "<matplotlib.figure.Figure at 0x1a235deba8>"
      ]
     },
     "metadata": {},
     "output_type": "display_data"
    }
   ],
   "source": [
    "# visualise the target feature for clarifications of the distribution pattern discussed above.\n",
    "# the boxplot shows the extremely skewed distribution of the target feature. a large number of samples (covering the \n",
    "# large majority of the range) are classed as outliers. will try removing outliers from the target and use it for \n",
    "# a new model iteration\n",
    "sns.boxplot(x=y[:1000], color='red', fliersize=12)"
   ]
  },
  {
   "cell_type": "code",
   "execution_count": 364,
   "metadata": {},
   "outputs": [
    {
     "data": {
      "text/plain": [
       "<matplotlib.axes._subplots.AxesSubplot at 0x1a247e5b70>"
      ]
     },
     "execution_count": 364,
     "metadata": {},
     "output_type": "execute_result"
    },
    {
     "data": {
      "image/png": "[encoded data removed]",
      "text/plain": [
       "<matplotlib.figure.Figure at 0x1a24812940>"
      ]
     },
     "metadata": {},
     "output_type": "display_data"
    }
   ],
   "source": [
    "# very strongly right-skewed distribution is apparent. although random forests is said to be relatively insensitive to\n",
    "# outliers, perhaps this case is too extreme. \n",
    "sns.distplot(y[:1000])"
   ]
  },
  {
   "cell_type": "markdown",
   "metadata": {},
   "source": [
    "<h3> New model iteration, using the updated target feature. </h3>"
   ]
  },
  {
   "cell_type": "code",
   "execution_count": 369,
   "metadata": {
    "collapsed": true
   },
   "outputs": [],
   "source": [
    "# drop outliers from target (identified in box plot below)\n",
    "df = df.drop(df[df['shares'] > 5000].index)"
   ]
  },
  {
   "cell_type": "code",
   "execution_count": 371,
   "metadata": {},
   "outputs": [],
   "source": [
    "# re-assign train test variables to reflect updated df.\n",
    "X = df.drop(['shares'], axis=1)   \n",
    "y = df['shares']\n",
    "X_train, X_test, y_train, y_test = train_test_split(X, y, test_size=0.25)"
   ]
  },
  {
   "cell_type": "code",
   "execution_count": 372,
   "metadata": {},
   "outputs": [],
   "source": [
    "rf_outliers_dropped = RandomForestRegressor(n_estimators=100, oob_score=True)"
   ]
  },
  {
   "cell_type": "code",
   "execution_count": 373,
   "metadata": {},
   "outputs": [
    {
     "data": {
      "text/plain": [
       "RandomForestRegressor(bootstrap=True, criterion='mse', max_depth=None,\n",
       "           max_features='auto', max_leaf_nodes=None,\n",
       "           min_impurity_decrease=0.0, min_impurity_split=None,\n",
       "           min_samples_leaf=1, min_samples_split=2,\n",
       "           min_weight_fraction_leaf=0.0, n_estimators=100, n_jobs=1,\n",
       "           oob_score=True, random_state=None, verbose=0, warm_start=False)"
      ]
     },
     "execution_count": 373,
     "metadata": {},
     "output_type": "execute_result"
    }
   ],
   "source": [
    "rf_outliers_dropped.fit(X_train, y_train)"
   ]
  },
  {
   "cell_type": "code",
   "execution_count": 382,
   "metadata": {},
   "outputs": [
    {
     "data": {
      "text/plain": [
       "737.06616541353389"
      ]
     },
     "execution_count": 382,
     "metadata": {},
     "output_type": "execute_result"
    }
   ],
   "source": [
    "mae = median_absolute_error(y_test[:500], rf_outliers_dropped.oob_prediction_[:500])\n",
    "mae"
   ]
  },
  {
   "cell_type": "code",
   "execution_count": 379,
   "metadata": {},
   "outputs": [
    {
     "data": {
      "text/plain": [
       "1614.346122958865"
      ]
     },
     "execution_count": 379,
     "metadata": {},
     "output_type": "execute_result"
    }
   ],
   "source": [
    "# big improvement, but mae still seems very high in relation to the mean\n",
    "df['shares'].mean()"
   ]
  },
  {
   "cell_type": "code",
   "execution_count": 385,
   "metadata": {},
   "outputs": [
    {
     "data": {
      "text/plain": [
       "55.327543424317618"
      ]
     },
     "execution_count": 385,
     "metadata": {},
     "output_type": "execute_result"
    }
   ],
   "source": [
    "# attempt to calculate accuracy from mae. fairly poor accuracy rate. \n",
    "mae = median_absolute_error(y_train, rf_outliers_dropped.oob_prediction_)\n",
    "100 - ((mae/y_test.median()) * 100)"
   ]
  },
  {
   "cell_type": "markdown",
   "metadata": {},
   "source": [
    "<h3> Using a randomised search grid to find the optimal parameters for the model </h3>"
   ]
  },
  {
   "cell_type": "code",
   "execution_count": 122,
   "metadata": {
    "collapsed": true
   },
   "outputs": [],
   "source": [
    "# using a randomised search rather than normal grid search to save processing time (will just be testing a \n",
    "# random selection of permutations)\n",
    "# for this project, will just be testing for ideal n_estimators (number of trees) and max_depth (max tree depth)\n",
    "grid = {'n_estimators': [10, 50, 100, 150, 200, 500, 1000], 'max_depth': [2,4,6,10,15,None]}"
   ]
  },
  {
   "cell_type": "code",
   "execution_count": 123,
   "metadata": {
    "collapsed": true
   },
   "outputs": [],
   "source": [
    "rf_reg = RandomForestRegressor()"
   ]
  },
  {
   "cell_type": "code",
   "execution_count": 83,
   "metadata": {},
   "outputs": [],
   "source": [
    "# please note: the next two cells TAKE APPROX 30 MINS TO RUN. results should be visible on opening the notebook.\n",
    "# n_jobs set to -1 to allow all available cores to help with processing time.\n",
    "rf_reg_random = RandomizedSearchCV(estimator = rf_reg, param_distributions = grid, n_iter = 30, cv=3, n_jobs = -1)"
   ]
  },
  {
   "cell_type": "code",
   "execution_count": 84,
   "metadata": {},
   "outputs": [
    {
     "data": {
      "text/plain": [
       "RandomizedSearchCV(cv=3, error_score='raise',\n",
       "          estimator=RandomForestRegressor(bootstrap=True, criterion='mse', max_depth=None,\n",
       "           max_features='auto', max_leaf_nodes=None,\n",
       "           min_impurity_decrease=0.0, min_impurity_split=None,\n",
       "           min_samples_leaf=1, min_samples_split=2,\n",
       "           min_weight_fraction_leaf=0.0, n_estimators=10, n_jobs=1,\n",
       "           oob_score=False, random_state=None, verbose=0, warm_start=False),\n",
       "          fit_params=None, iid=True, n_iter=30, n_jobs=-1,\n",
       "          param_distributions={'n_estimators': [10, 50, 100, 150, 200, 500, 1000], 'max_depth': [2, 4, 6, 10, 15, None]},\n",
       "          pre_dispatch='2*n_jobs', random_state=None, refit=True,\n",
       "          return_train_score='warn', scoring=None, verbose=0)"
      ]
     },
     "execution_count": 84,
     "metadata": {},
     "output_type": "execute_result"
    }
   ],
   "source": [
    "rf_reg_random.fit(X_train, y_train)"
   ]
  },
  {
   "cell_type": "code",
   "execution_count": 85,
   "metadata": {},
   "outputs": [
    {
     "data": {
      "text/plain": [
       "{'max_depth': 2, 'n_estimators': 200}"
      ]
     },
     "execution_count": 85,
     "metadata": {},
     "output_type": "execute_result"
    }
   ],
   "source": [
    "# based on the randomised search, the following are considered to be the best parameter settings\n",
    "rf_reg_random.best_params_"
   ]
  },
  {
   "cell_type": "code",
   "execution_count": 386,
   "metadata": {},
   "outputs": [],
   "source": [
    "# new model, using optimal params\n",
    "rf_best_params = RandomForestRegressor(n_estimators=200, max_depth=2, oob_score=True, n_jobs=-1)"
   ]
  },
  {
   "cell_type": "code",
   "execution_count": 387,
   "metadata": {},
   "outputs": [
    {
     "data": {
      "text/plain": [
       "RandomForestRegressor(bootstrap=True, criterion='mse', max_depth=2,\n",
       "           max_features='auto', max_leaf_nodes=None,\n",
       "           min_impurity_decrease=0.0, min_impurity_split=None,\n",
       "           min_samples_leaf=1, min_samples_split=2,\n",
       "           min_weight_fraction_leaf=0.0, n_estimators=200, n_jobs=-1,\n",
       "           oob_score=True, random_state=None, verbose=0, warm_start=False)"
      ]
     },
     "execution_count": 387,
     "metadata": {},
     "output_type": "execute_result"
    }
   ],
   "source": [
    "rf_best_params.fit(X_train, y_train)"
   ]
  },
  {
   "cell_type": "code",
   "execution_count": 390,
   "metadata": {},
   "outputs": [
    {
     "data": {
      "text/plain": [
       "684.87217697072208"
      ]
     },
     "execution_count": 390,
     "metadata": {},
     "output_type": "execute_result"
    }
   ],
   "source": [
    "# a further improvement on the mae, but still seems too high.\n",
    "mae = median_absolute_error(y_test[:500], rf_best_params.oob_prediction_[:500])\n",
    "mae"
   ]
  },
  {
   "cell_type": "code",
   "execution_count": 402,
   "metadata": {},
   "outputs": [
    {
     "data": {
      "text/html": [
       "<div>\n",
       "<style>\n",
       "    .dataframe thead tr:only-child th {\n",
       "        text-align: right;\n",
       "    }\n",
       "\n",
       "    .dataframe thead th {\n",
       "        text-align: left;\n",
       "    }\n",
       "\n",
       "    .dataframe tbody tr th {\n",
       "        vertical-align: top;\n",
       "    }\n",
       "</style>\n",
       "<table border=\"1\" class=\"dataframe\">\n",
       "  <thead>\n",
       "    <tr style=\"text-align: right;\">\n",
       "      <th></th>\n",
       "      <th>Actual</th>\n",
       "      <th>Predicted</th>\n",
       "    </tr>\n",
       "  </thead>\n",
       "  <tbody>\n",
       "    <tr>\n",
       "      <th>6658</th>\n",
       "      <td>5000</td>\n",
       "      <td>1888.164112</td>\n",
       "    </tr>\n",
       "    <tr>\n",
       "      <th>26805</th>\n",
       "      <td>811</td>\n",
       "      <td>1374.547724</td>\n",
       "    </tr>\n",
       "    <tr>\n",
       "      <th>13593</th>\n",
       "      <td>1500</td>\n",
       "      <td>1884.554239</td>\n",
       "    </tr>\n",
       "    <tr>\n",
       "      <th>7388</th>\n",
       "      <td>1600</td>\n",
       "      <td>1888.164112</td>\n",
       "    </tr>\n",
       "    <tr>\n",
       "      <th>27843</th>\n",
       "      <td>1200</td>\n",
       "      <td>1883.476675</td>\n",
       "    </tr>\n",
       "    <tr>\n",
       "      <th>14069</th>\n",
       "      <td>834</td>\n",
       "      <td>1374.547724</td>\n",
       "    </tr>\n",
       "    <tr>\n",
       "      <th>26982</th>\n",
       "      <td>882</td>\n",
       "      <td>1378.516799</td>\n",
       "    </tr>\n",
       "    <tr>\n",
       "      <th>11569</th>\n",
       "      <td>889</td>\n",
       "      <td>1453.408074</td>\n",
       "    </tr>\n",
       "    <tr>\n",
       "      <th>15697</th>\n",
       "      <td>1300</td>\n",
       "      <td>1374.547724</td>\n",
       "    </tr>\n",
       "    <tr>\n",
       "      <th>34059</th>\n",
       "      <td>839</td>\n",
       "      <td>1381.683083</td>\n",
       "    </tr>\n",
       "    <tr>\n",
       "      <th>31213</th>\n",
       "      <td>935</td>\n",
       "      <td>1381.244545</td>\n",
       "    </tr>\n",
       "    <tr>\n",
       "      <th>27962</th>\n",
       "      <td>576</td>\n",
       "      <td>1885.261409</td>\n",
       "    </tr>\n",
       "    <tr>\n",
       "      <th>36065</th>\n",
       "      <td>1100</td>\n",
       "      <td>1374.547724</td>\n",
       "    </tr>\n",
       "    <tr>\n",
       "      <th>11988</th>\n",
       "      <td>1000</td>\n",
       "      <td>1448.531411</td>\n",
       "    </tr>\n",
       "    <tr>\n",
       "      <th>35264</th>\n",
       "      <td>1100</td>\n",
       "      <td>1374.547724</td>\n",
       "    </tr>\n",
       "  </tbody>\n",
       "</table>\n",
       "</div>"
      ],
      "text/plain": [
       "       Actual    Predicted\n",
       "6658     5000  1888.164112\n",
       "26805     811  1374.547724\n",
       "13593    1500  1884.554239\n",
       "7388     1600  1888.164112\n",
       "27843    1200  1883.476675\n",
       "14069     834  1374.547724\n",
       "26982     882  1378.516799\n",
       "11569     889  1453.408074\n",
       "15697    1300  1374.547724\n",
       "34059     839  1381.683083\n",
       "31213     935  1381.244545\n",
       "27962     576  1885.261409\n",
       "36065    1100  1374.547724\n",
       "11988    1000  1448.531411\n",
       "35264    1100  1374.547724"
      ]
     },
     "execution_count": 402,
     "metadata": {},
     "output_type": "execute_result"
    }
   ],
   "source": [
    "# a comparison of a sample of predictions and actual values\n",
    "# aside from the generally poor success rate, it is noticeable how much less variance there is\n",
    "# in the predictions, when compared with the true values. could this still be the effects of\n",
    "# the very widely-spaced distribution of the target feature? \n",
    "predictions_sample = rf_best_params.predict(X_test)[:15]\n",
    "true_vals_sample = y_test[:15]\n",
    "pd.DataFrame({'Predicted':predictions_sample, 'Actual': true_vals_sample})"
   ]
  },
  {
   "cell_type": "markdown",
   "metadata": {},
   "source": [
    "<h3>New approach: use Random Forests Classifier to check if I can have more success treating this as a classification problem</h3>"
   ]
  },
  {
   "cell_type": "code",
   "execution_count": 451,
   "metadata": {},
   "outputs": [],
   "source": [
    "# new model, using params found in randomised search (see above). if i had more time, would run a separate search,\n",
    "# in case ideal params would be different for the classifier model. \n",
    "rf_cls = RandomForestClassifier(n_estimators=200, max_depth=2, oob_score=True)"
   ]
  },
  {
   "cell_type": "code",
   "execution_count": 452,
   "metadata": {
    "collapsed": true
   },
   "outputs": [],
   "source": [
    "# convert the target feature to binary categories. initially using just the median value\n",
    "# as a threshold. 1 means popular (above the median) and 0 not popular.\n",
    "df['shares_binary'] = np.where(df['shares'] >=df['shares'].median(), 1, 0)"
   ]
  },
  {
   "cell_type": "code",
   "execution_count": 453,
   "metadata": {},
   "outputs": [],
   "source": [
    "X = df.drop(['shares_binary', 'shares'], axis=1)"
   ]
  },
  {
   "cell_type": "code",
   "execution_count": 454,
   "metadata": {},
   "outputs": [],
   "source": [
    "y = df['shares_binary']"
   ]
  },
  {
   "cell_type": "code",
   "execution_count": 457,
   "metadata": {
    "collapsed": true
   },
   "outputs": [],
   "source": [
    "X_train, X_test, y_train, y_test = train_test_split(X, y, test_size=0.25)"
   ]
  },
  {
   "cell_type": "code",
   "execution_count": 458,
   "metadata": {},
   "outputs": [
    {
     "data": {
      "text/plain": [
       "RandomForestClassifier(bootstrap=True, class_weight=None, criterion='gini',\n",
       "            max_depth=2, max_features='auto', max_leaf_nodes=None,\n",
       "            min_impurity_decrease=0.0, min_impurity_split=None,\n",
       "            min_samples_leaf=1, min_samples_split=2,\n",
       "            min_weight_fraction_leaf=0.0, n_estimators=200, n_jobs=1,\n",
       "            oob_score=True, random_state=None, verbose=0, warm_start=False)"
      ]
     },
     "execution_count": 458,
     "metadata": {},
     "output_type": "execute_result"
    }
   ],
   "source": [
    "rf_cls.fit(X_train, y_train)"
   ]
  },
  {
   "cell_type": "code",
   "execution_count": 459,
   "metadata": {},
   "outputs": [
    {
     "name": "stdout",
     "output_type": "stream",
     "text": [
      "Accuracy (training set):  0.646\n",
      "Confusion matrix (training samples): \n",
      " [[256 216]\n",
      " [138 390]]\n",
      "Classification report (training samples):\n",
      "               precision    recall  f1-score   support\n",
      "\n",
      "          0       0.65      0.54      0.59       472\n",
      "          1       0.64      0.74      0.69       528\n",
      "\n",
      "avg / total       0.65      0.65      0.64      1000\n",
      "\n"
     ]
    }
   ],
   "source": [
    "# accuracy initially seems ok, but when evaluated against the test set, significant overfitting is apparent.\n",
    "rf_cls_predictions = rf_cls.predict(X_train)[:1000]\n",
    "\n",
    "print(\"Accuracy (training set): \", accuracy_score(y_train[:1000], rf_cls_predictions))\n",
    "print(\"Confusion matrix (training samples): \\n\", confusion_matrix(y_train[:1000], rf_cls_predictions))\n",
    "print(\"Classification report (training samples):\\n \", classification_report(y_train[:1000], rf_cls_predictions))"
   ]
  },
  {
   "cell_type": "code",
   "execution_count": 438,
   "metadata": {},
   "outputs": [
    {
     "name": "stdout",
     "output_type": "stream",
     "text": [
      "Accuracy (test set):  0.496\n",
      "Confusion matrix (test set): \n",
      " [[179 282]\n",
      " [222 317]]\n",
      "Classification report (test set):\n",
      "               precision    recall  f1-score   support\n",
      "\n",
      "          0       0.45      0.39      0.42       461\n",
      "          1       0.53      0.59      0.56       539\n",
      "\n",
      "avg / total       0.49      0.50      0.49      1000\n",
      "\n"
     ]
    }
   ],
   "source": [
    "print(\"Accuracy (test set): \", accuracy_score(y_test[:1000], rf_cls_predictions))\n",
    "print(\"Confusion matrix (test set): \\n\", confusion_matrix(y_test[:1000], rf_cls_predictions))\n",
    "print(\"Classification report (test set):\\n \", classification_report(y_test[:1000], rf_cls_predictions))"
   ]
  },
  {
   "cell_type": "code",
   "execution_count": null,
   "metadata": {
    "collapsed": true
   },
   "outputs": [],
   "source": [
    "# the above figures are disappointing, so will try another randomised search grid to find best \n",
    "# params for this classifier model\n"
   ]
  },
  {
   "cell_type": "markdown",
   "metadata": {},
   "source": [
    "<h3> Using a randomised search grid to find the optimal parameters for the model </h3>"
   ]
  },
  {
   "cell_type": "code",
   "execution_count": 441,
   "metadata": {
    "collapsed": true
   },
   "outputs": [],
   "source": [
    "grid = {'n_estimators': [10, 50, 100, 150, 200, 500, 1000], 'max_depth': [2,4,6,10,15,None]}"
   ]
  },
  {
   "cell_type": "code",
   "execution_count": 461,
   "metadata": {
    "collapsed": true
   },
   "outputs": [],
   "source": [
    "rf_cls = RandomForestClassifier()"
   ]
  },
  {
   "cell_type": "code",
   "execution_count": 462,
   "metadata": {
    "collapsed": true
   },
   "outputs": [],
   "source": [
    "rf_cls_random = RandomizedSearchCV(estimator = rf_cls, param_distributions = grid, n_iter = 20, cv=3, n_jobs = -1)"
   ]
  },
  {
   "cell_type": "code",
   "execution_count": 463,
   "metadata": {},
   "outputs": [
    {
     "data": {
      "text/plain": [
       "RandomizedSearchCV(cv=3, error_score='raise',\n",
       "          estimator=RandomForestClassifier(bootstrap=True, class_weight=None, criterion='gini',\n",
       "            max_depth=None, max_features='auto', max_leaf_nodes=None,\n",
       "            min_impurity_decrease=0.0, min_impurity_split=None,\n",
       "            min_samples_leaf=1, min_samples_split=2,\n",
       "            min_weight_fraction_leaf=0.0, n_estimators=10, n_jobs=1,\n",
       "            oob_score=False, random_state=None, verbose=0,\n",
       "            warm_start=False),\n",
       "          fit_params=None, iid=True, n_iter=20, n_jobs=-1,\n",
       "          param_distributions={'n_estimators': [10, 50, 100, 150, 200, 500, 1000], 'max_depth': [2, 4, 6, 10, 15, None]},\n",
       "          pre_dispatch='2*n_jobs', random_state=None, refit=True,\n",
       "          return_train_score='warn', scoring=None, verbose=0)"
      ]
     },
     "execution_count": 463,
     "metadata": {},
     "output_type": "execute_result"
    }
   ],
   "source": [
    "# WARNING: takes 20-30 mins to run. results should be displayed below on load.\n",
    "rf_cls_random.fit(X_train, y_train)"
   ]
  },
  {
   "cell_type": "code",
   "execution_count": 464,
   "metadata": {},
   "outputs": [
    {
     "data": {
      "text/plain": [
       "{'max_depth': 15, 'n_estimators': 1000}"
      ]
     },
     "execution_count": 464,
     "metadata": {},
     "output_type": "execute_result"
    }
   ],
   "source": [
    "rf_cls_random.best_params_"
   ]
  },
  {
   "cell_type": "code",
   "execution_count": 465,
   "metadata": {
    "collapsed": true
   },
   "outputs": [],
   "source": [
    "rf_cls_best_params = RandomForestClassifier(n_estimators=1000, max_depth=15, oob_score=True, n_jobs=-1)"
   ]
  },
  {
   "cell_type": "code",
   "execution_count": 466,
   "metadata": {},
   "outputs": [
    {
     "data": {
      "text/plain": [
       "RandomForestClassifier(bootstrap=True, class_weight=None, criterion='gini',\n",
       "            max_depth=15, max_features='auto', max_leaf_nodes=None,\n",
       "            min_impurity_decrease=0.0, min_impurity_split=None,\n",
       "            min_samples_leaf=1, min_samples_split=2,\n",
       "            min_weight_fraction_leaf=0.0, n_estimators=1000, n_jobs=-1,\n",
       "            oob_score=True, random_state=None, verbose=0, warm_start=False)"
      ]
     },
     "execution_count": 466,
     "metadata": {},
     "output_type": "execute_result"
    }
   ],
   "source": [
    "rf_cls_best_params.fit(X_train, y_train)"
   ]
  },
  {
   "cell_type": "code",
   "execution_count": 467,
   "metadata": {},
   "outputs": [
    {
     "name": "stdout",
     "output_type": "stream",
     "text": [
      "Accuracy (training set):  0.962\n",
      "Confusion matrix (training samples): \n",
      " [[456  16]\n",
      " [ 22 506]]\n",
      "Classification report (training samples):\n",
      "               precision    recall  f1-score   support\n",
      "\n",
      "          0       0.95      0.97      0.96       472\n",
      "          1       0.97      0.96      0.96       528\n",
      "\n",
      "avg / total       0.96      0.96      0.96      1000\n",
      "\n"
     ]
    }
   ],
   "source": [
    "# severe overfitting on this model iteration. not successful.\n",
    "cls_best_params_predictions = rf_cls_best_params.predict(X_train)[:1000]\n",
    "\n",
    "print(\"Accuracy (training set): \", accuracy_score(y_train[:1000], cls_best_params_predictions))\n",
    "print(\"Confusion matrix (training samples): \\n\", confusion_matrix(y_train[:1000], cls_best_params_predictions))\n",
    "print(\"Classification report (training samples):\\n \", classification_report(y_train[:1000], cls_best_params_predictions))"
   ]
  },
  {
   "cell_type": "code",
   "execution_count": 468,
   "metadata": {},
   "outputs": [
    {
     "name": "stdout",
     "output_type": "stream",
     "text": [
      "Accuracy (test set):  0.492\n",
      "Confusion matrix (test set): \n",
      " [[235 265]\n",
      " [243 257]]\n",
      "Classification report (test set):\n",
      "               precision    recall  f1-score   support\n",
      "\n",
      "          0       0.49      0.47      0.48       500\n",
      "          1       0.49      0.51      0.50       500\n",
      "\n",
      "avg / total       0.49      0.49      0.49      1000\n",
      "\n"
     ]
    }
   ],
   "source": [
    "print(\"Accuracy (test set): \", accuracy_score(y_test[:1000], cls_best_params_predictions))\n",
    "print(\"Confusion matrix (test set): \\n\", confusion_matrix(y_test[:1000], cls_best_params_predictions))\n",
    "print(\"Classification report (test set):\\n \", classification_report(y_test[:1000], cls_best_params_predictions))"
   ]
  },
  {
   "cell_type": "markdown",
   "metadata": {},
   "source": [
    "<h3>Summary</h3>"
   ]
  },
  {
   "cell_type": "markdown",
   "metadata": {},
   "source": [
    "At this stage, none of the models are satisfactory. Given more time, I would look into ways to deal with a target feature with such a skewed distribution. In experiments not documented in this Notebook, I tested models with even lower outlier cut-offs and found that the more I eliminated the widely spaced upper end of the values, the better a success rate the model seemed to have. However, this quickly got to the point where the true nature of the dataset was being eroded and the potential usefulness of the model was fading. I'm sure that with more experience in the field I would have other ideas as to how to handle this problem."
   ]
  },
  {
   "cell_type": "markdown",
   "metadata": {},
   "source": [
    "<h3>One final experiment...</h3>"
   ]
  },
  {
   "cell_type": "code",
   "execution_count": 406,
   "metadata": {},
   "outputs": [
    {
     "data": {
      "text/html": [
       "<div>\n",
       "<style>\n",
       "    .dataframe thead tr:only-child th {\n",
       "        text-align: right;\n",
       "    }\n",
       "\n",
       "    .dataframe thead th {\n",
       "        text-align: left;\n",
       "    }\n",
       "\n",
       "    .dataframe tbody tr th {\n",
       "        vertical-align: top;\n",
       "    }\n",
       "</style>\n",
       "<table border=\"1\" class=\"dataframe\">\n",
       "  <thead>\n",
       "    <tr style=\"text-align: right;\">\n",
       "      <th></th>\n",
       "      <th>feature</th>\n",
       "      <th>importance</th>\n",
       "    </tr>\n",
       "  </thead>\n",
       "  <tbody>\n",
       "    <tr>\n",
       "      <th>25</th>\n",
       "      <td>kw_avg_avg</td>\n",
       "      <td>0.537719</td>\n",
       "    </tr>\n",
       "    <tr>\n",
       "      <th>12</th>\n",
       "      <td>data_channel_is_entertainment</td>\n",
       "      <td>0.278287</td>\n",
       "    </tr>\n",
       "    <tr>\n",
       "      <th>15</th>\n",
       "      <td>data_channel_is_tech</td>\n",
       "      <td>0.139244</td>\n",
       "    </tr>\n",
       "    <tr>\n",
       "      <th>36</th>\n",
       "      <td>is_weekend</td>\n",
       "      <td>0.031236</td>\n",
       "    </tr>\n",
       "    <tr>\n",
       "      <th>14</th>\n",
       "      <td>data_channel_is_socmed</td>\n",
       "      <td>0.003954</td>\n",
       "    </tr>\n",
       "    <tr>\n",
       "      <th>28</th>\n",
       "      <td>self_reference_avg_sharess</td>\n",
       "      <td>0.003301</td>\n",
       "    </tr>\n",
       "    <tr>\n",
       "      <th>26</th>\n",
       "      <td>self_reference_min_shares</td>\n",
       "      <td>0.002660</td>\n",
       "    </tr>\n",
       "    <tr>\n",
       "      <th>41</th>\n",
       "      <td>LDA_04</td>\n",
       "      <td>0.002019</td>\n",
       "    </tr>\n",
       "    <tr>\n",
       "      <th>21</th>\n",
       "      <td>kw_max_max</td>\n",
       "      <td>0.000826</td>\n",
       "    </tr>\n",
       "    <tr>\n",
       "      <th>22</th>\n",
       "      <td>kw_avg_max</td>\n",
       "      <td>0.000754</td>\n",
       "    </tr>\n",
       "    <tr>\n",
       "      <th>0</th>\n",
       "      <td>n_tokens_title</td>\n",
       "      <td>0.000000</td>\n",
       "    </tr>\n",
       "    <tr>\n",
       "      <th>39</th>\n",
       "      <td>LDA_02</td>\n",
       "      <td>0.000000</td>\n",
       "    </tr>\n",
       "    <tr>\n",
       "      <th>40</th>\n",
       "      <td>LDA_03</td>\n",
       "      <td>0.000000</td>\n",
       "    </tr>\n",
       "    <tr>\n",
       "      <th>43</th>\n",
       "      <td>global_sentiment_polarity</td>\n",
       "      <td>0.000000</td>\n",
       "    </tr>\n",
       "    <tr>\n",
       "      <th>38</th>\n",
       "      <td>LDA_01</td>\n",
       "      <td>0.000000</td>\n",
       "    </tr>\n",
       "    <tr>\n",
       "      <th>37</th>\n",
       "      <td>LDA_00</td>\n",
       "      <td>0.000000</td>\n",
       "    </tr>\n",
       "    <tr>\n",
       "      <th>35</th>\n",
       "      <td>weekday_is_sunday</td>\n",
       "      <td>0.000000</td>\n",
       "    </tr>\n",
       "    <tr>\n",
       "      <th>42</th>\n",
       "      <td>global_subjectivity</td>\n",
       "      <td>0.000000</td>\n",
       "    </tr>\n",
       "    <tr>\n",
       "      <th>45</th>\n",
       "      <td>global_rate_negative_words</td>\n",
       "      <td>0.000000</td>\n",
       "    </tr>\n",
       "    <tr>\n",
       "      <th>44</th>\n",
       "      <td>global_rate_positive_words</td>\n",
       "      <td>0.000000</td>\n",
       "    </tr>\n",
       "    <tr>\n",
       "      <th>33</th>\n",
       "      <td>weekday_is_friday</td>\n",
       "      <td>0.000000</td>\n",
       "    </tr>\n",
       "    <tr>\n",
       "      <th>46</th>\n",
       "      <td>rate_positive_words</td>\n",
       "      <td>0.000000</td>\n",
       "    </tr>\n",
       "    <tr>\n",
       "      <th>47</th>\n",
       "      <td>rate_negative_words</td>\n",
       "      <td>0.000000</td>\n",
       "    </tr>\n",
       "    <tr>\n",
       "      <th>48</th>\n",
       "      <td>avg_positive_polarity</td>\n",
       "      <td>0.000000</td>\n",
       "    </tr>\n",
       "    <tr>\n",
       "      <th>49</th>\n",
       "      <td>min_positive_polarity</td>\n",
       "      <td>0.000000</td>\n",
       "    </tr>\n",
       "    <tr>\n",
       "      <th>50</th>\n",
       "      <td>max_positive_polarity</td>\n",
       "      <td>0.000000</td>\n",
       "    </tr>\n",
       "    <tr>\n",
       "      <th>51</th>\n",
       "      <td>avg_negative_polarity</td>\n",
       "      <td>0.000000</td>\n",
       "    </tr>\n",
       "    <tr>\n",
       "      <th>52</th>\n",
       "      <td>min_negative_polarity</td>\n",
       "      <td>0.000000</td>\n",
       "    </tr>\n",
       "    <tr>\n",
       "      <th>53</th>\n",
       "      <td>max_negative_polarity</td>\n",
       "      <td>0.000000</td>\n",
       "    </tr>\n",
       "    <tr>\n",
       "      <th>54</th>\n",
       "      <td>title_subjectivity</td>\n",
       "      <td>0.000000</td>\n",
       "    </tr>\n",
       "    <tr>\n",
       "      <th>55</th>\n",
       "      <td>title_sentiment_polarity</td>\n",
       "      <td>0.000000</td>\n",
       "    </tr>\n",
       "    <tr>\n",
       "      <th>56</th>\n",
       "      <td>abs_title_subjectivity</td>\n",
       "      <td>0.000000</td>\n",
       "    </tr>\n",
       "    <tr>\n",
       "      <th>34</th>\n",
       "      <td>weekday_is_saturday</td>\n",
       "      <td>0.000000</td>\n",
       "    </tr>\n",
       "    <tr>\n",
       "      <th>29</th>\n",
       "      <td>weekday_is_monday</td>\n",
       "      <td>0.000000</td>\n",
       "    </tr>\n",
       "    <tr>\n",
       "      <th>32</th>\n",
       "      <td>weekday_is_thursday</td>\n",
       "      <td>0.000000</td>\n",
       "    </tr>\n",
       "    <tr>\n",
       "      <th>31</th>\n",
       "      <td>weekday_is_wednesday</td>\n",
       "      <td>0.000000</td>\n",
       "    </tr>\n",
       "    <tr>\n",
       "      <th>2</th>\n",
       "      <td>n_unique_tokens</td>\n",
       "      <td>0.000000</td>\n",
       "    </tr>\n",
       "    <tr>\n",
       "      <th>3</th>\n",
       "      <td>n_non_stop_words</td>\n",
       "      <td>0.000000</td>\n",
       "    </tr>\n",
       "    <tr>\n",
       "      <th>4</th>\n",
       "      <td>n_non_stop_unique_tokens</td>\n",
       "      <td>0.000000</td>\n",
       "    </tr>\n",
       "    <tr>\n",
       "      <th>5</th>\n",
       "      <td>num_hrefs</td>\n",
       "      <td>0.000000</td>\n",
       "    </tr>\n",
       "    <tr>\n",
       "      <th>6</th>\n",
       "      <td>num_self_hrefs</td>\n",
       "      <td>0.000000</td>\n",
       "    </tr>\n",
       "    <tr>\n",
       "      <th>7</th>\n",
       "      <td>num_imgs</td>\n",
       "      <td>0.000000</td>\n",
       "    </tr>\n",
       "    <tr>\n",
       "      <th>8</th>\n",
       "      <td>num_videos</td>\n",
       "      <td>0.000000</td>\n",
       "    </tr>\n",
       "    <tr>\n",
       "      <th>9</th>\n",
       "      <td>average_token_length</td>\n",
       "      <td>0.000000</td>\n",
       "    </tr>\n",
       "    <tr>\n",
       "      <th>10</th>\n",
       "      <td>num_keywords</td>\n",
       "      <td>0.000000</td>\n",
       "    </tr>\n",
       "    <tr>\n",
       "      <th>11</th>\n",
       "      <td>data_channel_is_lifestyle</td>\n",
       "      <td>0.000000</td>\n",
       "    </tr>\n",
       "    <tr>\n",
       "      <th>13</th>\n",
       "      <td>data_channel_is_bus</td>\n",
       "      <td>0.000000</td>\n",
       "    </tr>\n",
       "    <tr>\n",
       "      <th>16</th>\n",
       "      <td>data_channel_is_world</td>\n",
       "      <td>0.000000</td>\n",
       "    </tr>\n",
       "    <tr>\n",
       "      <th>17</th>\n",
       "      <td>kw_min_min</td>\n",
       "      <td>0.000000</td>\n",
       "    </tr>\n",
       "    <tr>\n",
       "      <th>18</th>\n",
       "      <td>kw_max_min</td>\n",
       "      <td>0.000000</td>\n",
       "    </tr>\n",
       "    <tr>\n",
       "      <th>19</th>\n",
       "      <td>kw_avg_min</td>\n",
       "      <td>0.000000</td>\n",
       "    </tr>\n",
       "    <tr>\n",
       "      <th>20</th>\n",
       "      <td>kw_min_max</td>\n",
       "      <td>0.000000</td>\n",
       "    </tr>\n",
       "    <tr>\n",
       "      <th>23</th>\n",
       "      <td>kw_min_avg</td>\n",
       "      <td>0.000000</td>\n",
       "    </tr>\n",
       "    <tr>\n",
       "      <th>24</th>\n",
       "      <td>kw_max_avg</td>\n",
       "      <td>0.000000</td>\n",
       "    </tr>\n",
       "    <tr>\n",
       "      <th>27</th>\n",
       "      <td>self_reference_max_shares</td>\n",
       "      <td>0.000000</td>\n",
       "    </tr>\n",
       "    <tr>\n",
       "      <th>1</th>\n",
       "      <td>n_tokens_content</td>\n",
       "      <td>0.000000</td>\n",
       "    </tr>\n",
       "    <tr>\n",
       "      <th>30</th>\n",
       "      <td>weekday_is_tuesday</td>\n",
       "      <td>0.000000</td>\n",
       "    </tr>\n",
       "    <tr>\n",
       "      <th>57</th>\n",
       "      <td>abs_title_sentiment_polarity</td>\n",
       "      <td>0.000000</td>\n",
       "    </tr>\n",
       "  </tbody>\n",
       "</table>\n",
       "</div>"
      ],
      "text/plain": [
       "                          feature  importance\n",
       "25                     kw_avg_avg    0.537719\n",
       "12  data_channel_is_entertainment    0.278287\n",
       "15           data_channel_is_tech    0.139244\n",
       "36                     is_weekend    0.031236\n",
       "14         data_channel_is_socmed    0.003954\n",
       "28     self_reference_avg_sharess    0.003301\n",
       "26      self_reference_min_shares    0.002660\n",
       "41                         LDA_04    0.002019\n",
       "21                     kw_max_max    0.000826\n",
       "22                     kw_avg_max    0.000754\n",
       "0                  n_tokens_title    0.000000\n",
       "39                         LDA_02    0.000000\n",
       "40                         LDA_03    0.000000\n",
       "43      global_sentiment_polarity    0.000000\n",
       "38                         LDA_01    0.000000\n",
       "37                         LDA_00    0.000000\n",
       "35              weekday_is_sunday    0.000000\n",
       "42            global_subjectivity    0.000000\n",
       "45     global_rate_negative_words    0.000000\n",
       "44     global_rate_positive_words    0.000000\n",
       "33              weekday_is_friday    0.000000\n",
       "46            rate_positive_words    0.000000\n",
       "47            rate_negative_words    0.000000\n",
       "48          avg_positive_polarity    0.000000\n",
       "49          min_positive_polarity    0.000000\n",
       "50          max_positive_polarity    0.000000\n",
       "51          avg_negative_polarity    0.000000\n",
       "52          min_negative_polarity    0.000000\n",
       "53          max_negative_polarity    0.000000\n",
       "54             title_subjectivity    0.000000\n",
       "55       title_sentiment_polarity    0.000000\n",
       "56         abs_title_subjectivity    0.000000\n",
       "34            weekday_is_saturday    0.000000\n",
       "29              weekday_is_monday    0.000000\n",
       "32            weekday_is_thursday    0.000000\n",
       "31           weekday_is_wednesday    0.000000\n",
       "2                 n_unique_tokens    0.000000\n",
       "3                n_non_stop_words    0.000000\n",
       "4        n_non_stop_unique_tokens    0.000000\n",
       "5                       num_hrefs    0.000000\n",
       "6                  num_self_hrefs    0.000000\n",
       "7                        num_imgs    0.000000\n",
       "8                      num_videos    0.000000\n",
       "9            average_token_length    0.000000\n",
       "10                   num_keywords    0.000000\n",
       "11      data_channel_is_lifestyle    0.000000\n",
       "13            data_channel_is_bus    0.000000\n",
       "16          data_channel_is_world    0.000000\n",
       "17                     kw_min_min    0.000000\n",
       "18                     kw_max_min    0.000000\n",
       "19                     kw_avg_min    0.000000\n",
       "20                     kw_min_max    0.000000\n",
       "23                     kw_min_avg    0.000000\n",
       "24                     kw_max_avg    0.000000\n",
       "27      self_reference_max_shares    0.000000\n",
       "1                n_tokens_content    0.000000\n",
       "30             weekday_is_tuesday    0.000000\n",
       "57   abs_title_sentiment_polarity    0.000000"
      ]
     },
     "execution_count": 406,
     "metadata": {},
     "output_type": "execute_result"
    }
   ],
   "source": [
    "# features ranked by importance\n",
    "# we used this table to select features for a linear regression model\n",
    "# see linear regression notebook for results...\n",
    "f_imps = pd.DataFrame({'feature': X.columns, 'importance':rf_best_params.feature_importances_})\n",
    "f_imps.sort_values(by=['importance'], ascending=False)"
   ]
  },
  {
   "cell_type": "markdown",
   "metadata": {},
   "source": [
    "Deployment\n",
    "1.How will the model be integrated into the organisation?\n",
    "Mashable faces a choice in how to integrate the model. Given our findings on the importance of links to other popular articles and keywords shared with other popular articles, they could either 'chase popularity' by sticking to these popular networks - or they could risk occasionally producing more innovative topics that might strike a chord with readers but might struggle algorithmically to generate shares, at least in the short term.\n",
    "\n",
    "With regard to the popular LDA topics 2 and 3, articles scoring close to these topics could be studied to get a sense of what is popular in terms of style and article content - this knowledge could then be used to influence what work editors commission in future.\n",
    "\n",
    "Furthermore, although timing of publication and word count did not feature among the most influential features, in certain cases an editor might wish to look at them to judge which day and time to post a piece to reach the maximum audience possible (all other things being equal), so some further research into this might allow enable the deployment of such knowledge.\n",
    "\n",
    "2.How will we continue to evaluate the model after deployment?\n",
    "We would recommend updating the model with new data from Mashable as time goes on as trends and public tastes may change."
   ]
  },
  {
   "cell_type": "code",
   "execution_count": null,
   "metadata": {
    "collapsed": true
   },
   "outputs": [],
   "source": []
  }
 ],
 "metadata": {
  "kernelspec": {
   "display_name": "Python 3",
   "language": "python",
   "name": "python3"
  },
  "language_info": {
   "codemirror_mode": {
    "name": "ipython",
    "version": 3
   },
   "file_extension": ".py",
   "mimetype": "text/x-python",
   "name": "python",
   "nbconvert_exporter": "python",
   "pygments_lexer": "ipython3",
   "version": "3.6.3"
  }
 },
 "nbformat": 4,
 "nbformat_minor": 2
}
