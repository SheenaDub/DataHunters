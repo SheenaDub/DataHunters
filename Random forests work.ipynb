{
 "cells": [
  {
   "cell_type": "code",
   "execution_count": 126,
   "metadata": {
    "collapsed": true
   },
   "outputs": [],
   "source": [
    "# Important note - Please dont run the entire notebook at once. It could take upto half \n",
    "#an hour or even more to execute as I have varied the number of decision trees and \n",
    "#tried to find the rmse for test and train data. Have written my observations at the end of this notebook"
   ]
  },
  {
   "cell_type": "code",
   "execution_count": 106,
   "metadata": {},
   "outputs": [],
   "source": [
    "#import all the necessary libraries\n",
    "import numpy as np\n",
    "import pandas as pd\n",
    "import matplotlib.pyplot as plt\n",
    "from patsy import dmatrices\n",
    "from sklearn.cross_validation import train_test_split\n",
    "from sklearn import metrics\n",
    "from sklearn.cross_validation import cross_val_score\n",
    "from sklearn.tree import export_graphviz\n",
    "from sklearn.tree import DecisionTreeClassifier\n",
    "from sklearn.ensemble import RandomForestClassifier\n",
    "from sklearn.metrics import mean_squared_error\n",
    "from sklearn.metrics import accuracy_score\n",
    "from sklearn.metrics import confusion_matrix\n",
    "from sklearn.metrics import classification_report\n",
    "from math import sqrt\n",
    "from sklearn.ensemble import RandomForestRegressor\n",
    "# Allows plots to appear directly in the notebook.\n",
    "%matplotlib inline"
   ]
  },
  {
   "cell_type": "code",
   "execution_count": 12,
   "metadata": {
    "collapsed": true
   },
   "outputs": [],
   "source": [
    "#Read the dataset into a pandas dataframe\n",
    "df=pd.read_csv('OnlineNewsPopularity.csv', skipinitialspace=True)"
   ]
  },
  {
   "cell_type": "code",
   "execution_count": 13,
   "metadata": {},
   "outputs": [
    {
     "data": {
      "text/plain": [
       "url                               object\n",
       "timedelta                        float64\n",
       "n_tokens_title                   float64\n",
       "n_tokens_content                 float64\n",
       "n_unique_tokens                  float64\n",
       "n_non_stop_words                 float64\n",
       "n_non_stop_unique_tokens         float64\n",
       "num_hrefs                        float64\n",
       "num_self_hrefs                   float64\n",
       "num_imgs                         float64\n",
       "num_videos                       float64\n",
       "average_token_length             float64\n",
       "num_keywords                     float64\n",
       "data_channel_is_lifestyle        float64\n",
       "data_channel_is_entertainment    float64\n",
       "data_channel_is_bus              float64\n",
       "data_channel_is_socmed           float64\n",
       "data_channel_is_tech             float64\n",
       "data_channel_is_world            float64\n",
       "kw_min_min                       float64\n",
       "kw_max_min                       float64\n",
       "kw_avg_min                       float64\n",
       "kw_min_max                       float64\n",
       "kw_max_max                       float64\n",
       "kw_avg_max                       float64\n",
       "kw_min_avg                       float64\n",
       "kw_max_avg                       float64\n",
       "kw_avg_avg                       float64\n",
       "self_reference_min_shares        float64\n",
       "self_reference_max_shares        float64\n",
       "                                  ...   \n",
       "weekday_is_monday                float64\n",
       "weekday_is_tuesday               float64\n",
       "weekday_is_wednesday             float64\n",
       "weekday_is_thursday              float64\n",
       "weekday_is_friday                float64\n",
       "weekday_is_saturday              float64\n",
       "weekday_is_sunday                float64\n",
       "is_weekend                       float64\n",
       "LDA_00                           float64\n",
       "LDA_01                           float64\n",
       "LDA_02                           float64\n",
       "LDA_03                           float64\n",
       "LDA_04                           float64\n",
       "global_subjectivity              float64\n",
       "global_sentiment_polarity        float64\n",
       "global_rate_positive_words       float64\n",
       "global_rate_negative_words       float64\n",
       "rate_positive_words              float64\n",
       "rate_negative_words              float64\n",
       "avg_positive_polarity            float64\n",
       "min_positive_polarity            float64\n",
       "max_positive_polarity            float64\n",
       "avg_negative_polarity            float64\n",
       "min_negative_polarity            float64\n",
       "max_negative_polarity            float64\n",
       "title_subjectivity               float64\n",
       "title_sentiment_polarity         float64\n",
       "abs_title_subjectivity           float64\n",
       "abs_title_sentiment_polarity     float64\n",
       "shares                             int64\n",
       "Length: 61, dtype: object"
      ]
     },
     "execution_count": 13,
     "metadata": {},
     "output_type": "execute_result"
    }
   ],
   "source": [
    "#display the datatypes of the columns\n",
    "df.dtypes"
   ]
  },
  {
   "cell_type": "code",
   "execution_count": 104,
   "metadata": {},
   "outputs": [
    {
     "data": {
      "text/plain": [
       "count     39644.000000\n",
       "mean       3395.380184\n",
       "std       11626.950749\n",
       "min           1.000000\n",
       "25%         946.000000\n",
       "50%        1400.000000\n",
       "75%        2800.000000\n",
       "max      843300.000000\n",
       "Name: shares, dtype: float64"
      ]
     },
     "execution_count": 104,
     "metadata": {},
     "output_type": "execute_result"
    }
   ],
   "source": [
    "df['shares'].describe()"
   ]
  },
  {
   "cell_type": "code",
   "execution_count": 16,
   "metadata": {},
   "outputs": [],
   "source": [
    "#Splitting the data column wise to separate the target variable from the dataset\n",
    "Y=df.shares\n",
    "X=df.drop(['shares', 'url'], axis=1)"
   ]
  },
  {
   "cell_type": "code",
   "execution_count": 119,
   "metadata": {},
   "outputs": [],
   "source": [
    "#Spitting the entire dataset into test and train data\n",
    "X_train, X_test, Y_train, Y_test = train_test_split(X, Y, test_size=0.3)"
   ]
  },
  {
   "cell_type": "code",
   "execution_count": 96,
   "metadata": {},
   "outputs": [],
   "source": [
    "rfc_50= RandomForestClassifier(n_estimators=50, max_features='auto', oob_score=True, random_state=1).fit(X_train,Y_train)"
   ]
  },
  {
   "cell_type": "code",
   "execution_count": 97,
   "metadata": {},
   "outputs": [
    {
     "data": {
      "text/plain": [
       "19.109479747398048"
      ]
     },
     "execution_count": 97,
     "metadata": {},
     "output_type": "execute_result"
    }
   ],
   "source": [
    "#Predicting the output for train data and calculating mse and rmse\n",
    "predictions_50=rfc.predict(X_train)\n",
    "df_true_vs_rfc_predicted = pd.DataFrame({'ActualClass': Y_train, 'PredictedClass': predictions_50})\n",
    "mse = mean_squared_error(Y_train, predictions_50)\n",
    "rmse=sqrt(mse)\n",
    "rmse"
   ]
  },
  {
   "cell_type": "code",
   "execution_count": 99,
   "metadata": {},
   "outputs": [
    {
     "data": {
      "text/plain": [
       "10762.946133076715"
      ]
     },
     "execution_count": 99,
     "metadata": {},
     "output_type": "execute_result"
    }
   ],
   "source": [
    "#Predicting the output for test data and calculating mse and rmse\n",
    "predictions_50=rfc.predict(X_test)\n",
    "df_true_vs_rfc_predicted = pd.DataFrame({'ActualClass': Y_test, 'PredictedClass': predictions_50})\n",
    "mse = mean_squared_error(Y_test, predictions_50)\n",
    "rmse=sqrt(mse)\n",
    "rmse"
   ]
  },
  {
   "cell_type": "code",
   "execution_count": 100,
   "metadata": {},
   "outputs": [
    {
     "name": "stderr",
     "output_type": "stream",
     "text": [
      "/Users/manjunathsanjivkulkarni/anaconda3/lib/python3.6/site-packages/sklearn/ensemble/forest.py:453: UserWarning: Some inputs do not have OOB scores. This probably means too few trees were used to compute any reliable oob estimates.\n",
      "  warn(\"Some inputs do not have OOB scores. \"\n",
      "/Users/manjunathsanjivkulkarni/anaconda3/lib/python3.6/site-packages/sklearn/ensemble/forest.py:458: RuntimeWarning: invalid value encountered in true_divide\n",
      "  predictions[k].sum(axis=1)[:, np.newaxis])\n"
     ]
    }
   ],
   "source": [
    "#Training the model using 10 decision trees\n",
    "rfc_10 = RandomForestClassifier(n_estimators=10, max_features='auto', oob_score=True, random_state=1).fit(X_train,Y_train)"
   ]
  },
  {
   "cell_type": "code",
   "execution_count": 101,
   "metadata": {},
   "outputs": [
    {
     "data": {
      "text/plain": [
       "19.109479747398048"
      ]
     },
     "execution_count": 101,
     "metadata": {},
     "output_type": "execute_result"
    }
   ],
   "source": [
    "#Predicting the output for train data and calculating mse and rmse\n",
    "predictions_10=rfc.predict(X_train)\n",
    "df_true_vs_rfc_predicted = pd.DataFrame({'ActualClass': Y_train, 'PredictedClass': predictions_10})\n",
    "mse = mean_squared_error(Y_train, predictions_10)\n",
    "rmse=sqrt(mse)\n",
    "rmse"
   ]
  },
  {
   "cell_type": "code",
   "execution_count": 102,
   "metadata": {},
   "outputs": [
    {
     "data": {
      "text/plain": [
       "10762.946133076715"
      ]
     },
     "execution_count": 102,
     "metadata": {},
     "output_type": "execute_result"
    }
   ],
   "source": [
    "#Predicting the output for test data and calculating mse and rmse\n",
    "predictions_10=rfc.predict(X_test)\n",
    "df_true_vs_rfc_predicted = pd.DataFrame({'ActualClass': Y_test, 'PredictedClass': predictions_10})\n",
    "mse = mean_squared_error(Y_test, predictions_10)\n",
    "rmse=sqrt(mse)\n",
    "rmse"
   ]
  },
  {
   "cell_type": "code",
   "execution_count": 89,
   "metadata": {},
   "outputs": [
    {
     "name": "stderr",
     "output_type": "stream",
     "text": [
      "/Users/manjunathsanjivkulkarni/anaconda3/lib/python3.6/site-packages/sklearn/ensemble/forest.py:453: UserWarning: Some inputs do not have OOB scores. This probably means too few trees were used to compute any reliable oob estimates.\n",
      "  warn(\"Some inputs do not have OOB scores. \"\n",
      "/Users/manjunathsanjivkulkarni/anaconda3/lib/python3.6/site-packages/sklearn/ensemble/forest.py:458: RuntimeWarning: invalid value encountered in true_divide\n",
      "  predictions[k].sum(axis=1)[:, np.newaxis])\n"
     ]
    }
   ],
   "source": [
    "#Training the model using 15 decision trees\n",
    "rfc = RandomForestClassifier(n_estimators=15, max_features='auto', oob_score=True, random_state=1).fit(X_train,Y_train)"
   ]
  },
  {
   "cell_type": "code",
   "execution_count": 90,
   "metadata": {},
   "outputs": [
    {
     "data": {
      "text/plain": [
       "19.109479747398048"
      ]
     },
     "execution_count": 90,
     "metadata": {},
     "output_type": "execute_result"
    }
   ],
   "source": [
    "#Predicting the output for train data and calculating mse and rmse\n",
    "predictions_15=rfc.predict(X_train)\n",
    "df_true_vs_rfc_predicted = pd.DataFrame({'ActualClass': Y_train, 'PredictedClass': predictions_15})\n",
    "mse = mean_squared_error(Y_train, predictions_15)\n",
    "rmse=sqrt(mse)\n",
    "rmse"
   ]
  },
  {
   "cell_type": "code",
   "execution_count": 91,
   "metadata": {},
   "outputs": [
    {
     "data": {
      "text/plain": [
       "10762.946133076715"
      ]
     },
     "execution_count": 91,
     "metadata": {},
     "output_type": "execute_result"
    }
   ],
   "source": [
    "#Predicting the output for test data and calculating mse and rmse\n",
    "predictions_15=rfc.predict(X_test)\n",
    "df_true_vs_rfc_predicted = pd.DataFrame({'ActualClass': Y_test, 'PredictedClass': predictions_15})\n",
    "mse = mean_squared_error(Y_test, predictions_15)\n",
    "rmse=sqrt(mse)\n",
    "rmse"
   ]
  },
  {
   "cell_type": "code",
   "execution_count": 92,
   "metadata": {
    "collapsed": true
   },
   "outputs": [],
   "source": [
    "#Training the model using 25 decision trees\n",
    "rfc_25 = RandomForestClassifier(n_estimators=25, max_features='auto', oob_score=True, random_state=1).fit(X_train,Y_train)"
   ]
  },
  {
   "cell_type": "code",
   "execution_count": 94,
   "metadata": {},
   "outputs": [
    {
     "data": {
      "text/plain": [
       "17218.955869344994"
      ]
     },
     "execution_count": 94,
     "metadata": {},
     "output_type": "execute_result"
    }
   ],
   "source": [
    "#Predicting the output for train data and calculating mse and rmse\n",
    "predictions_25=rfc_25.predict(X_train)\n",
    "df_true_vs_rfc_predicted = pd.DataFrame({'ActualClass': Y_train, 'PredictedClass': predictions})\n",
    "mse = mean_squared_error(Y_train, predictions)\n",
    "rmse=sqrt(mse)\n",
    "rmse"
   ]
  },
  {
   "cell_type": "code",
   "execution_count": 95,
   "metadata": {},
   "outputs": [
    {
     "data": {
      "text/plain": [
       "10762.946133076715"
      ]
     },
     "execution_count": 95,
     "metadata": {},
     "output_type": "execute_result"
    }
   ],
   "source": [
    "#Predicting the output for test data and calculating mse and rmse\n",
    "predictions=rfc.predict(X_test)\n",
    "df_true_vs_rfc_predicted = pd.DataFrame({'ActualClass': Y_test, 'PredictedClass': predictions})\n",
    "mse = mean_squared_error(Y_test, predictions)\n",
    "rmse=sqrt(mse)\n",
    "rmse"
   ]
  },
  {
   "cell_type": "markdown",
   "metadata": {},
   "source": [
    "## Using Randomforest regression function for regression"
   ]
  },
  {
   "cell_type": "code",
   "execution_count": 120,
   "metadata": {},
   "outputs": [
    {
     "name": "stderr",
     "output_type": "stream",
     "text": [
      "/Users/manjunathsanjivkulkarni/anaconda3/lib/python3.6/site-packages/sklearn/ensemble/forest.py:724: UserWarning: Some inputs do not have OOB scores. This probably means too few trees were used to compute any reliable oob estimates.\n",
      "  warn(\"Some inputs do not have OOB scores. \"\n"
     ]
    }
   ],
   "source": [
    "#Training the model using 10 decision trees\n",
    "rfr_10 = RandomForestRegressor(n_estimators=10, max_features='auto', oob_score=True, random_state=1).fit(X_train,Y_train)"
   ]
  },
  {
   "cell_type": "code",
   "execution_count": 121,
   "metadata": {},
   "outputs": [
    {
     "data": {
      "text/plain": [
       "5086.744412367332"
      ]
     },
     "execution_count": 121,
     "metadata": {},
     "output_type": "execute_result"
    }
   ],
   "source": [
    "#Predicting the output for train data and calculating mse and rmse\n",
    "predictions_10=rfr_10.predict(X_train)\n",
    "df_true_vs_rfc_predicted = pd.DataFrame({'ActualClass': Y_train, 'PredictedClass': predictions_10})\n",
    "mse = mean_squared_error(Y_train, predictions_10)\n",
    "rmse=sqrt(mse)\n",
    "rmse"
   ]
  },
  {
   "cell_type": "code",
   "execution_count": 122,
   "metadata": {},
   "outputs": [
    {
     "data": {
      "text/plain": [
       "14483.508535806157"
      ]
     },
     "execution_count": 122,
     "metadata": {},
     "output_type": "execute_result"
    }
   ],
   "source": [
    "#Predicting the output for test data and calculating mse and rmse\n",
    "predictions_10=rfr_10.predict(X_test)\n",
    "df_true_vs_rfc_predicted = pd.DataFrame({'ActualClass': Y_test, 'PredictedClass': predictions_10})\n",
    "mse = mean_squared_error(Y_test, predictions_10)\n",
    "rmse=sqrt(mse)\n",
    "rmse"
   ]
  },
  {
   "cell_type": "code",
   "execution_count": 123,
   "metadata": {},
   "outputs": [
    {
     "name": "stderr",
     "output_type": "stream",
     "text": [
      "/Users/manjunathsanjivkulkarni/anaconda3/lib/python3.6/site-packages/sklearn/ensemble/forest.py:724: UserWarning: Some inputs do not have OOB scores. This probably means too few trees were used to compute any reliable oob estimates.\n",
      "  warn(\"Some inputs do not have OOB scores. \"\n"
     ]
    }
   ],
   "source": [
    "#Training the model using 20 decision trees\n",
    "rfr_20 = RandomForestRegressor(n_estimators=20, max_features='auto', oob_score=True, random_state=1).fit(X_train,Y_train)"
   ]
  },
  {
   "cell_type": "code",
   "execution_count": 124,
   "metadata": {},
   "outputs": [
    {
     "data": {
      "text/plain": [
       "4448.788749485366"
      ]
     },
     "execution_count": 124,
     "metadata": {},
     "output_type": "execute_result"
    }
   ],
   "source": [
    "#Predicting the output for train data and calculating mse and rmse\n",
    "predictions_20=rfr_20.predict(X_train)\n",
    "df_true_vs_rfc_predicted = pd.DataFrame({'ActualClass': Y_train, 'PredictedClass': predictions_20})\n",
    "mse = mean_squared_error(Y_train, predictions_20)\n",
    "rmse=sqrt(mse)\n",
    "rmse"
   ]
  },
  {
   "cell_type": "code",
   "execution_count": 125,
   "metadata": {},
   "outputs": [
    {
     "data": {
      "text/plain": [
       "14194.23914050642"
      ]
     },
     "execution_count": 125,
     "metadata": {},
     "output_type": "execute_result"
    }
   ],
   "source": [
    "#Predicting the output for test data and calculating mse and rmse\n",
    "predictions_20=rfr_20.predict(X_test)\n",
    "df_true_vs_rfc_predicted = pd.DataFrame({'ActualClass': Y_test, 'PredictedClass': predictions_20})\n",
    "mse = mean_squared_error(Y_test, predictions_20)\n",
    "rmse=sqrt(mse)\n",
    "rmse"
   ]
  },
  {
   "cell_type": "markdown",
   "metadata": {},
   "source": [
    "The rmse values obtained are quite huge. Not sure if that is acceptable. Need to research more on what values of rmse is acceptable. I searched a bit online and found that if the rmse values for test and train are similar or atleast comparable then the model is predicting good. But if the rmse value is less for train and high for test, it could be that the model is overfitting. So I guess we will have to try by converting the target variable into boolean(using mean as a threshold) and try random forest again. \n",
    "\n",
    "I also observed that the rmse values obtained in linear model and random forest are similar(in range of 10k). I could also see that the standard deviation is in the same range as rmse. This could be a reason for high rmse values.  "
   ]
  },
  {
   "cell_type": "markdown",
   "metadata": {},
   "source": [
    "Also the rmse values depend on the how the data is split up. It changes everytime the data is split.  "
   ]
  },
  {
   "cell_type": "code",
   "execution_count": null,
   "metadata": {
    "collapsed": true
   },
   "outputs": [],
   "source": []
  }
 ],
 "metadata": {
  "kernelspec": {
   "display_name": "Python 3",
   "language": "python",
   "name": "python3"
  },
  "language_info": {
   "codemirror_mode": {
    "name": "ipython",
    "version": 3
   },
   "file_extension": ".py",
   "mimetype": "text/x-python",
   "name": "python",
   "nbconvert_exporter": "python",
   "pygments_lexer": "ipython3",
   "version": "3.6.3"
  }
 },
 "nbformat": 4,
 "nbformat_minor": 2
}
