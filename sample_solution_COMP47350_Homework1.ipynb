{
 "cells": [
  {
   "cell_type": "code",
   "execution_count": 52,
   "metadata": {
    "collapsed": true
   },
   "outputs": [],
   "source": [
    "# Import pandas, numpy and matplotlib libraries\n",
    "import pandas as pd\n",
    "import numpy as np\n",
    "import matplotlib.pyplot as plt\n",
    "import matplotlib.patches as mpatches\n",
    "import seaborn as sns\n",
    "from matplotlib.backends.backend_pdf import PdfPages\n",
    "%matplotlib inline\n",
    "\n",
    "# Convert csv into dataframes. Note that original categorical data has space in front of the value, this is\n",
    "# eliminated with an extra parameter.\n",
    "df = pd.read_csv('CustomerChurn.csv',  keep_default_na=True, sep=',\\s+', delimiter=',', skipinitialspace=True)"
   ]
  },
  {
   "cell_type": "markdown",
   "metadata": {},
   "source": [
    "# (1). [50] Prepare a data quality report for the CSV file."
   ]
  },
  {
   "cell_type": "markdown",
   "metadata": {},
   "source": [
    "### - Check how many rows and columns your CSV has."
   ]
  },
  {
   "cell_type": "code",
   "execution_count": 53,
   "metadata": {},
   "outputs": [
    {
     "data": {
      "text/plain": [
       "(1000, 33)"
      ]
     },
     "execution_count": 53,
     "metadata": {},
     "output_type": "execute_result"
    }
   ],
   "source": [
    "#Print (rows, columns)\n",
    "df.shape"
   ]
  },
  {
   "cell_type": "markdown",
   "metadata": {},
   "source": [
    "We have a 1000 customers with 33 features associated with each customer."
   ]
  },
  {
   "cell_type": "markdown",
   "metadata": {},
   "source": [
    "### - Print the first and the last 5 rows."
   ]
  },
  {
   "cell_type": "code",
   "execution_count": 54,
   "metadata": {},
   "outputs": [
    {
     "data": {
      "text/html": [
       "<div>\n",
       "<style>\n",
       "    .dataframe thead tr:only-child th {\n",
       "        text-align: right;\n",
       "    }\n",
       "\n",
       "    .dataframe thead th {\n",
       "        text-align: left;\n",
       "    }\n",
       "\n",
       "    .dataframe tbody tr th {\n",
       "        vertical-align: top;\n",
       "    }\n",
       "</style>\n",
       "<table border=\"1\" class=\"dataframe\">\n",
       "  <thead>\n",
       "    <tr style=\"text-align: right;\">\n",
       "      <th></th>\n",
       "      <th>customer</th>\n",
       "      <th>age</th>\n",
       "      <th>occupation</th>\n",
       "      <th>regionType</th>\n",
       "      <th>marriageStatus</th>\n",
       "      <th>children</th>\n",
       "      <th>income</th>\n",
       "      <th>numHandsets</th>\n",
       "      <th>handsetAge</th>\n",
       "      <th>smartPhone</th>\n",
       "      <th>...</th>\n",
       "      <th>avgInCalls</th>\n",
       "      <th>peakOffPeakRatio</th>\n",
       "      <th>peakOffPeakRatioChangePct</th>\n",
       "      <th>avgDroppedCalls</th>\n",
       "      <th>lifeTime</th>\n",
       "      <th>lastMonthCustomerCareCalls</th>\n",
       "      <th>numRetentionCalls</th>\n",
       "      <th>numRetentionOffersAccepted</th>\n",
       "      <th>newFrequentNumbers</th>\n",
       "      <th>churn</th>\n",
       "    </tr>\n",
       "  </thead>\n",
       "  <tbody>\n",
       "    <tr>\n",
       "      <th>0</th>\n",
       "      <td>1059340</td>\n",
       "      <td>56</td>\n",
       "      <td>professional</td>\n",
       "      <td>town</td>\n",
       "      <td>yes</td>\n",
       "      <td>False</td>\n",
       "      <td>7</td>\n",
       "      <td>1</td>\n",
       "      <td>324</td>\n",
       "      <td>True</td>\n",
       "      <td>...</td>\n",
       "      <td>0.00</td>\n",
       "      <td>0.000000</td>\n",
       "      <td>5.108432</td>\n",
       "      <td>0.00</td>\n",
       "      <td>11</td>\n",
       "      <td>0.00</td>\n",
       "      <td>0</td>\n",
       "      <td>0</td>\n",
       "      <td>0</td>\n",
       "      <td>True</td>\n",
       "    </tr>\n",
       "    <tr>\n",
       "      <th>1</th>\n",
       "      <td>1010869</td>\n",
       "      <td>0</td>\n",
       "      <td>NaN</td>\n",
       "      <td>suburban</td>\n",
       "      <td>unknown</td>\n",
       "      <td>False</td>\n",
       "      <td>0</td>\n",
       "      <td>2</td>\n",
       "      <td>412</td>\n",
       "      <td>True</td>\n",
       "      <td>...</td>\n",
       "      <td>1.33</td>\n",
       "      <td>2.907508</td>\n",
       "      <td>-4.533335</td>\n",
       "      <td>28.33</td>\n",
       "      <td>30</td>\n",
       "      <td>0.00</td>\n",
       "      <td>1</td>\n",
       "      <td>0</td>\n",
       "      <td>0</td>\n",
       "      <td>False</td>\n",
       "    </tr>\n",
       "    <tr>\n",
       "      <th>2</th>\n",
       "      <td>1025527</td>\n",
       "      <td>50</td>\n",
       "      <td>professional</td>\n",
       "      <td>suburban</td>\n",
       "      <td>yes</td>\n",
       "      <td>True</td>\n",
       "      <td>6</td>\n",
       "      <td>2</td>\n",
       "      <td>397</td>\n",
       "      <td>True</td>\n",
       "      <td>...</td>\n",
       "      <td>0.00</td>\n",
       "      <td>3.333636</td>\n",
       "      <td>-1.145834</td>\n",
       "      <td>3.00</td>\n",
       "      <td>22</td>\n",
       "      <td>0.00</td>\n",
       "      <td>0</td>\n",
       "      <td>0</td>\n",
       "      <td>0</td>\n",
       "      <td>True</td>\n",
       "    </tr>\n",
       "    <tr>\n",
       "      <th>3</th>\n",
       "      <td>1030183</td>\n",
       "      <td>32</td>\n",
       "      <td>NaN</td>\n",
       "      <td>NaN</td>\n",
       "      <td>yes</td>\n",
       "      <td>False</td>\n",
       "      <td>6</td>\n",
       "      <td>3</td>\n",
       "      <td>290</td>\n",
       "      <td>True</td>\n",
       "      <td>...</td>\n",
       "      <td>11.33</td>\n",
       "      <td>7.098380</td>\n",
       "      <td>-13.514522</td>\n",
       "      <td>10.33</td>\n",
       "      <td>21</td>\n",
       "      <td>0.67</td>\n",
       "      <td>0</td>\n",
       "      <td>0</td>\n",
       "      <td>0</td>\n",
       "      <td>True</td>\n",
       "    </tr>\n",
       "    <tr>\n",
       "      <th>4</th>\n",
       "      <td>1029274</td>\n",
       "      <td>0</td>\n",
       "      <td>NaN</td>\n",
       "      <td>suburban</td>\n",
       "      <td>unknown</td>\n",
       "      <td>False</td>\n",
       "      <td>0</td>\n",
       "      <td>1</td>\n",
       "      <td>684</td>\n",
       "      <td>True</td>\n",
       "      <td>...</td>\n",
       "      <td>8.67</td>\n",
       "      <td>1.229328</td>\n",
       "      <td>-2.375600</td>\n",
       "      <td>4.67</td>\n",
       "      <td>23</td>\n",
       "      <td>0.00</td>\n",
       "      <td>0</td>\n",
       "      <td>0</td>\n",
       "      <td>0</td>\n",
       "      <td>True</td>\n",
       "    </tr>\n",
       "  </tbody>\n",
       "</table>\n",
       "<p>5 rows × 33 columns</p>\n",
       "</div>"
      ],
      "text/plain": [
       "   customer  age    occupation regionType marriageStatus  children  income  \\\n",
       "0   1059340   56  professional       town            yes     False       7   \n",
       "1   1010869    0           NaN   suburban        unknown     False       0   \n",
       "2   1025527   50  professional   suburban            yes      True       6   \n",
       "3   1030183   32           NaN        NaN            yes     False       6   \n",
       "4   1029274    0           NaN   suburban        unknown     False       0   \n",
       "\n",
       "   numHandsets  handsetAge  smartPhone  ...    avgInCalls peakOffPeakRatio  \\\n",
       "0            1         324        True  ...          0.00         0.000000   \n",
       "1            2         412        True  ...          1.33         2.907508   \n",
       "2            2         397        True  ...          0.00         3.333636   \n",
       "3            3         290        True  ...         11.33         7.098380   \n",
       "4            1         684        True  ...          8.67         1.229328   \n",
       "\n",
       "   peakOffPeakRatioChangePct avgDroppedCalls  lifeTime  \\\n",
       "0                   5.108432            0.00        11   \n",
       "1                  -4.533335           28.33        30   \n",
       "2                  -1.145834            3.00        22   \n",
       "3                 -13.514522           10.33        21   \n",
       "4                  -2.375600            4.67        23   \n",
       "\n",
       "   lastMonthCustomerCareCalls  numRetentionCalls  numRetentionOffersAccepted  \\\n",
       "0                        0.00                  0                           0   \n",
       "1                        0.00                  1                           0   \n",
       "2                        0.00                  0                           0   \n",
       "3                        0.67                  0                           0   \n",
       "4                        0.00                  0                           0   \n",
       "\n",
       "   newFrequentNumbers  churn  \n",
       "0                   0   True  \n",
       "1                   0  False  \n",
       "2                   0   True  \n",
       "3                   0   True  \n",
       "4                   0   True  \n",
       "\n",
       "[5 rows x 33 columns]"
      ]
     },
     "execution_count": 54,
     "metadata": {},
     "output_type": "execute_result"
    }
   ],
   "source": [
    "df.head(5)"
   ]
  },
  {
   "cell_type": "code",
   "execution_count": 55,
   "metadata": {},
   "outputs": [
    {
     "data": {
      "text/html": [
       "<div>\n",
       "<style>\n",
       "    .dataframe thead tr:only-child th {\n",
       "        text-align: right;\n",
       "    }\n",
       "\n",
       "    .dataframe thead th {\n",
       "        text-align: left;\n",
       "    }\n",
       "\n",
       "    .dataframe tbody tr th {\n",
       "        vertical-align: top;\n",
       "    }\n",
       "</style>\n",
       "<table border=\"1\" class=\"dataframe\">\n",
       "  <thead>\n",
       "    <tr style=\"text-align: right;\">\n",
       "      <th></th>\n",
       "      <th>customer</th>\n",
       "      <th>age</th>\n",
       "      <th>occupation</th>\n",
       "      <th>regionType</th>\n",
       "      <th>marriageStatus</th>\n",
       "      <th>children</th>\n",
       "      <th>income</th>\n",
       "      <th>numHandsets</th>\n",
       "      <th>handsetAge</th>\n",
       "      <th>smartPhone</th>\n",
       "      <th>...</th>\n",
       "      <th>avgInCalls</th>\n",
       "      <th>peakOffPeakRatio</th>\n",
       "      <th>peakOffPeakRatioChangePct</th>\n",
       "      <th>avgDroppedCalls</th>\n",
       "      <th>lifeTime</th>\n",
       "      <th>lastMonthCustomerCareCalls</th>\n",
       "      <th>numRetentionCalls</th>\n",
       "      <th>numRetentionOffersAccepted</th>\n",
       "      <th>newFrequentNumbers</th>\n",
       "      <th>churn</th>\n",
       "    </tr>\n",
       "  </thead>\n",
       "  <tbody>\n",
       "    <tr>\n",
       "      <th>995</th>\n",
       "      <td>1010820</td>\n",
       "      <td>34</td>\n",
       "      <td>NaN</td>\n",
       "      <td>suburban</td>\n",
       "      <td>yes</td>\n",
       "      <td>True</td>\n",
       "      <td>8</td>\n",
       "      <td>1</td>\n",
       "      <td>1017</td>\n",
       "      <td>False</td>\n",
       "      <td>...</td>\n",
       "      <td>6.00</td>\n",
       "      <td>7.938045</td>\n",
       "      <td>8.957264</td>\n",
       "      <td>2.67</td>\n",
       "      <td>34</td>\n",
       "      <td>0.00</td>\n",
       "      <td>0</td>\n",
       "      <td>0</td>\n",
       "      <td>1</td>\n",
       "      <td>True</td>\n",
       "    </tr>\n",
       "    <tr>\n",
       "      <th>996</th>\n",
       "      <td>1016712</td>\n",
       "      <td>56</td>\n",
       "      <td>professional</td>\n",
       "      <td>NaN</td>\n",
       "      <td>yes</td>\n",
       "      <td>True</td>\n",
       "      <td>7</td>\n",
       "      <td>2</td>\n",
       "      <td>206</td>\n",
       "      <td>True</td>\n",
       "      <td>...</td>\n",
       "      <td>9.00</td>\n",
       "      <td>1.214292</td>\n",
       "      <td>17.428446</td>\n",
       "      <td>7.33</td>\n",
       "      <td>26</td>\n",
       "      <td>2.00</td>\n",
       "      <td>0</td>\n",
       "      <td>0</td>\n",
       "      <td>0</td>\n",
       "      <td>True</td>\n",
       "    </tr>\n",
       "    <tr>\n",
       "      <th>997</th>\n",
       "      <td>1009245</td>\n",
       "      <td>0</td>\n",
       "      <td>NaN</td>\n",
       "      <td>NaN</td>\n",
       "      <td>yes</td>\n",
       "      <td>False</td>\n",
       "      <td>6</td>\n",
       "      <td>1</td>\n",
       "      <td>952</td>\n",
       "      <td>True</td>\n",
       "      <td>...</td>\n",
       "      <td>1.67</td>\n",
       "      <td>1.647059</td>\n",
       "      <td>15.147565</td>\n",
       "      <td>7.33</td>\n",
       "      <td>31</td>\n",
       "      <td>0.33</td>\n",
       "      <td>0</td>\n",
       "      <td>0</td>\n",
       "      <td>0</td>\n",
       "      <td>True</td>\n",
       "    </tr>\n",
       "    <tr>\n",
       "      <th>998</th>\n",
       "      <td>1056495</td>\n",
       "      <td>54</td>\n",
       "      <td>NaN</td>\n",
       "      <td>suburban</td>\n",
       "      <td>yes</td>\n",
       "      <td>True</td>\n",
       "      <td>9</td>\n",
       "      <td>1</td>\n",
       "      <td>339</td>\n",
       "      <td>True</td>\n",
       "      <td>...</td>\n",
       "      <td>19.00</td>\n",
       "      <td>0.799381</td>\n",
       "      <td>-5.571665</td>\n",
       "      <td>4.33</td>\n",
       "      <td>11</td>\n",
       "      <td>1.33</td>\n",
       "      <td>0</td>\n",
       "      <td>0</td>\n",
       "      <td>0</td>\n",
       "      <td>True</td>\n",
       "    </tr>\n",
       "    <tr>\n",
       "      <th>999</th>\n",
       "      <td>1036358</td>\n",
       "      <td>0</td>\n",
       "      <td>NaN</td>\n",
       "      <td>town</td>\n",
       "      <td>unknown</td>\n",
       "      <td>False</td>\n",
       "      <td>0</td>\n",
       "      <td>2</td>\n",
       "      <td>522</td>\n",
       "      <td>True</td>\n",
       "      <td>...</td>\n",
       "      <td>0.67</td>\n",
       "      <td>0.828192</td>\n",
       "      <td>2.423543</td>\n",
       "      <td>14.33</td>\n",
       "      <td>19</td>\n",
       "      <td>10.67</td>\n",
       "      <td>0</td>\n",
       "      <td>0</td>\n",
       "      <td>0</td>\n",
       "      <td>True</td>\n",
       "    </tr>\n",
       "  </tbody>\n",
       "</table>\n",
       "<p>5 rows × 33 columns</p>\n",
       "</div>"
      ],
      "text/plain": [
       "     customer  age    occupation regionType marriageStatus  children  income  \\\n",
       "995   1010820   34           NaN   suburban            yes      True       8   \n",
       "996   1016712   56  professional        NaN            yes      True       7   \n",
       "997   1009245    0           NaN        NaN            yes     False       6   \n",
       "998   1056495   54           NaN   suburban            yes      True       9   \n",
       "999   1036358    0           NaN       town        unknown     False       0   \n",
       "\n",
       "     numHandsets  handsetAge  smartPhone  ...    avgInCalls peakOffPeakRatio  \\\n",
       "995            1        1017       False  ...          6.00         7.938045   \n",
       "996            2         206        True  ...          9.00         1.214292   \n",
       "997            1         952        True  ...          1.67         1.647059   \n",
       "998            1         339        True  ...         19.00         0.799381   \n",
       "999            2         522        True  ...          0.67         0.828192   \n",
       "\n",
       "     peakOffPeakRatioChangePct avgDroppedCalls  lifeTime  \\\n",
       "995                   8.957264            2.67        34   \n",
       "996                  17.428446            7.33        26   \n",
       "997                  15.147565            7.33        31   \n",
       "998                  -5.571665            4.33        11   \n",
       "999                   2.423543           14.33        19   \n",
       "\n",
       "     lastMonthCustomerCareCalls  numRetentionCalls  \\\n",
       "995                        0.00                  0   \n",
       "996                        2.00                  0   \n",
       "997                        0.33                  0   \n",
       "998                        1.33                  0   \n",
       "999                       10.67                  0   \n",
       "\n",
       "     numRetentionOffersAccepted  newFrequentNumbers  churn  \n",
       "995                           0                   1   True  \n",
       "996                           0                   0   True  \n",
       "997                           0                   0   True  \n",
       "998                           0                   0   True  \n",
       "999                           0                   0   True  \n",
       "\n",
       "[5 rows x 33 columns]"
      ]
     },
     "execution_count": 55,
     "metadata": {},
     "output_type": "execute_result"
    }
   ],
   "source": [
    "df.tail(5)"
   ]
  },
  {
   "cell_type": "markdown",
   "metadata": {},
   "source": [
    "### - Convert the features to their appropriate data types (e.g., decide which features are more appropriate as continuos and which ones as categorical types). "
   ]
  },
  {
   "cell_type": "code",
   "execution_count": 56,
   "metadata": {},
   "outputs": [
    {
     "data": {
      "text/plain": [
       "customer                        int64\n",
       "age                             int64\n",
       "occupation                     object\n",
       "regionType                     object\n",
       "marriageStatus                 object\n",
       "children                         bool\n",
       "income                          int64\n",
       "numHandsets                     int64\n",
       "handsetAge                      int64\n",
       "smartPhone                       bool\n",
       "currentHandsetPrice           float64\n",
       "creditRating                   object\n",
       "homeOwner                        bool\n",
       "creditCard                     object\n",
       "avgBill                       float64\n",
       "avgMins                       float64\n",
       "avgrecurringCharge            float64\n",
       "avgOverBundleMins             float64\n",
       "avgRoamCalls                  float64\n",
       "callMinutesChangePct          float64\n",
       "billAmountChangePct           float64\n",
       "avgReceivedMins               float64\n",
       "avgOutCalls                   float64\n",
       "avgInCalls                    float64\n",
       "peakOffPeakRatio              float64\n",
       "peakOffPeakRatioChangePct     float64\n",
       "avgDroppedCalls               float64\n",
       "lifeTime                        int64\n",
       "lastMonthCustomerCareCalls    float64\n",
       "numRetentionCalls               int64\n",
       "numRetentionOffersAccepted      int64\n",
       "newFrequentNumbers              int64\n",
       "churn                            bool\n",
       "dtype: object"
      ]
     },
     "execution_count": 56,
     "metadata": {},
     "output_type": "execute_result"
    }
   ],
   "source": [
    "df.dtypes"
   ]
  },
  {
   "cell_type": "markdown",
   "metadata": {},
   "source": [
    "Based on examining the data in a spreadsheet program, the following decisions were made about the data convertions:\n",
    "\n",
    "- **bool** values were converted to **categorical**.\n",
    "- **object** values were converted to **categorical** as they contained finite set of possible values.\n",
    "- the *'income'* column which is **int64** was converted to **categorical** because it contained finite set of possible values, representing different *income levels*."
   ]
  },
  {
   "cell_type": "code",
   "execution_count": 57,
   "metadata": {},
   "outputs": [
    {
     "data": {
      "text/plain": [
       "customer                         int64\n",
       "age                              int64\n",
       "occupation                    category\n",
       "regionType                    category\n",
       "marriageStatus                category\n",
       "children                      category\n",
       "income                        category\n",
       "numHandsets                      int64\n",
       "handsetAge                       int64\n",
       "smartPhone                    category\n",
       "currentHandsetPrice            float64\n",
       "creditRating                  category\n",
       "homeOwner                     category\n",
       "creditCard                    category\n",
       "avgBill                        float64\n",
       "avgMins                        float64\n",
       "avgrecurringCharge             float64\n",
       "avgOverBundleMins              float64\n",
       "avgRoamCalls                   float64\n",
       "callMinutesChangePct           float64\n",
       "billAmountChangePct            float64\n",
       "avgReceivedMins                float64\n",
       "avgOutCalls                    float64\n",
       "avgInCalls                     float64\n",
       "peakOffPeakRatio               float64\n",
       "peakOffPeakRatioChangePct      float64\n",
       "avgDroppedCalls                float64\n",
       "lifeTime                         int64\n",
       "lastMonthCustomerCareCalls     float64\n",
       "numRetentionCalls                int64\n",
       "numRetentionOffersAccepted       int64\n",
       "newFrequentNumbers               int64\n",
       "churn                         category\n",
       "dtype: object"
      ]
     },
     "execution_count": 57,
     "metadata": {},
     "output_type": "execute_result"
    }
   ],
   "source": [
    "# Select columns containing categorical data\n",
    "categorical_columns = df[['occupation','regionType','marriageStatus','income','creditRating', 'creditCard', 'children', 'smartPhone', 'homeOwner', 'churn']].columns\n",
    "#income was chosen as category because the data contains single digit values representing income categories\n",
    "\n",
    "# Convert data type to category for these columns\n",
    "for column in categorical_columns:\n",
    "    df[column] = df[column].astype('category')\n",
    "\n",
    "df.dtypes"
   ]
  },
  {
   "cell_type": "code",
   "execution_count": 58,
   "metadata": {},
   "outputs": [
    {
     "data": {
      "text/html": [
       "<div>\n",
       "<style>\n",
       "    .dataframe thead tr:only-child th {\n",
       "        text-align: right;\n",
       "    }\n",
       "\n",
       "    .dataframe thead th {\n",
       "        text-align: left;\n",
       "    }\n",
       "\n",
       "    .dataframe tbody tr th {\n",
       "        vertical-align: top;\n",
       "    }\n",
       "</style>\n",
       "<table border=\"1\" class=\"dataframe\">\n",
       "  <thead>\n",
       "    <tr style=\"text-align: right;\">\n",
       "      <th></th>\n",
       "      <th>count</th>\n",
       "      <th>unique</th>\n",
       "      <th>top</th>\n",
       "      <th>freq</th>\n",
       "    </tr>\n",
       "  </thead>\n",
       "  <tbody>\n",
       "    <tr>\n",
       "      <th>occupation</th>\n",
       "      <td>267</td>\n",
       "      <td>7</td>\n",
       "      <td>professional</td>\n",
       "      <td>179</td>\n",
       "    </tr>\n",
       "    <tr>\n",
       "      <th>regionType</th>\n",
       "      <td>531</td>\n",
       "      <td>6</td>\n",
       "      <td>suburban</td>\n",
       "      <td>306</td>\n",
       "    </tr>\n",
       "    <tr>\n",
       "      <th>marriageStatus</th>\n",
       "      <td>1000</td>\n",
       "      <td>3</td>\n",
       "      <td>unknown</td>\n",
       "      <td>402</td>\n",
       "    </tr>\n",
       "    <tr>\n",
       "      <th>children</th>\n",
       "      <td>1000</td>\n",
       "      <td>2</td>\n",
       "      <td>False</td>\n",
       "      <td>765</td>\n",
       "    </tr>\n",
       "    <tr>\n",
       "      <th>income</th>\n",
       "      <td>1000</td>\n",
       "      <td>10</td>\n",
       "      <td>0</td>\n",
       "      <td>268</td>\n",
       "    </tr>\n",
       "    <tr>\n",
       "      <th>smartPhone</th>\n",
       "      <td>1000</td>\n",
       "      <td>2</td>\n",
       "      <td>True</td>\n",
       "      <td>891</td>\n",
       "    </tr>\n",
       "    <tr>\n",
       "      <th>creditRating</th>\n",
       "      <td>1000</td>\n",
       "      <td>7</td>\n",
       "      <td>B</td>\n",
       "      <td>389</td>\n",
       "    </tr>\n",
       "    <tr>\n",
       "      <th>homeOwner</th>\n",
       "      <td>1000</td>\n",
       "      <td>2</td>\n",
       "      <td>False</td>\n",
       "      <td>652</td>\n",
       "    </tr>\n",
       "    <tr>\n",
       "      <th>creditCard</th>\n",
       "      <td>1000</td>\n",
       "      <td>6</td>\n",
       "      <td>true</td>\n",
       "      <td>655</td>\n",
       "    </tr>\n",
       "    <tr>\n",
       "      <th>churn</th>\n",
       "      <td>1000</td>\n",
       "      <td>2</td>\n",
       "      <td>True</td>\n",
       "      <td>532</td>\n",
       "    </tr>\n",
       "  </tbody>\n",
       "</table>\n",
       "</div>"
      ],
      "text/plain": [
       "               count unique           top freq\n",
       "occupation       267      7  professional  179\n",
       "regionType       531      6      suburban  306\n",
       "marriageStatus  1000      3       unknown  402\n",
       "children        1000      2         False  765\n",
       "income          1000     10             0  268\n",
       "smartPhone      1000      2          True  891\n",
       "creditRating    1000      7             B  389\n",
       "homeOwner       1000      2         False  652\n",
       "creditCard      1000      6          true  655\n",
       "churn           1000      2          True  532"
      ]
     },
     "execution_count": 58,
     "metadata": {},
     "output_type": "execute_result"
    }
   ],
   "source": [
    "# Print table with descriptive statistics for all the categorical features\n",
    "df.select_dtypes(['category']).describe().T"
   ]
  },
  {
   "cell_type": "markdown",
   "metadata": {},
   "source": [
    "### - Drop duplicate rows and columns, if any."
   ]
  },
  {
   "cell_type": "code",
   "execution_count": 61,
   "metadata": {},
   "outputs": [
    {
     "name": "stdout",
     "output_type": "stream",
     "text": [
      "[]\n"
     ]
    }
   ],
   "source": [
    "# Checking for duplicated rows\n",
    "print(df.set_index('customer').index.get_duplicates())"
   ]
  },
  {
   "cell_type": "code",
   "execution_count": 62,
   "metadata": {},
   "outputs": [
    {
     "name": "stdout",
     "output_type": "stream",
     "text": [
      "[]\n"
     ]
    }
   ],
   "source": [
    "# Checking for duplicated columns\n",
    "print(df.set_index('customer').index.T.get_duplicates())"
   ]
  },
  {
   "cell_type": "code",
   "execution_count": 63,
   "metadata": {},
   "outputs": [
    {
     "name": "stdout",
     "output_type": "stream",
     "text": [
      "Duplicate rows: 0\n",
      "Duplicate columns: 0\n"
     ]
    }
   ],
   "source": [
    "# another way to check for duplicate rows\n",
    "print('Duplicate rows:', df.duplicated()[df.duplicated() == True].shape[0])\n",
    "# Check for duplicate columns\n",
    "print('Duplicate columns:',df.columns.size - df.columns.unique().size)"
   ]
  },
  {
   "cell_type": "markdown",
   "metadata": {},
   "source": [
    "- The *'customer'* column is the only column which is not permitted to have duplicate values. All the other columns can have duplicate values because of the nature of what the columns describe. Here we see that there are no duplicate rows in our dataset.\n",
    "\n",
    "- The dataset does not contain any duplicate columns."
   ]
  },
  {
   "cell_type": "markdown",
   "metadata": {},
   "source": [
    "### - Drop constant columns, if any.\n",
    "\n",
    "We've already seen above that categorical features don't have constant columns. Let's check continuous features:"
   ]
  },
  {
   "cell_type": "code",
   "execution_count": 64,
   "metadata": {},
   "outputs": [
    {
     "data": {
      "text/html": [
       "<div>\n",
       "<style>\n",
       "    .dataframe thead tr:only-child th {\n",
       "        text-align: right;\n",
       "    }\n",
       "\n",
       "    .dataframe thead th {\n",
       "        text-align: left;\n",
       "    }\n",
       "\n",
       "    .dataframe tbody tr th {\n",
       "        vertical-align: top;\n",
       "    }\n",
       "</style>\n",
       "<table border=\"1\" class=\"dataframe\">\n",
       "  <thead>\n",
       "    <tr style=\"text-align: right;\">\n",
       "      <th></th>\n",
       "      <th>count</th>\n",
       "      <th>mean</th>\n",
       "      <th>std</th>\n",
       "      <th>min</th>\n",
       "      <th>25%</th>\n",
       "      <th>50%</th>\n",
       "      <th>75%</th>\n",
       "      <th>max</th>\n",
       "    </tr>\n",
       "  </thead>\n",
       "  <tbody>\n",
       "    <tr>\n",
       "      <th>customer</th>\n",
       "      <td>1000.0</td>\n",
       "      <td>1.049027e+06</td>\n",
       "      <td>28337.411453</td>\n",
       "      <td>1.000004e+06</td>\n",
       "      <td>1.025108e+06</td>\n",
       "      <td>1.049217e+06</td>\n",
       "      <td>1.073305e+06</td>\n",
       "      <td>1.099614e+06</td>\n",
       "    </tr>\n",
       "    <tr>\n",
       "      <th>age</th>\n",
       "      <td>1000.0</td>\n",
       "      <td>3.063400e+01</td>\n",
       "      <td>22.551599</td>\n",
       "      <td>0.000000e+00</td>\n",
       "      <td>0.000000e+00</td>\n",
       "      <td>3.400000e+01</td>\n",
       "      <td>4.800000e+01</td>\n",
       "      <td>8.600000e+01</td>\n",
       "    </tr>\n",
       "    <tr>\n",
       "      <th>numHandsets</th>\n",
       "      <td>1000.0</td>\n",
       "      <td>1.769000e+00</td>\n",
       "      <td>1.365102</td>\n",
       "      <td>1.000000e+00</td>\n",
       "      <td>1.000000e+00</td>\n",
       "      <td>1.000000e+00</td>\n",
       "      <td>2.000000e+00</td>\n",
       "      <td>1.300000e+01</td>\n",
       "    </tr>\n",
       "    <tr>\n",
       "      <th>handsetAge</th>\n",
       "      <td>1000.0</td>\n",
       "      <td>4.011510e+02</td>\n",
       "      <td>259.406661</td>\n",
       "      <td>-2.000000e+00</td>\n",
       "      <td>2.180000e+02</td>\n",
       "      <td>3.445000e+02</td>\n",
       "      <td>5.420000e+02</td>\n",
       "      <td>1.812000e+03</td>\n",
       "    </tr>\n",
       "    <tr>\n",
       "      <th>currentHandsetPrice</th>\n",
       "      <td>1000.0</td>\n",
       "      <td>3.482581e+01</td>\n",
       "      <td>56.561167</td>\n",
       "      <td>0.000000e+00</td>\n",
       "      <td>0.000000e+00</td>\n",
       "      <td>0.000000e+00</td>\n",
       "      <td>3.249000e+01</td>\n",
       "      <td>3.999900e+02</td>\n",
       "    </tr>\n",
       "    <tr>\n",
       "      <th>avgBill</th>\n",
       "      <td>1000.0</td>\n",
       "      <td>5.734780e+01</td>\n",
       "      <td>44.519769</td>\n",
       "      <td>0.000000e+00</td>\n",
       "      <td>3.324750e+01</td>\n",
       "      <td>4.915500e+01</td>\n",
       "      <td>6.917500e+01</td>\n",
       "      <td>4.696700e+02</td>\n",
       "    </tr>\n",
       "    <tr>\n",
       "      <th>avgMins</th>\n",
       "      <td>1000.0</td>\n",
       "      <td>5.013036e+02</td>\n",
       "      <td>530.272984</td>\n",
       "      <td>0.000000e+00</td>\n",
       "      <td>1.475000e+02</td>\n",
       "      <td>3.470000e+02</td>\n",
       "      <td>6.638750e+02</td>\n",
       "      <td>4.598750e+03</td>\n",
       "    </tr>\n",
       "    <tr>\n",
       "      <th>avgrecurringCharge</th>\n",
       "      <td>1000.0</td>\n",
       "      <td>4.632820e+01</td>\n",
       "      <td>24.246087</td>\n",
       "      <td>0.000000e+00</td>\n",
       "      <td>3.000000e+01</td>\n",
       "      <td>4.499000e+01</td>\n",
       "      <td>5.999000e+01</td>\n",
       "      <td>2.999900e+02</td>\n",
       "    </tr>\n",
       "    <tr>\n",
       "      <th>avgOverBundleMins</th>\n",
       "      <td>1000.0</td>\n",
       "      <td>3.888876e+01</td>\n",
       "      <td>94.715038</td>\n",
       "      <td>0.000000e+00</td>\n",
       "      <td>0.000000e+00</td>\n",
       "      <td>4.000000e+00</td>\n",
       "      <td>4.225000e+01</td>\n",
       "      <td>1.389000e+03</td>\n",
       "    </tr>\n",
       "    <tr>\n",
       "      <th>avgRoamCalls</th>\n",
       "      <td>1000.0</td>\n",
       "      <td>9.162200e-01</td>\n",
       "      <td>4.940806</td>\n",
       "      <td>0.000000e+00</td>\n",
       "      <td>0.000000e+00</td>\n",
       "      <td>0.000000e+00</td>\n",
       "      <td>2.750000e-01</td>\n",
       "      <td>1.310400e+02</td>\n",
       "    </tr>\n",
       "    <tr>\n",
       "      <th>callMinutesChangePct</th>\n",
       "      <td>1000.0</td>\n",
       "      <td>-5.377716e-01</td>\n",
       "      <td>5.197712</td>\n",
       "      <td>-4.465500e+01</td>\n",
       "      <td>-1.856250e+00</td>\n",
       "      <td>-1.750000e-01</td>\n",
       "      <td>9.900000e-01</td>\n",
       "      <td>2.805000e+01</td>\n",
       "    </tr>\n",
       "    <tr>\n",
       "      <th>billAmountChangePct</th>\n",
       "      <td>1000.0</td>\n",
       "      <td>-1.048300e-02</td>\n",
       "      <td>0.927263</td>\n",
       "      <td>-5.763000e+00</td>\n",
       "      <td>-1.363000e-01</td>\n",
       "      <td>-5.000000e-03</td>\n",
       "      <td>3.690000e-02</td>\n",
       "      <td>1.791140e+01</td>\n",
       "    </tr>\n",
       "    <tr>\n",
       "      <th>avgReceivedMins</th>\n",
       "      <td>1000.0</td>\n",
       "      <td>1.091565e+02</td>\n",
       "      <td>163.394282</td>\n",
       "      <td>0.000000e+00</td>\n",
       "      <td>5.787500e+00</td>\n",
       "      <td>4.970500e+01</td>\n",
       "      <td>1.507550e+02</td>\n",
       "      <td>1.549930e+03</td>\n",
       "    </tr>\n",
       "    <tr>\n",
       "      <th>avgOutCalls</th>\n",
       "      <td>1000.0</td>\n",
       "      <td>2.538799e+01</td>\n",
       "      <td>36.119986</td>\n",
       "      <td>0.000000e+00</td>\n",
       "      <td>2.330000e+00</td>\n",
       "      <td>1.283500e+01</td>\n",
       "      <td>3.600000e+01</td>\n",
       "      <td>3.320000e+02</td>\n",
       "    </tr>\n",
       "    <tr>\n",
       "      <th>avgInCalls</th>\n",
       "      <td>1000.0</td>\n",
       "      <td>8.439290e+00</td>\n",
       "      <td>17.036525</td>\n",
       "      <td>0.000000e+00</td>\n",
       "      <td>0.000000e+00</td>\n",
       "      <td>2.000000e+00</td>\n",
       "      <td>9.415000e+00</td>\n",
       "      <td>2.330000e+02</td>\n",
       "    </tr>\n",
       "    <tr>\n",
       "      <th>peakOffPeakRatio</th>\n",
       "      <td>1000.0</td>\n",
       "      <td>2.137873e+00</td>\n",
       "      <td>3.465256</td>\n",
       "      <td>0.000000e+00</td>\n",
       "      <td>7.226356e-01</td>\n",
       "      <td>1.380353e+00</td>\n",
       "      <td>2.446368e+00</td>\n",
       "      <td>7.477477e+01</td>\n",
       "    </tr>\n",
       "    <tr>\n",
       "      <th>peakOffPeakRatioChangePct</th>\n",
       "      <td>1000.0</td>\n",
       "      <td>2.730705e-01</td>\n",
       "      <td>9.620523</td>\n",
       "      <td>-2.815402e+01</td>\n",
       "      <td>-6.099596e+00</td>\n",
       "      <td>5.604797e-02</td>\n",
       "      <td>6.636753e+00</td>\n",
       "      <td>3.777974e+01</td>\n",
       "    </tr>\n",
       "    <tr>\n",
       "      <th>avgDroppedCalls</th>\n",
       "      <td>1000.0</td>\n",
       "      <td>9.699970e+00</td>\n",
       "      <td>14.972256</td>\n",
       "      <td>0.000000e+00</td>\n",
       "      <td>1.330000e+00</td>\n",
       "      <td>5.000000e+00</td>\n",
       "      <td>1.141500e+01</td>\n",
       "      <td>1.593300e+02</td>\n",
       "    </tr>\n",
       "    <tr>\n",
       "      <th>lifeTime</th>\n",
       "      <td>1000.0</td>\n",
       "      <td>1.874700e+01</td>\n",
       "      <td>9.499433</td>\n",
       "      <td>6.000000e+00</td>\n",
       "      <td>1.100000e+01</td>\n",
       "      <td>1.700000e+01</td>\n",
       "      <td>2.400000e+01</td>\n",
       "      <td>6.000000e+01</td>\n",
       "    </tr>\n",
       "    <tr>\n",
       "      <th>lastMonthCustomerCareCalls</th>\n",
       "      <td>1000.0</td>\n",
       "      <td>1.641900e+00</td>\n",
       "      <td>4.167139</td>\n",
       "      <td>0.000000e+00</td>\n",
       "      <td>0.000000e+00</td>\n",
       "      <td>0.000000e+00</td>\n",
       "      <td>1.330000e+00</td>\n",
       "      <td>4.200000e+01</td>\n",
       "    </tr>\n",
       "    <tr>\n",
       "      <th>numRetentionCalls</th>\n",
       "      <td>1000.0</td>\n",
       "      <td>5.100000e-02</td>\n",
       "      <td>0.233353</td>\n",
       "      <td>0.000000e+00</td>\n",
       "      <td>0.000000e+00</td>\n",
       "      <td>0.000000e+00</td>\n",
       "      <td>0.000000e+00</td>\n",
       "      <td>2.000000e+00</td>\n",
       "    </tr>\n",
       "    <tr>\n",
       "      <th>numRetentionOffersAccepted</th>\n",
       "      <td>1000.0</td>\n",
       "      <td>2.400000e-02</td>\n",
       "      <td>0.159529</td>\n",
       "      <td>0.000000e+00</td>\n",
       "      <td>0.000000e+00</td>\n",
       "      <td>0.000000e+00</td>\n",
       "      <td>0.000000e+00</td>\n",
       "      <td>2.000000e+00</td>\n",
       "    </tr>\n",
       "    <tr>\n",
       "      <th>newFrequentNumbers</th>\n",
       "      <td>1000.0</td>\n",
       "      <td>2.040000e-01</td>\n",
       "      <td>0.637802</td>\n",
       "      <td>0.000000e+00</td>\n",
       "      <td>0.000000e+00</td>\n",
       "      <td>0.000000e+00</td>\n",
       "      <td>0.000000e+00</td>\n",
       "      <td>3.000000e+00</td>\n",
       "    </tr>\n",
       "  </tbody>\n",
       "</table>\n",
       "</div>"
      ],
      "text/plain": [
       "                             count          mean           std           min  \\\n",
       "customer                    1000.0  1.049027e+06  28337.411453  1.000004e+06   \n",
       "age                         1000.0  3.063400e+01     22.551599  0.000000e+00   \n",
       "numHandsets                 1000.0  1.769000e+00      1.365102  1.000000e+00   \n",
       "handsetAge                  1000.0  4.011510e+02    259.406661 -2.000000e+00   \n",
       "currentHandsetPrice         1000.0  3.482581e+01     56.561167  0.000000e+00   \n",
       "avgBill                     1000.0  5.734780e+01     44.519769  0.000000e+00   \n",
       "avgMins                     1000.0  5.013036e+02    530.272984  0.000000e+00   \n",
       "avgrecurringCharge          1000.0  4.632820e+01     24.246087  0.000000e+00   \n",
       "avgOverBundleMins           1000.0  3.888876e+01     94.715038  0.000000e+00   \n",
       "avgRoamCalls                1000.0  9.162200e-01      4.940806  0.000000e+00   \n",
       "callMinutesChangePct        1000.0 -5.377716e-01      5.197712 -4.465500e+01   \n",
       "billAmountChangePct         1000.0 -1.048300e-02      0.927263 -5.763000e+00   \n",
       "avgReceivedMins             1000.0  1.091565e+02    163.394282  0.000000e+00   \n",
       "avgOutCalls                 1000.0  2.538799e+01     36.119986  0.000000e+00   \n",
       "avgInCalls                  1000.0  8.439290e+00     17.036525  0.000000e+00   \n",
       "peakOffPeakRatio            1000.0  2.137873e+00      3.465256  0.000000e+00   \n",
       "peakOffPeakRatioChangePct   1000.0  2.730705e-01      9.620523 -2.815402e+01   \n",
       "avgDroppedCalls             1000.0  9.699970e+00     14.972256  0.000000e+00   \n",
       "lifeTime                    1000.0  1.874700e+01      9.499433  6.000000e+00   \n",
       "lastMonthCustomerCareCalls  1000.0  1.641900e+00      4.167139  0.000000e+00   \n",
       "numRetentionCalls           1000.0  5.100000e-02      0.233353  0.000000e+00   \n",
       "numRetentionOffersAccepted  1000.0  2.400000e-02      0.159529  0.000000e+00   \n",
       "newFrequentNumbers          1000.0  2.040000e-01      0.637802  0.000000e+00   \n",
       "\n",
       "                                     25%           50%           75%  \\\n",
       "customer                    1.025108e+06  1.049217e+06  1.073305e+06   \n",
       "age                         0.000000e+00  3.400000e+01  4.800000e+01   \n",
       "numHandsets                 1.000000e+00  1.000000e+00  2.000000e+00   \n",
       "handsetAge                  2.180000e+02  3.445000e+02  5.420000e+02   \n",
       "currentHandsetPrice         0.000000e+00  0.000000e+00  3.249000e+01   \n",
       "avgBill                     3.324750e+01  4.915500e+01  6.917500e+01   \n",
       "avgMins                     1.475000e+02  3.470000e+02  6.638750e+02   \n",
       "avgrecurringCharge          3.000000e+01  4.499000e+01  5.999000e+01   \n",
       "avgOverBundleMins           0.000000e+00  4.000000e+00  4.225000e+01   \n",
       "avgRoamCalls                0.000000e+00  0.000000e+00  2.750000e-01   \n",
       "callMinutesChangePct       -1.856250e+00 -1.750000e-01  9.900000e-01   \n",
       "billAmountChangePct        -1.363000e-01 -5.000000e-03  3.690000e-02   \n",
       "avgReceivedMins             5.787500e+00  4.970500e+01  1.507550e+02   \n",
       "avgOutCalls                 2.330000e+00  1.283500e+01  3.600000e+01   \n",
       "avgInCalls                  0.000000e+00  2.000000e+00  9.415000e+00   \n",
       "peakOffPeakRatio            7.226356e-01  1.380353e+00  2.446368e+00   \n",
       "peakOffPeakRatioChangePct  -6.099596e+00  5.604797e-02  6.636753e+00   \n",
       "avgDroppedCalls             1.330000e+00  5.000000e+00  1.141500e+01   \n",
       "lifeTime                    1.100000e+01  1.700000e+01  2.400000e+01   \n",
       "lastMonthCustomerCareCalls  0.000000e+00  0.000000e+00  1.330000e+00   \n",
       "numRetentionCalls           0.000000e+00  0.000000e+00  0.000000e+00   \n",
       "numRetentionOffersAccepted  0.000000e+00  0.000000e+00  0.000000e+00   \n",
       "newFrequentNumbers          0.000000e+00  0.000000e+00  0.000000e+00   \n",
       "\n",
       "                                     max  \n",
       "customer                    1.099614e+06  \n",
       "age                         8.600000e+01  \n",
       "numHandsets                 1.300000e+01  \n",
       "handsetAge                  1.812000e+03  \n",
       "currentHandsetPrice         3.999900e+02  \n",
       "avgBill                     4.696700e+02  \n",
       "avgMins                     4.598750e+03  \n",
       "avgrecurringCharge          2.999900e+02  \n",
       "avgOverBundleMins           1.389000e+03  \n",
       "avgRoamCalls                1.310400e+02  \n",
       "callMinutesChangePct        2.805000e+01  \n",
       "billAmountChangePct         1.791140e+01  \n",
       "avgReceivedMins             1.549930e+03  \n",
       "avgOutCalls                 3.320000e+02  \n",
       "avgInCalls                  2.330000e+02  \n",
       "peakOffPeakRatio            7.477477e+01  \n",
       "peakOffPeakRatioChangePct   3.777974e+01  \n",
       "avgDroppedCalls             1.593300e+02  \n",
       "lifeTime                    6.000000e+01  \n",
       "lastMonthCustomerCareCalls  4.200000e+01  \n",
       "numRetentionCalls           2.000000e+00  \n",
       "numRetentionOffersAccepted  2.000000e+00  \n",
       "newFrequentNumbers          3.000000e+00  "
      ]
     },
     "execution_count": 64,
     "metadata": {},
     "output_type": "execute_result"
    }
   ],
   "source": [
    "# Select columns containing continuous data\n",
    "continuous_columns = df[['customer','age','numHandsets','handsetAge','currentHandsetPrice', 'avgBill',\n",
    "                         'avgMins', 'avgrecurringCharge', 'avgOverBundleMins', 'avgRoamCalls', \n",
    "                         'callMinutesChangePct', 'billAmountChangePct', 'avgReceivedMins', 'avgOutCalls', \n",
    "                         'avgInCalls', 'peakOffPeakRatio', 'peakOffPeakRatioChangePct', 'avgDroppedCalls',\n",
    "                         'lifeTime', 'lastMonthCustomerCareCalls', 'numRetentionCalls',\n",
    "                         'numRetentionOffersAccepted', 'newFrequentNumbers']].columns\n",
    "\n",
    "# Print table\n",
    "df[continuous_columns].describe().T"
   ]
  },
  {
   "cell_type": "markdown",
   "metadata": {},
   "source": [
    "A non zero **std** or **standard deviation** implies that a particular feature does not contain a single constant value in all of the rows. Thus in this case, none of the continuous features are constant."
   ]
  },
  {
   "cell_type": "markdown",
   "metadata": {},
   "source": [
    "### - Save your updated/cleaned data frame to a new csv file."
   ]
  },
  {
   "cell_type": "code",
   "execution_count": 65,
   "metadata": {
    "collapsed": true
   },
   "outputs": [],
   "source": [
    "# Write the dataframe to a csv file\n",
    "df.to_csv('CustomerChurn_1-1.csv', index=False)"
   ]
  },
  {
   "cell_type": "markdown",
   "metadata": {},
   "source": [
    "### - Prepare a table with descriptive statistics for all the continuous features."
   ]
  },
  {
   "cell_type": "code",
   "execution_count": 66,
   "metadata": {},
   "outputs": [
    {
     "data": {
      "text/html": [
       "<div>\n",
       "<style>\n",
       "    .dataframe thead tr:only-child th {\n",
       "        text-align: right;\n",
       "    }\n",
       "\n",
       "    .dataframe thead th {\n",
       "        text-align: left;\n",
       "    }\n",
       "\n",
       "    .dataframe tbody tr th {\n",
       "        vertical-align: top;\n",
       "    }\n",
       "</style>\n",
       "<table border=\"1\" class=\"dataframe\">\n",
       "  <thead>\n",
       "    <tr style=\"text-align: right;\">\n",
       "      <th></th>\n",
       "      <th>count</th>\n",
       "      <th>mean</th>\n",
       "      <th>std</th>\n",
       "      <th>min</th>\n",
       "      <th>25%</th>\n",
       "      <th>50%</th>\n",
       "      <th>75%</th>\n",
       "      <th>max</th>\n",
       "    </tr>\n",
       "  </thead>\n",
       "  <tbody>\n",
       "    <tr>\n",
       "      <th>customer</th>\n",
       "      <td>1000.0</td>\n",
       "      <td>1.049027e+06</td>\n",
       "      <td>28337.411453</td>\n",
       "      <td>1.000004e+06</td>\n",
       "      <td>1.025108e+06</td>\n",
       "      <td>1.049217e+06</td>\n",
       "      <td>1.073305e+06</td>\n",
       "      <td>1.099614e+06</td>\n",
       "    </tr>\n",
       "    <tr>\n",
       "      <th>age</th>\n",
       "      <td>1000.0</td>\n",
       "      <td>3.063400e+01</td>\n",
       "      <td>22.551599</td>\n",
       "      <td>0.000000e+00</td>\n",
       "      <td>0.000000e+00</td>\n",
       "      <td>3.400000e+01</td>\n",
       "      <td>4.800000e+01</td>\n",
       "      <td>8.600000e+01</td>\n",
       "    </tr>\n",
       "    <tr>\n",
       "      <th>numHandsets</th>\n",
       "      <td>1000.0</td>\n",
       "      <td>1.769000e+00</td>\n",
       "      <td>1.365102</td>\n",
       "      <td>1.000000e+00</td>\n",
       "      <td>1.000000e+00</td>\n",
       "      <td>1.000000e+00</td>\n",
       "      <td>2.000000e+00</td>\n",
       "      <td>1.300000e+01</td>\n",
       "    </tr>\n",
       "    <tr>\n",
       "      <th>handsetAge</th>\n",
       "      <td>1000.0</td>\n",
       "      <td>4.011510e+02</td>\n",
       "      <td>259.406661</td>\n",
       "      <td>-2.000000e+00</td>\n",
       "      <td>2.180000e+02</td>\n",
       "      <td>3.445000e+02</td>\n",
       "      <td>5.420000e+02</td>\n",
       "      <td>1.812000e+03</td>\n",
       "    </tr>\n",
       "    <tr>\n",
       "      <th>currentHandsetPrice</th>\n",
       "      <td>1000.0</td>\n",
       "      <td>3.482581e+01</td>\n",
       "      <td>56.561167</td>\n",
       "      <td>0.000000e+00</td>\n",
       "      <td>0.000000e+00</td>\n",
       "      <td>0.000000e+00</td>\n",
       "      <td>3.249000e+01</td>\n",
       "      <td>3.999900e+02</td>\n",
       "    </tr>\n",
       "    <tr>\n",
       "      <th>avgBill</th>\n",
       "      <td>1000.0</td>\n",
       "      <td>5.734780e+01</td>\n",
       "      <td>44.519769</td>\n",
       "      <td>0.000000e+00</td>\n",
       "      <td>3.324750e+01</td>\n",
       "      <td>4.915500e+01</td>\n",
       "      <td>6.917500e+01</td>\n",
       "      <td>4.696700e+02</td>\n",
       "    </tr>\n",
       "    <tr>\n",
       "      <th>avgMins</th>\n",
       "      <td>1000.0</td>\n",
       "      <td>5.013036e+02</td>\n",
       "      <td>530.272984</td>\n",
       "      <td>0.000000e+00</td>\n",
       "      <td>1.475000e+02</td>\n",
       "      <td>3.470000e+02</td>\n",
       "      <td>6.638750e+02</td>\n",
       "      <td>4.598750e+03</td>\n",
       "    </tr>\n",
       "    <tr>\n",
       "      <th>avgrecurringCharge</th>\n",
       "      <td>1000.0</td>\n",
       "      <td>4.632820e+01</td>\n",
       "      <td>24.246087</td>\n",
       "      <td>0.000000e+00</td>\n",
       "      <td>3.000000e+01</td>\n",
       "      <td>4.499000e+01</td>\n",
       "      <td>5.999000e+01</td>\n",
       "      <td>2.999900e+02</td>\n",
       "    </tr>\n",
       "    <tr>\n",
       "      <th>avgOverBundleMins</th>\n",
       "      <td>1000.0</td>\n",
       "      <td>3.888876e+01</td>\n",
       "      <td>94.715038</td>\n",
       "      <td>0.000000e+00</td>\n",
       "      <td>0.000000e+00</td>\n",
       "      <td>4.000000e+00</td>\n",
       "      <td>4.225000e+01</td>\n",
       "      <td>1.389000e+03</td>\n",
       "    </tr>\n",
       "    <tr>\n",
       "      <th>avgRoamCalls</th>\n",
       "      <td>1000.0</td>\n",
       "      <td>9.162200e-01</td>\n",
       "      <td>4.940806</td>\n",
       "      <td>0.000000e+00</td>\n",
       "      <td>0.000000e+00</td>\n",
       "      <td>0.000000e+00</td>\n",
       "      <td>2.750000e-01</td>\n",
       "      <td>1.310400e+02</td>\n",
       "    </tr>\n",
       "    <tr>\n",
       "      <th>callMinutesChangePct</th>\n",
       "      <td>1000.0</td>\n",
       "      <td>-5.377716e-01</td>\n",
       "      <td>5.197712</td>\n",
       "      <td>-4.465500e+01</td>\n",
       "      <td>-1.856250e+00</td>\n",
       "      <td>-1.750000e-01</td>\n",
       "      <td>9.900000e-01</td>\n",
       "      <td>2.805000e+01</td>\n",
       "    </tr>\n",
       "    <tr>\n",
       "      <th>billAmountChangePct</th>\n",
       "      <td>1000.0</td>\n",
       "      <td>-1.048300e-02</td>\n",
       "      <td>0.927263</td>\n",
       "      <td>-5.763000e+00</td>\n",
       "      <td>-1.363000e-01</td>\n",
       "      <td>-5.000000e-03</td>\n",
       "      <td>3.690000e-02</td>\n",
       "      <td>1.791140e+01</td>\n",
       "    </tr>\n",
       "    <tr>\n",
       "      <th>avgReceivedMins</th>\n",
       "      <td>1000.0</td>\n",
       "      <td>1.091565e+02</td>\n",
       "      <td>163.394282</td>\n",
       "      <td>0.000000e+00</td>\n",
       "      <td>5.787500e+00</td>\n",
       "      <td>4.970500e+01</td>\n",
       "      <td>1.507550e+02</td>\n",
       "      <td>1.549930e+03</td>\n",
       "    </tr>\n",
       "    <tr>\n",
       "      <th>avgOutCalls</th>\n",
       "      <td>1000.0</td>\n",
       "      <td>2.538799e+01</td>\n",
       "      <td>36.119986</td>\n",
       "      <td>0.000000e+00</td>\n",
       "      <td>2.330000e+00</td>\n",
       "      <td>1.283500e+01</td>\n",
       "      <td>3.600000e+01</td>\n",
       "      <td>3.320000e+02</td>\n",
       "    </tr>\n",
       "    <tr>\n",
       "      <th>avgInCalls</th>\n",
       "      <td>1000.0</td>\n",
       "      <td>8.439290e+00</td>\n",
       "      <td>17.036525</td>\n",
       "      <td>0.000000e+00</td>\n",
       "      <td>0.000000e+00</td>\n",
       "      <td>2.000000e+00</td>\n",
       "      <td>9.415000e+00</td>\n",
       "      <td>2.330000e+02</td>\n",
       "    </tr>\n",
       "    <tr>\n",
       "      <th>peakOffPeakRatio</th>\n",
       "      <td>1000.0</td>\n",
       "      <td>2.137873e+00</td>\n",
       "      <td>3.465256</td>\n",
       "      <td>0.000000e+00</td>\n",
       "      <td>7.226356e-01</td>\n",
       "      <td>1.380353e+00</td>\n",
       "      <td>2.446368e+00</td>\n",
       "      <td>7.477477e+01</td>\n",
       "    </tr>\n",
       "    <tr>\n",
       "      <th>peakOffPeakRatioChangePct</th>\n",
       "      <td>1000.0</td>\n",
       "      <td>2.730705e-01</td>\n",
       "      <td>9.620523</td>\n",
       "      <td>-2.815402e+01</td>\n",
       "      <td>-6.099596e+00</td>\n",
       "      <td>5.604797e-02</td>\n",
       "      <td>6.636753e+00</td>\n",
       "      <td>3.777974e+01</td>\n",
       "    </tr>\n",
       "    <tr>\n",
       "      <th>avgDroppedCalls</th>\n",
       "      <td>1000.0</td>\n",
       "      <td>9.699970e+00</td>\n",
       "      <td>14.972256</td>\n",
       "      <td>0.000000e+00</td>\n",
       "      <td>1.330000e+00</td>\n",
       "      <td>5.000000e+00</td>\n",
       "      <td>1.141500e+01</td>\n",
       "      <td>1.593300e+02</td>\n",
       "    </tr>\n",
       "    <tr>\n",
       "      <th>lifeTime</th>\n",
       "      <td>1000.0</td>\n",
       "      <td>1.874700e+01</td>\n",
       "      <td>9.499433</td>\n",
       "      <td>6.000000e+00</td>\n",
       "      <td>1.100000e+01</td>\n",
       "      <td>1.700000e+01</td>\n",
       "      <td>2.400000e+01</td>\n",
       "      <td>6.000000e+01</td>\n",
       "    </tr>\n",
       "    <tr>\n",
       "      <th>lastMonthCustomerCareCalls</th>\n",
       "      <td>1000.0</td>\n",
       "      <td>1.641900e+00</td>\n",
       "      <td>4.167139</td>\n",
       "      <td>0.000000e+00</td>\n",
       "      <td>0.000000e+00</td>\n",
       "      <td>0.000000e+00</td>\n",
       "      <td>1.330000e+00</td>\n",
       "      <td>4.200000e+01</td>\n",
       "    </tr>\n",
       "    <tr>\n",
       "      <th>numRetentionCalls</th>\n",
       "      <td>1000.0</td>\n",
       "      <td>5.100000e-02</td>\n",
       "      <td>0.233353</td>\n",
       "      <td>0.000000e+00</td>\n",
       "      <td>0.000000e+00</td>\n",
       "      <td>0.000000e+00</td>\n",
       "      <td>0.000000e+00</td>\n",
       "      <td>2.000000e+00</td>\n",
       "    </tr>\n",
       "    <tr>\n",
       "      <th>numRetentionOffersAccepted</th>\n",
       "      <td>1000.0</td>\n",
       "      <td>2.400000e-02</td>\n",
       "      <td>0.159529</td>\n",
       "      <td>0.000000e+00</td>\n",
       "      <td>0.000000e+00</td>\n",
       "      <td>0.000000e+00</td>\n",
       "      <td>0.000000e+00</td>\n",
       "      <td>2.000000e+00</td>\n",
       "    </tr>\n",
       "    <tr>\n",
       "      <th>newFrequentNumbers</th>\n",
       "      <td>1000.0</td>\n",
       "      <td>2.040000e-01</td>\n",
       "      <td>0.637802</td>\n",
       "      <td>0.000000e+00</td>\n",
       "      <td>0.000000e+00</td>\n",
       "      <td>0.000000e+00</td>\n",
       "      <td>0.000000e+00</td>\n",
       "      <td>3.000000e+00</td>\n",
       "    </tr>\n",
       "  </tbody>\n",
       "</table>\n",
       "</div>"
      ],
      "text/plain": [
       "                             count          mean           std           min  \\\n",
       "customer                    1000.0  1.049027e+06  28337.411453  1.000004e+06   \n",
       "age                         1000.0  3.063400e+01     22.551599  0.000000e+00   \n",
       "numHandsets                 1000.0  1.769000e+00      1.365102  1.000000e+00   \n",
       "handsetAge                  1000.0  4.011510e+02    259.406661 -2.000000e+00   \n",
       "currentHandsetPrice         1000.0  3.482581e+01     56.561167  0.000000e+00   \n",
       "avgBill                     1000.0  5.734780e+01     44.519769  0.000000e+00   \n",
       "avgMins                     1000.0  5.013036e+02    530.272984  0.000000e+00   \n",
       "avgrecurringCharge          1000.0  4.632820e+01     24.246087  0.000000e+00   \n",
       "avgOverBundleMins           1000.0  3.888876e+01     94.715038  0.000000e+00   \n",
       "avgRoamCalls                1000.0  9.162200e-01      4.940806  0.000000e+00   \n",
       "callMinutesChangePct        1000.0 -5.377716e-01      5.197712 -4.465500e+01   \n",
       "billAmountChangePct         1000.0 -1.048300e-02      0.927263 -5.763000e+00   \n",
       "avgReceivedMins             1000.0  1.091565e+02    163.394282  0.000000e+00   \n",
       "avgOutCalls                 1000.0  2.538799e+01     36.119986  0.000000e+00   \n",
       "avgInCalls                  1000.0  8.439290e+00     17.036525  0.000000e+00   \n",
       "peakOffPeakRatio            1000.0  2.137873e+00      3.465256  0.000000e+00   \n",
       "peakOffPeakRatioChangePct   1000.0  2.730705e-01      9.620523 -2.815402e+01   \n",
       "avgDroppedCalls             1000.0  9.699970e+00     14.972256  0.000000e+00   \n",
       "lifeTime                    1000.0  1.874700e+01      9.499433  6.000000e+00   \n",
       "lastMonthCustomerCareCalls  1000.0  1.641900e+00      4.167139  0.000000e+00   \n",
       "numRetentionCalls           1000.0  5.100000e-02      0.233353  0.000000e+00   \n",
       "numRetentionOffersAccepted  1000.0  2.400000e-02      0.159529  0.000000e+00   \n",
       "newFrequentNumbers          1000.0  2.040000e-01      0.637802  0.000000e+00   \n",
       "\n",
       "                                     25%           50%           75%  \\\n",
       "customer                    1.025108e+06  1.049217e+06  1.073305e+06   \n",
       "age                         0.000000e+00  3.400000e+01  4.800000e+01   \n",
       "numHandsets                 1.000000e+00  1.000000e+00  2.000000e+00   \n",
       "handsetAge                  2.180000e+02  3.445000e+02  5.420000e+02   \n",
       "currentHandsetPrice         0.000000e+00  0.000000e+00  3.249000e+01   \n",
       "avgBill                     3.324750e+01  4.915500e+01  6.917500e+01   \n",
       "avgMins                     1.475000e+02  3.470000e+02  6.638750e+02   \n",
       "avgrecurringCharge          3.000000e+01  4.499000e+01  5.999000e+01   \n",
       "avgOverBundleMins           0.000000e+00  4.000000e+00  4.225000e+01   \n",
       "avgRoamCalls                0.000000e+00  0.000000e+00  2.750000e-01   \n",
       "callMinutesChangePct       -1.856250e+00 -1.750000e-01  9.900000e-01   \n",
       "billAmountChangePct        -1.363000e-01 -5.000000e-03  3.690000e-02   \n",
       "avgReceivedMins             5.787500e+00  4.970500e+01  1.507550e+02   \n",
       "avgOutCalls                 2.330000e+00  1.283500e+01  3.600000e+01   \n",
       "avgInCalls                  0.000000e+00  2.000000e+00  9.415000e+00   \n",
       "peakOffPeakRatio            7.226356e-01  1.380353e+00  2.446368e+00   \n",
       "peakOffPeakRatioChangePct  -6.099596e+00  5.604797e-02  6.636753e+00   \n",
       "avgDroppedCalls             1.330000e+00  5.000000e+00  1.141500e+01   \n",
       "lifeTime                    1.100000e+01  1.700000e+01  2.400000e+01   \n",
       "lastMonthCustomerCareCalls  0.000000e+00  0.000000e+00  1.330000e+00   \n",
       "numRetentionCalls           0.000000e+00  0.000000e+00  0.000000e+00   \n",
       "numRetentionOffersAccepted  0.000000e+00  0.000000e+00  0.000000e+00   \n",
       "newFrequentNumbers          0.000000e+00  0.000000e+00  0.000000e+00   \n",
       "\n",
       "                                     max  \n",
       "customer                    1.099614e+06  \n",
       "age                         8.600000e+01  \n",
       "numHandsets                 1.300000e+01  \n",
       "handsetAge                  1.812000e+03  \n",
       "currentHandsetPrice         3.999900e+02  \n",
       "avgBill                     4.696700e+02  \n",
       "avgMins                     4.598750e+03  \n",
       "avgrecurringCharge          2.999900e+02  \n",
       "avgOverBundleMins           1.389000e+03  \n",
       "avgRoamCalls                1.310400e+02  \n",
       "callMinutesChangePct        2.805000e+01  \n",
       "billAmountChangePct         1.791140e+01  \n",
       "avgReceivedMins             1.549930e+03  \n",
       "avgOutCalls                 3.320000e+02  \n",
       "avgInCalls                  2.330000e+02  \n",
       "peakOffPeakRatio            7.477477e+01  \n",
       "peakOffPeakRatioChangePct   3.777974e+01  \n",
       "avgDroppedCalls             1.593300e+02  \n",
       "lifeTime                    6.000000e+01  \n",
       "lastMonthCustomerCareCalls  4.200000e+01  \n",
       "numRetentionCalls           2.000000e+00  \n",
       "numRetentionOffersAccepted  2.000000e+00  \n",
       "newFrequentNumbers          3.000000e+00  "
      ]
     },
     "execution_count": 66,
     "metadata": {},
     "output_type": "execute_result"
    }
   ],
   "source": [
    "# Print table with descriptive statistics for all the continuous features\n",
    "df.select_dtypes(['float64', 'int64']).describe().T"
   ]
  },
  {
   "cell_type": "markdown",
   "metadata": {},
   "source": [
    "### - Prepare a table with descriptive statistics for all the categorical features."
   ]
  },
  {
   "cell_type": "code",
   "execution_count": 67,
   "metadata": {},
   "outputs": [
    {
     "data": {
      "text/html": [
       "<div>\n",
       "<style>\n",
       "    .dataframe thead tr:only-child th {\n",
       "        text-align: right;\n",
       "    }\n",
       "\n",
       "    .dataframe thead th {\n",
       "        text-align: left;\n",
       "    }\n",
       "\n",
       "    .dataframe tbody tr th {\n",
       "        vertical-align: top;\n",
       "    }\n",
       "</style>\n",
       "<table border=\"1\" class=\"dataframe\">\n",
       "  <thead>\n",
       "    <tr style=\"text-align: right;\">\n",
       "      <th></th>\n",
       "      <th>count</th>\n",
       "      <th>unique</th>\n",
       "      <th>top</th>\n",
       "      <th>freq</th>\n",
       "    </tr>\n",
       "  </thead>\n",
       "  <tbody>\n",
       "    <tr>\n",
       "      <th>occupation</th>\n",
       "      <td>267</td>\n",
       "      <td>7</td>\n",
       "      <td>professional</td>\n",
       "      <td>179</td>\n",
       "    </tr>\n",
       "    <tr>\n",
       "      <th>regionType</th>\n",
       "      <td>531</td>\n",
       "      <td>6</td>\n",
       "      <td>suburban</td>\n",
       "      <td>306</td>\n",
       "    </tr>\n",
       "    <tr>\n",
       "      <th>marriageStatus</th>\n",
       "      <td>1000</td>\n",
       "      <td>3</td>\n",
       "      <td>unknown</td>\n",
       "      <td>402</td>\n",
       "    </tr>\n",
       "    <tr>\n",
       "      <th>children</th>\n",
       "      <td>1000</td>\n",
       "      <td>2</td>\n",
       "      <td>False</td>\n",
       "      <td>765</td>\n",
       "    </tr>\n",
       "    <tr>\n",
       "      <th>income</th>\n",
       "      <td>1000</td>\n",
       "      <td>10</td>\n",
       "      <td>0</td>\n",
       "      <td>268</td>\n",
       "    </tr>\n",
       "    <tr>\n",
       "      <th>smartPhone</th>\n",
       "      <td>1000</td>\n",
       "      <td>2</td>\n",
       "      <td>True</td>\n",
       "      <td>891</td>\n",
       "    </tr>\n",
       "    <tr>\n",
       "      <th>creditRating</th>\n",
       "      <td>1000</td>\n",
       "      <td>7</td>\n",
       "      <td>B</td>\n",
       "      <td>389</td>\n",
       "    </tr>\n",
       "    <tr>\n",
       "      <th>homeOwner</th>\n",
       "      <td>1000</td>\n",
       "      <td>2</td>\n",
       "      <td>False</td>\n",
       "      <td>652</td>\n",
       "    </tr>\n",
       "    <tr>\n",
       "      <th>creditCard</th>\n",
       "      <td>1000</td>\n",
       "      <td>6</td>\n",
       "      <td>true</td>\n",
       "      <td>655</td>\n",
       "    </tr>\n",
       "    <tr>\n",
       "      <th>churn</th>\n",
       "      <td>1000</td>\n",
       "      <td>2</td>\n",
       "      <td>True</td>\n",
       "      <td>532</td>\n",
       "    </tr>\n",
       "  </tbody>\n",
       "</table>\n",
       "</div>"
      ],
      "text/plain": [
       "               count unique           top freq\n",
       "occupation       267      7  professional  179\n",
       "regionType       531      6      suburban  306\n",
       "marriageStatus  1000      3       unknown  402\n",
       "children        1000      2         False  765\n",
       "income          1000     10             0  268\n",
       "smartPhone      1000      2          True  891\n",
       "creditRating    1000      7             B  389\n",
       "homeOwner       1000      2         False  652\n",
       "creditCard      1000      6          true  655\n",
       "churn           1000      2          True  532"
      ]
     },
     "execution_count": 67,
     "metadata": {},
     "output_type": "execute_result"
    }
   ],
   "source": [
    "# Print table with descriptive statistics for all the categorical features\n",
    "df.select_dtypes(['category']).describe().T"
   ]
  },
  {
   "cell_type": "markdown",
   "metadata": {},
   "source": [
    "### - Plot histograms for all the continuous features."
   ]
  },
  {
   "cell_type": "code",
   "execution_count": 68,
   "metadata": {},
   "outputs": [
    {
     "data": {
      "image/png": "[encoded data removed]",
      "text/plain": [
       "<matplotlib.figure.Figure at 0x11bd6d2b0>"
      ]
     },
     "metadata": {},
     "output_type": "display_data"
    }
   ],
   "source": [
    "# Plot a histogram of the continuous features (and save in a png file)\n",
    "df[continuous_columns].hist(figsize=(30,30))\n",
    "plt.savefig('continuous_histograms_1-1.pdf')"
   ]
  },
  {
   "cell_type": "markdown",
   "metadata": {},
   "source": [
    "### - Plot box plots for all the continuous features."
   ]
  },
  {
   "cell_type": "code",
   "execution_count": 69,
   "metadata": {},
   "outputs": [
    {
     "data": {
      "image/png": "[encoded data removed]",
      "text/plain": [
       "<matplotlib.figure.Figure at 0x11bad5518>"
      ]
     },
     "metadata": {},
     "output_type": "display_data"
    },
    {
     "data": {
      "image/png": "[encoded data removed]",
      "text/plain": [
       "<matplotlib.figure.Figure at 0x11d410390>"
      ]
     },
     "metadata": {},
     "output_type": "display_data"
    },
    {
     "data": {
      "image/png": "[encoded data removed]",
      "text/plain": [
       "<matplotlib.figure.Figure at 0x11d460a20>"
      ]
     },
     "metadata": {},
     "output_type": "display_data"
    },
    {
     "data": {
      "image/png": "[encoded data removed]",
      "text/plain": [
       "<matplotlib.figure.Figure at 0x11d4f0780>"
      ]
     },
     "metadata": {},
     "output_type": "display_data"
    },
    {
     "data": {
      "image/png": "[encoded data removed]",
      "text/plain": [
       "<matplotlib.figure.Figure at 0x11d6afd68>"
      ]
     },
     "metadata": {},
     "output_type": "display_data"
    },
    {
     "data": {
      "image/png": "[encoded data removed]",
      "text/plain": [
       "<matplotlib.figure.Figure at 0x11e250cc0>"
      ]
     },
     "metadata": {},
     "output_type": "display_data"
    },
    {
     "data": {
      "image/png": "[encoded data removed]",
      "text/plain": [
       "<matplotlib.figure.Figure at 0x11bfd7a20>"
      ]
     },
     "metadata": {},
     "output_type": "display_data"
    },
    {
     "data": {
      "image/png": "[encoded data removed]",
      "text/plain": [
       "<matplotlib.figure.Figure at 0x11df38fd0>"
      ]
     },
     "metadata": {},
     "output_type": "display_data"
    },
    {
     "data": {
      "image/png": "[encoded data removed]",
      "text/plain": [
       "<matplotlib.figure.Figure at 0x11b694b70>"
      ]
     },
     "metadata": {},
     "output_type": "display_data"
    },
    {
     "data": {
      "image/png": "[encoded data removed]",
      "text/plain": [
       "<matplotlib.figure.Figure at 0x11b8675c0>"
      ]
     },
     "metadata": {},
     "output_type": "display_data"
    },
    {
     "data": {
      "image/png": "[encoded data removed]",
      "text/plain": [
       "<matplotlib.figure.Figure at 0x11b87a780>"
      ]
     },
     "metadata": {},
     "output_type": "display_data"
    },
    {
     "data": {
      "image/png": "[encoded data removed]",
      "text/plain": [
       "<matplotlib.figure.Figure at 0x11b38c5f8>"
      ]
     },
     "metadata": {},
     "output_type": "display_data"
    },
    {
     "data": {
      "image/png": "[encoded data removed]",
      "text/plain": [
       "<matplotlib.figure.Figure at 0x11bd856d8>"
      ]
     },
     "metadata": {},
     "output_type": "display_data"
    },
    {
     "data": {
      "image/png": "[encoded data removed]",
      "text/plain": [
       "<matplotlib.figure.Figure at 0x11b7de860>"
      ]
     },
     "metadata": {},
     "output_type": "display_data"
    },
    {
     "data": {
      "image/png": "[encoded data removed]",
      "text/plain": [
       "<matplotlib.figure.Figure at 0x11baad128>"
      ]
     },
     "metadata": {},
     "output_type": "display_data"
    },
    {
     "data": {
      "image/png": "[encoded data removed]",
      "text/plain": [
       "<matplotlib.figure.Figure at 0x11bb51668>"
      ]
     },
     "metadata": {},
     "output_type": "display_data"
    },
    {
     "data": {
      "image/png": "[encoded data removed]",
      "text/plain": [
       "<matplotlib.figure.Figure at 0x11b6d73c8>"
      ]
     },
     "metadata": {},
     "output_type": "display_data"
    },
    {
     "data": {
      "image/png": "[encoded data removed]",
      "text/plain": [
       "<matplotlib.figure.Figure at 0x11d311358>"
      ]
     },
     "metadata": {},
     "output_type": "display_data"
    },
    {
     "data": {
      "image/png": "[encoded data removed]",
      "text/plain": [
       "<matplotlib.figure.Figure at 0x11c6b85c0>"
      ]
     },
     "metadata": {},
     "output_type": "display_data"
    },
    {
     "data": {
      "image/png": "[encoded data removed]",
      "text/plain": [
       "<matplotlib.figure.Figure at 0x11b674c50>"
      ]
     },
     "metadata": {},
     "output_type": "display_data"
    },
    {
     "data": {
      "image/png": "[encoded data removed]",
      "text/plain": [
       "<matplotlib.figure.Figure at 0x11bcefe80>"
      ]
     },
     "metadata": {},
     "output_type": "display_data"
    },
    {
     "data": {
      "image/png": "[encoded data removed]",
      "text/plain": [
       "<matplotlib.figure.Figure at 0x11c0dde48>"
      ]
     },
     "metadata": {},
     "output_type": "display_data"
    },
    {
     "data": {
      "image/png": "[encoded data removed]",
      "text/plain": [
       "<matplotlib.figure.Figure at 0x11c067710>"
      ]
     },
     "metadata": {},
     "output_type": "display_data"
    }
   ],
   "source": [
    "# Plot box plots for all the continuous features and save in a PDF file\n",
    "pp = PdfPages('continuous_boxplots_1-1.pdf')\n",
    "\n",
    "for col in continuous_columns:\n",
    "    f = df[col].plot(kind='box', figsize=(10,5))\n",
    "    pp.savefig(f.get_figure())\n",
    "    plt.show()\n",
    "\n",
    "pp.close()\n",
    "    "
   ]
  },
  {
   "cell_type": "markdown",
   "metadata": {},
   "source": [
    "### - Plot bar plots for all the categorical features."
   ]
  },
  {
   "cell_type": "code",
   "execution_count": 70,
   "metadata": {},
   "outputs": [
    {
     "data": {
      "image/png": "[encoded data removed]",
      "text/plain": [
       "<matplotlib.figure.Figure at 0x11ba0c3c8>"
      ]
     },
     "metadata": {},
     "output_type": "display_data"
    },
    {
     "data": {
      "image/png": "[encoded data removed]",
      "text/plain": [
       "<matplotlib.figure.Figure at 0x11b443c18>"
      ]
     },
     "metadata": {},
     "output_type": "display_data"
    },
    {
     "data": {
      "image/png": "[encoded data removed]",
      "text/plain": [
       "<matplotlib.figure.Figure at 0x11d546c88>"
      ]
     },
     "metadata": {},
     "output_type": "display_data"
    },
    {
     "data": {
      "image/png": "[encoded data removed]",
      "text/plain": [
       "<matplotlib.figure.Figure at 0x11b3a0940>"
      ]
     },
     "metadata": {},
     "output_type": "display_data"
    },
    {
     "data": {
      "image/png": "[encoded data removed]",
      "text/plain": [
       "<matplotlib.figure.Figure at 0x11de71eb8>"
      ]
     },
     "metadata": {},
     "output_type": "display_data"
    },
    {
     "data": {
      "image/png": "[encoded data removed]",
      "text/plain": [
       "<matplotlib.figure.Figure at 0x11b6f9668>"
      ]
     },
     "metadata": {},
     "output_type": "display_data"
    },
    {
     "data": {
      "image/png": "[encoded data removed]",
      "text/plain": [
       "<matplotlib.figure.Figure at 0x11e16ec88>"
      ]
     },
     "metadata": {},
     "output_type": "display_data"
    },
    {
     "data": {
      "image/png": "[encoded data removed]",
      "text/plain": [
       "<matplotlib.figure.Figure at 0x11dfcad30>"
      ]
     },
     "metadata": {},
     "output_type": "display_data"
    },
    {
     "data": {
      "image/png": "[encoded data removed]",
      "text/plain": [
       "<matplotlib.figure.Figure at 0x11d28efd0>"
      ]
     },
     "metadata": {},
     "output_type": "display_data"
    },
    {
     "data": {
      "image/png": "[encoded data removed]",
      "text/plain": [
       "<matplotlib.figure.Figure at 0x11d6c88d0>"
      ]
     },
     "metadata": {},
     "output_type": "display_data"
    }
   ],
   "source": [
    "# Plot bar charts for all categorical features and save them in a single PDF file\n",
    "pp = PdfPages('categorical_barcharts_1-1.pdf')\n",
    "\n",
    "for column in categorical_columns:\n",
    "    f = df[column].value_counts().plot(kind='bar', title=column, figsize=(12,10))\n",
    "    pp.savefig(f.get_figure())\n",
    "    plt.show()\n",
    "\n",
    "pp.close()"
   ]
  },
  {
   "cell_type": "markdown",
   "metadata": {},
   "source": [
    "### - Discuss your initial findings.\n",
    "\n",
    "### - Save the initial discussion of your findings into a single data quality report PDF file.  "
   ]
  },
  {
   "cell_type": "markdown",
   "metadata": {},
   "source": [
    "The discussion can be found in a pdf file called **Data_Quality_Report_Initial_Findings.pdf**"
   ]
  },
  {
   "cell_type": "markdown",
   "metadata": {},
   "source": [
    "# (2). [30] Prepare a data quality plan for the cleaned CSV file.\n",
    "\n",
    "### - Mark down all the features where there are potential problems or data quality issues.\n",
    "\n",
    "The initial list of issues as identified in the **Data_Quality_Report_Initial_Findings.pdf**:\n",
    "\n",
    "- age feature has many zeros.\n",
    "- handset age has a negative minimum value.\n",
    "- current handset price is zero for 50% of values.\n",
    "- occupation value count is 267 out of 1000.\n",
    "- region type value count is 531 out of 1000.\n",
    "- marriage status is \"unknown\" for 402 out of 1000.\n",
    "- customer is a redundant column giving us the the numerical ID of the customer. This gives us no useful information.\n",
    "- the outliers in the box plots initially appear to make sense but should be further investigated here.\n",
    "- region type has irregular cardinality.\n",
    "- credit card has irregular cardinality."
   ]
  },
  {
   "cell_type": "markdown",
   "metadata": {},
   "source": [
    "### In adition to the problems above, I'll perform some standard checks to find any aditional issues:"
   ]
  },
  {
   "cell_type": "markdown",
   "metadata": {},
   "source": [
    "### Check for Irregular cardinalities"
   ]
  },
  {
   "cell_type": "code",
   "execution_count": 71,
   "metadata": {},
   "outputs": [
    {
     "name": "stdout",
     "output_type": "stream",
     "text": [
      "Unique values for:\n",
      "- occupation: ['professional' nan 'self-employed' 'crafts' 'student' 'retired' 'clerical'\n",
      " 'homemaker']\n",
      "\n",
      "- regionType: ['town' 'suburban' nan 'rural' 's' 'unknown' 't']\n",
      "\n",
      "- marriageStatus: ['yes' 'unknown' 'no']\n",
      "\n",
      "- children: [False True]\n",
      "\n",
      "- income: [7 0 6 5 4 8 3 9 1 2]\n",
      "\n",
      "- smartPhone: [True False]\n",
      "\n",
      "- creditRating: ['B' 'F' 'C' 'D' 'E' 'A' 'G']\n",
      "\n",
      "- homeOwner: [False True]\n",
      "\n",
      "- creditCard: ['true' 'false' 't' 'no' 'f' 'yes']\n",
      "\n",
      "- churn: [True False]\n"
     ]
    }
   ],
   "source": [
    "# Check for irregular cardinality in categorical features. There could be same values spelled differently\n",
    "print(\"Unique values for:\\n- occupation:\", pd.unique(df.occupation.ravel()))\n",
    "print(\"\\n- regionType:\", pd.unique(df.regionType.ravel()))\n",
    "print(\"\\n- marriageStatus:\", pd.unique(df.marriageStatus.ravel()))\n",
    "print(\"\\n- children:\", pd.unique(df.children.ravel()))\n",
    "print(\"\\n- income:\", pd.unique(df.income.ravel()))\n",
    "print(\"\\n- smartPhone:\", pd.unique(df.smartPhone.ravel()))\n",
    "print(\"\\n- creditRating:\", pd.unique(df.creditRating.ravel()))\n",
    "print(\"\\n- homeOwner:\", pd.unique(df.homeOwner.ravel()))\n",
    "print(\"\\n- creditCard:\", pd.unique(df.creditCard.ravel()))\n",
    "print(\"\\n- churn:\", pd.unique(df.churn.ravel()))"
   ]
  },
  {
   "cell_type": "markdown",
   "metadata": {},
   "source": [
    "- regionType has irregular cardinality\n",
    "- creditCard has irregular cardinality"
   ]
  },
  {
   "cell_type": "markdown",
   "metadata": {},
   "source": [
    "### Null values"
   ]
  },
  {
   "cell_type": "code",
   "execution_count": 72,
   "metadata": {},
   "outputs": [
    {
     "data": {
      "text/plain": [
       "customer                        0\n",
       "age                             0\n",
       "occupation                    733\n",
       "regionType                    469\n",
       "marriageStatus                  0\n",
       "children                        0\n",
       "income                          0\n",
       "numHandsets                     0\n",
       "handsetAge                      0\n",
       "smartPhone                      0\n",
       "currentHandsetPrice             0\n",
       "creditRating                    0\n",
       "homeOwner                       0\n",
       "creditCard                      0\n",
       "avgBill                         0\n",
       "avgMins                         0\n",
       "avgrecurringCharge              0\n",
       "avgOverBundleMins               0\n",
       "avgRoamCalls                    0\n",
       "callMinutesChangePct            0\n",
       "billAmountChangePct             0\n",
       "avgReceivedMins                 0\n",
       "avgOutCalls                     0\n",
       "avgInCalls                      0\n",
       "peakOffPeakRatio                0\n",
       "peakOffPeakRatioChangePct       0\n",
       "avgDroppedCalls                 0\n",
       "lifeTime                        0\n",
       "lastMonthCustomerCareCalls      0\n",
       "numRetentionCalls               0\n",
       "numRetentionOffersAccepted      0\n",
       "newFrequentNumbers              0\n",
       "churn                           0\n",
       "dtype: int64"
      ]
     },
     "execution_count": 72,
     "metadata": {},
     "output_type": "execute_result"
    }
   ],
   "source": [
    "# Check whether there are null values in the data where values would be expected\n",
    "df.isnull().sum()"
   ]
  },
  {
   "cell_type": "markdown",
   "metadata": {},
   "source": [
    "- occupation has null values\n",
    "- regionType has null values"
   ]
  },
  {
   "cell_type": "markdown",
   "metadata": {},
   "source": [
    "Overall, no additional problems have surfaced."
   ]
  },
  {
   "cell_type": "markdown",
   "metadata": {},
   "source": [
    "### - Propose solutions to deal with the problems identified. Explain why did you choose one solution over potentially many other."
   ]
  },
  {
   "cell_type": "markdown",
   "metadata": {},
   "source": [
    "As data collection is an expensive and/or time consuming process, it is the first priority to always try to keep as much original data intact as possible before making any cuts/removals or modifications. Thus my decisions below are based on this principle of data preservation:"
   ]
  },
  {
   "cell_type": "markdown",
   "metadata": {},
   "source": [
    "1. **age feature has many zeros.** \n",
    "About 30% of values are zero, thus investigation should be made to try and deduce what the zero value means and if possible, perform imputation. Otherwise, the feature may have to be dropped.\n",
    "- **handset age has a negative minimum value.**\n",
    "May be invalid data. Investigate how many rows are involved. If number is low, remove those rows, if number is high, remove the feature.\n",
    "- **current handset price is zero for 50% of values.**\n",
    "May be invalid data.Investigate how many rows are involved. If number is low, remove those rows, if number is high, remove the feature.\n",
    "- **occupation value count is 267 out of 1000.**\n",
    "As more than 50% of values are missing, this feature will have to be dropped.\n",
    "- **region type value count is 531 out of 1000.**\n",
    "As close to 50% of values are missing, this feature will have to be dropped.\n",
    "- **marriage status is \"unknown\" for 402 out of 1000.**\n",
    "Uknown is synonimous with missing data. Too much is missing for imputation. Investigation should be made if the feature should be dropped.\n",
    "- **customer is a redundant column giving us the the numerical ID of the customer. This gives us no useful information.**\n",
    "As there is no useful information, this feature should be dropped.\n",
    "- **the outliers in the box plots initially appear to make sense but should be further investigated here.**\n",
    "Investigate if the outliers can be justified. If they make sense, keep them. If they don't make sense, remove the outlier rows.\n",
    "- **region type has irregular cardinality.**\n",
    "Merge the cardinalities into the same category.\n",
    "- **credit card has irregular cardinality.**\n",
    "Merge the cardinalities into the same category."
   ]
  },
  {
   "cell_type": "markdown",
   "metadata": {},
   "source": [
    "### - Apply your solutions to obtain a new CSV file where the identified data quality issues were addressed. "
   ]
  },
  {
   "cell_type": "markdown",
   "metadata": {},
   "source": [
    "1. **age feature has many zeros.** \n",
    "About 30% of values are zero, thus investigation should be made to try and deduce what the zero value means and if possible, perform imputation. Otherwise, the feature may have to be dropped."
   ]
  },
  {
   "cell_type": "code",
   "execution_count": 73,
   "metadata": {},
   "outputs": [
    {
     "data": {
      "text/html": [
       "<div>\n",
       "<style>\n",
       "    .dataframe thead tr:only-child th {\n",
       "        text-align: right;\n",
       "    }\n",
       "\n",
       "    .dataframe thead th {\n",
       "        text-align: left;\n",
       "    }\n",
       "\n",
       "    .dataframe tbody tr th {\n",
       "        vertical-align: top;\n",
       "    }\n",
       "</style>\n",
       "<table border=\"1\" class=\"dataframe\">\n",
       "  <thead>\n",
       "    <tr style=\"text-align: right;\">\n",
       "      <th></th>\n",
       "      <th>age</th>\n",
       "      <th>children</th>\n",
       "    </tr>\n",
       "  </thead>\n",
       "  <tbody>\n",
       "  </tbody>\n",
       "</table>\n",
       "</div>"
      ],
      "text/plain": [
       "Empty DataFrame\n",
       "Columns: [age, children]\n",
       "Index: []"
      ]
     },
     "execution_count": 73,
     "metadata": {},
     "output_type": "execute_result"
    }
   ],
   "source": [
    "temp_df = df[df['age'] == 0]\n",
    "temp_df = temp_df[temp_df['children'] == True]\n",
    "temp_df[['age', 'children']]"
   ]
  },
  {
   "cell_type": "code",
   "execution_count": 74,
   "metadata": {},
   "outputs": [
    {
     "data": {
      "text/plain": [
       "295"
      ]
     },
     "execution_count": 74,
     "metadata": {},
     "output_type": "execute_result"
    }
   ],
   "source": [
    "temp_df = df[df['age'] == 0]\n",
    "temp_df.age.count()"
   ]
  },
  {
   "cell_type": "code",
   "execution_count": 75,
   "metadata": {},
   "outputs": [
    {
     "data": {
      "text/html": [
       "<div>\n",
       "<style>\n",
       "    .dataframe thead tr:only-child th {\n",
       "        text-align: right;\n",
       "    }\n",
       "\n",
       "    .dataframe thead th {\n",
       "        text-align: left;\n",
       "    }\n",
       "\n",
       "    .dataframe tbody tr th {\n",
       "        vertical-align: top;\n",
       "    }\n",
       "</style>\n",
       "<table border=\"1\" class=\"dataframe\">\n",
       "  <thead>\n",
       "    <tr style=\"text-align: right;\">\n",
       "      <th></th>\n",
       "      <th>age</th>\n",
       "      <th>homeOwner</th>\n",
       "    </tr>\n",
       "  </thead>\n",
       "  <tbody>\n",
       "    <tr>\n",
       "      <th>1</th>\n",
       "      <td>0</td>\n",
       "      <td>True</td>\n",
       "    </tr>\n",
       "    <tr>\n",
       "      <th>4</th>\n",
       "      <td>0</td>\n",
       "      <td>True</td>\n",
       "    </tr>\n",
       "    <tr>\n",
       "      <th>6</th>\n",
       "      <td>0</td>\n",
       "      <td>True</td>\n",
       "    </tr>\n",
       "    <tr>\n",
       "      <th>12</th>\n",
       "      <td>0</td>\n",
       "      <td>True</td>\n",
       "    </tr>\n",
       "    <tr>\n",
       "      <th>19</th>\n",
       "      <td>0</td>\n",
       "      <td>True</td>\n",
       "    </tr>\n",
       "  </tbody>\n",
       "</table>\n",
       "</div>"
      ],
      "text/plain": [
       "    age homeOwner\n",
       "1     0      True\n",
       "4     0      True\n",
       "6     0      True\n",
       "12    0      True\n",
       "19    0      True"
      ]
     },
     "execution_count": 75,
     "metadata": {},
     "output_type": "execute_result"
    }
   ],
   "source": [
    "temp_df = temp_df[temp_df['homeOwner'] == True]\n",
    "temp_df.head(5)[['age', 'homeOwner']]"
   ]
  },
  {
   "cell_type": "code",
   "execution_count": 76,
   "metadata": {},
   "outputs": [
    {
     "data": {
      "text/plain": [
       "265"
      ]
     },
     "execution_count": 76,
     "metadata": {},
     "output_type": "execute_result"
    }
   ],
   "source": [
    "temp_df.homeOwner.count()"
   ]
  },
  {
   "cell_type": "code",
   "execution_count": 77,
   "metadata": {},
   "outputs": [
    {
     "data": {
      "text/html": [
       "<div>\n",
       "<style>\n",
       "    .dataframe thead tr:only-child th {\n",
       "        text-align: right;\n",
       "    }\n",
       "\n",
       "    .dataframe thead th {\n",
       "        text-align: left;\n",
       "    }\n",
       "\n",
       "    .dataframe tbody tr th {\n",
       "        vertical-align: top;\n",
       "    }\n",
       "</style>\n",
       "<table border=\"1\" class=\"dataframe\">\n",
       "  <thead>\n",
       "    <tr style=\"text-align: right;\">\n",
       "      <th></th>\n",
       "      <th>age</th>\n",
       "      <th>occupation</th>\n",
       "    </tr>\n",
       "  </thead>\n",
       "  <tbody>\n",
       "    <tr>\n",
       "      <th>725</th>\n",
       "      <td>0</td>\n",
       "      <td>retired</td>\n",
       "    </tr>\n",
       "    <tr>\n",
       "      <th>737</th>\n",
       "      <td>0</td>\n",
       "      <td>professional</td>\n",
       "    </tr>\n",
       "  </tbody>\n",
       "</table>\n",
       "</div>"
      ],
      "text/plain": [
       "     age    occupation\n",
       "725    0       retired\n",
       "737    0  professional"
      ]
     },
     "execution_count": 77,
     "metadata": {},
     "output_type": "execute_result"
    }
   ],
   "source": [
    "temp_df = df[df['age'] == 0]\n",
    "temp_df = temp_df[temp_df.occupation.notnull()]\n",
    "temp_df.head(5)[['age', 'occupation']]"
   ]
  },
  {
   "cell_type": "markdown",
   "metadata": {},
   "source": [
    "Three possibilities exist. Either the age 0 group are under 18 and AT is not allowed to record their age, or the age 0 group are over 18 but the data is simply missing or both. Based on the investigations above, I conclude that the age 0 group is over the age of 18 and that the data is simply missing with value of 0 as default. Justification is that age 0 group includes professional and retired customers. Customer under 18 is unlikely to already be retired. Also the majority, 265/295 of age 0 customers are home owners. Customer under 18 is unlikely to be a home owner.\n",
    "\n",
    "**Thus I as the values represent customers over 18, I have decided to perform imputation by setting the customers with age of 0 to the median age of the sample.**"
   ]
  },
  {
   "cell_type": "code",
   "execution_count": 78,
   "metadata": {},
   "outputs": [
    {
     "name": "stdout",
     "output_type": "stream",
     "text": [
      "The middle age is that will be used is:  34.0\n"
     ]
    }
   ],
   "source": [
    "print(\"The middle age is that will be used is: \", df['age'].median())\n",
    "df['age'] = df['age'].replace(0, df['age'].median())"
   ]
  },
  {
   "cell_type": "markdown",
   "metadata": {},
   "source": [
    "2.**handset age has a negative minimum value.**\n",
    "May be invalid data. Investigate how many rows are involved. If number is low, remove those rows, if number is high, remove the feature."
   ]
  },
  {
   "cell_type": "code",
   "execution_count": 79,
   "metadata": {},
   "outputs": [
    {
     "data": {
      "text/html": [
       "<div>\n",
       "<style>\n",
       "    .dataframe thead tr:only-child th {\n",
       "        text-align: right;\n",
       "    }\n",
       "\n",
       "    .dataframe thead th {\n",
       "        text-align: left;\n",
       "    }\n",
       "\n",
       "    .dataframe tbody tr th {\n",
       "        vertical-align: top;\n",
       "    }\n",
       "</style>\n",
       "<table border=\"1\" class=\"dataframe\">\n",
       "  <thead>\n",
       "    <tr style=\"text-align: right;\">\n",
       "      <th></th>\n",
       "      <th>customer</th>\n",
       "      <th>age</th>\n",
       "      <th>occupation</th>\n",
       "      <th>regionType</th>\n",
       "      <th>marriageStatus</th>\n",
       "      <th>children</th>\n",
       "      <th>income</th>\n",
       "      <th>numHandsets</th>\n",
       "      <th>handsetAge</th>\n",
       "      <th>smartPhone</th>\n",
       "      <th>...</th>\n",
       "      <th>avgInCalls</th>\n",
       "      <th>peakOffPeakRatio</th>\n",
       "      <th>peakOffPeakRatioChangePct</th>\n",
       "      <th>avgDroppedCalls</th>\n",
       "      <th>lifeTime</th>\n",
       "      <th>lastMonthCustomerCareCalls</th>\n",
       "      <th>numRetentionCalls</th>\n",
       "      <th>numRetentionOffersAccepted</th>\n",
       "      <th>newFrequentNumbers</th>\n",
       "      <th>churn</th>\n",
       "    </tr>\n",
       "  </thead>\n",
       "  <tbody>\n",
       "    <tr>\n",
       "      <th>627</th>\n",
       "      <td>1046969</td>\n",
       "      <td>32</td>\n",
       "      <td>retired</td>\n",
       "      <td>NaN</td>\n",
       "      <td>yes</td>\n",
       "      <td>False</td>\n",
       "      <td>1</td>\n",
       "      <td>2</td>\n",
       "      <td>-2</td>\n",
       "      <td>True</td>\n",
       "      <td>...</td>\n",
       "      <td>0.0</td>\n",
       "      <td>0.0</td>\n",
       "      <td>9.379005</td>\n",
       "      <td>0.0</td>\n",
       "      <td>20</td>\n",
       "      <td>0.0</td>\n",
       "      <td>1</td>\n",
       "      <td>0</td>\n",
       "      <td>0</td>\n",
       "      <td>True</td>\n",
       "    </tr>\n",
       "  </tbody>\n",
       "</table>\n",
       "<p>1 rows × 33 columns</p>\n",
       "</div>"
      ],
      "text/plain": [
       "     customer  age occupation regionType marriageStatus children income  \\\n",
       "627   1046969   32    retired        NaN            yes    False      1   \n",
       "\n",
       "     numHandsets  handsetAge smartPhone  ...    avgInCalls peakOffPeakRatio  \\\n",
       "627            2          -2       True  ...           0.0              0.0   \n",
       "\n",
       "    peakOffPeakRatioChangePct avgDroppedCalls  lifeTime  \\\n",
       "627                  9.379005             0.0        20   \n",
       "\n",
       "     lastMonthCustomerCareCalls  numRetentionCalls  \\\n",
       "627                         0.0                  1   \n",
       "\n",
       "     numRetentionOffersAccepted  newFrequentNumbers  churn  \n",
       "627                           0                   0   True  \n",
       "\n",
       "[1 rows x 33 columns]"
      ]
     },
     "execution_count": 79,
     "metadata": {},
     "output_type": "execute_result"
    }
   ],
   "source": [
    "df[df['handsetAge'] < 0]"
   ]
  },
  {
   "cell_type": "markdown",
   "metadata": {},
   "source": [
    "There's only a single row that has an invalid value for handset age. Assumption will be made here that the value was accidentally entered as negative.\n",
    "\n",
    "**Thus I will preserve the row and change the value to positive value.**"
   ]
  },
  {
   "cell_type": "code",
   "execution_count": 80,
   "metadata": {
    "collapsed": true
   },
   "outputs": [],
   "source": [
    "df['handsetAge'] = df['handsetAge'].replace(-2, 2)"
   ]
  },
  {
   "cell_type": "markdown",
   "metadata": {},
   "source": [
    "3.**current handset price is zero for 50% of values.**\n",
    "May be invalid data.Investigate how many rows are involved. If number is low, remove those rows, if number is high, remove the feature."
   ]
  },
  {
   "cell_type": "code",
   "execution_count": 81,
   "metadata": {},
   "outputs": [
    {
     "data": {
      "text/plain": [
       "581"
      ]
     },
     "execution_count": 81,
     "metadata": {},
     "output_type": "execute_result"
    }
   ],
   "source": [
    "df[df['currentHandsetPrice'] == 0]['currentHandsetPrice'].count()"
   ]
  },
  {
   "cell_type": "code",
   "execution_count": 82,
   "metadata": {},
   "outputs": [
    {
     "name": "stderr",
     "output_type": "stream",
     "text": [
      "/Users/georgianaifrim/anaconda/envs/comp47350/lib/python3.6/site-packages/ipykernel_launcher.py:1: UserWarning: Boolean Series key will be reindexed to match DataFrame index.\n",
      "  \"\"\"Entry point for launching an IPython kernel.\n"
     ]
    },
    {
     "data": {
      "text/html": [
       "<div>\n",
       "<style>\n",
       "    .dataframe thead tr:only-child th {\n",
       "        text-align: right;\n",
       "    }\n",
       "\n",
       "    .dataframe thead th {\n",
       "        text-align: left;\n",
       "    }\n",
       "\n",
       "    .dataframe tbody tr th {\n",
       "        vertical-align: top;\n",
       "    }\n",
       "</style>\n",
       "<table border=\"1\" class=\"dataframe\">\n",
       "  <thead>\n",
       "    <tr style=\"text-align: right;\">\n",
       "      <th></th>\n",
       "      <th>currentHandsetPrice</th>\n",
       "      <th>avgBill</th>\n",
       "      <th>avgMins</th>\n",
       "    </tr>\n",
       "  </thead>\n",
       "  <tbody>\n",
       "    <tr>\n",
       "      <th>23</th>\n",
       "      <td>0.0</td>\n",
       "      <td>8.23</td>\n",
       "      <td>0.0</td>\n",
       "    </tr>\n",
       "    <tr>\n",
       "      <th>47</th>\n",
       "      <td>0.0</td>\n",
       "      <td>5.00</td>\n",
       "      <td>0.0</td>\n",
       "    </tr>\n",
       "    <tr>\n",
       "      <th>182</th>\n",
       "      <td>0.0</td>\n",
       "      <td>17.15</td>\n",
       "      <td>0.0</td>\n",
       "    </tr>\n",
       "    <tr>\n",
       "      <th>196</th>\n",
       "      <td>0.0</td>\n",
       "      <td>53.99</td>\n",
       "      <td>0.0</td>\n",
       "    </tr>\n",
       "    <tr>\n",
       "      <th>251</th>\n",
       "      <td>0.0</td>\n",
       "      <td>5.05</td>\n",
       "      <td>0.0</td>\n",
       "    </tr>\n",
       "    <tr>\n",
       "      <th>319</th>\n",
       "      <td>0.0</td>\n",
       "      <td>16.99</td>\n",
       "      <td>0.0</td>\n",
       "    </tr>\n",
       "    <tr>\n",
       "      <th>424</th>\n",
       "      <td>0.0</td>\n",
       "      <td>18.62</td>\n",
       "      <td>0.0</td>\n",
       "    </tr>\n",
       "    <tr>\n",
       "      <th>459</th>\n",
       "      <td>0.0</td>\n",
       "      <td>23.07</td>\n",
       "      <td>0.0</td>\n",
       "    </tr>\n",
       "    <tr>\n",
       "      <th>821</th>\n",
       "      <td>0.0</td>\n",
       "      <td>14.99</td>\n",
       "      <td>0.0</td>\n",
       "    </tr>\n",
       "  </tbody>\n",
       "</table>\n",
       "</div>"
      ],
      "text/plain": [
       "     currentHandsetPrice  avgBill  avgMins\n",
       "23                   0.0     8.23      0.0\n",
       "47                   0.0     5.00      0.0\n",
       "182                  0.0    17.15      0.0\n",
       "196                  0.0    53.99      0.0\n",
       "251                  0.0     5.05      0.0\n",
       "319                  0.0    16.99      0.0\n",
       "424                  0.0    18.62      0.0\n",
       "459                  0.0    23.07      0.0\n",
       "821                  0.0    14.99      0.0"
      ]
     },
     "execution_count": 82,
     "metadata": {},
     "output_type": "execute_result"
    }
   ],
   "source": [
    "df[df['currentHandsetPrice'] == 0][df['avgMins'] == 0][['currentHandsetPrice', 'avgBill', 'avgMins']]"
   ]
  },
  {
   "cell_type": "markdown",
   "metadata": {},
   "source": [
    "The rationale is that if the phone price is zero, either the phone comes free with the data plan from AT, or the data is missing and zero is the defualt value. I tried to associate the free phones with the bill price and call minutes. If the call minutes are zero, then the bill should be zero. However if the bill ammount is not zero, but rather something like for e.g. 39.99, this implies a constant monthly bill that is typical for a data plan, where the user gets the phone \"free\", but has monthly bill to pay for the data plan. \n",
    "\n",
    "While some values resemble what I was looking for, such as 16.99, 14.99, 53.99 etc. there is no consistency among the values. They are all different. This means the average bill probably also includes other costs for other services such as SMS for e.g., but the information we have is for calls only, making it impossible to subtract the price of other services from the average bill. Additionally, some bills are as low as 5.00, which seem unusually low for any free phone plan.\n",
    "\n",
    "The conclusion, is that the data is most likelly missing and default value of zero is applied. Unfortunately since more than 50% of data is missing, imputation is not possible.\n",
    "\n",
    "**As more than half of the data is missing, I have decided to drop this feature.**"
   ]
  },
  {
   "cell_type": "code",
   "execution_count": 83,
   "metadata": {
    "collapsed": true
   },
   "outputs": [],
   "source": [
    "df = df.drop('currentHandsetPrice', 1)"
   ]
  },
  {
   "cell_type": "markdown",
   "metadata": {},
   "source": [
    "4.**occupation value count is 267 out of 1000.**\n",
    "As more than 50% of values are missing, this feature will have to be dropped."
   ]
  },
  {
   "cell_type": "code",
   "execution_count": 84,
   "metadata": {
    "collapsed": true
   },
   "outputs": [],
   "source": [
    "df = df.drop('occupation', 1)"
   ]
  },
  {
   "cell_type": "markdown",
   "metadata": {},
   "source": [
    "5.**region type value count is 531 out of 1000.**\n",
    "As close to 50% of values are missing, this feature will have to be dropped."
   ]
  },
  {
   "cell_type": "code",
   "execution_count": 85,
   "metadata": {
    "collapsed": true
   },
   "outputs": [],
   "source": [
    "df = df.drop('regionType', 1)"
   ]
  },
  {
   "cell_type": "markdown",
   "metadata": {},
   "source": [
    "6.**marriage status is \"unknown\" for 402 out of 1000.**\n",
    "Uknown is synonimous with missing data. Too much is missing for imputation. Investigation should be made if the feature should be dropped."
   ]
  },
  {
   "cell_type": "code",
   "execution_count": 86,
   "metadata": {},
   "outputs": [
    {
     "name": "stdout",
     "output_type": "stream",
     "text": [
      "Percentage of Married and home owners:  0.04371584699453552\n"
     ]
    },
    {
     "name": "stderr",
     "output_type": "stream",
     "text": [
      "/Users/georgianaifrim/anaconda/envs/comp47350/lib/python3.6/site-packages/ipykernel_launcher.py:2: UserWarning: Boolean Series key will be reindexed to match DataFrame index.\n",
      "  \n"
     ]
    }
   ],
   "source": [
    "married = int(df[df['marriageStatus'] == 'yes'][['marriageStatus']].count())\n",
    "homeOwn = int(df[df['marriageStatus'] == 'yes'][df['homeOwner'] == True][['homeOwner']].count())\n",
    "print(\"Percentage of Married and home owners: \", homeOwn/married)"
   ]
  },
  {
   "cell_type": "code",
   "execution_count": 87,
   "metadata": {},
   "outputs": [
    {
     "name": "stdout",
     "output_type": "stream",
     "text": [
      "Percentage of Married and home owners:  0.1939655172413793\n"
     ]
    },
    {
     "name": "stderr",
     "output_type": "stream",
     "text": [
      "/Users/georgianaifrim/anaconda/envs/comp47350/lib/python3.6/site-packages/ipykernel_launcher.py:2: UserWarning: Boolean Series key will be reindexed to match DataFrame index.\n",
      "  \n"
     ]
    }
   ],
   "source": [
    "married = int(df[df['marriageStatus'] == 'no'][['marriageStatus']].count())\n",
    "homeOwn = int(df[df['marriageStatus'] == 'no'][df['homeOwner'] == True][['homeOwner']].count())\n",
    "print(\"Percentage of Married and home owners: \", homeOwn/married)"
   ]
  },
  {
   "cell_type": "code",
   "execution_count": 88,
   "metadata": {},
   "outputs": [
    {
     "name": "stdout",
     "output_type": "stream",
     "text": [
      "Percentage of Married and home owners:  0.7139303482587065\n"
     ]
    },
    {
     "name": "stderr",
     "output_type": "stream",
     "text": [
      "/Users/georgianaifrim/anaconda/envs/comp47350/lib/python3.6/site-packages/ipykernel_launcher.py:2: UserWarning: Boolean Series key will be reindexed to match DataFrame index.\n",
      "  \n"
     ]
    }
   ],
   "source": [
    "married = int(df[df['marriageStatus'] == 'unknown'][['marriageStatus']].count())\n",
    "homeOwn = int(df[df['marriageStatus'] == 'unknown'][df['homeOwner'] == True][['homeOwner']].count())\n",
    "print(\"Percentage of Married and home owners: \", homeOwn/married)"
   ]
  },
  {
   "cell_type": "markdown",
   "metadata": {},
   "source": [
    "I attempted to see if the unknown category matched either married or unmarried in terms of percentage of home ownership. Unfortunately I could not find any such relationship and have decided to drop the feature."
   ]
  },
  {
   "cell_type": "code",
   "execution_count": 89,
   "metadata": {
    "collapsed": true
   },
   "outputs": [],
   "source": [
    "df = df.drop('marriageStatus', 1)"
   ]
  },
  {
   "cell_type": "markdown",
   "metadata": {},
   "source": [
    "7. **customer is a redundant column giving us the the numerical ID of the customer. This gives us no useful information.**\n",
    "As there is no useful information, this feature should be dropped for data analysis. It could be useful to keep in one version of data to be able to relate back to specific customers."
   ]
  },
  {
   "cell_type": "code",
   "execution_count": 90,
   "metadata": {
    "collapsed": true
   },
   "outputs": [],
   "source": [
    "df = df.drop('customer', 1)"
   ]
  },
  {
   "cell_type": "markdown",
   "metadata": {},
   "source": [
    "8.**the outliers in the box plots initially appear to make sense but should be further investigated here.**\n",
    "Investigate if the outliers can be justified. If they make sense, keep them. If they don't make sense, remove the outlier rows.\n",
    "\n",
    "The columns with outliers are:\n",
    "- numHandsets\n",
    "- handsetAge\n",
    "- avgBill\n",
    "- avgMins\n",
    "- avgrecurringCharge\n",
    "- avgOverBundleMins\n",
    "- avgRoamCalls\n",
    "- callMinutesChangePct\n",
    "- billAmountChangePct\n",
    "- avgReceivedMins\n",
    "- avgOutCalls\n",
    "- avgInCalls\n",
    "- peakOffPeakRatio\n",
    "- avgDroppedCalls\n",
    "- peakOffPeakRatioChangePct\n",
    "- lifeTime\n",
    "- lastMonthCustomerCareCalls\n",
    "- numRetentionCalls\n",
    "- numRetentionOffersAccepted\n",
    "- newFrequentNumbers"
   ]
  },
  {
   "cell_type": "code",
   "execution_count": 91,
   "metadata": {},
   "outputs": [
    {
     "data": {
      "text/html": [
       "<div>\n",
       "<style>\n",
       "    .dataframe thead tr:only-child th {\n",
       "        text-align: right;\n",
       "    }\n",
       "\n",
       "    .dataframe thead th {\n",
       "        text-align: left;\n",
       "    }\n",
       "\n",
       "    .dataframe tbody tr th {\n",
       "        vertical-align: top;\n",
       "    }\n",
       "</style>\n",
       "<table border=\"1\" class=\"dataframe\">\n",
       "  <thead>\n",
       "    <tr style=\"text-align: right;\">\n",
       "      <th></th>\n",
       "      <th>avgBill</th>\n",
       "      <th>avgMins</th>\n",
       "      <th>avgrecurringCharge</th>\n",
       "      <th>avgOverBundleMins</th>\n",
       "      <th>avgReceivedMins</th>\n",
       "      <th>avgOutCalls</th>\n",
       "    </tr>\n",
       "  </thead>\n",
       "  <tbody>\n",
       "    <tr>\n",
       "      <th>259</th>\n",
       "      <td>469.67</td>\n",
       "      <td>4530.75</td>\n",
       "      <td>84.99</td>\n",
       "      <td>1389.0</td>\n",
       "      <td>1402.20</td>\n",
       "      <td>91.33</td>\n",
       "    </tr>\n",
       "    <tr>\n",
       "      <th>579</th>\n",
       "      <td>450.09</td>\n",
       "      <td>4598.75</td>\n",
       "      <td>117.52</td>\n",
       "      <td>1194.5</td>\n",
       "      <td>771.10</td>\n",
       "      <td>320.33</td>\n",
       "    </tr>\n",
       "    <tr>\n",
       "      <th>818</th>\n",
       "      <td>409.00</td>\n",
       "      <td>3368.25</td>\n",
       "      <td>109.99</td>\n",
       "      <td>843.5</td>\n",
       "      <td>1076.57</td>\n",
       "      <td>153.67</td>\n",
       "    </tr>\n",
       "    <tr>\n",
       "      <th>809</th>\n",
       "      <td>393.09</td>\n",
       "      <td>1812.25</td>\n",
       "      <td>84.99</td>\n",
       "      <td>29.0</td>\n",
       "      <td>194.70</td>\n",
       "      <td>141.33</td>\n",
       "    </tr>\n",
       "    <tr>\n",
       "      <th>765</th>\n",
       "      <td>376.39</td>\n",
       "      <td>1544.00</td>\n",
       "      <td>52.67</td>\n",
       "      <td>364.0</td>\n",
       "      <td>351.15</td>\n",
       "      <td>78.00</td>\n",
       "    </tr>\n",
       "  </tbody>\n",
       "</table>\n",
       "</div>"
      ],
      "text/plain": [
       "     avgBill  avgMins  avgrecurringCharge  avgOverBundleMins  avgReceivedMins  \\\n",
       "259   469.67  4530.75               84.99             1389.0          1402.20   \n",
       "579   450.09  4598.75              117.52             1194.5           771.10   \n",
       "818   409.00  3368.25              109.99              843.5          1076.57   \n",
       "809   393.09  1812.25               84.99               29.0           194.70   \n",
       "765   376.39  1544.00               52.67              364.0           351.15   \n",
       "\n",
       "     avgOutCalls  \n",
       "259        91.33  \n",
       "579       320.33  \n",
       "818       153.67  \n",
       "809       141.33  \n",
       "765        78.00  "
      ]
     },
     "execution_count": 91,
     "metadata": {},
     "output_type": "execute_result"
    }
   ],
   "source": [
    "df.sort_values(by='avgBill', axis=0, ascending=False, inplace=False, kind='quicksort', na_position='last')[['avgBill', 'avgMins', 'avgrecurringCharge', 'avgOverBundleMins', 'avgReceivedMins', 'avgOutCalls']].head(5)"
   ]
  },
  {
   "cell_type": "markdown",
   "metadata": {},
   "source": [
    "There is consistency here, as bill increases do does the average minutes, average recurring charge, average over bundle minutes, average received minutes and average out calls. "
   ]
  },
  {
   "cell_type": "code",
   "execution_count": 92,
   "metadata": {},
   "outputs": [
    {
     "data": {
      "text/html": [
       "<div>\n",
       "<style>\n",
       "    .dataframe thead tr:only-child th {\n",
       "        text-align: right;\n",
       "    }\n",
       "\n",
       "    .dataframe thead th {\n",
       "        text-align: left;\n",
       "    }\n",
       "\n",
       "    .dataframe tbody tr th {\n",
       "        vertical-align: top;\n",
       "    }\n",
       "</style>\n",
       "<table border=\"1\" class=\"dataframe\">\n",
       "  <thead>\n",
       "    <tr style=\"text-align: right;\">\n",
       "      <th></th>\n",
       "      <th>avgRoamCalls</th>\n",
       "      <th>callMinutesChangePct</th>\n",
       "      <th>billAmountChangePct</th>\n",
       "      <th>avgInCalls</th>\n",
       "      <th>peakOffPeakRatio</th>\n",
       "      <th>avgDroppedCalls</th>\n",
       "    </tr>\n",
       "  </thead>\n",
       "  <tbody>\n",
       "    <tr>\n",
       "      <th>334</th>\n",
       "      <td>131.04</td>\n",
       "      <td>-4.470</td>\n",
       "      <td>-2.5928</td>\n",
       "      <td>26.67</td>\n",
       "      <td>1.805195</td>\n",
       "      <td>18.33</td>\n",
       "    </tr>\n",
       "    <tr>\n",
       "      <th>230</th>\n",
       "      <td>35.12</td>\n",
       "      <td>-15.630</td>\n",
       "      <td>-1.7160</td>\n",
       "      <td>7.33</td>\n",
       "      <td>2.850741</td>\n",
       "      <td>47.00</td>\n",
       "    </tr>\n",
       "    <tr>\n",
       "      <th>600</th>\n",
       "      <td>31.87</td>\n",
       "      <td>-17.160</td>\n",
       "      <td>-0.5518</td>\n",
       "      <td>2.00</td>\n",
       "      <td>1.264447</td>\n",
       "      <td>159.33</td>\n",
       "    </tr>\n",
       "    <tr>\n",
       "      <th>35</th>\n",
       "      <td>30.90</td>\n",
       "      <td>1.775</td>\n",
       "      <td>-1.0066</td>\n",
       "      <td>2.33</td>\n",
       "      <td>4.227753</td>\n",
       "      <td>10.33</td>\n",
       "    </tr>\n",
       "    <tr>\n",
       "      <th>425</th>\n",
       "      <td>22.24</td>\n",
       "      <td>-0.915</td>\n",
       "      <td>-0.1730</td>\n",
       "      <td>0.67</td>\n",
       "      <td>1.092593</td>\n",
       "      <td>24.33</td>\n",
       "    </tr>\n",
       "  </tbody>\n",
       "</table>\n",
       "</div>"
      ],
      "text/plain": [
       "     avgRoamCalls  callMinutesChangePct  billAmountChangePct  avgInCalls  \\\n",
       "334        131.04                -4.470              -2.5928       26.67   \n",
       "230         35.12               -15.630              -1.7160        7.33   \n",
       "600         31.87               -17.160              -0.5518        2.00   \n",
       "35          30.90                 1.775              -1.0066        2.33   \n",
       "425         22.24                -0.915              -0.1730        0.67   \n",
       "\n",
       "     peakOffPeakRatio  avgDroppedCalls  \n",
       "334          1.805195            18.33  \n",
       "230          2.850741            47.00  \n",
       "600          1.264447           159.33  \n",
       "35           4.227753            10.33  \n",
       "425          1.092593            24.33  "
      ]
     },
     "execution_count": 92,
     "metadata": {},
     "output_type": "execute_result"
    }
   ],
   "source": [
    "df.sort_values(by='avgRoamCalls', axis=0, ascending=False, inplace=False, kind='quicksort', na_position='last')[['avgRoamCalls', 'callMinutesChangePct', 'billAmountChangePct', 'avgInCalls', 'peakOffPeakRatio', 'avgDroppedCalls']].head(5)"
   ]
  },
  {
   "cell_type": "code",
   "execution_count": 93,
   "metadata": {},
   "outputs": [
    {
     "data": {
      "text/html": [
       "<div>\n",
       "<style>\n",
       "    .dataframe thead tr:only-child th {\n",
       "        text-align: right;\n",
       "    }\n",
       "\n",
       "    .dataframe thead th {\n",
       "        text-align: left;\n",
       "    }\n",
       "\n",
       "    .dataframe tbody tr th {\n",
       "        vertical-align: top;\n",
       "    }\n",
       "</style>\n",
       "<table border=\"1\" class=\"dataframe\">\n",
       "  <thead>\n",
       "    <tr style=\"text-align: right;\">\n",
       "      <th></th>\n",
       "      <th>avgRoamCalls</th>\n",
       "      <th>callMinutesChangePct</th>\n",
       "      <th>billAmountChangePct</th>\n",
       "      <th>avgInCalls</th>\n",
       "      <th>peakOffPeakRatio</th>\n",
       "      <th>avgDroppedCalls</th>\n",
       "      <th>peakOffPeakRatioChangePct</th>\n",
       "      <th>lifeTime</th>\n",
       "      <th>lastMonthCustomerCareCalls</th>\n",
       "      <th>numRetentionCalls</th>\n",
       "      <th>numRetentionOffersAccepted</th>\n",
       "      <th>newFrequentNumbers</th>\n",
       "      <th>handsetAge</th>\n",
       "      <th>numHandsets</th>\n",
       "    </tr>\n",
       "  </thead>\n",
       "  <tbody>\n",
       "    <tr>\n",
       "      <th>765</th>\n",
       "      <td>0.00</td>\n",
       "      <td>8.940</td>\n",
       "      <td>17.9114</td>\n",
       "      <td>78.33</td>\n",
       "      <td>0.610818</td>\n",
       "      <td>81.33</td>\n",
       "      <td>-13.066105</td>\n",
       "      <td>11</td>\n",
       "      <td>7.67</td>\n",
       "      <td>0</td>\n",
       "      <td>0</td>\n",
       "      <td>0</td>\n",
       "      <td>234</td>\n",
       "      <td>2</td>\n",
       "    </tr>\n",
       "    <tr>\n",
       "      <th>901</th>\n",
       "      <td>0.00</td>\n",
       "      <td>1.500</td>\n",
       "      <td>8.1386</td>\n",
       "      <td>15.00</td>\n",
       "      <td>0.577255</td>\n",
       "      <td>14.33</td>\n",
       "      <td>2.193846</td>\n",
       "      <td>21</td>\n",
       "      <td>11.33</td>\n",
       "      <td>0</td>\n",
       "      <td>0</td>\n",
       "      <td>0</td>\n",
       "      <td>145</td>\n",
       "      <td>2</td>\n",
       "    </tr>\n",
       "    <tr>\n",
       "      <th>31</th>\n",
       "      <td>4.32</td>\n",
       "      <td>28.050</td>\n",
       "      <td>5.4590</td>\n",
       "      <td>1.33</td>\n",
       "      <td>2.011926</td>\n",
       "      <td>6.00</td>\n",
       "      <td>-4.458985</td>\n",
       "      <td>15</td>\n",
       "      <td>2.00</td>\n",
       "      <td>0</td>\n",
       "      <td>0</td>\n",
       "      <td>0</td>\n",
       "      <td>242</td>\n",
       "      <td>2</td>\n",
       "    </tr>\n",
       "    <tr>\n",
       "      <th>983</th>\n",
       "      <td>0.00</td>\n",
       "      <td>14.385</td>\n",
       "      <td>3.1650</td>\n",
       "      <td>3.67</td>\n",
       "      <td>1.766667</td>\n",
       "      <td>10.67</td>\n",
       "      <td>1.057309</td>\n",
       "      <td>11</td>\n",
       "      <td>0.33</td>\n",
       "      <td>0</td>\n",
       "      <td>0</td>\n",
       "      <td>0</td>\n",
       "      <td>305</td>\n",
       "      <td>1</td>\n",
       "    </tr>\n",
       "    <tr>\n",
       "      <th>458</th>\n",
       "      <td>3.31</td>\n",
       "      <td>9.435</td>\n",
       "      <td>3.0376</td>\n",
       "      <td>93.00</td>\n",
       "      <td>0.687994</td>\n",
       "      <td>41.00</td>\n",
       "      <td>-5.158097</td>\n",
       "      <td>9</td>\n",
       "      <td>7.67</td>\n",
       "      <td>0</td>\n",
       "      <td>0</td>\n",
       "      <td>0</td>\n",
       "      <td>273</td>\n",
       "      <td>1</td>\n",
       "    </tr>\n",
       "  </tbody>\n",
       "</table>\n",
       "</div>"
      ],
      "text/plain": [
       "     avgRoamCalls  callMinutesChangePct  billAmountChangePct  avgInCalls  \\\n",
       "765          0.00                 8.940              17.9114       78.33   \n",
       "901          0.00                 1.500               8.1386       15.00   \n",
       "31           4.32                28.050               5.4590        1.33   \n",
       "983          0.00                14.385               3.1650        3.67   \n",
       "458          3.31                 9.435               3.0376       93.00   \n",
       "\n",
       "     peakOffPeakRatio  avgDroppedCalls  peakOffPeakRatioChangePct  lifeTime  \\\n",
       "765          0.610818            81.33                 -13.066105        11   \n",
       "901          0.577255            14.33                   2.193846        21   \n",
       "31           2.011926             6.00                  -4.458985        15   \n",
       "983          1.766667            10.67                   1.057309        11   \n",
       "458          0.687994            41.00                  -5.158097         9   \n",
       "\n",
       "     lastMonthCustomerCareCalls  numRetentionCalls  \\\n",
       "765                        7.67                  0   \n",
       "901                       11.33                  0   \n",
       "31                         2.00                  0   \n",
       "983                        0.33                  0   \n",
       "458                        7.67                  0   \n",
       "\n",
       "     numRetentionOffersAccepted  newFrequentNumbers  handsetAge  numHandsets  \n",
       "765                           0                   0         234            2  \n",
       "901                           0                   0         145            2  \n",
       "31                            0                   0         242            2  \n",
       "983                           0                   0         305            1  \n",
       "458                           0                   0         273            1  "
      ]
     },
     "execution_count": 93,
     "metadata": {},
     "output_type": "execute_result"
    }
   ],
   "source": [
    "df.sort_values(by='billAmountChangePct', axis=0, ascending=False, inplace=False, kind='quicksort', na_position='last')[['avgRoamCalls', 'callMinutesChangePct', 'billAmountChangePct', 'avgInCalls', 'peakOffPeakRatio', 'avgDroppedCalls', 'peakOffPeakRatioChangePct', 'lifeTime', 'lastMonthCustomerCareCalls', 'numRetentionCalls', 'numRetentionOffersAccepted', 'newFrequentNumbers', 'handsetAge', 'numHandsets']].head(5)"
   ]
  },
  {
   "cell_type": "code",
   "execution_count": 94,
   "metadata": {},
   "outputs": [
    {
     "data": {
      "text/html": [
       "<div>\n",
       "<style>\n",
       "    .dataframe thead tr:only-child th {\n",
       "        text-align: right;\n",
       "    }\n",
       "\n",
       "    .dataframe thead th {\n",
       "        text-align: left;\n",
       "    }\n",
       "\n",
       "    .dataframe tbody tr th {\n",
       "        vertical-align: top;\n",
       "    }\n",
       "</style>\n",
       "<table border=\"1\" class=\"dataframe\">\n",
       "  <thead>\n",
       "    <tr style=\"text-align: right;\">\n",
       "      <th></th>\n",
       "      <th>avgRoamCalls</th>\n",
       "      <th>callMinutesChangePct</th>\n",
       "      <th>billAmountChangePct</th>\n",
       "      <th>avgInCalls</th>\n",
       "      <th>peakOffPeakRatio</th>\n",
       "      <th>avgDroppedCalls</th>\n",
       "      <th>peakOffPeakRatioChangePct</th>\n",
       "      <th>lifeTime</th>\n",
       "      <th>lastMonthCustomerCareCalls</th>\n",
       "      <th>numRetentionCalls</th>\n",
       "      <th>numRetentionOffersAccepted</th>\n",
       "      <th>newFrequentNumbers</th>\n",
       "      <th>handsetAge</th>\n",
       "      <th>numHandsets</th>\n",
       "    </tr>\n",
       "  </thead>\n",
       "  <tbody>\n",
       "    <tr>\n",
       "      <th>164</th>\n",
       "      <td>0.00</td>\n",
       "      <td>3.010</td>\n",
       "      <td>0.8850</td>\n",
       "      <td>22.00</td>\n",
       "      <td>74.774775</td>\n",
       "      <td>4.67</td>\n",
       "      <td>3.586299</td>\n",
       "      <td>31</td>\n",
       "      <td>0.67</td>\n",
       "      <td>0</td>\n",
       "      <td>0</td>\n",
       "      <td>0</td>\n",
       "      <td>606</td>\n",
       "      <td>2</td>\n",
       "    </tr>\n",
       "    <tr>\n",
       "      <th>822</th>\n",
       "      <td>0.00</td>\n",
       "      <td>-0.145</td>\n",
       "      <td>0.0000</td>\n",
       "      <td>0.00</td>\n",
       "      <td>27.272727</td>\n",
       "      <td>0.33</td>\n",
       "      <td>10.866620</td>\n",
       "      <td>32</td>\n",
       "      <td>0.00</td>\n",
       "      <td>0</td>\n",
       "      <td>0</td>\n",
       "      <td>0</td>\n",
       "      <td>946</td>\n",
       "      <td>1</td>\n",
       "    </tr>\n",
       "    <tr>\n",
       "      <th>948</th>\n",
       "      <td>0.00</td>\n",
       "      <td>-0.650</td>\n",
       "      <td>-0.0924</td>\n",
       "      <td>0.00</td>\n",
       "      <td>26.272727</td>\n",
       "      <td>0.33</td>\n",
       "      <td>-9.446906</td>\n",
       "      <td>11</td>\n",
       "      <td>0.00</td>\n",
       "      <td>0</td>\n",
       "      <td>0</td>\n",
       "      <td>0</td>\n",
       "      <td>312</td>\n",
       "      <td>1</td>\n",
       "    </tr>\n",
       "    <tr>\n",
       "      <th>446</th>\n",
       "      <td>4.81</td>\n",
       "      <td>-3.800</td>\n",
       "      <td>-0.1704</td>\n",
       "      <td>0.33</td>\n",
       "      <td>20.914648</td>\n",
       "      <td>7.00</td>\n",
       "      <td>-2.269557</td>\n",
       "      <td>17</td>\n",
       "      <td>0.00</td>\n",
       "      <td>0</td>\n",
       "      <td>0</td>\n",
       "      <td>1</td>\n",
       "      <td>333</td>\n",
       "      <td>2</td>\n",
       "    </tr>\n",
       "    <tr>\n",
       "      <th>620</th>\n",
       "      <td>0.00</td>\n",
       "      <td>-0.035</td>\n",
       "      <td>-0.0050</td>\n",
       "      <td>0.00</td>\n",
       "      <td>20.895522</td>\n",
       "      <td>0.00</td>\n",
       "      <td>0.897119</td>\n",
       "      <td>32</td>\n",
       "      <td>0.00</td>\n",
       "      <td>1</td>\n",
       "      <td>1</td>\n",
       "      <td>0</td>\n",
       "      <td>955</td>\n",
       "      <td>1</td>\n",
       "    </tr>\n",
       "  </tbody>\n",
       "</table>\n",
       "</div>"
      ],
      "text/plain": [
       "     avgRoamCalls  callMinutesChangePct  billAmountChangePct  avgInCalls  \\\n",
       "164          0.00                 3.010               0.8850       22.00   \n",
       "822          0.00                -0.145               0.0000        0.00   \n",
       "948          0.00                -0.650              -0.0924        0.00   \n",
       "446          4.81                -3.800              -0.1704        0.33   \n",
       "620          0.00                -0.035              -0.0050        0.00   \n",
       "\n",
       "     peakOffPeakRatio  avgDroppedCalls  peakOffPeakRatioChangePct  lifeTime  \\\n",
       "164         74.774775             4.67                   3.586299        31   \n",
       "822         27.272727             0.33                  10.866620        32   \n",
       "948         26.272727             0.33                  -9.446906        11   \n",
       "446         20.914648             7.00                  -2.269557        17   \n",
       "620         20.895522             0.00                   0.897119        32   \n",
       "\n",
       "     lastMonthCustomerCareCalls  numRetentionCalls  \\\n",
       "164                        0.67                  0   \n",
       "822                        0.00                  0   \n",
       "948                        0.00                  0   \n",
       "446                        0.00                  0   \n",
       "620                        0.00                  1   \n",
       "\n",
       "     numRetentionOffersAccepted  newFrequentNumbers  handsetAge  numHandsets  \n",
       "164                           0                   0         606            2  \n",
       "822                           0                   0         946            1  \n",
       "948                           0                   0         312            1  \n",
       "446                           0                   1         333            2  \n",
       "620                           1                   0         955            1  "
      ]
     },
     "execution_count": 94,
     "metadata": {},
     "output_type": "execute_result"
    }
   ],
   "source": [
    "df.sort_values(by='peakOffPeakRatio', axis=0, ascending=False, inplace=False, kind='quicksort', na_position='last')[['avgRoamCalls', 'callMinutesChangePct', 'billAmountChangePct', 'avgInCalls', 'peakOffPeakRatio', 'avgDroppedCalls', 'peakOffPeakRatioChangePct', 'lifeTime', 'lastMonthCustomerCareCalls', 'numRetentionCalls', 'numRetentionOffersAccepted', 'newFrequentNumbers', 'handsetAge', 'numHandsets']].head(5)"
   ]
  },
  {
   "cell_type": "markdown",
   "metadata": {},
   "source": [
    "There are too many outliers to consider here. I could not deduce wether the outlier are wrong or not. Thus to be on the safe side I decided to keep them. The machine learning algorithms still need to deal with outliers in the real world as training data that is *too perfect and ideal* is just another form of bias."
   ]
  },
  {
   "cell_type": "markdown",
   "metadata": {},
   "source": [
    "9.**region type has irregular cardinality.**\n",
    "Merge the cardinalities into the same category."
   ]
  },
  {
   "cell_type": "markdown",
   "metadata": {},
   "source": [
    "### Region type has already been dropped as a feature..."
   ]
  },
  {
   "cell_type": "markdown",
   "metadata": {},
   "source": [
    "10.**credit card has irregular cardinality.**\n",
    "Merge the cardinalities into the same category."
   ]
  },
  {
   "cell_type": "code",
   "execution_count": 95,
   "metadata": {
    "collapsed": true
   },
   "outputs": [],
   "source": [
    "df['creditCard'] = df['creditCard'].replace('t', 'true')\n",
    "df['creditCard'] = df['creditCard'].replace('yes', 'true')\n",
    "df['creditCard'] = df['creditCard'].replace('f', 'false')\n",
    "df['creditCard'] = df['creditCard'].replace('no', 'false')"
   ]
  },
  {
   "cell_type": "code",
   "execution_count": 96,
   "metadata": {},
   "outputs": [
    {
     "name": "stdout",
     "output_type": "stream",
     "text": [
      "\n",
      "- creditCard: ['true' 'false']\n"
     ]
    }
   ],
   "source": [
    "print(\"\\n- creditCard:\", pd.unique(df.creditCard.ravel()))"
   ]
  },
  {
   "cell_type": "code",
   "execution_count": 97,
   "metadata": {},
   "outputs": [
    {
     "data": {
      "text/plain": [
       "age                              int64\n",
       "children                      category\n",
       "income                        category\n",
       "numHandsets                      int64\n",
       "handsetAge                       int64\n",
       "smartPhone                    category\n",
       "creditRating                  category\n",
       "homeOwner                     category\n",
       "creditCard                    category\n",
       "avgBill                        float64\n",
       "avgMins                        float64\n",
       "avgrecurringCharge             float64\n",
       "avgOverBundleMins              float64\n",
       "avgRoamCalls                   float64\n",
       "callMinutesChangePct           float64\n",
       "billAmountChangePct            float64\n",
       "avgReceivedMins                float64\n",
       "avgOutCalls                    float64\n",
       "avgInCalls                     float64\n",
       "peakOffPeakRatio               float64\n",
       "peakOffPeakRatioChangePct      float64\n",
       "avgDroppedCalls                float64\n",
       "lifeTime                         int64\n",
       "lastMonthCustomerCareCalls     float64\n",
       "numRetentionCalls                int64\n",
       "numRetentionOffersAccepted       int64\n",
       "newFrequentNumbers               int64\n",
       "churn                         category\n",
       "dtype: object"
      ]
     },
     "execution_count": 97,
     "metadata": {},
     "output_type": "execute_result"
    }
   ],
   "source": [
    "df.dtypes"
   ]
  },
  {
   "cell_type": "markdown",
   "metadata": {},
   "source": [
    "### Summary of data quality plan:\n",
    "   \n",
    "| Feature                 | Data Quality Issue   | Handling Strategy            |\n",
    "|-------------------------|----------------------|------------------------------|\n",
    "| age                     | Missing Values (30%) | Imputation                   |\n",
    "| handsetAge              | Negative Value (1 row)| Make value positive         | \n",
    "| currentHandsetPrice     | Missing Values (50%) | Remove column                |\n",
    "| occupation              | Missing Values (>50%)| Remove column                |\n",
    "| regionType              | Missing Values (~50%)| Remove column                |\n",
    "| marriageStatus          | Missing Values (40%) | Remove column                |\n",
    "| customer                | No useful information| Remove column                |\n",
    "| creditCard              | Cardinality          | Merge synonimous cardinalities          |\n",
    "| numHandsets             | Outliers             | Do nothing                   |\n",
    "| handsetAge              | Outliers             | Do nothing                   |\n",
    "| avgBill                 | Outliers             | Do nothing                   |\n",
    "| avgMins                 | Outliers             | Do nothing                   |\n",
    "| avgrecurringCharge      | Outliers             | Do nothing                   |\n",
    "| avgOverBundleMins       | Outliers             | Do nothing                   |\n",
    "| avgRoamCalls            | Outliers             | Do nothing                   |\n",
    "| callMinutesChangePct    | Outliers             | Do nothing                   |\n",
    "| billAmountChangePct     | Outliers             | Do nothing                   |\n",
    "| avgReceivedMins         | Outliers             | Do nothing                   |\n",
    "| avgOutCalls             | Outliers             | Do nothing                   |\n",
    "| avgInCalls              | Outliers             | Do nothing                   |\n",
    "| peakOffPeakRatio        | Outliers             | Do nothing                   |\n",
    "| avgDroppedCalls         | Outliers             | Do nothing                   |\n",
    "| peakOffPeakRatioChangePct | Outliers           | Do nothing                   |\n",
    "| lifeTime                | Outliers             | Do nothing                   |\n",
    "| lastMonthCustomerCareCalls | Outliers          | Do nothing                   |\n",
    "| numRetentionCalls       | Outliers             | Do nothing                   |\n",
    "| numRetentionOffersAccepted | Outliers          | Do nothing                   |\n",
    "| newFrequentNumbers      | Outliers             | Do nothing                   |"
   ]
  },
  {
   "cell_type": "markdown",
   "metadata": {},
   "source": [
    "### - Save the new CSV file with a self explanatory name. Save the data quality plan to a single PDF file (as a table or a structured text)."
   ]
  },
  {
   "cell_type": "code",
   "execution_count": 98,
   "metadata": {},
   "outputs": [
    {
     "data": {
      "text/html": [
       "<div>\n",
       "<style>\n",
       "    .dataframe thead tr:only-child th {\n",
       "        text-align: right;\n",
       "    }\n",
       "\n",
       "    .dataframe thead th {\n",
       "        text-align: left;\n",
       "    }\n",
       "\n",
       "    .dataframe tbody tr th {\n",
       "        vertical-align: top;\n",
       "    }\n",
       "</style>\n",
       "<table border=\"1\" class=\"dataframe\">\n",
       "  <thead>\n",
       "    <tr style=\"text-align: right;\">\n",
       "      <th></th>\n",
       "      <th>count</th>\n",
       "      <th>mean</th>\n",
       "      <th>std</th>\n",
       "      <th>min</th>\n",
       "      <th>25%</th>\n",
       "      <th>50%</th>\n",
       "      <th>75%</th>\n",
       "      <th>max</th>\n",
       "    </tr>\n",
       "  </thead>\n",
       "  <tbody>\n",
       "    <tr>\n",
       "      <th>age</th>\n",
       "      <td>1000.0</td>\n",
       "      <td>40.664000</td>\n",
       "      <td>11.580207</td>\n",
       "      <td>18.000000</td>\n",
       "      <td>34.000000</td>\n",
       "      <td>34.000000</td>\n",
       "      <td>48.000000</td>\n",
       "      <td>86.000000</td>\n",
       "    </tr>\n",
       "    <tr>\n",
       "      <th>numHandsets</th>\n",
       "      <td>1000.0</td>\n",
       "      <td>1.769000</td>\n",
       "      <td>1.365102</td>\n",
       "      <td>1.000000</td>\n",
       "      <td>1.000000</td>\n",
       "      <td>1.000000</td>\n",
       "      <td>2.000000</td>\n",
       "      <td>13.000000</td>\n",
       "    </tr>\n",
       "    <tr>\n",
       "      <th>handsetAge</th>\n",
       "      <td>1000.0</td>\n",
       "      <td>401.155000</td>\n",
       "      <td>259.400470</td>\n",
       "      <td>2.000000</td>\n",
       "      <td>218.000000</td>\n",
       "      <td>344.500000</td>\n",
       "      <td>542.000000</td>\n",
       "      <td>1812.000000</td>\n",
       "    </tr>\n",
       "    <tr>\n",
       "      <th>avgBill</th>\n",
       "      <td>1000.0</td>\n",
       "      <td>57.347800</td>\n",
       "      <td>44.519769</td>\n",
       "      <td>0.000000</td>\n",
       "      <td>33.247500</td>\n",
       "      <td>49.155000</td>\n",
       "      <td>69.175000</td>\n",
       "      <td>469.670000</td>\n",
       "    </tr>\n",
       "    <tr>\n",
       "      <th>avgMins</th>\n",
       "      <td>1000.0</td>\n",
       "      <td>501.303570</td>\n",
       "      <td>530.272984</td>\n",
       "      <td>0.000000</td>\n",
       "      <td>147.500000</td>\n",
       "      <td>347.000000</td>\n",
       "      <td>663.875000</td>\n",
       "      <td>4598.750000</td>\n",
       "    </tr>\n",
       "    <tr>\n",
       "      <th>avgrecurringCharge</th>\n",
       "      <td>1000.0</td>\n",
       "      <td>46.328200</td>\n",
       "      <td>24.246087</td>\n",
       "      <td>0.000000</td>\n",
       "      <td>30.000000</td>\n",
       "      <td>44.990000</td>\n",
       "      <td>59.990000</td>\n",
       "      <td>299.990000</td>\n",
       "    </tr>\n",
       "    <tr>\n",
       "      <th>avgOverBundleMins</th>\n",
       "      <td>1000.0</td>\n",
       "      <td>38.888760</td>\n",
       "      <td>94.715038</td>\n",
       "      <td>0.000000</td>\n",
       "      <td>0.000000</td>\n",
       "      <td>4.000000</td>\n",
       "      <td>42.250000</td>\n",
       "      <td>1389.000000</td>\n",
       "    </tr>\n",
       "    <tr>\n",
       "      <th>avgRoamCalls</th>\n",
       "      <td>1000.0</td>\n",
       "      <td>0.916220</td>\n",
       "      <td>4.940806</td>\n",
       "      <td>0.000000</td>\n",
       "      <td>0.000000</td>\n",
       "      <td>0.000000</td>\n",
       "      <td>0.275000</td>\n",
       "      <td>131.040000</td>\n",
       "    </tr>\n",
       "    <tr>\n",
       "      <th>callMinutesChangePct</th>\n",
       "      <td>1000.0</td>\n",
       "      <td>-0.537772</td>\n",
       "      <td>5.197712</td>\n",
       "      <td>-44.655000</td>\n",
       "      <td>-1.856250</td>\n",
       "      <td>-0.175000</td>\n",
       "      <td>0.990000</td>\n",
       "      <td>28.050000</td>\n",
       "    </tr>\n",
       "    <tr>\n",
       "      <th>billAmountChangePct</th>\n",
       "      <td>1000.0</td>\n",
       "      <td>-0.010483</td>\n",
       "      <td>0.927263</td>\n",
       "      <td>-5.763000</td>\n",
       "      <td>-0.136300</td>\n",
       "      <td>-0.005000</td>\n",
       "      <td>0.036900</td>\n",
       "      <td>17.911400</td>\n",
       "    </tr>\n",
       "    <tr>\n",
       "      <th>avgReceivedMins</th>\n",
       "      <td>1000.0</td>\n",
       "      <td>109.156550</td>\n",
       "      <td>163.394282</td>\n",
       "      <td>0.000000</td>\n",
       "      <td>5.787500</td>\n",
       "      <td>49.705000</td>\n",
       "      <td>150.755000</td>\n",
       "      <td>1549.930000</td>\n",
       "    </tr>\n",
       "    <tr>\n",
       "      <th>avgOutCalls</th>\n",
       "      <td>1000.0</td>\n",
       "      <td>25.387990</td>\n",
       "      <td>36.119986</td>\n",
       "      <td>0.000000</td>\n",
       "      <td>2.330000</td>\n",
       "      <td>12.835000</td>\n",
       "      <td>36.000000</td>\n",
       "      <td>332.000000</td>\n",
       "    </tr>\n",
       "    <tr>\n",
       "      <th>avgInCalls</th>\n",
       "      <td>1000.0</td>\n",
       "      <td>8.439290</td>\n",
       "      <td>17.036525</td>\n",
       "      <td>0.000000</td>\n",
       "      <td>0.000000</td>\n",
       "      <td>2.000000</td>\n",
       "      <td>9.415000</td>\n",
       "      <td>233.000000</td>\n",
       "    </tr>\n",
       "    <tr>\n",
       "      <th>peakOffPeakRatio</th>\n",
       "      <td>1000.0</td>\n",
       "      <td>2.137873</td>\n",
       "      <td>3.465256</td>\n",
       "      <td>0.000000</td>\n",
       "      <td>0.722636</td>\n",
       "      <td>1.380353</td>\n",
       "      <td>2.446368</td>\n",
       "      <td>74.774775</td>\n",
       "    </tr>\n",
       "    <tr>\n",
       "      <th>peakOffPeakRatioChangePct</th>\n",
       "      <td>1000.0</td>\n",
       "      <td>0.273071</td>\n",
       "      <td>9.620523</td>\n",
       "      <td>-28.154016</td>\n",
       "      <td>-6.099596</td>\n",
       "      <td>0.056048</td>\n",
       "      <td>6.636753</td>\n",
       "      <td>37.779743</td>\n",
       "    </tr>\n",
       "    <tr>\n",
       "      <th>avgDroppedCalls</th>\n",
       "      <td>1000.0</td>\n",
       "      <td>9.699970</td>\n",
       "      <td>14.972256</td>\n",
       "      <td>0.000000</td>\n",
       "      <td>1.330000</td>\n",
       "      <td>5.000000</td>\n",
       "      <td>11.415000</td>\n",
       "      <td>159.330000</td>\n",
       "    </tr>\n",
       "    <tr>\n",
       "      <th>lifeTime</th>\n",
       "      <td>1000.0</td>\n",
       "      <td>18.747000</td>\n",
       "      <td>9.499433</td>\n",
       "      <td>6.000000</td>\n",
       "      <td>11.000000</td>\n",
       "      <td>17.000000</td>\n",
       "      <td>24.000000</td>\n",
       "      <td>60.000000</td>\n",
       "    </tr>\n",
       "    <tr>\n",
       "      <th>lastMonthCustomerCareCalls</th>\n",
       "      <td>1000.0</td>\n",
       "      <td>1.641900</td>\n",
       "      <td>4.167139</td>\n",
       "      <td>0.000000</td>\n",
       "      <td>0.000000</td>\n",
       "      <td>0.000000</td>\n",
       "      <td>1.330000</td>\n",
       "      <td>42.000000</td>\n",
       "    </tr>\n",
       "    <tr>\n",
       "      <th>numRetentionCalls</th>\n",
       "      <td>1000.0</td>\n",
       "      <td>0.051000</td>\n",
       "      <td>0.233353</td>\n",
       "      <td>0.000000</td>\n",
       "      <td>0.000000</td>\n",
       "      <td>0.000000</td>\n",
       "      <td>0.000000</td>\n",
       "      <td>2.000000</td>\n",
       "    </tr>\n",
       "    <tr>\n",
       "      <th>numRetentionOffersAccepted</th>\n",
       "      <td>1000.0</td>\n",
       "      <td>0.024000</td>\n",
       "      <td>0.159529</td>\n",
       "      <td>0.000000</td>\n",
       "      <td>0.000000</td>\n",
       "      <td>0.000000</td>\n",
       "      <td>0.000000</td>\n",
       "      <td>2.000000</td>\n",
       "    </tr>\n",
       "    <tr>\n",
       "      <th>newFrequentNumbers</th>\n",
       "      <td>1000.0</td>\n",
       "      <td>0.204000</td>\n",
       "      <td>0.637802</td>\n",
       "      <td>0.000000</td>\n",
       "      <td>0.000000</td>\n",
       "      <td>0.000000</td>\n",
       "      <td>0.000000</td>\n",
       "      <td>3.000000</td>\n",
       "    </tr>\n",
       "  </tbody>\n",
       "</table>\n",
       "</div>"
      ],
      "text/plain": [
       "                             count        mean         std        min  \\\n",
       "age                         1000.0   40.664000   11.580207  18.000000   \n",
       "numHandsets                 1000.0    1.769000    1.365102   1.000000   \n",
       "handsetAge                  1000.0  401.155000  259.400470   2.000000   \n",
       "avgBill                     1000.0   57.347800   44.519769   0.000000   \n",
       "avgMins                     1000.0  501.303570  530.272984   0.000000   \n",
       "avgrecurringCharge          1000.0   46.328200   24.246087   0.000000   \n",
       "avgOverBundleMins           1000.0   38.888760   94.715038   0.000000   \n",
       "avgRoamCalls                1000.0    0.916220    4.940806   0.000000   \n",
       "callMinutesChangePct        1000.0   -0.537772    5.197712 -44.655000   \n",
       "billAmountChangePct         1000.0   -0.010483    0.927263  -5.763000   \n",
       "avgReceivedMins             1000.0  109.156550  163.394282   0.000000   \n",
       "avgOutCalls                 1000.0   25.387990   36.119986   0.000000   \n",
       "avgInCalls                  1000.0    8.439290   17.036525   0.000000   \n",
       "peakOffPeakRatio            1000.0    2.137873    3.465256   0.000000   \n",
       "peakOffPeakRatioChangePct   1000.0    0.273071    9.620523 -28.154016   \n",
       "avgDroppedCalls             1000.0    9.699970   14.972256   0.000000   \n",
       "lifeTime                    1000.0   18.747000    9.499433   6.000000   \n",
       "lastMonthCustomerCareCalls  1000.0    1.641900    4.167139   0.000000   \n",
       "numRetentionCalls           1000.0    0.051000    0.233353   0.000000   \n",
       "numRetentionOffersAccepted  1000.0    0.024000    0.159529   0.000000   \n",
       "newFrequentNumbers          1000.0    0.204000    0.637802   0.000000   \n",
       "\n",
       "                                   25%         50%         75%          max  \n",
       "age                          34.000000   34.000000   48.000000    86.000000  \n",
       "numHandsets                   1.000000    1.000000    2.000000    13.000000  \n",
       "handsetAge                  218.000000  344.500000  542.000000  1812.000000  \n",
       "avgBill                      33.247500   49.155000   69.175000   469.670000  \n",
       "avgMins                     147.500000  347.000000  663.875000  4598.750000  \n",
       "avgrecurringCharge           30.000000   44.990000   59.990000   299.990000  \n",
       "avgOverBundleMins             0.000000    4.000000   42.250000  1389.000000  \n",
       "avgRoamCalls                  0.000000    0.000000    0.275000   131.040000  \n",
       "callMinutesChangePct         -1.856250   -0.175000    0.990000    28.050000  \n",
       "billAmountChangePct          -0.136300   -0.005000    0.036900    17.911400  \n",
       "avgReceivedMins               5.787500   49.705000  150.755000  1549.930000  \n",
       "avgOutCalls                   2.330000   12.835000   36.000000   332.000000  \n",
       "avgInCalls                    0.000000    2.000000    9.415000   233.000000  \n",
       "peakOffPeakRatio              0.722636    1.380353    2.446368    74.774775  \n",
       "peakOffPeakRatioChangePct    -6.099596    0.056048    6.636753    37.779743  \n",
       "avgDroppedCalls               1.330000    5.000000   11.415000   159.330000  \n",
       "lifeTime                     11.000000   17.000000   24.000000    60.000000  \n",
       "lastMonthCustomerCareCalls    0.000000    0.000000    1.330000    42.000000  \n",
       "numRetentionCalls             0.000000    0.000000    0.000000     2.000000  \n",
       "numRetentionOffersAccepted    0.000000    0.000000    0.000000     2.000000  \n",
       "newFrequentNumbers            0.000000    0.000000    0.000000     3.000000  "
      ]
     },
     "execution_count": 98,
     "metadata": {},
     "output_type": "execute_result"
    }
   ],
   "source": [
    "# Print table with descriptive statistics for all the continuous features\n",
    "df.select_dtypes(['float64', 'int64']).describe().T"
   ]
  },
  {
   "cell_type": "code",
   "execution_count": 99,
   "metadata": {},
   "outputs": [
    {
     "data": {
      "text/html": [
       "<div>\n",
       "<style>\n",
       "    .dataframe thead tr:only-child th {\n",
       "        text-align: right;\n",
       "    }\n",
       "\n",
       "    .dataframe thead th {\n",
       "        text-align: left;\n",
       "    }\n",
       "\n",
       "    .dataframe tbody tr th {\n",
       "        vertical-align: top;\n",
       "    }\n",
       "</style>\n",
       "<table border=\"1\" class=\"dataframe\">\n",
       "  <thead>\n",
       "    <tr style=\"text-align: right;\">\n",
       "      <th></th>\n",
       "      <th>count</th>\n",
       "      <th>unique</th>\n",
       "      <th>top</th>\n",
       "      <th>freq</th>\n",
       "    </tr>\n",
       "  </thead>\n",
       "  <tbody>\n",
       "    <tr>\n",
       "      <th>children</th>\n",
       "      <td>1000</td>\n",
       "      <td>2</td>\n",
       "      <td>False</td>\n",
       "      <td>765</td>\n",
       "    </tr>\n",
       "    <tr>\n",
       "      <th>income</th>\n",
       "      <td>1000</td>\n",
       "      <td>10</td>\n",
       "      <td>0</td>\n",
       "      <td>268</td>\n",
       "    </tr>\n",
       "    <tr>\n",
       "      <th>smartPhone</th>\n",
       "      <td>1000</td>\n",
       "      <td>2</td>\n",
       "      <td>True</td>\n",
       "      <td>891</td>\n",
       "    </tr>\n",
       "    <tr>\n",
       "      <th>creditRating</th>\n",
       "      <td>1000</td>\n",
       "      <td>7</td>\n",
       "      <td>B</td>\n",
       "      <td>389</td>\n",
       "    </tr>\n",
       "    <tr>\n",
       "      <th>homeOwner</th>\n",
       "      <td>1000</td>\n",
       "      <td>2</td>\n",
       "      <td>False</td>\n",
       "      <td>652</td>\n",
       "    </tr>\n",
       "    <tr>\n",
       "      <th>creditCard</th>\n",
       "      <td>1000</td>\n",
       "      <td>2</td>\n",
       "      <td>true</td>\n",
       "      <td>669</td>\n",
       "    </tr>\n",
       "    <tr>\n",
       "      <th>churn</th>\n",
       "      <td>1000</td>\n",
       "      <td>2</td>\n",
       "      <td>True</td>\n",
       "      <td>532</td>\n",
       "    </tr>\n",
       "  </tbody>\n",
       "</table>\n",
       "</div>"
      ],
      "text/plain": [
       "             count unique    top freq\n",
       "children      1000      2  False  765\n",
       "income        1000     10      0  268\n",
       "smartPhone    1000      2   True  891\n",
       "creditRating  1000      7      B  389\n",
       "homeOwner     1000      2  False  652\n",
       "creditCard    1000      2   true  669\n",
       "churn         1000      2   True  532"
      ]
     },
     "execution_count": 99,
     "metadata": {},
     "output_type": "execute_result"
    }
   ],
   "source": [
    "# Print table with descriptive statistics for all the categorical features\n",
    "df.select_dtypes(['category']).describe().T"
   ]
  },
  {
   "cell_type": "code",
   "execution_count": 100,
   "metadata": {
    "collapsed": true
   },
   "outputs": [],
   "source": [
    "# Write the dataframe to a csv file\n",
    "df.to_csv('CustomerChurn_1-2_cleaned.csv', index=False)"
   ]
  },
  {
   "cell_type": "markdown",
   "metadata": {},
   "source": [
    "# (3). [20] Exploring relationships between feature pairs:"
   ]
  },
  {
   "cell_type": "markdown",
   "metadata": {},
   "source": [
    "### - Choose a subset of features you find promising and plot pairwise feature interactions (e.g., continuous-continuous feature plot or continuous-categorical plots or correlation plots). Explain your choices."
   ]
  },
  {
   "cell_type": "markdown",
   "metadata": {},
   "source": [
    "The features that I will look at for pairwise feature interaction are the following continuous features:\n",
    "- avgBill\n",
    "- billAmountChangePct\n",
    "- avgDroppedCalls\n",
    "- avgMins\n",
    "- avgOverBundleMins\n",
    "- avgrecurringCharge\n",
    "- handsetAge\n",
    "- lifeTime\n",
    "\n",
    "and the following categorical features:\n",
    "- income\n",
    "- creditRating\n",
    "- churn\n",
    "\n",
    "The choices here I based on the idea that these particular features can affect the user experience and thus push the user towards a churn.\n",
    "\n",
    "### Correlations for the numeric features"
   ]
  },
  {
   "cell_type": "code",
   "execution_count": 101,
   "metadata": {},
   "outputs": [
    {
     "data": {
      "text/plain": [
       "(array([ 0.5,  1.5,  2.5,  3.5,  4.5,  5.5,  6.5,  7.5]),\n",
       " <a list of 8 Text xticklabel objects>)"
      ]
     },
     "execution_count": 101,
     "metadata": {},
     "output_type": "execute_result"
    },
    {
     "data": {
      "image/png": "[encoded data removed]",
      "text/plain": [
       "<matplotlib.figure.Figure at 0x11bd72b00>"
      ]
     },
     "metadata": {},
     "output_type": "display_data"
    }
   ],
   "source": [
    "# Correlation matrix using code found on https://stanford.edu/~mwaskom/software/seaborn/examples/many_pairwise_correlations.html\n",
    "sns.set(style=\"white\")\n",
    "\n",
    "# Select columns containing continuous data\n",
    "continuous_columns = df[['avgBill','billAmountChangePct','avgDroppedCalls','avgMins','avgOverBundleMins', 'avgrecurringCharge', 'handsetAge', 'lifeTime']].columns\n",
    "\n",
    "# Calculate correlation of all pairs of continuous features\n",
    "corr = df[continuous_columns].corr()\n",
    "\n",
    "# Generate a mask for the upper triangle\n",
    "mask = np.zeros_like(corr, dtype=np.bool)\n",
    "mask[np.triu_indices_from(mask)] = True\n",
    "\n",
    "# Set up the matplotlib figure\n",
    "f, ax = plt.subplots(figsize=(11, 9))\n",
    "\n",
    "# Generate a custom colormap - blue and red\n",
    "cmap = sns.diverging_palette(220, 10, as_cmap=True)\n",
    "\n",
    "# Draw the heatmap with the mask and correct aspect ratio\n",
    "sns.heatmap(corr, annot=True, mask=mask, cmap=cmap, vmax=1, vmin=-1,\n",
    "            square=True, xticklabels=True, yticklabels=True,\n",
    "            linewidths=.5, cbar_kws={\"shrink\": .5}, ax=ax)\n",
    "plt.yticks(rotation = 0)\n",
    "plt.xticks(rotation = 45)"
   ]
  },
  {
   "cell_type": "markdown",
   "metadata": {},
   "source": [
    "In the following cells are the plots for pairs of continuous features which have been shown to have a high correlation above."
   ]
  },
  {
   "cell_type": "code",
   "execution_count": 102,
   "metadata": {},
   "outputs": [
    {
     "data": {
      "text/plain": [
       "<matplotlib.axes._subplots.AxesSubplot at 0x11d54c748>"
      ]
     },
     "execution_count": 102,
     "metadata": {},
     "output_type": "execute_result"
    },
    {
     "data": {
      "image/png": "[encoded data removed]",
      "text/plain": [
       "<matplotlib.figure.Figure at 0x11bd72588>"
      ]
     },
     "metadata": {},
     "output_type": "display_data"
    },
    {
     "data": {
      "image/png": "[encoded data removed]",
      "text/plain": [
       "<matplotlib.figure.Figure at 0x11b6ab9e8>"
      ]
     },
     "metadata": {},
     "output_type": "display_data"
    },
    {
     "data": {
      "image/png": "[encoded data removed]",
      "text/plain": [
       "<matplotlib.figure.Figure at 0x11e13cc50>"
      ]
     },
     "metadata": {},
     "output_type": "display_data"
    },
    {
     "data": {
      "image/png": "[encoded data removed]",
      "text/plain": [
       "<matplotlib.figure.Figure at 0x11bf52358>"
      ]
     },
     "metadata": {},
     "output_type": "display_data"
    },
    {
     "data": {
      "image/png": "[encoded data removed]",
      "text/plain": [
       "<matplotlib.figure.Figure at 0x11d6b53c8>"
      ]
     },
     "metadata": {},
     "output_type": "display_data"
    },
    {
     "data": {
      "image/png": "[encoded data removed]",
      "text/plain": [
       "<matplotlib.figure.Figure at 0x11b842b70>"
      ]
     },
     "metadata": {},
     "output_type": "display_data"
    },
    {
     "data": {
      "image/png": "[encoded data removed]",
      "text/plain": [
       "<matplotlib.figure.Figure at 0x11b276f28>"
      ]
     },
     "metadata": {},
     "output_type": "display_data"
    },
    {
     "data": {
      "image/png": "[encoded data removed]",
      "text/plain": [
       "<matplotlib.figure.Figure at 0x11d54cd68>"
      ]
     },
     "metadata": {},
     "output_type": "display_data"
    }
   ],
   "source": [
    "df.plot(kind='scatter', x='avgMins', y='avgBill')\n",
    "df.plot(kind='scatter', x='avgDroppedCalls', y='avgBill')\n",
    "df.plot(kind='scatter', x='avgOverBundleMins', y='avgBill')\n",
    "df.plot(kind='scatter', x='avgrecurringCharge', y='avgBill')\n",
    "df.plot(kind='scatter', x='avgMins', y='avgDroppedCalls')\n",
    "df.plot(kind='scatter', x='avgMins', y='avgOverBundleMins')\n",
    "df.plot(kind='scatter', x='avgMins', y='avgrecurringCharge')\n",
    "df.plot(kind='scatter', x='lifeTime', y='handsetAge')"
   ]
  },
  {
   "cell_type": "markdown",
   "metadata": {},
   "source": [
    "Plots indicate that features with high correlation are somewhat linear. Notice that handset age has a straight line cut off. This basically means that no phone is older than the life time of that customer. This is likely AT making a safe assumption about phone age, only counting the days from when the customer first registers with them."
   ]
  },
  {
   "cell_type": "markdown",
   "metadata": {},
   "source": [
    "### Categorical feature plots"
   ]
  },
  {
   "cell_type": "code",
   "execution_count": 103,
   "metadata": {},
   "outputs": [
    {
     "data": {
      "text/plain": [
       "(0, 100)"
      ]
     },
     "execution_count": 103,
     "metadata": {},
     "output_type": "execute_result"
    },
    {
     "data": {
      "image/png": "[encoded data removed]",
      "text/plain": [
       "<matplotlib.figure.Figure at 0x11d4bab38>"
      ]
     },
     "metadata": {},
     "output_type": "display_data"
    }
   ],
   "source": [
    "#Using code from the module lab\n",
    "incomes = pd.unique(df.income.ravel())\n",
    "\n",
    "df['percent'] = 0\n",
    "\n",
    "for i in incomes:\n",
    "    count = 1 / df[df.income == i].count()['churn']\n",
    "    index_list = df[df['income'] == i].index.tolist()\n",
    "    for ind in index_list:\n",
    "        df.loc[ind, 'percent'] = count * 100\n",
    "        \n",
    "group = df[['percent','income','churn']].groupby(['income','churn']).sum()\n",
    "\n",
    "my_plot = group.unstack().plot(kind='bar', stacked=True, title=\"Churn rate based on income level\", figsize=(15,7))\n",
    "\n",
    "red_patch = mpatches.Patch(color='green', label='churn')\n",
    "blue_patch = mpatches.Patch(color='blue', label='Not churn')\n",
    "my_plot.legend(handles=[red_patch, blue_patch], frameon = True)\n",
    "\n",
    "my_plot.set_xlabel(\"income\")\n",
    "my_plot.set_ylabel(\"% churn\")\n",
    "my_plot.set_ylim([0,100])"
   ]
  },
  {
   "cell_type": "code",
   "execution_count": 104,
   "metadata": {},
   "outputs": [
    {
     "data": {
      "text/plain": [
       "(0, 100)"
      ]
     },
     "execution_count": 104,
     "metadata": {},
     "output_type": "execute_result"
    },
    {
     "data": {
      "image/png": "[encoded data removed]",
      "text/plain": [
       "<matplotlib.figure.Figure at 0x11d344860>"
      ]
     },
     "metadata": {},
     "output_type": "display_data"
    }
   ],
   "source": [
    "#Using code from the module lab\n",
    "creditRatings = pd.unique(df.creditRating.ravel())\n",
    "\n",
    "df['percent'] = 0\n",
    "\n",
    "for i in creditRatings:\n",
    "    count = 1 / df[df.creditRating == i].count()['churn']\n",
    "    index_list = df[df['creditRating'] == i].index.tolist()\n",
    "    for ind in index_list:\n",
    "        df.loc[ind, 'percent'] = count * 100\n",
    "        \n",
    "group = df[['percent','creditRating','churn']].groupby(['creditRating','churn']).sum()\n",
    "\n",
    "my_plot = group.unstack().plot(kind='bar', stacked=True, title=\"Churn rate based on credit rating\", figsize=(15,7))\n",
    "\n",
    "red_patch = mpatches.Patch(color='green', label='churn')\n",
    "blue_patch = mpatches.Patch(color='blue', label='Not churn')\n",
    "my_plot.legend(handles=[red_patch, blue_patch], frameon = True)\n",
    "\n",
    "my_plot.set_xlabel(\"creditRating\")\n",
    "my_plot.set_ylabel(\"% churn\")\n",
    "my_plot.set_ylim([0,100])"
   ]
  },
  {
   "cell_type": "markdown",
   "metadata": {},
   "source": [
    "Seems like these plots don't give any useful information."
   ]
  },
  {
   "cell_type": "markdown",
   "metadata": {},
   "source": [
    "### Continuous-categorical feature plots"
   ]
  },
  {
   "cell_type": "code",
   "execution_count": 105,
   "metadata": {},
   "outputs": [
    {
     "data": {
      "text/plain": [
       "<matplotlib.axes._subplots.AxesSubplot at 0x11bf8df60>"
      ]
     },
     "execution_count": 105,
     "metadata": {},
     "output_type": "execute_result"
    },
    {
     "data": {
      "text/plain": [
       "<matplotlib.figure.Figure at 0x11d306978>"
      ]
     },
     "metadata": {},
     "output_type": "display_data"
    },
    {
     "data": {
      "image/png": "[encoded data removed]",
      "text/plain": [
       "<matplotlib.figure.Figure at 0x11d230128>"
      ]
     },
     "metadata": {},
     "output_type": "display_data"
    },
    {
     "data": {
      "image/png": "[encoded data removed]",
      "text/plain": [
       "<matplotlib.figure.Figure at 0x11d2305c0>"
      ]
     },
     "metadata": {},
     "output_type": "display_data"
    },
    {
     "data": {
      "image/png": "[encoded data removed]",
      "text/plain": [
       "<matplotlib.figure.Figure at 0x11d2301d0>"
      ]
     },
     "metadata": {},
     "output_type": "display_data"
    },
    {
     "data": {
      "image/png": "[encoded data removed]",
      "text/plain": [
       "<matplotlib.figure.Figure at 0x11d230a58>"
      ]
     },
     "metadata": {},
     "output_type": "display_data"
    }
   ],
   "source": [
    "plt.figure()\n",
    "flierprops = dict(marker='o', markerfacecolor='green', markersize=6,\n",
    "                  linestyle='none')\n",
    "df.boxplot(column=['avgOverBundleMins'], by=['churn'], flierprops=flierprops, figsize=(10,7))\n",
    "df.boxplot(column=['avgBill'], by=['churn'], flierprops=flierprops, figsize=(10,7))\n",
    "df.boxplot(column=['handsetAge'], by=['churn'], flierprops=flierprops, figsize=(10,7))\n",
    "df.boxplot(column=['lifeTime'], by=['churn'], flierprops=flierprops, figsize=(10,7))"
   ]
  },
  {
   "cell_type": "code",
   "execution_count": 106,
   "metadata": {},
   "outputs": [
    {
     "data": {
      "text/plain": [
       "array([[<matplotlib.axes._subplots.AxesSubplot object at 0x117cd3b00>]], dtype=object)"
      ]
     },
     "execution_count": 106,
     "metadata": {},
     "output_type": "execute_result"
    },
    {
     "data": {
      "image/png": "[encoded data removed]",
      "text/plain": [
       "<matplotlib.figure.Figure at 0x11b60fbe0>"
      ]
     },
     "metadata": {},
     "output_type": "display_data"
    },
    {
     "data": {
      "image/png": "[encoded data removed]",
      "text/plain": [
       "<matplotlib.figure.Figure at 0x117ccfe80>"
      ]
     },
     "metadata": {},
     "output_type": "display_data"
    }
   ],
   "source": [
    "df[df['churn'] == True][['avgOverBundleMins']].hist(figsize=(7,7), bins=40)\n",
    "df[df['churn'] == False][['avgOverBundleMins']].hist(figsize=(7,7), bins=40)"
   ]
  },
  {
   "cell_type": "code",
   "execution_count": 107,
   "metadata": {},
   "outputs": [
    {
     "data": {
      "text/plain": [
       "array([[<matplotlib.axes._subplots.AxesSubplot object at 0x11bab9668>]], dtype=object)"
      ]
     },
     "execution_count": 107,
     "metadata": {},
     "output_type": "execute_result"
    },
    {
     "data": {
      "image/png": "[encoded data removed]",
      "text/plain": [
       "<matplotlib.figure.Figure at 0x11afc0dd8>"
      ]
     },
     "metadata": {},
     "output_type": "display_data"
    },
    {
     "data": {
      "image/png": "[encoded data removed]",
      "text/plain": [
       "<matplotlib.figure.Figure at 0x11e247860>"
      ]
     },
     "metadata": {},
     "output_type": "display_data"
    }
   ],
   "source": [
    "df[df['churn'] == True][['avgBill']].hist(figsize=(7,7), bins=40)\n",
    "df[df['churn'] == False][['avgBill']].hist(figsize=(7,7), bins=40)"
   ]
  },
  {
   "cell_type": "code",
   "execution_count": 108,
   "metadata": {},
   "outputs": [
    {
     "data": {
      "text/plain": [
       "array([[<matplotlib.axes._subplots.AxesSubplot object at 0x11d6cce48>]], dtype=object)"
      ]
     },
     "execution_count": 108,
     "metadata": {},
     "output_type": "execute_result"
    },
    {
     "data": {
      "image/png": "[encoded data removed]",
      "text/plain": [
       "<matplotlib.figure.Figure at 0x11b459f98>"
      ]
     },
     "metadata": {},
     "output_type": "display_data"
    },
    {
     "data": {
      "image/png": "[encoded data removed]",
      "text/plain": [
       "<matplotlib.figure.Figure at 0x11b1edda0>"
      ]
     },
     "metadata": {},
     "output_type": "display_data"
    }
   ],
   "source": [
    "df[df['churn'] == True][['handsetAge']].hist(figsize=(7,7), bins=40)\n",
    "df[df['churn'] == False][['handsetAge']].hist(figsize=(7,7), bins=40)"
   ]
  },
  {
   "cell_type": "code",
   "execution_count": 109,
   "metadata": {},
   "outputs": [
    {
     "data": {
      "text/plain": [
       "array([[<matplotlib.axes._subplots.AxesSubplot object at 0x1178d5a58>]], dtype=object)"
      ]
     },
     "execution_count": 109,
     "metadata": {},
     "output_type": "execute_result"
    },
    {
     "data": {
      "image/png": "[encoded data removed]",
      "text/plain": [
       "<matplotlib.figure.Figure at 0x11b4694e0>"
      ]
     },
     "metadata": {},
     "output_type": "display_data"
    },
    {
     "data": {
      "image/png": "[encoded data removed]",
      "text/plain": [
       "<matplotlib.figure.Figure at 0x1178ced68>"
      ]
     },
     "metadata": {},
     "output_type": "display_data"
    }
   ],
   "source": [
    "df[df['churn'] == True][['lifeTime']].hist(figsize=(7,7), bins=40)\n",
    "df[df['churn'] == False][['lifeTime']].hist(figsize=(7,7), bins=40)"
   ]
  },
  {
   "cell_type": "markdown",
   "metadata": {},
   "source": [
    "### - Discuss your findings from the plots above. Do you find any features or feature combinations that are indicative of the target outcome (i.e., churn)? Explain in plain words (a short paragraph) the story of your findings so far."
   ]
  },
  {
   "cell_type": "markdown",
   "metadata": {},
   "source": [
    "The data is challenging to understand in terms of churn / no churn outcome.\n",
    "\n",
    "There seem to be a fairly strong connection of average minutes, average over bundle minutes, average recurring charge and the bill. This make sense, the more minutes, especially over bundle, the higher the bill. The subsequent plots indicated that features with high correlation are somewhat linear. Handset age had a straight line cut off as no phone is older than the customer himself/herself.\n",
    "\n",
    "The categorical features didn't reveal much. Churn rate based on income level mainly said that the categories most likely to churn are the richest 0 and the poorest 9. Both groups are paying most attention and likely are trying to find an optimal data plan, the richest want to be richer, while the poorest are trying to survive as best as they can.\n",
    "\n",
    "The last four plots show that the customer is slightly more likely to churn if he/she has high average over bundle minutes, high average bill, handset age is getting old and the customers' life time is short.\n",
    "\n",
    "These features are potential candidates for a predictive model of churn."
   ]
  },
  {
   "cell_type": "code",
   "execution_count": null,
   "metadata": {
    "collapsed": true
   },
   "outputs": [],
   "source": []
  }
 ],
 "metadata": {
  "kernelspec": {
   "display_name": "Python 3",
   "language": "python",
   "name": "python3"
  },
  "language_info": {
   "codemirror_mode": {
    "name": "ipython",
    "version": 3
   },
   "file_extension": ".py",
   "mimetype": "text/x-python",
   "name": "python",
   "nbconvert_exporter": "python",
   "pygments_lexer": "ipython3",
   "version": "3.6.3"
  }
 },
 "nbformat": 4,
 "nbformat_minor": 1
}
